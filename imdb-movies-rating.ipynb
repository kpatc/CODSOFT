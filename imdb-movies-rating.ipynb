{
 "cells": [
  {
   "cell_type": "markdown",
   "id": "1aaebc88",
   "metadata": {
    "papermill": {
     "duration": 0.011624,
     "end_time": "2023-12-22T18:08:48.897938",
     "exception": false,
     "start_time": "2023-12-22T18:08:48.886314",
     "status": "completed"
    },
    "tags": []
   },
   "source": [
    "<h3 \n",
    "    align=\"center\" \n",
    "    style=\"font-size: 35px; padding:20px; font-family:Georgia; text-align:center; display:block; border-radius:30px;background-color:#FFDE10\">\n",
    "    <span style=\"color: black;\">📚 Importing Libraries 📚 </span>\n",
    "</h3>"
   ]
  },
  {
   "cell_type": "code",
   "execution_count": 1,
   "id": "86f9ad41",
   "metadata": {
    "execution": {
     "iopub.execute_input": "2023-12-22T18:08:48.922201Z",
     "iopub.status.busy": "2023-12-22T18:08:48.921619Z",
     "iopub.status.idle": "2023-12-22T18:08:52.942102Z",
     "shell.execute_reply": "2023-12-22T18:08:52.940491Z"
    },
    "papermill": {
     "duration": 4.035629,
     "end_time": "2023-12-22T18:08:52.944536",
     "exception": false,
     "start_time": "2023-12-22T18:08:48.908907",
     "status": "completed"
    },
    "tags": []
   },
   "outputs": [],
   "source": [
    "import pandas as pd\n",
    "import numpy as np\n",
    "\n",
    "import matplotlib.pyplot as plt\n",
    "import seaborn as sns\n",
    "import plotly.graph_objects as go\n",
    "import plotly.express as px\n",
    "colors = ['#235E72']\n",
    "\n",
    "from sklearn.model_selection import train_test_split, cross_val_score\n",
    "\n",
    "from sklearn.linear_model import LinearRegression\n",
    "from sklearn.ensemble import RandomForestRegressor\n",
    "\n",
    "from sklearn.metrics import accuracy_score, mean_absolute_error, mean_squared_error, r2_score\n",
    "\n",
    "import warnings\n",
    "warnings.filterwarnings('ignore')"
   ]
  },
  {
   "cell_type": "markdown",
   "id": "f5014784",
   "metadata": {
    "papermill": {
     "duration": 0.010703,
     "end_time": "2023-12-22T18:08:52.966449",
     "exception": false,
     "start_time": "2023-12-22T18:08:52.955746",
     "status": "completed"
    },
    "tags": []
   },
   "source": [
    "<h3 \n",
    "    align=\"center\" \n",
    "    style=\"font-size: 35px; padding:20px; font-family:Georgia; text-align:center; display:block; border-radius:30px;background-color:#FFDE00\">\n",
    "    <span style=\"color: black;\">⏳ Loading the dataset ⏳</span>\n",
    "</h3>"
   ]
  },
  {
   "cell_type": "code",
   "execution_count": 2,
   "id": "82a287de",
   "metadata": {
    "execution": {
     "iopub.execute_input": "2023-12-22T18:08:52.990140Z",
     "iopub.status.busy": "2023-12-22T18:08:52.989559Z",
     "iopub.status.idle": "2023-12-22T18:08:53.091187Z",
     "shell.execute_reply": "2023-12-22T18:08:53.089771Z"
    },
    "papermill": {
     "duration": 0.11656,
     "end_time": "2023-12-22T18:08:53.093847",
     "exception": false,
     "start_time": "2023-12-22T18:08:52.977287",
     "status": "completed"
    },
    "tags": []
   },
   "outputs": [
    {
     "data": {
      "text/html": [
       "<div>\n",
       "<style scoped>\n",
       "    .dataframe tbody tr th:only-of-type {\n",
       "        vertical-align: middle;\n",
       "    }\n",
       "\n",
       "    .dataframe tbody tr th {\n",
       "        vertical-align: top;\n",
       "    }\n",
       "\n",
       "    .dataframe thead th {\n",
       "        text-align: right;\n",
       "    }\n",
       "</style>\n",
       "<table border=\"1\" class=\"dataframe\">\n",
       "  <thead>\n",
       "    <tr style=\"text-align: right;\">\n",
       "      <th></th>\n",
       "      <th>Name</th>\n",
       "      <th>Year</th>\n",
       "      <th>Duration</th>\n",
       "      <th>Genre</th>\n",
       "      <th>Rating</th>\n",
       "      <th>Votes</th>\n",
       "      <th>Director</th>\n",
       "      <th>Actor 1</th>\n",
       "      <th>Actor 2</th>\n",
       "      <th>Actor 3</th>\n",
       "    </tr>\n",
       "  </thead>\n",
       "  <tbody>\n",
       "    <tr>\n",
       "      <th>0</th>\n",
       "      <td></td>\n",
       "      <td>NaN</td>\n",
       "      <td>NaN</td>\n",
       "      <td>Drama</td>\n",
       "      <td>NaN</td>\n",
       "      <td>NaN</td>\n",
       "      <td>J.S. Randhawa</td>\n",
       "      <td>Manmauji</td>\n",
       "      <td>Birbal</td>\n",
       "      <td>Rajendra Bhatia</td>\n",
       "    </tr>\n",
       "    <tr>\n",
       "      <th>1</th>\n",
       "      <td>#Gadhvi (He thought he was Gandhi)</td>\n",
       "      <td>(2019)</td>\n",
       "      <td>109 min</td>\n",
       "      <td>Drama</td>\n",
       "      <td>7.0</td>\n",
       "      <td>8</td>\n",
       "      <td>Gaurav Bakshi</td>\n",
       "      <td>Rasika Dugal</td>\n",
       "      <td>Vivek Ghamande</td>\n",
       "      <td>Arvind Jangid</td>\n",
       "    </tr>\n",
       "    <tr>\n",
       "      <th>2</th>\n",
       "      <td>#Homecoming</td>\n",
       "      <td>(2021)</td>\n",
       "      <td>90 min</td>\n",
       "      <td>Drama, Musical</td>\n",
       "      <td>NaN</td>\n",
       "      <td>NaN</td>\n",
       "      <td>Soumyajit Majumdar</td>\n",
       "      <td>Sayani Gupta</td>\n",
       "      <td>Plabita Borthakur</td>\n",
       "      <td>Roy Angana</td>\n",
       "    </tr>\n",
       "    <tr>\n",
       "      <th>3</th>\n",
       "      <td>#Yaaram</td>\n",
       "      <td>(2019)</td>\n",
       "      <td>110 min</td>\n",
       "      <td>Comedy, Romance</td>\n",
       "      <td>4.4</td>\n",
       "      <td>35</td>\n",
       "      <td>Ovais Khan</td>\n",
       "      <td>Prateik</td>\n",
       "      <td>Ishita Raj</td>\n",
       "      <td>Siddhant Kapoor</td>\n",
       "    </tr>\n",
       "    <tr>\n",
       "      <th>4</th>\n",
       "      <td>...And Once Again</td>\n",
       "      <td>(2010)</td>\n",
       "      <td>105 min</td>\n",
       "      <td>Drama</td>\n",
       "      <td>NaN</td>\n",
       "      <td>NaN</td>\n",
       "      <td>Amol Palekar</td>\n",
       "      <td>Rajat Kapoor</td>\n",
       "      <td>Rituparna Sengupta</td>\n",
       "      <td>Antara Mali</td>\n",
       "    </tr>\n",
       "  </tbody>\n",
       "</table>\n",
       "</div>"
      ],
      "text/plain": [
       "                                 Name    Year Duration            Genre  \\\n",
       "0                                         NaN      NaN            Drama   \n",
       "1  #Gadhvi (He thought he was Gandhi)  (2019)  109 min            Drama   \n",
       "2                         #Homecoming  (2021)   90 min   Drama, Musical   \n",
       "3                             #Yaaram  (2019)  110 min  Comedy, Romance   \n",
       "4                   ...And Once Again  (2010)  105 min            Drama   \n",
       "\n",
       "   Rating Votes            Director       Actor 1             Actor 2  \\\n",
       "0     NaN   NaN       J.S. Randhawa      Manmauji              Birbal   \n",
       "1     7.0     8       Gaurav Bakshi  Rasika Dugal      Vivek Ghamande   \n",
       "2     NaN   NaN  Soumyajit Majumdar  Sayani Gupta   Plabita Borthakur   \n",
       "3     4.4    35          Ovais Khan       Prateik          Ishita Raj   \n",
       "4     NaN   NaN        Amol Palekar  Rajat Kapoor  Rituparna Sengupta   \n",
       "\n",
       "           Actor 3  \n",
       "0  Rajendra Bhatia  \n",
       "1    Arvind Jangid  \n",
       "2       Roy Angana  \n",
       "3  Siddhant Kapoor  \n",
       "4      Antara Mali  "
      ]
     },
     "execution_count": 2,
     "metadata": {},
     "output_type": "execute_result"
    }
   ],
   "source": [
    "imdb = pd.read_csv(\"../input/imdb-india-movies/IMDb Movies India.csv\", encoding='latin-1')\n",
    "imdb.head()"
   ]
  },
  {
   "cell_type": "markdown",
   "id": "b5ea11a2",
   "metadata": {
    "papermill": {
     "duration": 0.011045,
     "end_time": "2023-12-22T18:08:53.117068",
     "exception": false,
     "start_time": "2023-12-22T18:08:53.106023",
     "status": "completed"
    },
    "tags": []
   },
   "source": [
    "<h3 \n",
    "    align=\"center\" \n",
    "    style=\"font-size: 35px; padding:20px; font-family:Georgia; text-align:center; display:block; border-radius:30px;background-color:#FFDE00\">\n",
    "    <span style=\"color: black;\">🧠 Understanding of data 🧠</span>\n",
    "</h3>"
   ]
  },
  {
   "cell_type": "code",
   "execution_count": 3,
   "id": "803beb34",
   "metadata": {
    "execution": {
     "iopub.execute_input": "2023-12-22T18:08:53.141616Z",
     "iopub.status.busy": "2023-12-22T18:08:53.140805Z",
     "iopub.status.idle": "2023-12-22T18:08:53.155443Z",
     "shell.execute_reply": "2023-12-22T18:08:53.153952Z"
    },
    "papermill": {
     "duration": 0.029461,
     "end_time": "2023-12-22T18:08:53.158041",
     "exception": false,
     "start_time": "2023-12-22T18:08:53.128580",
     "status": "completed"
    },
    "tags": []
   },
   "outputs": [
    {
     "data": {
      "text/html": [
       "<div>\n",
       "<style scoped>\n",
       "    .dataframe tbody tr th:only-of-type {\n",
       "        vertical-align: middle;\n",
       "    }\n",
       "\n",
       "    .dataframe tbody tr th {\n",
       "        vertical-align: top;\n",
       "    }\n",
       "\n",
       "    .dataframe thead th {\n",
       "        text-align: right;\n",
       "    }\n",
       "</style>\n",
       "<table border=\"1\" class=\"dataframe\">\n",
       "  <thead>\n",
       "    <tr style=\"text-align: right;\">\n",
       "      <th></th>\n",
       "      <th>Name</th>\n",
       "      <th>Year</th>\n",
       "      <th>Duration</th>\n",
       "      <th>Genre</th>\n",
       "      <th>Rating</th>\n",
       "      <th>Votes</th>\n",
       "      <th>Director</th>\n",
       "      <th>Actor 1</th>\n",
       "      <th>Actor 2</th>\n",
       "      <th>Actor 3</th>\n",
       "    </tr>\n",
       "  </thead>\n",
       "  <tbody>\n",
       "    <tr>\n",
       "      <th>0</th>\n",
       "      <td></td>\n",
       "      <td>NaN</td>\n",
       "      <td>NaN</td>\n",
       "      <td>Drama</td>\n",
       "      <td>NaN</td>\n",
       "      <td>NaN</td>\n",
       "      <td>J.S. Randhawa</td>\n",
       "      <td>Manmauji</td>\n",
       "      <td>Birbal</td>\n",
       "      <td>Rajendra Bhatia</td>\n",
       "    </tr>\n",
       "    <tr>\n",
       "      <th>1</th>\n",
       "      <td>#Gadhvi (He thought he was Gandhi)</td>\n",
       "      <td>(2019)</td>\n",
       "      <td>109 min</td>\n",
       "      <td>Drama</td>\n",
       "      <td>7.0</td>\n",
       "      <td>8</td>\n",
       "      <td>Gaurav Bakshi</td>\n",
       "      <td>Rasika Dugal</td>\n",
       "      <td>Vivek Ghamande</td>\n",
       "      <td>Arvind Jangid</td>\n",
       "    </tr>\n",
       "    <tr>\n",
       "      <th>2</th>\n",
       "      <td>#Homecoming</td>\n",
       "      <td>(2021)</td>\n",
       "      <td>90 min</td>\n",
       "      <td>Drama, Musical</td>\n",
       "      <td>NaN</td>\n",
       "      <td>NaN</td>\n",
       "      <td>Soumyajit Majumdar</td>\n",
       "      <td>Sayani Gupta</td>\n",
       "      <td>Plabita Borthakur</td>\n",
       "      <td>Roy Angana</td>\n",
       "    </tr>\n",
       "    <tr>\n",
       "      <th>3</th>\n",
       "      <td>#Yaaram</td>\n",
       "      <td>(2019)</td>\n",
       "      <td>110 min</td>\n",
       "      <td>Comedy, Romance</td>\n",
       "      <td>4.4</td>\n",
       "      <td>35</td>\n",
       "      <td>Ovais Khan</td>\n",
       "      <td>Prateik</td>\n",
       "      <td>Ishita Raj</td>\n",
       "      <td>Siddhant Kapoor</td>\n",
       "    </tr>\n",
       "    <tr>\n",
       "      <th>4</th>\n",
       "      <td>...And Once Again</td>\n",
       "      <td>(2010)</td>\n",
       "      <td>105 min</td>\n",
       "      <td>Drama</td>\n",
       "      <td>NaN</td>\n",
       "      <td>NaN</td>\n",
       "      <td>Amol Palekar</td>\n",
       "      <td>Rajat Kapoor</td>\n",
       "      <td>Rituparna Sengupta</td>\n",
       "      <td>Antara Mali</td>\n",
       "    </tr>\n",
       "  </tbody>\n",
       "</table>\n",
       "</div>"
      ],
      "text/plain": [
       "                                 Name    Year Duration            Genre  \\\n",
       "0                                         NaN      NaN            Drama   \n",
       "1  #Gadhvi (He thought he was Gandhi)  (2019)  109 min            Drama   \n",
       "2                         #Homecoming  (2021)   90 min   Drama, Musical   \n",
       "3                             #Yaaram  (2019)  110 min  Comedy, Romance   \n",
       "4                   ...And Once Again  (2010)  105 min            Drama   \n",
       "\n",
       "   Rating Votes            Director       Actor 1             Actor 2  \\\n",
       "0     NaN   NaN       J.S. Randhawa      Manmauji              Birbal   \n",
       "1     7.0     8       Gaurav Bakshi  Rasika Dugal      Vivek Ghamande   \n",
       "2     NaN   NaN  Soumyajit Majumdar  Sayani Gupta   Plabita Borthakur   \n",
       "3     4.4    35          Ovais Khan       Prateik          Ishita Raj   \n",
       "4     NaN   NaN        Amol Palekar  Rajat Kapoor  Rituparna Sengupta   \n",
       "\n",
       "           Actor 3  \n",
       "0  Rajendra Bhatia  \n",
       "1    Arvind Jangid  \n",
       "2       Roy Angana  \n",
       "3  Siddhant Kapoor  \n",
       "4      Antara Mali  "
      ]
     },
     "execution_count": 3,
     "metadata": {},
     "output_type": "execute_result"
    }
   ],
   "source": [
    "imdb.head()"
   ]
  },
  {
   "cell_type": "code",
   "execution_count": 4,
   "id": "50d1d37d",
   "metadata": {
    "execution": {
     "iopub.execute_input": "2023-12-22T18:08:53.182499Z",
     "iopub.status.busy": "2023-12-22T18:08:53.182160Z",
     "iopub.status.idle": "2023-12-22T18:08:53.216090Z",
     "shell.execute_reply": "2023-12-22T18:08:53.214381Z"
    },
    "papermill": {
     "duration": 0.048491,
     "end_time": "2023-12-22T18:08:53.218177",
     "exception": false,
     "start_time": "2023-12-22T18:08:53.169686",
     "status": "completed"
    },
    "tags": []
   },
   "outputs": [
    {
     "name": "stdout",
     "output_type": "stream",
     "text": [
      "<class 'pandas.core.frame.DataFrame'>\n",
      "RangeIndex: 15509 entries, 0 to 15508\n",
      "Data columns (total 10 columns):\n",
      " #   Column    Non-Null Count  Dtype  \n",
      "---  ------    --------------  -----  \n",
      " 0   Name      15509 non-null  object \n",
      " 1   Year      14981 non-null  object \n",
      " 2   Duration  7240 non-null   object \n",
      " 3   Genre     13632 non-null  object \n",
      " 4   Rating    7919 non-null   float64\n",
      " 5   Votes     7920 non-null   object \n",
      " 6   Director  14984 non-null  object \n",
      " 7   Actor 1   13892 non-null  object \n",
      " 8   Actor 2   13125 non-null  object \n",
      " 9   Actor 3   12365 non-null  object \n",
      "dtypes: float64(1), object(9)\n",
      "memory usage: 1.2+ MB\n"
     ]
    }
   ],
   "source": [
    "imdb.info()"
   ]
  },
  {
   "cell_type": "markdown",
   "id": "d2206246",
   "metadata": {
    "papermill": {
     "duration": 0.011226,
     "end_time": "2023-12-22T18:08:53.241194",
     "exception": false,
     "start_time": "2023-12-22T18:08:53.229968",
     "status": "completed"
    },
    "tags": []
   },
   "source": [
    "<h3 \n",
    "    align=\"center\" \n",
    "    style=\"font-size: 35px; padding:20px; font-family:Georgia; text-align:center; display:block; border-radius:30px;background-color:#FFDE00\">\n",
    "    <span style=\"color: black;\">🧹 Data Cleaning 🧹</span>\n",
    "</h3>"
   ]
  },
  {
   "cell_type": "code",
   "execution_count": 5,
   "id": "5b512b18",
   "metadata": {
    "execution": {
     "iopub.execute_input": "2023-12-22T18:08:53.265682Z",
     "iopub.status.busy": "2023-12-22T18:08:53.265293Z",
     "iopub.status.idle": "2023-12-22T18:08:53.277503Z",
     "shell.execute_reply": "2023-12-22T18:08:53.276601Z"
    },
    "papermill": {
     "duration": 0.027079,
     "end_time": "2023-12-22T18:08:53.279713",
     "exception": false,
     "start_time": "2023-12-22T18:08:53.252634",
     "status": "completed"
    },
    "tags": []
   },
   "outputs": [
    {
     "data": {
      "text/plain": [
       "Name           0\n",
       "Year         528\n",
       "Duration    8269\n",
       "Genre       1877\n",
       "Rating      7590\n",
       "Votes       7589\n",
       "Director     525\n",
       "Actor 1     1617\n",
       "Actor 2     2384\n",
       "Actor 3     3144\n",
       "dtype: int64"
      ]
     },
     "execution_count": 5,
     "metadata": {},
     "output_type": "execute_result"
    }
   ],
   "source": [
    "# Checking null values\n",
    "\n",
    "imdb.isna().sum()"
   ]
  },
  {
   "cell_type": "code",
   "execution_count": 6,
   "id": "b71ac664",
   "metadata": {
    "execution": {
     "iopub.execute_input": "2023-12-22T18:08:53.304786Z",
     "iopub.status.busy": "2023-12-22T18:08:53.304383Z",
     "iopub.status.idle": "2023-12-22T18:08:53.329116Z",
     "shell.execute_reply": "2023-12-22T18:08:53.328068Z"
    },
    "papermill": {
     "duration": 0.040175,
     "end_time": "2023-12-22T18:08:53.331778",
     "exception": false,
     "start_time": "2023-12-22T18:08:53.291603",
     "status": "completed"
    },
    "tags": []
   },
   "outputs": [
    {
     "data": {
      "text/html": [
       "<div>\n",
       "<style scoped>\n",
       "    .dataframe tbody tr th:only-of-type {\n",
       "        vertical-align: middle;\n",
       "    }\n",
       "\n",
       "    .dataframe tbody tr th {\n",
       "        vertical-align: top;\n",
       "    }\n",
       "\n",
       "    .dataframe thead th {\n",
       "        text-align: right;\n",
       "    }\n",
       "</style>\n",
       "<table border=\"1\" class=\"dataframe\">\n",
       "  <thead>\n",
       "    <tr style=\"text-align: right;\">\n",
       "      <th></th>\n",
       "      <th>Name</th>\n",
       "      <th>Year</th>\n",
       "      <th>Duration</th>\n",
       "      <th>Genre</th>\n",
       "      <th>Rating</th>\n",
       "      <th>Votes</th>\n",
       "      <th>Director</th>\n",
       "      <th>Actor 1</th>\n",
       "      <th>Actor 2</th>\n",
       "      <th>Actor 3</th>\n",
       "    </tr>\n",
       "  </thead>\n",
       "  <tbody>\n",
       "    <tr>\n",
       "      <th>1836</th>\n",
       "      <td>Bang Bang Reloaded</td>\n",
       "      <td>NaN</td>\n",
       "      <td>NaN</td>\n",
       "      <td>NaN</td>\n",
       "      <td>NaN</td>\n",
       "      <td>NaN</td>\n",
       "      <td>NaN</td>\n",
       "      <td>NaN</td>\n",
       "      <td>NaN</td>\n",
       "      <td>NaN</td>\n",
       "    </tr>\n",
       "    <tr>\n",
       "      <th>1920</th>\n",
       "      <td>Battle of bittora</td>\n",
       "      <td>NaN</td>\n",
       "      <td>NaN</td>\n",
       "      <td>NaN</td>\n",
       "      <td>NaN</td>\n",
       "      <td>NaN</td>\n",
       "      <td>NaN</td>\n",
       "      <td>NaN</td>\n",
       "      <td>NaN</td>\n",
       "      <td>NaN</td>\n",
       "    </tr>\n",
       "    <tr>\n",
       "      <th>2653</th>\n",
       "      <td>Campus</td>\n",
       "      <td>NaN</td>\n",
       "      <td>NaN</td>\n",
       "      <td>NaN</td>\n",
       "      <td>NaN</td>\n",
       "      <td>NaN</td>\n",
       "      <td>NaN</td>\n",
       "      <td>NaN</td>\n",
       "      <td>NaN</td>\n",
       "      <td>NaN</td>\n",
       "    </tr>\n",
       "    <tr>\n",
       "      <th>3403</th>\n",
       "      <td>Dancing Dad</td>\n",
       "      <td>NaN</td>\n",
       "      <td>NaN</td>\n",
       "      <td>NaN</td>\n",
       "      <td>NaN</td>\n",
       "      <td>NaN</td>\n",
       "      <td>NaN</td>\n",
       "      <td>NaN</td>\n",
       "      <td>NaN</td>\n",
       "      <td>NaN</td>\n",
       "    </tr>\n",
       "    <tr>\n",
       "      <th>3807</th>\n",
       "      <td>Dial 100</td>\n",
       "      <td>NaN</td>\n",
       "      <td>NaN</td>\n",
       "      <td>NaN</td>\n",
       "      <td>NaN</td>\n",
       "      <td>NaN</td>\n",
       "      <td>NaN</td>\n",
       "      <td>NaN</td>\n",
       "      <td>NaN</td>\n",
       "      <td>NaN</td>\n",
       "    </tr>\n",
       "  </tbody>\n",
       "</table>\n",
       "</div>"
      ],
      "text/plain": [
       "                    Name Year Duration Genre  Rating Votes Director Actor 1  \\\n",
       "1836  Bang Bang Reloaded  NaN      NaN   NaN     NaN   NaN      NaN     NaN   \n",
       "1920   Battle of bittora  NaN      NaN   NaN     NaN   NaN      NaN     NaN   \n",
       "2653              Campus  NaN      NaN   NaN     NaN   NaN      NaN     NaN   \n",
       "3403         Dancing Dad  NaN      NaN   NaN     NaN   NaN      NaN     NaN   \n",
       "3807            Dial 100  NaN      NaN   NaN     NaN   NaN      NaN     NaN   \n",
       "\n",
       "     Actor 2 Actor 3  \n",
       "1836     NaN     NaN  \n",
       "1920     NaN     NaN  \n",
       "2653     NaN     NaN  \n",
       "3403     NaN     NaN  \n",
       "3807     NaN     NaN  "
      ]
     },
     "execution_count": 6,
     "metadata": {},
     "output_type": "execute_result"
    }
   ],
   "source": [
    "# Locating rows with missing values in columns from 1 to 9\n",
    "\n",
    "nulls = imdb[imdb.iloc[:, 1:9].isna().all(axis=1)]\n",
    "nulls.head()"
   ]
  },
  {
   "cell_type": "code",
   "execution_count": 7,
   "id": "ee134966",
   "metadata": {
    "execution": {
     "iopub.execute_input": "2023-12-22T18:08:53.358600Z",
     "iopub.status.busy": "2023-12-22T18:08:53.358174Z",
     "iopub.status.idle": "2023-12-22T18:08:53.376968Z",
     "shell.execute_reply": "2023-12-22T18:08:53.376285Z"
    },
    "papermill": {
     "duration": 0.035596,
     "end_time": "2023-12-22T18:08:53.379330",
     "exception": false,
     "start_time": "2023-12-22T18:08:53.343734",
     "status": "completed"
    },
    "tags": []
   },
   "outputs": [
    {
     "name": "stdout",
     "output_type": "stream",
     "text": [
      "Name of Column: Name\n",
      "[' ' '#Gadhvi (He thought he was Gandhi)' '#Homecoming' ... 'Zulmi Raj'\n",
      " 'Zulmi Shikari' 'Zulm-O-Sitam']\n",
      "\n",
      " ------------------------------------------------------------ \n",
      "\n",
      "Name of Column: Year\n",
      "[nan '(2019)' '(2021)' '(2010)' '(1997)' '(2005)' '(2008)' '(2012)'\n",
      " '(2014)' '(2004)' '(2016)' '(1991)' '(1990)' '(2018)' '(1987)' '(1948)'\n",
      " '(1958)' '(2017)' '(2020)' '(2009)' '(2002)' '(1993)' '(1946)' '(1994)'\n",
      " '(2007)' '(2013)' '(2003)' '(1998)' '(1979)' '(1951)' '(1956)' '(1974)'\n",
      " '(2015)' '(2006)' '(1981)' '(1985)' '(2011)' '(2001)' '(1967)' '(1988)'\n",
      " '(1995)' '(1959)' '(1996)' '(1970)' '(1976)' '(2000)' '(1999)' '(1973)'\n",
      " '(1968)' '(1943)' '(1953)' '(1986)' '(1983)' '(1989)' '(1982)' '(1977)'\n",
      " '(1957)' '(1950)' '(1992)' '(1969)' '(1975)' '(1947)' '(1972)' '(1971)'\n",
      " '(1935)' '(1978)' '(1960)' '(1944)' '(1963)' '(1940)' '(1984)' '(1934)'\n",
      " '(1955)' '(1936)' '(1980)' '(1966)' '(1949)' '(1962)' '(1964)' '(1952)'\n",
      " '(1933)' '(1942)' '(1939)' '(1954)' '(1945)' '(1961)' '(1965)' '(1938)'\n",
      " '(1941)' '(1931)' '(1937)' '(2022)' '(1932)' '(1923)' '(1915)' '(1928)'\n",
      " '(1922)' '(1917)' '(1913)' '(1930)' '(1926)' '(1914)' '(1924)']\n",
      "\n",
      " ------------------------------------------------------------ \n",
      "\n",
      "Name of Column: Duration\n",
      "[nan '109 min' '90 min' '110 min' '105 min' '147 min' '142 min' '59 min'\n",
      " '82 min' '116 min' '96 min' '120 min' '161 min' '166 min' '102 min'\n",
      " '87 min' '132 min' '66 min' '146 min' '112 min' '168 min' '158 min'\n",
      " '126 min' '94 min' '138 min' '124 min' '144 min' '157 min' '136 min'\n",
      " '107 min' '113 min' '80 min' '122 min' '149 min' '148 min' '130 min'\n",
      " '121 min' '188 min' '115 min' '103 min' '114 min' '170 min' '100 min'\n",
      " '99 min' '140 min' '128 min' '93 min' '125 min' '145 min' '75 min'\n",
      " '111 min' '134 min' '85 min' '104 min' '92 min' '137 min' '127 min'\n",
      " '150 min' '119 min' '135 min' '86 min' '76 min' '70 min' '72 min'\n",
      " '151 min' '95 min' '52 min' '89 min' '143 min' '177 min' '117 min'\n",
      " '123 min' '154 min' '88 min' '175 min' '153 min' '78 min' '139 min'\n",
      " '133 min' '101 min' '180 min' '60 min' '46 min' '164 min' '162 min'\n",
      " '171 min' '160 min' '152 min' '62 min' '163 min' '165 min' '141 min'\n",
      " '210 min' '129 min' '156 min' '240 min' '172 min' '155 min' '118 min'\n",
      " '167 min' '106 min' '193 min' '57 min' '108 min' '45 min' '195 min'\n",
      " '174 min' '81 min' '178 min' '58 min' '184 min' '97 min' '98 min'\n",
      " '131 min' '176 min' '169 min' '77 min' '91 min' '84 min' '173 min'\n",
      " '74 min' '67 min' '181 min' '300 min' '79 min' '65 min' '48 min'\n",
      " '183 min' '159 min' '83 min' '68 min' '49 min' '201 min' '64 min'\n",
      " '186 min' '50 min' '69 min' '207 min' '55 min' '61 min' '185 min'\n",
      " '187 min' '216 min' '63 min' '54 min' '198 min' '51 min' '71 min'\n",
      " '73 min' '218 min' '191 min' '321 min' '199 min' '53 min' '56 min'\n",
      " '179 min' '47 min' '206 min' '190 min' '211 min' '247 min' '213 min'\n",
      " '223 min' '2 min' '189 min' '224 min' '202 min' '255 min' '197 min'\n",
      " '182 min' '214 min' '208 min' '21 min' '200 min' '192 min' '37 min'\n",
      " '261 min' '238 min' '204 min' '235 min' '298 min' '217 min' '250 min']\n",
      "\n",
      " ------------------------------------------------------------ \n",
      "\n",
      "Name of Column: Genre\n",
      "['Drama' 'Drama, Musical' 'Comedy, Romance' 'Comedy, Drama, Musical'\n",
      " 'Drama, Romance, War' 'Documentary' 'Horror, Mystery, Thriller'\n",
      " 'Action, Crime, Thriller' 'Horror' 'Horror, Romance, Thriller'\n",
      " 'Comedy, Drama, Romance' 'Thriller' 'Comedy, Drama' nan\n",
      " 'Comedy, Drama, Fantasy' 'Comedy, Drama, Family' 'Crime, Drama, Mystery'\n",
      " 'Horror, Thriller' 'Biography' 'Comedy, Horror' 'Action'\n",
      " 'Drama, Horror, Mystery' 'Comedy' 'Action, Thriller' 'Drama, History'\n",
      " 'Drama, History, Sport' 'Horror, Mystery, Romance' 'Horror, Mystery'\n",
      " 'Drama, Horror, Romance' 'Action, Drama, History' 'Action, Drama, War'\n",
      " 'Comedy, Family' 'Adventure, Horror, Mystery' 'Action, Sci-Fi'\n",
      " 'Crime, Mystery, Thriller' 'War' 'Sport' 'Biography, Drama, History'\n",
      " 'Horror, Romance' 'Crime, Drama' 'Drama, Romance' 'Adventure, Drama'\n",
      " 'Comedy, Mystery, Thriller' 'Action, Crime, Drama' 'Crime, Thriller'\n",
      " 'Horror, Sci-Fi, Thriller' 'Crime, Drama, Thriller'\n",
      " 'Drama, Mystery, Thriller' 'Drama, Sport' 'Drama, Family, Musical'\n",
      " 'Action, Comedy' 'Comedy, Thriller' 'Action, Adventure, Fantasy'\n",
      " 'Drama, Romance, Thriller' 'Action, Drama' 'Drama, Horror, Musical'\n",
      " 'Action, Biography, Drama' 'Adventure, Comedy, Drama' 'Mystery'\n",
      " 'Action, Fantasy, Mystery' 'Adventure, Drama, Mystery'\n",
      " 'Mystery, Thriller' 'Adventure' 'Drama, Musical, Thriller'\n",
      " 'Comedy, Crime, Drama' 'Musical, Romance' 'Documentary, Music'\n",
      " 'Documentary, History, Music' 'Drama, Fantasy, Mystery'\n",
      " 'Drama, Family, Sport' 'Drama, Thriller' 'Documentary, Biography'\n",
      " 'Action, Adventure, Comedy' 'Romance' 'Comedy, Drama, Music'\n",
      " 'Comedy, Horror, Mystery' 'Musical' 'Musical, Romance, Drama'\n",
      " 'Family, Romance' 'Action, Sci-Fi, Thriller' 'Action, Drama, Romance'\n",
      " 'Mystery, Romance' 'Fantasy' 'Family' 'Drama, Family'\n",
      " 'Action, Comedy, Drama' 'Action, Drama, Thriller'\n",
      " 'Drama, Horror, Thriller' 'Drama, Musical, Romance' 'Comedy, Sci-Fi'\n",
      " 'Action, Romance' 'Action, Crime' 'Action, Drama, Crime'\n",
      " 'Drama, Family, Music' 'Action, Mystery, Thriller'\n",
      " 'Action, Drama, Family' 'Action, Mystery' 'Drama, History, Romance'\n",
      " 'Crime, Drama, Music' 'Sci-Fi' 'Animation' 'Crime, Mystery, Romance'\n",
      " 'Action, Adventure, Romance' 'Music, Romance' 'Action, Comedy, Crime'\n",
      " 'Comedy, Family, Fantasy' 'Romance, Drama' 'Drama, Family, Romance'\n",
      " 'Romance, Drama, Family' 'Musical, Romance, Thriller'\n",
      " 'Family, Musical, Romance' 'Action, Drama, Fantasy' 'Family, Drama'\n",
      " 'Crime, Drama, Romance' 'Musical, Drama, Romance' 'Drama, Music, Musical'\n",
      " 'Drama, Mystery' 'Adventure, Comedy, Romance' 'Crime, Drama, Horror'\n",
      " 'Family, Music, Musical' 'Action, Musical, Thriller'\n",
      " 'Action, Romance, Thriller' 'Romance, Thriller' 'Drama, Music'\n",
      " 'Crime, Drama, Musical' 'Action, Crime, Mystery'\n",
      " 'Action, Adventure, Thriller' 'Comedy, Romance, Sci-Fi' 'Crime'\n",
      " 'Action, Drama, Mystery' 'Action, Comedy, Thriller' 'Biography, Drama'\n",
      " 'Action, Comedy, Fantasy' 'Drama, Family, Horror'\n",
      " 'Action, Adventure, Family' 'Documentary, Biography, Musical'\n",
      " 'Action, Drama, Musical' 'Adventure, Thriller' 'Crime, Mystery'\n",
      " 'Drama, Crime' 'Drama, Fantasy, Romance' 'Comedy, Romance, Thriller'\n",
      " 'Musical, Comedy, Drama' 'Biography, History, War'\n",
      " 'Action, Comedy, Romance' 'Drama, History, Musical'\n",
      " 'Action, Crime, Horror' 'Adventure, Fantasy' 'Adventure, Drama, Fantasy'\n",
      " 'Adventure, Fantasy, Romance' 'Action, Adventure, Drama'\n",
      " 'Action, Adventure' 'Comedy, Crime' 'Crime, Drama, Fantasy'\n",
      " 'Adventure, Drama, Romance' 'History' 'Drama, Fantasy, Thriller'\n",
      " 'Musical, Fantasy' 'Documentary, Thriller' 'Mystery, Romance, Musical'\n",
      " 'Family, Drama, Romance' 'History, Musical, Romance'\n",
      " 'Musical, Drama, Crime' 'Adventure, Crime, Romance'\n",
      " 'Musical, Thriller, Mystery' 'Drama, Comedy' 'Biography, Drama, Romance'\n",
      " 'Biography, Music' 'Biography, Drama, Music' 'Drama, Sci-Fi'\n",
      " 'Drama, Family, Thriller' 'Comedy, Musical, Romance'\n",
      " 'Drama, Family, Comedy' 'Action, Thriller, Romance'\n",
      " 'Animation, Adventure' 'Action, Crime, Musical' 'Action, Crime, Romance'\n",
      " 'Animation, Action, Adventure' 'Action, Drama, Sport' 'Comedy, History'\n",
      " 'Documentary, History' 'Drama, Comedy, Family' 'Action, Adventure, Crime'\n",
      " 'Documentary, Biography, Music' 'Comedy, Musical'\n",
      " 'Biography, Crime, Thriller' 'Adventure, Mystery, Thriller'\n",
      " 'Biography, Drama, Sport' 'Action, Comedy, Musical'\n",
      " 'Mystery, Romance, Thriller' 'Action, Adventure, Musical'\n",
      " 'Crime, Musical, Mystery' 'Action, Thriller, Crime'\n",
      " 'Adventure, Comedy, Crime' 'Comedy, Horror, Musical' 'Adventure, Family'\n",
      " 'Family, Thriller' 'Drama, Action, Crime' 'Drama, War'\n",
      " 'Action, Drama, Adventure' 'Adventure, Fantasy, History'\n",
      " 'Fantasy, Musical' 'Comedy, Drama, Thriller' 'Drama, Fantasy'\n",
      " 'Musical, Drama' 'Action, Drama, Horror' 'Biography, Crime, Drama'\n",
      " 'Action, Drama, Music' 'Adventure, Drama, Family'\n",
      " 'Drama, Romance, Musical' 'Comedy, Musical, Drama'\n",
      " 'Adventure, Comedy, Musical' 'Crime, Drama, Family'\n",
      " 'Thriller, Musical, Mystery' 'Documentary, Adventure, Crime'\n",
      " 'Drama, Action, Horror' 'Adventure, Crime, Drama'\n",
      " 'Documentary, Biography, Sport' 'Crime, Fantasy, Mystery'\n",
      " 'Documentary, Biography, Drama' 'Action, Fantasy, Thriller'\n",
      " 'Adventure, Drama, History' 'Animation, Drama, History'\n",
      " 'Comedy, Horror, Thriller' 'Drama, Family, History' 'Animation, History'\n",
      " 'Biography, Drama, Musical' 'Music' 'Family, Comedy' 'Adventure, Mystery'\n",
      " 'Family, Fantasy' 'Documentary, History, News' 'Drama, Mystery, Romance'\n",
      " 'Comedy, Fantasy' 'Action, Crime, Family' 'Drama, Musical, Mystery'\n",
      " 'Action, Thriller, Mystery' 'Drama, Family, Fantasy' 'Action, Family'\n",
      " 'Action, Adventure, Mystery' 'Horror, Fantasy' 'Comedy, Action'\n",
      " 'Adventure, Romance' 'Drama, Adventure' 'Animation, Drama, Romance'\n",
      " 'Comedy, Crime, Romance' 'Adventure, Comedy' 'Comedy, Drama, Sport'\n",
      " 'Documentary, Crime, History' 'Musical, Mystery, Drama'\n",
      " 'Adventure, Drama, Sci-Fi' 'Action, Romance, Western'\n",
      " 'Comedy, Fantasy, Romance' 'Animation, Action, Comedy'\n",
      " 'Drama, Fantasy, Sci-Fi' 'Drama, Horror' 'Family, Drama, Comedy'\n",
      " 'Action, Adventure, History' 'Comedy, Family, Romance'\n",
      " 'Biography, History' 'Animation, Family' 'Drama, Fantasy, History'\n",
      " 'Animation, Adventure, Fantasy' 'Adventure, Comedy, Family'\n",
      " 'Drama, History, War' 'Animation, Drama, Fantasy'\n",
      " 'Action, Musical, Romance' 'Crime, Action, Drama'\n",
      " 'Comedy, Romance, Musical' 'Fantasy, Drama' 'Musical, Action, Crime'\n",
      " 'Documentary, Drama' 'Action, Horror, Thriller' 'Action, Horror, Sci-Fi'\n",
      " 'Mystery, Sci-Fi, Thriller' 'Biography, Family' 'Drama, Action, Comedy'\n",
      " 'Drama, Music, Romance' 'Action, Biography, Crime'\n",
      " 'Adventure, Drama, Musical' 'Family, Music, Romance'\n",
      " 'Fantasy, Mystery, Romance' 'Drama, Crime, Family'\n",
      " 'Drama, Family, Action' 'Romance, Comedy, Drama'\n",
      " 'Animation, Adventure, Comedy' 'Sci-Fi, Thriller'\n",
      " 'Romance, Family, Drama' 'Action, Family, Thriller'\n",
      " 'Adventure, Crime, Thriller' 'Drama, Romance, Sport'\n",
      " 'Comedy, Crime, Mystery' 'Adventure, Comedy, Mystery' 'Action, Fantasy'\n",
      " 'Comedy, Mystery' 'Animation, Adventure, Family'\n",
      " 'Adventure, Drama, Music' 'Biography, Drama, War'\n",
      " 'Documentary, Comedy, Drama' 'Musical, Drama, Family'\n",
      " 'Animation, Comedy, Drama' 'Fantasy, Musical, Drama'\n",
      " 'Adventure, Crime, Mystery' 'Comedy, Drama, Mystery' 'Documentary, News'\n",
      " 'Drama, Musical, Family' 'Action, Romance, Drama'\n",
      " 'Comedy, Crime, Thriller' 'Action, Musical' 'Action, History'\n",
      " 'Action, Comedy, Mystery' 'Drama, Family, Mystery'\n",
      " 'Adventure, Drama, Thriller' 'Documentary, Reality-TV'\n",
      " 'Action, Fantasy, Horror' 'Drama, History, Thriller'\n",
      " 'Documentary, Family' 'Documentary, Biography, Family' 'Comedy, Sport'\n",
      " 'Animation, Comedy, Family' 'Crime, Romance, Thriller'\n",
      " 'Comedy, Musical, Action' 'Action, Mystery, Sci-Fi'\n",
      " 'Comedy, Crime, Musical' 'Drama, Adventure, Action' 'History, Romance'\n",
      " 'Reality-TV' 'Fantasy, History' 'Family, Drama, Thriller'\n",
      " 'Musical, Mystery, Thriller' 'Musical, Comedy, Romance'\n",
      " 'Musical, Action, Drama' 'Action, Musical, War' 'Romance, Comedy'\n",
      " 'Horror, Crime, Thriller' 'Crime, Drama, History' 'Comedy, Drama, Horror'\n",
      " 'Crime, Horror, Thriller' 'Animation, Comedy' 'Romance, Action, Crime'\n",
      " 'Musical, Thriller' 'Action, Romance, Comedy' 'Comedy, Family, Musical'\n",
      " 'Horror, Drama, Mystery' 'Thriller, Mystery, Family'\n",
      " 'Comedy, Drama, Sci-Fi' 'Documentary, Adventure'\n",
      " 'Documentary, Biography, Crime' 'Musical, Action' 'Musical, Mystery'\n",
      " 'Action, Crime, Sci-Fi' 'Action, Horror, Mystery' 'Fantasy, Horror'\n",
      " 'Adventure, Family, Fantasy' 'Fantasy, Sci-Fi' 'Comedy, War'\n",
      " 'Romance, Action, Drama' 'Musical, Family, Romance'\n",
      " 'Romance, Drama, Action' 'Family, Comedy, Drama' 'Comedy, Music, Romance'\n",
      " 'Comedy, Family, Sci-Fi' 'Action, Drama, Western'\n",
      " 'Adventure, Romance, Thriller' 'Biography, Comedy, Drama'\n",
      " 'Action, Mystery, Romance' 'Romance, Sport' 'Crime, Romance'\n",
      " 'Action, Thriller, Western' 'Crime, Musical, Romance'\n",
      " 'Romance, Thriller, Mystery' 'Drama, Crime, Mystery'\n",
      " 'Biography, Drama, Family' 'Action, Family, Mystery'\n",
      " 'Comedy, Mystery, Romance' 'Drama, Thriller, Action' 'Documentary, Short'\n",
      " 'Documentary, Western' 'Musical, Family, Drama' 'Action, Family, Musical'\n",
      " 'Animation, Family, Musical' 'Drama, Fantasy, Horror'\n",
      " 'Action, Adventure, Sci-Fi' 'Drama, Action, Musical'\n",
      " 'Drama, Musical, Sport' 'Action, Comedy, Horror'\n",
      " 'Drama, Fantasy, Musical' 'Action, Fantasy, Musical' 'Animation, Action'\n",
      " 'Comedy, Music' 'Documentary, Drama, Romance' 'Drama, Music, Thriller'\n",
      " 'Fantasy, Musical, Mystery' 'Drama, Fantasy, War' 'Action, War'\n",
      " 'Action, Adventure, War' 'Horror, Musical' 'Fantasy, Mystery, Thriller'\n",
      " 'Adventure, Biography, Drama' 'Family, Romance, Sci-Fi'\n",
      " 'Drama, Romance, Family' 'Animation, Adventure, Drama'\n",
      " 'Family, Romance, Drama' 'Animation, Action, Sci-Fi'\n",
      " 'Adventure, Comedy, Fantasy' 'Comedy, Crime, Family'\n",
      " 'Horror, Musical, Thriller' 'Biography, Drama, Thriller' 'Drama, Western'\n",
      " 'Romance, Sci-Fi, Thriller' 'Comedy, Musical, Family'\n",
      " 'Comedy, Horror, Romance' 'Thriller, Action' 'Fantasy, Thriller, Action'\n",
      " 'Fantasy, Romance' 'Action, Drama, Comedy' 'Family, Fantasy, Romance'\n",
      " 'Comedy, Crime, Horror' 'Horror, Mystery, Sci-Fi'\n",
      " 'Animation, Action, Drama' 'Family, Mystery'\n",
      " 'Adventure, Biography, History' 'Fantasy, Horror, Mystery'\n",
      " 'Family, Musical' 'Drama, Family, Adventure' 'Crime, Horror, Mystery'\n",
      " 'Documentary, Drama, Fantasy' 'Action, Adventure, Biography'\n",
      " 'Biography, History, Thriller' 'Action, Family, Drama'\n",
      " 'Documentary, Drama, Sport' 'Thriller, Mystery' 'Musical, Drama, Comedy'\n",
      " 'Documentary, History, War' 'Adventure, Horror, Thriller'\n",
      " 'Action, Adventure, Horror' 'Action, Crime, War'\n",
      " 'Adventure, Musical, Romance' 'Action, Fantasy, Sci-Fi'\n",
      " 'Drama, Comedy, Action' 'Documentary, Sport'\n",
      " 'Documentary, Adventure, Music' 'Drama, Action, Family'\n",
      " 'Adventure, History, Thriller' 'Adventure, Horror, Romance'\n",
      " 'Adventure, Crime, Horror' 'Mystery, Musical, Romance'\n",
      " 'Action, Crime, History' 'Documentary, Musical'\n",
      " 'Adventure, Fantasy, Musical' 'Documentary, Family, History'\n",
      " 'Documentary, Drama, Family' 'Drama, Mystery, Sci-Fi'\n",
      " 'Animation, Drama, Musical' 'Drama, History, Mystery'\n",
      " 'Drama, Sport, Thriller' 'Action, Crime, Fantasy'\n",
      " 'Comedy, Musical, Mystery' 'Romance, Musical, Action'\n",
      " 'Musical, Drama, Fantasy' 'Animation, Family, History'\n",
      " 'Action, Drama, News' 'Romance, Musical, Comedy'\n",
      " 'Adventure, Fantasy, Horror' 'Adventure, History'\n",
      " 'Comedy, Drama, History' 'Mystery, Sci-Fi' 'Action, Thriller, War'\n",
      " 'Documentary, Drama, News' 'Documentary, Crime, Mystery'\n",
      " 'Adventure, Horror' 'Animation, Drama, Adventure'\n",
      " 'Crime, Horror, Romance' 'Documentary, Adventure, Drama'\n",
      " 'Documentary, Biography, History' 'Fantasy, Horror, Romance'\n",
      " 'Comedy, Fantasy, Musical' 'Crime, Musical, Thriller' 'Documentary, War'\n",
      " 'Action, Comedy, War' 'Crime, Drama, Sport' 'Musical, Adventure, Drama'\n",
      " 'Horror, Romance, Sci-Fi' 'Musical, Mystery, Romance'\n",
      " 'Romance, Musical, Drama' 'Adventure, Fantasy, Sci-Fi']\n",
      "\n",
      " ------------------------------------------------------------ \n",
      "\n",
      "Name of Column: Votes\n",
      "[nan '8' '35' ... '70,344' '408' '1,496']\n",
      "\n",
      " ------------------------------------------------------------ \n",
      "\n",
      "Name of Column: Director\n",
      "['J.S. Randhawa' 'Gaurav Bakshi' 'Soumyajit Majumdar' ... 'Mozez Singh'\n",
      " 'Ved Prakash' 'Kiran Thej']\n",
      "\n",
      " ------------------------------------------------------------ \n",
      "\n",
      "Name of Column: Actor 1\n",
      "['Manmauji' 'Rasika Dugal' 'Sayani Gupta' ... 'Meghan Jadhav'\n",
      " 'Roohi Berde' 'Sangeeta Tiwari']\n",
      "\n",
      " ------------------------------------------------------------ \n",
      "\n",
      "Name of Column: Actor 2\n",
      "['Birbal' 'Vivek Ghamande' 'Plabita Borthakur' ... 'Devan Sanjeev'\n",
      " 'Prince Daniel' 'Sarah Jane Dias']\n",
      "\n",
      " ------------------------------------------------------------ \n",
      "\n",
      "Name of Column: Actor 3\n",
      "['Rajendra Bhatia' 'Arvind Jangid' 'Roy Angana' ... 'Shatakshi Gupta'\n",
      " 'Valerie Agha' 'Suparna Anand']\n",
      "\n",
      " ------------------------------------------------------------ \n",
      "\n"
     ]
    }
   ],
   "source": [
    "#Checking if there are any typos\n",
    "\n",
    "for col in imdb.select_dtypes(include = \"object\"):\n",
    "    print(f\"Name of Column: {col}\")\n",
    "    print(imdb[col].unique())\n",
    "    print('\\n', '-'*60, '\\n')"
   ]
  },
  {
   "cell_type": "code",
   "execution_count": 8,
   "id": "4de8adab",
   "metadata": {
    "execution": {
     "iopub.execute_input": "2023-12-22T18:08:53.463173Z",
     "iopub.status.busy": "2023-12-22T18:08:53.462828Z",
     "iopub.status.idle": "2023-12-22T18:08:53.633873Z",
     "shell.execute_reply": "2023-12-22T18:08:53.632398Z"
    },
    "papermill": {
     "duration": 0.244029,
     "end_time": "2023-12-22T18:08:53.636135",
     "exception": false,
     "start_time": "2023-12-22T18:08:53.392106",
     "status": "completed"
    },
    "tags": []
   },
   "outputs": [],
   "source": [
    "# Handling the null values\n",
    "imdb.dropna(subset=['Name', 'Year', 'Duration', 'Rating', 'Votes', 'Director', 'Actor 1', 'Actor 2', 'Actor 3'], inplace=True)\n",
    "\n",
    "#Extracting only the text part from the Name column\n",
    "imdb['Name'] = imdb['Name'].str.extract('([A-Za-z\\s\\'\\-]+)')\n",
    "\n",
    "# Replacing the brackets from year column as observed above\n",
    "imdb['Year'] = imdb['Year'].str.replace(r'[()]', '', regex=True).astype(int)\n",
    "\n",
    "# Convert 'Duration' to numeric and replacing the min, while keeping only numerical part\n",
    "imdb['Duration'] = pd.to_numeric(imdb['Duration'].str.replace(r' min', '', regex=True), errors='coerce')\n",
    "\n",
    "# Splitting the genre by , to keep only unique genres and replacing the null values with mode\n",
    "imdb['Genre'] = imdb['Genre'].str.split(', ')\n",
    "imdb = imdb.explode('Genre')\n",
    "imdb['Genre'].fillna(imdb['Genre'].mode()[0], inplace=True)\n",
    "\n",
    "# Convert 'Votes' to numeric and replace the , to keep only numerical part\n",
    "imdb['Votes'] = pd.to_numeric(imdb['Votes'].str.replace(',', ''), errors='coerce')"
   ]
  },
  {
   "cell_type": "code",
   "execution_count": 9,
   "id": "0433dc35",
   "metadata": {
    "execution": {
     "iopub.execute_input": "2023-12-22T18:08:53.661917Z",
     "iopub.status.busy": "2023-12-22T18:08:53.661574Z",
     "iopub.status.idle": "2023-12-22T18:08:53.864327Z",
     "shell.execute_reply": "2023-12-22T18:08:53.863060Z"
    },
    "papermill": {
     "duration": 0.218093,
     "end_time": "2023-12-22T18:08:53.866364",
     "exception": false,
     "start_time": "2023-12-22T18:08:53.648271",
     "status": "completed"
    },
    "tags": []
   },
   "outputs": [
    {
     "data": {
      "text/html": [
       "<div>\n",
       "<style scoped>\n",
       "    .dataframe tbody tr th:only-of-type {\n",
       "        vertical-align: middle;\n",
       "    }\n",
       "\n",
       "    .dataframe tbody tr th {\n",
       "        vertical-align: top;\n",
       "    }\n",
       "\n",
       "    .dataframe thead th {\n",
       "        text-align: right;\n",
       "    }\n",
       "</style>\n",
       "<table border=\"1\" class=\"dataframe\">\n",
       "  <thead>\n",
       "    <tr style=\"text-align: right;\">\n",
       "      <th></th>\n",
       "      <th>Name</th>\n",
       "      <th>Year</th>\n",
       "      <th>Duration</th>\n",
       "      <th>Genre</th>\n",
       "      <th>Rating</th>\n",
       "      <th>Votes</th>\n",
       "      <th>Director</th>\n",
       "      <th>Actor 1</th>\n",
       "      <th>Actor 2</th>\n",
       "      <th>Actor 3</th>\n",
       "    </tr>\n",
       "  </thead>\n",
       "  <tbody>\n",
       "    <tr>\n",
       "      <th>3</th>\n",
       "      <td>Yaaram</td>\n",
       "      <td>2019</td>\n",
       "      <td>110</td>\n",
       "      <td>Comedy</td>\n",
       "      <td>4.4</td>\n",
       "      <td>35</td>\n",
       "      <td>Ovais Khan</td>\n",
       "      <td>Prateik</td>\n",
       "      <td>Ishita Raj</td>\n",
       "      <td>Siddhant Kapoor</td>\n",
       "    </tr>\n",
       "    <tr>\n",
       "      <th>3</th>\n",
       "      <td>Yaaram</td>\n",
       "      <td>2019</td>\n",
       "      <td>110</td>\n",
       "      <td>Romance</td>\n",
       "      <td>4.4</td>\n",
       "      <td>35</td>\n",
       "      <td>Ovais Khan</td>\n",
       "      <td>Prateik</td>\n",
       "      <td>Ishita Raj</td>\n",
       "      <td>Siddhant Kapoor</td>\n",
       "    </tr>\n",
       "    <tr>\n",
       "      <th>5</th>\n",
       "      <td>Aur Pyaar Ho Gaya</td>\n",
       "      <td>1997</td>\n",
       "      <td>147</td>\n",
       "      <td>Comedy</td>\n",
       "      <td>4.7</td>\n",
       "      <td>827</td>\n",
       "      <td>Rahul Rawail</td>\n",
       "      <td>Bobby Deol</td>\n",
       "      <td>Aishwarya Rai Bachchan</td>\n",
       "      <td>Shammi Kapoor</td>\n",
       "    </tr>\n",
       "    <tr>\n",
       "      <th>5</th>\n",
       "      <td>Aur Pyaar Ho Gaya</td>\n",
       "      <td>1997</td>\n",
       "      <td>147</td>\n",
       "      <td>Drama</td>\n",
       "      <td>4.7</td>\n",
       "      <td>827</td>\n",
       "      <td>Rahul Rawail</td>\n",
       "      <td>Bobby Deol</td>\n",
       "      <td>Aishwarya Rai Bachchan</td>\n",
       "      <td>Shammi Kapoor</td>\n",
       "    </tr>\n",
       "    <tr>\n",
       "      <th>5</th>\n",
       "      <td>Aur Pyaar Ho Gaya</td>\n",
       "      <td>1997</td>\n",
       "      <td>147</td>\n",
       "      <td>Musical</td>\n",
       "      <td>4.7</td>\n",
       "      <td>827</td>\n",
       "      <td>Rahul Rawail</td>\n",
       "      <td>Bobby Deol</td>\n",
       "      <td>Aishwarya Rai Bachchan</td>\n",
       "      <td>Shammi Kapoor</td>\n",
       "    </tr>\n",
       "  </tbody>\n",
       "</table>\n",
       "</div>"
      ],
      "text/plain": [
       "                Name  Year  Duration    Genre  Rating  Votes      Director  \\\n",
       "3             Yaaram  2019       110   Comedy     4.4     35    Ovais Khan   \n",
       "3             Yaaram  2019       110  Romance     4.4     35    Ovais Khan   \n",
       "5  Aur Pyaar Ho Gaya  1997       147   Comedy     4.7    827  Rahul Rawail   \n",
       "5  Aur Pyaar Ho Gaya  1997       147    Drama     4.7    827  Rahul Rawail   \n",
       "5  Aur Pyaar Ho Gaya  1997       147  Musical     4.7    827  Rahul Rawail   \n",
       "\n",
       "      Actor 1                 Actor 2          Actor 3  \n",
       "3     Prateik              Ishita Raj  Siddhant Kapoor  \n",
       "3     Prateik              Ishita Raj  Siddhant Kapoor  \n",
       "5  Bobby Deol  Aishwarya Rai Bachchan    Shammi Kapoor  \n",
       "5  Bobby Deol  Aishwarya Rai Bachchan    Shammi Kapoor  \n",
       "5  Bobby Deol  Aishwarya Rai Bachchan    Shammi Kapoor  "
      ]
     },
     "execution_count": 9,
     "metadata": {},
     "output_type": "execute_result"
    }
   ],
   "source": [
    "#checking duplicate values by Name and Year\n",
    "\n",
    "duplicate = imdb.groupby(['Name', 'Year']).filter(lambda x: len(x) > 1)\n",
    "duplicate.head(5)"
   ]
  },
  {
   "cell_type": "code",
   "execution_count": 10,
   "id": "7bd0daa0",
   "metadata": {
    "execution": {
     "iopub.execute_input": "2023-12-22T18:08:53.892932Z",
     "iopub.status.busy": "2023-12-22T18:08:53.892577Z",
     "iopub.status.idle": "2023-12-22T18:08:53.900462Z",
     "shell.execute_reply": "2023-12-22T18:08:53.899068Z"
    },
    "papermill": {
     "duration": 0.024201,
     "end_time": "2023-12-22T18:08:53.903095",
     "exception": false,
     "start_time": "2023-12-22T18:08:53.878894",
     "status": "completed"
    },
    "tags": []
   },
   "outputs": [],
   "source": [
    "# Dropping the duplicated values by Name\n",
    "imdb = imdb.drop_duplicates(subset=['Name'], keep=False)"
   ]
  },
  {
   "cell_type": "markdown",
   "id": "3cf59c59",
   "metadata": {
    "papermill": {
     "duration": 0.012484,
     "end_time": "2023-12-22T18:08:53.929203",
     "exception": false,
     "start_time": "2023-12-22T18:08:53.916719",
     "status": "completed"
    },
    "tags": []
   },
   "source": [
    "<div style=\"border-radius:10px; border:#000000 solid; padding: 15px; background-color: ##F0E68C ; font-size:100%; text-align:left\">\n",
    "\n",
    "<h3 align=\"left\"><font color=black>📊 Insights:</font></h3>\n",
    "\n",
    "* **Every column had null values** except name column\n",
    "* We also found that the following columns: **Name, Year, Duration, Genre, and Votes had typos that were corrected later**\n",
    "* The null values in most of the columns were **dropped and for Genre, it was filled with the mode value**\n",
    "* Later, we checked the duplicated values and **dropped them based on Name column**"
   ]
  },
  {
   "cell_type": "markdown",
   "id": "b560e155",
   "metadata": {
    "papermill": {
     "duration": 0.012009,
     "end_time": "2023-12-22T18:08:53.953404",
     "exception": false,
     "start_time": "2023-12-22T18:08:53.941395",
     "status": "completed"
    },
    "tags": []
   },
   "source": [
    "<h3 \n",
    "    align=\"center\" \n",
    "    style=\"font-size: 35px; padding:20px; font-family:Georgia; text-align:center; display:block; border-radius:30px;background-color:#FFDE00\">\n",
    "    <span style=\"color: black;\">📊 Exploratory Data Analysis 📊</span>\n",
    "</h3>"
   ]
  },
  {
   "cell_type": "markdown",
   "id": "f551a31c",
   "metadata": {
    "papermill": {
     "duration": 0.011836,
     "end_time": "2023-12-22T18:08:53.977535",
     "exception": false,
     "start_time": "2023-12-22T18:08:53.965699",
     "status": "completed"
    },
    "tags": []
   },
   "source": [
    "---\n",
    "### Descriptive Analysis\n",
    "---"
   ]
  },
  {
   "cell_type": "code",
   "execution_count": 11,
   "id": "f44e6d79",
   "metadata": {
    "execution": {
     "iopub.execute_input": "2023-12-22T18:08:54.004268Z",
     "iopub.status.busy": "2023-12-22T18:08:54.003936Z",
     "iopub.status.idle": "2023-12-22T18:08:54.029676Z",
     "shell.execute_reply": "2023-12-22T18:08:54.027935Z"
    },
    "papermill": {
     "duration": 0.04294,
     "end_time": "2023-12-22T18:08:54.032776",
     "exception": false,
     "start_time": "2023-12-22T18:08:53.989836",
     "status": "completed"
    },
    "tags": []
   },
   "outputs": [
    {
     "data": {
      "text/html": [
       "<div>\n",
       "<style scoped>\n",
       "    .dataframe tbody tr th:only-of-type {\n",
       "        vertical-align: middle;\n",
       "    }\n",
       "\n",
       "    .dataframe tbody tr th {\n",
       "        vertical-align: top;\n",
       "    }\n",
       "\n",
       "    .dataframe thead th {\n",
       "        text-align: right;\n",
       "    }\n",
       "</style>\n",
       "<table border=\"1\" class=\"dataframe\">\n",
       "  <thead>\n",
       "    <tr style=\"text-align: right;\">\n",
       "      <th></th>\n",
       "      <th>Year</th>\n",
       "      <th>Duration</th>\n",
       "      <th>Rating</th>\n",
       "      <th>Votes</th>\n",
       "    </tr>\n",
       "  </thead>\n",
       "  <tbody>\n",
       "    <tr>\n",
       "      <th>count</th>\n",
       "      <td>1528.000000</td>\n",
       "      <td>1528.000000</td>\n",
       "      <td>1528.000000</td>\n",
       "      <td>1528.000000</td>\n",
       "    </tr>\n",
       "    <tr>\n",
       "      <th>mean</th>\n",
       "      <td>1997.972513</td>\n",
       "      <td>123.823953</td>\n",
       "      <td>5.976243</td>\n",
       "      <td>552.479712</td>\n",
       "    </tr>\n",
       "    <tr>\n",
       "      <th>std</th>\n",
       "      <td>21.181921</td>\n",
       "      <td>25.108144</td>\n",
       "      <td>1.412547</td>\n",
       "      <td>4311.631841</td>\n",
       "    </tr>\n",
       "    <tr>\n",
       "      <th>min</th>\n",
       "      <td>1931.000000</td>\n",
       "      <td>45.000000</td>\n",
       "      <td>1.600000</td>\n",
       "      <td>5.000000</td>\n",
       "    </tr>\n",
       "    <tr>\n",
       "      <th>25%</th>\n",
       "      <td>1985.000000</td>\n",
       "      <td>107.000000</td>\n",
       "      <td>5.100000</td>\n",
       "      <td>14.000000</td>\n",
       "    </tr>\n",
       "    <tr>\n",
       "      <th>50%</th>\n",
       "      <td>2004.000000</td>\n",
       "      <td>126.000000</td>\n",
       "      <td>6.100000</td>\n",
       "      <td>34.000000</td>\n",
       "    </tr>\n",
       "    <tr>\n",
       "      <th>75%</th>\n",
       "      <td>2016.000000</td>\n",
       "      <td>140.000000</td>\n",
       "      <td>7.000000</td>\n",
       "      <td>127.250000</td>\n",
       "    </tr>\n",
       "    <tr>\n",
       "      <th>max</th>\n",
       "      <td>2021.000000</td>\n",
       "      <td>300.000000</td>\n",
       "      <td>9.400000</td>\n",
       "      <td>101014.000000</td>\n",
       "    </tr>\n",
       "  </tbody>\n",
       "</table>\n",
       "</div>"
      ],
      "text/plain": [
       "              Year     Duration       Rating          Votes\n",
       "count  1528.000000  1528.000000  1528.000000    1528.000000\n",
       "mean   1997.972513   123.823953     5.976243     552.479712\n",
       "std      21.181921    25.108144     1.412547    4311.631841\n",
       "min    1931.000000    45.000000     1.600000       5.000000\n",
       "25%    1985.000000   107.000000     5.100000      14.000000\n",
       "50%    2004.000000   126.000000     6.100000      34.000000\n",
       "75%    2016.000000   140.000000     7.000000     127.250000\n",
       "max    2021.000000   300.000000     9.400000  101014.000000"
      ]
     },
     "execution_count": 11,
     "metadata": {},
     "output_type": "execute_result"
    }
   ],
   "source": [
    "imdb.describe()"
   ]
  },
  {
   "cell_type": "code",
   "execution_count": 12,
   "id": "704bee7b",
   "metadata": {
    "execution": {
     "iopub.execute_input": "2023-12-22T18:08:54.061289Z",
     "iopub.status.busy": "2023-12-22T18:08:54.060913Z",
     "iopub.status.idle": "2023-12-22T18:08:54.087178Z",
     "shell.execute_reply": "2023-12-22T18:08:54.085383Z"
    },
    "papermill": {
     "duration": 0.043808,
     "end_time": "2023-12-22T18:08:54.089898",
     "exception": false,
     "start_time": "2023-12-22T18:08:54.046090",
     "status": "completed"
    },
    "tags": []
   },
   "outputs": [
    {
     "data": {
      "text/html": [
       "<div>\n",
       "<style scoped>\n",
       "    .dataframe tbody tr th:only-of-type {\n",
       "        vertical-align: middle;\n",
       "    }\n",
       "\n",
       "    .dataframe tbody tr th {\n",
       "        vertical-align: top;\n",
       "    }\n",
       "\n",
       "    .dataframe thead th {\n",
       "        text-align: right;\n",
       "    }\n",
       "</style>\n",
       "<table border=\"1\" class=\"dataframe\">\n",
       "  <thead>\n",
       "    <tr style=\"text-align: right;\">\n",
       "      <th></th>\n",
       "      <th>Name</th>\n",
       "      <th>Genre</th>\n",
       "      <th>Director</th>\n",
       "      <th>Actor 1</th>\n",
       "      <th>Actor 2</th>\n",
       "      <th>Actor 3</th>\n",
       "    </tr>\n",
       "  </thead>\n",
       "  <tbody>\n",
       "    <tr>\n",
       "      <th>count</th>\n",
       "      <td>1528</td>\n",
       "      <td>1528</td>\n",
       "      <td>1528</td>\n",
       "      <td>1528</td>\n",
       "      <td>1528</td>\n",
       "      <td>1528</td>\n",
       "    </tr>\n",
       "    <tr>\n",
       "      <th>unique</th>\n",
       "      <td>1528</td>\n",
       "      <td>20</td>\n",
       "      <td>1114</td>\n",
       "      <td>1010</td>\n",
       "      <td>1131</td>\n",
       "      <td>1154</td>\n",
       "    </tr>\n",
       "    <tr>\n",
       "      <th>top</th>\n",
       "      <td>Gadhvi</td>\n",
       "      <td>Drama</td>\n",
       "      <td>Kanti Shah</td>\n",
       "      <td>Mithun Chakraborty</td>\n",
       "      <td>Mithun Chakraborty</td>\n",
       "      <td>Pran</td>\n",
       "    </tr>\n",
       "    <tr>\n",
       "      <th>freq</th>\n",
       "      <td>1</td>\n",
       "      <td>789</td>\n",
       "      <td>13</td>\n",
       "      <td>22</td>\n",
       "      <td>12</td>\n",
       "      <td>16</td>\n",
       "    </tr>\n",
       "  </tbody>\n",
       "</table>\n",
       "</div>"
      ],
      "text/plain": [
       "           Name  Genre    Director             Actor 1             Actor 2  \\\n",
       "count      1528   1528        1528                1528                1528   \n",
       "unique     1528     20        1114                1010                1131   \n",
       "top     Gadhvi   Drama  Kanti Shah  Mithun Chakraborty  Mithun Chakraborty   \n",
       "freq          1    789          13                  22                  12   \n",
       "\n",
       "       Actor 3  \n",
       "count     1528  \n",
       "unique    1154  \n",
       "top       Pran  \n",
       "freq        16  "
      ]
     },
     "execution_count": 12,
     "metadata": {},
     "output_type": "execute_result"
    }
   ],
   "source": [
    "imdb.describe(include = 'O')"
   ]
  },
  {
   "cell_type": "code",
   "execution_count": 13,
   "id": "e1039d59",
   "metadata": {
    "execution": {
     "iopub.execute_input": "2023-12-22T18:08:54.118996Z",
     "iopub.status.busy": "2023-12-22T18:08:54.117765Z",
     "iopub.status.idle": "2023-12-22T18:08:54.129104Z",
     "shell.execute_reply": "2023-12-22T18:08:54.127368Z"
    },
    "papermill": {
     "duration": 0.028615,
     "end_time": "2023-12-22T18:08:54.131730",
     "exception": false,
     "start_time": "2023-12-22T18:08:54.103115",
     "status": "completed"
    },
    "tags": []
   },
   "outputs": [
    {
     "name": "stdout",
     "output_type": "stream",
     "text": [
      "Movie with the highest votes: My Name Is Khan\n",
      "Number of votes for the movie with the highest votes: 101014\n",
      "\n",
      " ==================================================================================================== \n",
      "\n",
      "Movie with the highest votes: Anmol Sitaare\n",
      "Number of votes for the movie with the highest votes: 5\n"
     ]
    }
   ],
   "source": [
    "# Find the row with the highest number of votes\n",
    "max_votes_row = imdb[imdb['Votes'] == imdb['Votes'].max()]\n",
    "\n",
    "# Get the name of the movie with the highest votes\n",
    "movie_highest_votes = max_votes_row['Name'].values[0]\n",
    "\n",
    "# Find the number of votes for the movie with the highest votes\n",
    "votes_highest_votes = max_votes_row['Votes'].values[0]\n",
    "\n",
    "print(\"Movie with the highest votes:\", movie_highest_votes)\n",
    "print(\"Number of votes for the movie with the highest votes:\", votes_highest_votes)\n",
    "print('\\n', '='*100, '\\n')\n",
    "\n",
    "\n",
    "# Find the row with the lowest number of votes\n",
    "min_votes_row = imdb[imdb['Votes'] == imdb['Votes'].min()]\n",
    "\n",
    "# Get the name of the movie with the lowest votes\n",
    "movie_lowest_votes = min_votes_row['Name'].values[0]\n",
    "\n",
    "# Find the number of votes for the movie with the lowest votes\n",
    "votes_lowest_votes = min_votes_row['Votes'].values[0]\n",
    "\n",
    "print(\"Movie with the highest votes:\", movie_lowest_votes)\n",
    "print(\"Number of votes for the movie with the highest votes:\", votes_lowest_votes)"
   ]
  },
  {
   "cell_type": "code",
   "execution_count": 14,
   "id": "589006c3",
   "metadata": {
    "execution": {
     "iopub.execute_input": "2023-12-22T18:08:54.159778Z",
     "iopub.status.busy": "2023-12-22T18:08:54.159433Z",
     "iopub.status.idle": "2023-12-22T18:08:54.171194Z",
     "shell.execute_reply": "2023-12-22T18:08:54.170141Z"
    },
    "papermill": {
     "duration": 0.028382,
     "end_time": "2023-12-22T18:08:54.173337",
     "exception": false,
     "start_time": "2023-12-22T18:08:54.144955",
     "status": "completed"
    },
    "tags": []
   },
   "outputs": [
    {
     "name": "stdout",
     "output_type": "stream",
     "text": [
      "Movie with the highest rating: June\n",
      "Number of votes for the movie with the highest rating: 18\n",
      "\n",
      " ==================================================================================================== \n",
      "\n",
      "Movie with the highest rating: Mumbai Can Dance Saalaa\n",
      "Number of votes for the movie with the highest rating: 43\n"
     ]
    }
   ],
   "source": [
    "# Find the row with the highest rating\n",
    "max_rating_row = imdb[imdb['Rating'] == imdb['Rating'].max()]\n",
    "movie_highest_rating = max_rating_row['Name'].values[0]\n",
    "votes_highest_rating = max_rating_row['Votes'].values[0]\n",
    "\n",
    "print(\"Movie with the highest rating:\", movie_highest_rating)\n",
    "print(\"Number of votes for the movie with the highest rating:\", votes_highest_rating)\n",
    "print('\\n', '='*100, '\\n')\n",
    "\n",
    "\n",
    "# Find the row with the lowest rating\n",
    "min_rating_row = imdb[imdb['Rating'] == imdb['Rating'].min()]\n",
    "movie_lowest_rating = min_rating_row['Name'].values[0]\n",
    "votes_lowest_rating = min_rating_row['Votes'].values[0]\n",
    "\n",
    "print(\"Movie with the highest rating:\", movie_lowest_rating)\n",
    "print(\"Number of votes for the movie with the highest rating:\", votes_lowest_rating)"
   ]
  },
  {
   "cell_type": "code",
   "execution_count": 15,
   "id": "62c0b1c6",
   "metadata": {
    "execution": {
     "iopub.execute_input": "2023-12-22T18:08:54.202459Z",
     "iopub.status.busy": "2023-12-22T18:08:54.202060Z",
     "iopub.status.idle": "2023-12-22T18:08:54.213521Z",
     "shell.execute_reply": "2023-12-22T18:08:54.211603Z"
    },
    "papermill": {
     "duration": 0.028838,
     "end_time": "2023-12-22T18:08:54.215827",
     "exception": false,
     "start_time": "2023-12-22T18:08:54.186989",
     "status": "completed"
    },
    "tags": []
   },
   "outputs": [
    {
     "name": "stdout",
     "output_type": "stream",
     "text": [
      "Director with the most movies directed: Kanti Shah\n",
      "Number of movies directed by Kanti Shah : 13\n",
      "\n",
      " ==================================================================================================== \n",
      "\n",
      "Director with the most movies directed: Sikandar Khanna\n",
      "Number of movies directed by Kanti Shah : 1\n"
     ]
    }
   ],
   "source": [
    "# Group the dataset by the 'Director' column and count the number of movies each director has directed\n",
    "director_counts = imdb['Director'].value_counts()\n",
    "\n",
    "# Find the director with the highest number of movies directed\n",
    "most_prolific_director = director_counts.idxmax()\n",
    "num_movies_directed = director_counts.max()\n",
    "\n",
    "print(\"Director with the most movies directed:\", most_prolific_director)\n",
    "print(\"Number of movies directed by\", most_prolific_director, \":\", num_movies_directed)\n",
    "print('\\n', '='*100, '\\n')\n",
    "\n",
    "\n",
    "# Group the dataset by the 'Director' column and count the number of movies each director has directed\n",
    "director_counts = imdb['Director'].value_counts()\n",
    "\n",
    "# Find the director with the lowest number of movies directed\n",
    "least_prolific_director = director_counts.idxmin()\n",
    "num_movies_directed = director_counts.min()\n",
    "\n",
    "print(\"Director with the most movies directed:\", least_prolific_director)\n",
    "print(\"Number of movies directed by\", most_prolific_director, \":\", num_movies_directed)"
   ]
  },
  {
   "cell_type": "markdown",
   "id": "73f01bcc",
   "metadata": {
    "papermill": {
     "duration": 0.012713,
     "end_time": "2023-12-22T18:08:54.241624",
     "exception": false,
     "start_time": "2023-12-22T18:08:54.228911",
     "status": "completed"
    },
    "tags": []
   },
   "source": [
    "<div style=\"border-radius:10px; border:#000000 solid; padding: 15px; background-color: ##F0E68C ; font-size:100%; text-align:left\">\n",
    "\n",
    "<h3 align=\"left\"><font color=black>📊 Insights:</font></h3>\n",
    "\n",
    "* The analysis revealed that **the first year is 1931 in the dataset and there's a movie that have just 45 min duration**\n",
    "* Furthermore, the **drame genre is quite famous** and first main actor with highest count is **Mithun**\n",
    "* The analysis also reveals about the best performing and worst movies based on votes and ratings as can be seen above\n",
    "* Information about directors who directed most and least of the movies can be seen above"
   ]
  },
  {
   "cell_type": "markdown",
   "id": "26747ee9",
   "metadata": {
    "papermill": {
     "duration": 0.012741,
     "end_time": "2023-12-22T18:08:54.267269",
     "exception": false,
     "start_time": "2023-12-22T18:08:54.254528",
     "status": "completed"
    },
    "tags": []
   },
   "source": [
    "---\n",
    "### Univariate Anaysis\n",
    "---"
   ]
  },
  {
   "cell_type": "code",
   "execution_count": 16,
   "id": "4f55fb8d",
   "metadata": {
    "execution": {
     "iopub.execute_input": "2023-12-22T18:08:54.294990Z",
     "iopub.status.busy": "2023-12-22T18:08:54.294098Z",
     "iopub.status.idle": "2023-12-22T18:08:56.228219Z",
     "shell.execute_reply": "2023-12-22T18:08:56.226791Z"
    },
    "papermill": {
     "duration": 1.950575,
     "end_time": "2023-12-22T18:08:56.230565",
     "exception": false,
     "start_time": "2023-12-22T18:08:54.279990",
     "status": "completed"
    },
    "tags": []
   },
   "outputs": [
    {
     "data": {
      "text/html": [
       "        <script type=\"text/javascript\">\n",
       "        window.PlotlyConfig = {MathJaxConfig: 'local'};\n",
       "        if (window.MathJax && window.MathJax.Hub && window.MathJax.Hub.Config) {window.MathJax.Hub.Config({SVG: {font: \"STIX-Web\"}});}\n",
       "        if (typeof require !== 'undefined') {\n",
       "        require.undef(\"plotly\");\n",
       "        requirejs.config({\n",
       "            paths: {\n",
       "                'plotly': ['https://cdn.plot.ly/plotly-2.24.1.min']\n",
       "            }\n",
       "        });\n",
       "        require(['plotly'], function(Plotly) {\n",
       "            window._Plotly = Plotly;\n",
       "        });\n",
       "        }\n",
       "        </script>\n",
       "        "
      ]
     },
     "metadata": {},
     "output_type": "display_data"
    },
    {
     "data": {
      "text/html": [
       "<div>                            <div id=\"346c13d8-eeb5-4e3d-acca-07f1fe3a8f1b\" class=\"plotly-graph-div\" style=\"height:525px; width:100%;\"></div>            <script type=\"text/javascript\">                require([\"plotly\"], function(Plotly) {                    window.PLOTLYENV=window.PLOTLYENV || {};                                    if (document.getElementById(\"346c13d8-eeb5-4e3d-acca-07f1fe3a8f1b\")) {                    Plotly.newPlot(                        \"346c13d8-eeb5-4e3d-acca-07f1fe3a8f1b\",                        [{\"alignmentgroup\":\"True\",\"bingroup\":\"x\",\"histnorm\":\"probability density\",\"hovertemplate\":\"Year=%{x}\\u003cbr\\u003eprobability density=%{y}\\u003cextra\\u003e\\u003c\\u002fextra\\u003e\",\"legendgroup\":\"\",\"marker\":{\"color\":\"#235E72\",\"pattern\":{\"shape\":\"\"}},\"name\":\"\",\"nbinsx\":30,\"offsetgroup\":\"\",\"orientation\":\"v\",\"showlegend\":false,\"x\":[2019,2004,2016,2005,1993,2004,2019,2017,2017,2019,1974,2019,2018,2019,1985,2019,2012,2014,2007,1988,2006,2017,2016,2017,2013,2013,2016,2019,2018,2017,2016,2004,2018,1977,2019,1982,1991,2009,2016,1994,1987,1993,1989,2001,1987,2003,1990,1993,1966,1997,2012,2007,1984,2003,1985,2019,1994,1985,1997,1974,2010,1977,1968,2014,1965,1993,1997,1956,1984,1957,2012,1995,1984,2007,1955,1983,2019,1978,1997,1997,1997,2000,1995,2015,2017,2017,1965,2014,1995,1999,2019,1973,2019,2019,2017,1953,2020,1997,2015,2016,1936,1961,1990,2013,1990,1986,2005,2017,1999,1969,2005,1997,1974,1982,2016,1971,1989,1982,1972,2006,1991,2021,1994,1972,1993,1960,1974,1957,1994,1978,2017,2010,2018,1986,2000,2020,2018,2020,2007,2020,2010,1993,2007,1988,1998,2010,1978,1983,1990,2020,2016,1982,1991,2001,1940,2017,2001,2017,2019,2015,2018,1986,2017,2003,1989,1987,1986,2014,1998,2019,1971,2013,1989,2019,1990,1951,1968,2019,1941,1985,1964,2021,1976,2015,2017,1956,2019,2012,2017,1968,2014,2020,1962,1992,2021,1950,1959,2019,2018,2000,2014,2013,2017,2005,1969,1992,2017,1960,2018,2013,2001,1970,1994,1997,1956,2001,2017,2017,2017,2017,2017,1998,1988,2003,1982,1935,2016,2018,1999,1999,2014,2018,2016,1977,1937,2012,2000,2018,1980,2013,2001,2017,1966,1954,2019,2012,1966,2005,2020,2009,1963,2016,2016,2014,2011,2013,2002,2021,1965,2018,2001,2011,2007,2018,2014,2012,2015,2013,2015,2017,1986,2015,2012,2001,1977,1985,2016,2004,1981,2012,2014,2015,2003,2016,2012,2003,1959,2006,2005,1969,1999,1967,1975,1934,1948,1935,1984,2002,1980,1975,2015,1983,2017,2014,2018,2015,2005,1992,2019,2013,2016,1996,1959,2019,2016,2015,2006,2016,2019,2020,2000,2015,1980,2003,2020,1974,1997,2015,2013,2015,2006,1986,2020,2006,2014,2020,2000,1992,1953,2012,2019,2017,1998,1950,2000,1978,1985,1998,2020,1982,2005,1988,2019,2019,1997,2003,2006,2001,2001,1975,2017,2016,2018,1987,2007,2014,2018,2009,2012,2002,1980,2014,1958,2005,2019,2019,2018,1980,2016,2015,1961,2020,2010,1959,2003,1935,1975,1981,2012,1991,1968,2017,2000,2016,1987,1953,1980,2015,1976,1953,2015,1972,1935,1998,1971,1977,1988,2014,1940,2017,1971,1964,2006,2019,2005,2018,2015,1999,2013,1931,2013,1990,2003,1943,2015,1998,1937,2002,2002,2007,1996,1971,2014,2018,1972,2000,2003,1983,1980,2020,1986,2002,1985,1985,2003,1989,1957,1991,2017,1993,1986,1970,1986,1963,2000,2015,1949,2009,1956,2018,2014,2019,1947,2018,2017,1989,2021,2005,2012,2019,2021,2010,1991,2014,2016,2007,2007,1959,2012,2018,2007,2017,2005,2012,2017,2007,2006,2004,2009,1978,2017,2018,2016,2016,1980,1983,1937,2018,2005,1955,1974,2011,2014,2016,1989,1992,1993,1986,1985,1984,1990,1989,1967,1998,2020,2007,1984,2004,2000,2016,2019,1963,1983,2019,1948,2017,2012,2015,1997,2017,2012,1970,1988,1995,1995,2020,1969,1962,2011,2002,2020,1998,2014,2016,2015,1956,1978,1985,2018,1984,2005,1974,2018,1991,1950,2018,1982,2018,1993,1967,1998,1991,2020,2004,1968,1998,2003,1982,2018,2021,1964,2012,2018,2018,2002,1977,2020,2017,2013,2006,2017,2019,1991,2009,1999,2019,1946,2014,1951,1983,1988,2005,1971,2003,2007,1983,2006,2019,2010,2019,2015,2005,2013,2020,2017,2007,1974,2012,1996,1958,1935,1987,2012,2018,1973,2019,2013,2016,2004,1994,2015,2015,2010,2012,2017,1969,1987,1975,1985,1990,1992,2018,1971,2016,2019,1978,1999,2019,1951,1990,1995,2009,2013,1980,1977,2016,1936,2018,2017,1968,1987,1989,1959,1980,2017,1991,1979,1981,1984,1983,1991,1935,1936,2019,2012,2019,1985,2017,2014,1969,2006,2017,1999,1971,2019,1968,2016,2019,2021,1968,1998,2017,2019,2019,1981,2002,2015,1959,2017,2000,2004,1975,2020,1990,2018,2021,1961,1981,2019,2017,1990,1989,1963,1999,2013,1959,1992,2002,2018,1948,1997,2001,1984,1989,1997,2019,2000,2019,1994,2014,2018,1985,2019,1991,2018,2006,2004,2016,1984,2018,2004,2017,1984,1980,2007,2018,1981,1996,1999,1989,1991,1999,1958,2015,1983,1987,1992,2005,1997,2020,2017,1937,1943,2004,1978,1977,1989,1991,2021,1978,2020,1972,2001,2018,2017,1993,1997,2011,2011,2018,2007,2018,2018,2006,1987,1985,2007,2010,2018,2016,2012,2011,1966,2014,1953,2013,2013,1991,1966,1978,1971,1960,2012,2016,2018,2018,2010,1993,2012,2004,1988,2010,2017,2018,2019,2013,2019,2014,2019,2012,2016,1997,2015,2009,2006,2016,1959,2018,2018,2008,2009,2015,2014,2017,2012,2019,1970,1986,1964,2018,1984,2018,2017,2014,2021,2006,2004,1996,1979,1987,2016,2007,2015,1959,1989,1986,2015,2021,1999,2017,1988,1987,2017,1991,1967,2021,2006,1994,2004,1999,1954,1974,2014,2019,2017,2002,2015,2017,1986,2001,2017,2016,2003,2018,1998,2003,2002,1972,1932,2005,1975,1976,2018,2020,1942,1992,2018,1982,1998,1967,2018,2010,1971,1973,1992,1986,1989,2020,1985,1988,1984,2000,1971,1988,1998,2012,2018,1944,2003,2018,2001,2012,2020,2011,2004,2017,1957,1936,1957,1935,1989,2016,2016,2004,2002,2018,2016,1998,1984,2014,2009,2019,2015,2021,2009,2021,2004,2017,1977,2018,2003,1992,1988,2018,1988,2015,2016,2008,2008,2005,2012,2014,1942,2019,2017,2017,2015,2018,2016,2007,2017,2010,1970,2010,2012,2011,1992,1976,1991,1977,1989,1971,1968,2021,1943,1973,2018,2014,1955,2017,1963,1940,1992,2015,1962,1951,1947,1999,2005,1956,1990,2003,2021,1946,1957,2003,1990,2014,2015,1974,2019,1938,2019,2011,2007,1965,2018,1990,1999,2012,2008,2002,2019,2017,2006,1995,1988,2015,2004,2018,2013,1977,2015,2012,2001,1990,1988,2013,1984,1985,1973,1985,2005,1941,2020,2018,1956,1984,2018,2018,2008,2008,2010,1996,2000,2015,1995,2015,1972,2020,1989,1985,1984,2017,1985,2014,2004,2013,2003,1970,1961,1980,2008,2019,1985,2017,1974,2004,2018,2008,1945,1993,2013,2019,1966,2003,1972,2016,2017,2017,2014,2018,1992,1993,1981,2017,1973,2017,2004,2006,1991,1981,1994,1981,1997,1943,1997,1994,1994,2016,2018,1933,1989,1972,1973,2019,2014,2003,1969,1992,1990,1991,1984,2012,2001,2001,2019,1976,1992,1983,2018,1954,1990,2014,2017,1969,1953,1978,2001,1959,2018,1952,1969,1992,1936,2012,1994,2019,1977,2017,1977,2019,2017,2020,1984,1985,1985,1944,2015,2015,2017,1983,2019,2019,2004,2017,2018,2021,2020,2006,2005,2019,2019,2002,1988,2018,2005,2001,1988,1979,2019,1972,2014,2021,2003,2019,1988,1991,2015,2016,1993,1997,2015,1965,1985,1994,2008,1984,2015,2016,1982,1992,2015,2020,2017,1976,2003,2006,1958,1951,1988,1981,1986,2017,2017,1997,1980,1970,1998,2017,1979,2005,1996,1937,1975,1968,1969,2018,1936,1996,2017,1960,2005,1986,1980,2013,1969,1995,2001,1999,1996,1986,2012,1958,2020,2019,2019,2012,1955,1996,2019,2017,1972,2019,2005,2018,2015,2006,1949,2006,1990,1947,2015,1976,1976,1984,2019,1982,1950,1986,2011,1964,1947,2017,1999,1953,2005,2012,2012,2018,2006,1988,1972,2016,2016,2013,2017,2020,2020,2014,2019,1990,2013,2004,2015,2005,2007,2008,2006,2016,2012,2014,1979,1964,2020,1988,2013,1982,2014,1938,2014,1954,2005,1986,1983,1949,2009,2005,2016,1976,2014,2008,2020,1987,2004,2003,1990,1986,2018,1999,2003,1990,2019,1958,1998,1986,2021,2000,2019,2013,1984,1995,2019,1970,1966,2017,1968,1938,2016,2003,1985,2019,2001,2015,1989,2010,1978,1984,2014,1982,1982,2018,2011,2020,2016,2005,1989,2013,1976,1941,2018,2014,2013,2017,2009,2017,2008,2015,2013,2007,2020,2017,2017,2020,2017,2010,2017,2018,2020,2019,2016,1995,1980,2016,2015,2009,2020,2020,2000,2014,2014,2020,2015,2017,2017,2015,2013,2009,1992,1980,1983,2018,2015,1969,2016,2014,2017,2005,2019,1977,2018,1937,1978,2016,2019,2007,1985,1991,1988,1994,2020,2003,2008,2011,1978,2017,2012,2013,1992,2017,2011,2017,2018,2019,1975,1982,2015,1980,2017,2019,1971,2019,1970,1989,2015,2009,1946,2000,2021,1975,2001,2009,2018,1993,1975,2011,2006,1990,1986,2005,2009,1982,2020,2017,2021,1992,1996,1988,2016,2013,2017,2005,2006,2017,2020,2009,2019,2006,2018,2017,2004,2012,2020,1983,1974,2004,1989,2021,2020,2003,1984,2015,1977,1985,2015,2020,2014,1996,2015,2006,2011,2020,2003,2001,2012,1980,2018,1992,2019,2005,2018,2016,1998,1993,1943,2013,1972,2014,1960,1986,1986,1965,2013,2012,2019,2000,2018,2015],\"xaxis\":\"x\",\"yaxis\":\"y\",\"type\":\"histogram\"}],                        {\"template\":{\"data\":{\"histogram2dcontour\":[{\"type\":\"histogram2dcontour\",\"colorbar\":{\"outlinewidth\":0,\"ticks\":\"\"},\"colorscale\":[[0.0,\"#0d0887\"],[0.1111111111111111,\"#46039f\"],[0.2222222222222222,\"#7201a8\"],[0.3333333333333333,\"#9c179e\"],[0.4444444444444444,\"#bd3786\"],[0.5555555555555556,\"#d8576b\"],[0.6666666666666666,\"#ed7953\"],[0.7777777777777778,\"#fb9f3a\"],[0.8888888888888888,\"#fdca26\"],[1.0,\"#f0f921\"]]}],\"choropleth\":[{\"type\":\"choropleth\",\"colorbar\":{\"outlinewidth\":0,\"ticks\":\"\"}}],\"histogram2d\":[{\"type\":\"histogram2d\",\"colorbar\":{\"outlinewidth\":0,\"ticks\":\"\"},\"colorscale\":[[0.0,\"#0d0887\"],[0.1111111111111111,\"#46039f\"],[0.2222222222222222,\"#7201a8\"],[0.3333333333333333,\"#9c179e\"],[0.4444444444444444,\"#bd3786\"],[0.5555555555555556,\"#d8576b\"],[0.6666666666666666,\"#ed7953\"],[0.7777777777777778,\"#fb9f3a\"],[0.8888888888888888,\"#fdca26\"],[1.0,\"#f0f921\"]]}],\"heatmap\":[{\"type\":\"heatmap\",\"colorbar\":{\"outlinewidth\":0,\"ticks\":\"\"},\"colorscale\":[[0.0,\"#0d0887\"],[0.1111111111111111,\"#46039f\"],[0.2222222222222222,\"#7201a8\"],[0.3333333333333333,\"#9c179e\"],[0.4444444444444444,\"#bd3786\"],[0.5555555555555556,\"#d8576b\"],[0.6666666666666666,\"#ed7953\"],[0.7777777777777778,\"#fb9f3a\"],[0.8888888888888888,\"#fdca26\"],[1.0,\"#f0f921\"]]}],\"heatmapgl\":[{\"type\":\"heatmapgl\",\"colorbar\":{\"outlinewidth\":0,\"ticks\":\"\"},\"colorscale\":[[0.0,\"#0d0887\"],[0.1111111111111111,\"#46039f\"],[0.2222222222222222,\"#7201a8\"],[0.3333333333333333,\"#9c179e\"],[0.4444444444444444,\"#bd3786\"],[0.5555555555555556,\"#d8576b\"],[0.6666666666666666,\"#ed7953\"],[0.7777777777777778,\"#fb9f3a\"],[0.8888888888888888,\"#fdca26\"],[1.0,\"#f0f921\"]]}],\"contourcarpet\":[{\"type\":\"contourcarpet\",\"colorbar\":{\"outlinewidth\":0,\"ticks\":\"\"}}],\"contour\":[{\"type\":\"contour\",\"colorbar\":{\"outlinewidth\":0,\"ticks\":\"\"},\"colorscale\":[[0.0,\"#0d0887\"],[0.1111111111111111,\"#46039f\"],[0.2222222222222222,\"#7201a8\"],[0.3333333333333333,\"#9c179e\"],[0.4444444444444444,\"#bd3786\"],[0.5555555555555556,\"#d8576b\"],[0.6666666666666666,\"#ed7953\"],[0.7777777777777778,\"#fb9f3a\"],[0.8888888888888888,\"#fdca26\"],[1.0,\"#f0f921\"]]}],\"surface\":[{\"type\":\"surface\",\"colorbar\":{\"outlinewidth\":0,\"ticks\":\"\"},\"colorscale\":[[0.0,\"#0d0887\"],[0.1111111111111111,\"#46039f\"],[0.2222222222222222,\"#7201a8\"],[0.3333333333333333,\"#9c179e\"],[0.4444444444444444,\"#bd3786\"],[0.5555555555555556,\"#d8576b\"],[0.6666666666666666,\"#ed7953\"],[0.7777777777777778,\"#fb9f3a\"],[0.8888888888888888,\"#fdca26\"],[1.0,\"#f0f921\"]]}],\"mesh3d\":[{\"type\":\"mesh3d\",\"colorbar\":{\"outlinewidth\":0,\"ticks\":\"\"}}],\"scatter\":[{\"fillpattern\":{\"fillmode\":\"overlay\",\"size\":10,\"solidity\":0.2},\"type\":\"scatter\"}],\"parcoords\":[{\"type\":\"parcoords\",\"line\":{\"colorbar\":{\"outlinewidth\":0,\"ticks\":\"\"}}}],\"scatterpolargl\":[{\"type\":\"scatterpolargl\",\"marker\":{\"colorbar\":{\"outlinewidth\":0,\"ticks\":\"\"}}}],\"bar\":[{\"error_x\":{\"color\":\"#2a3f5f\"},\"error_y\":{\"color\":\"#2a3f5f\"},\"marker\":{\"line\":{\"color\":\"#E5ECF6\",\"width\":0.5},\"pattern\":{\"fillmode\":\"overlay\",\"size\":10,\"solidity\":0.2}},\"type\":\"bar\"}],\"scattergeo\":[{\"type\":\"scattergeo\",\"marker\":{\"colorbar\":{\"outlinewidth\":0,\"ticks\":\"\"}}}],\"scatterpolar\":[{\"type\":\"scatterpolar\",\"marker\":{\"colorbar\":{\"outlinewidth\":0,\"ticks\":\"\"}}}],\"histogram\":[{\"marker\":{\"pattern\":{\"fillmode\":\"overlay\",\"size\":10,\"solidity\":0.2}},\"type\":\"histogram\"}],\"scattergl\":[{\"type\":\"scattergl\",\"marker\":{\"colorbar\":{\"outlinewidth\":0,\"ticks\":\"\"}}}],\"scatter3d\":[{\"type\":\"scatter3d\",\"line\":{\"colorbar\":{\"outlinewidth\":0,\"ticks\":\"\"}},\"marker\":{\"colorbar\":{\"outlinewidth\":0,\"ticks\":\"\"}}}],\"scattermapbox\":[{\"type\":\"scattermapbox\",\"marker\":{\"colorbar\":{\"outlinewidth\":0,\"ticks\":\"\"}}}],\"scatterternary\":[{\"type\":\"scatterternary\",\"marker\":{\"colorbar\":{\"outlinewidth\":0,\"ticks\":\"\"}}}],\"scattercarpet\":[{\"type\":\"scattercarpet\",\"marker\":{\"colorbar\":{\"outlinewidth\":0,\"ticks\":\"\"}}}],\"carpet\":[{\"aaxis\":{\"endlinecolor\":\"#2a3f5f\",\"gridcolor\":\"white\",\"linecolor\":\"white\",\"minorgridcolor\":\"white\",\"startlinecolor\":\"#2a3f5f\"},\"baxis\":{\"endlinecolor\":\"#2a3f5f\",\"gridcolor\":\"white\",\"linecolor\":\"white\",\"minorgridcolor\":\"white\",\"startlinecolor\":\"#2a3f5f\"},\"type\":\"carpet\"}],\"table\":[{\"cells\":{\"fill\":{\"color\":\"#EBF0F8\"},\"line\":{\"color\":\"white\"}},\"header\":{\"fill\":{\"color\":\"#C8D4E3\"},\"line\":{\"color\":\"white\"}},\"type\":\"table\"}],\"barpolar\":[{\"marker\":{\"line\":{\"color\":\"#E5ECF6\",\"width\":0.5},\"pattern\":{\"fillmode\":\"overlay\",\"size\":10,\"solidity\":0.2}},\"type\":\"barpolar\"}],\"pie\":[{\"automargin\":true,\"type\":\"pie\"}]},\"layout\":{\"autotypenumbers\":\"strict\",\"colorway\":[\"#636efa\",\"#EF553B\",\"#00cc96\",\"#ab63fa\",\"#FFA15A\",\"#19d3f3\",\"#FF6692\",\"#B6E880\",\"#FF97FF\",\"#FECB52\"],\"font\":{\"color\":\"#2a3f5f\"},\"hovermode\":\"closest\",\"hoverlabel\":{\"align\":\"left\"},\"paper_bgcolor\":\"white\",\"plot_bgcolor\":\"#E5ECF6\",\"polar\":{\"bgcolor\":\"#E5ECF6\",\"angularaxis\":{\"gridcolor\":\"white\",\"linecolor\":\"white\",\"ticks\":\"\"},\"radialaxis\":{\"gridcolor\":\"white\",\"linecolor\":\"white\",\"ticks\":\"\"}},\"ternary\":{\"bgcolor\":\"#E5ECF6\",\"aaxis\":{\"gridcolor\":\"white\",\"linecolor\":\"white\",\"ticks\":\"\"},\"baxis\":{\"gridcolor\":\"white\",\"linecolor\":\"white\",\"ticks\":\"\"},\"caxis\":{\"gridcolor\":\"white\",\"linecolor\":\"white\",\"ticks\":\"\"}},\"coloraxis\":{\"colorbar\":{\"outlinewidth\":0,\"ticks\":\"\"}},\"colorscale\":{\"sequential\":[[0.0,\"#0d0887\"],[0.1111111111111111,\"#46039f\"],[0.2222222222222222,\"#7201a8\"],[0.3333333333333333,\"#9c179e\"],[0.4444444444444444,\"#bd3786\"],[0.5555555555555556,\"#d8576b\"],[0.6666666666666666,\"#ed7953\"],[0.7777777777777778,\"#fb9f3a\"],[0.8888888888888888,\"#fdca26\"],[1.0,\"#f0f921\"]],\"sequentialminus\":[[0.0,\"#0d0887\"],[0.1111111111111111,\"#46039f\"],[0.2222222222222222,\"#7201a8\"],[0.3333333333333333,\"#9c179e\"],[0.4444444444444444,\"#bd3786\"],[0.5555555555555556,\"#d8576b\"],[0.6666666666666666,\"#ed7953\"],[0.7777777777777778,\"#fb9f3a\"],[0.8888888888888888,\"#fdca26\"],[1.0,\"#f0f921\"]],\"diverging\":[[0,\"#8e0152\"],[0.1,\"#c51b7d\"],[0.2,\"#de77ae\"],[0.3,\"#f1b6da\"],[0.4,\"#fde0ef\"],[0.5,\"#f7f7f7\"],[0.6,\"#e6f5d0\"],[0.7,\"#b8e186\"],[0.8,\"#7fbc41\"],[0.9,\"#4d9221\"],[1,\"#276419\"]]},\"xaxis\":{\"gridcolor\":\"white\",\"linecolor\":\"white\",\"ticks\":\"\",\"title\":{\"standoff\":15},\"zerolinecolor\":\"white\",\"automargin\":true,\"zerolinewidth\":2},\"yaxis\":{\"gridcolor\":\"white\",\"linecolor\":\"white\",\"ticks\":\"\",\"title\":{\"standoff\":15},\"zerolinecolor\":\"white\",\"automargin\":true,\"zerolinewidth\":2},\"scene\":{\"xaxis\":{\"backgroundcolor\":\"#E5ECF6\",\"gridcolor\":\"white\",\"linecolor\":\"white\",\"showbackground\":true,\"ticks\":\"\",\"zerolinecolor\":\"white\",\"gridwidth\":2},\"yaxis\":{\"backgroundcolor\":\"#E5ECF6\",\"gridcolor\":\"white\",\"linecolor\":\"white\",\"showbackground\":true,\"ticks\":\"\",\"zerolinecolor\":\"white\",\"gridwidth\":2},\"zaxis\":{\"backgroundcolor\":\"#E5ECF6\",\"gridcolor\":\"white\",\"linecolor\":\"white\",\"showbackground\":true,\"ticks\":\"\",\"zerolinecolor\":\"white\",\"gridwidth\":2}},\"shapedefaults\":{\"line\":{\"color\":\"#2a3f5f\"}},\"annotationdefaults\":{\"arrowcolor\":\"#2a3f5f\",\"arrowhead\":0,\"arrowwidth\":1},\"geo\":{\"bgcolor\":\"white\",\"landcolor\":\"#E5ECF6\",\"subunitcolor\":\"white\",\"showland\":true,\"showlakes\":true,\"lakecolor\":\"white\"},\"title\":{\"x\":0.05},\"mapbox\":{\"style\":\"light\"}}},\"xaxis\":{\"anchor\":\"y\",\"domain\":[0.0,1.0],\"title\":{\"text\":\"Year\"},\"showgrid\":false},\"yaxis\":{\"anchor\":\"x\",\"domain\":[0.0,1.0],\"title\":{\"text\":\"Probability Density\"},\"showgrid\":false},\"legend\":{\"tracegroupgap\":0},\"margin\":{\"t\":60},\"barmode\":\"relative\",\"title\":{\"text\":\"Distribution of Year\",\"x\":0.5,\"pad\":{\"t\":20},\"font\":{\"size\":20}},\"bargap\":0.02,\"plot_bgcolor\":\"white\"},                        {\"responsive\": true}                    ).then(function(){\n",
       "                            \n",
       "var gd = document.getElementById('346c13d8-eeb5-4e3d-acca-07f1fe3a8f1b');\n",
       "var x = new MutationObserver(function (mutations, observer) {{\n",
       "        var display = window.getComputedStyle(gd).display;\n",
       "        if (!display || display === 'none') {{\n",
       "            console.log([gd, 'removed!']);\n",
       "            Plotly.purge(gd);\n",
       "            observer.disconnect();\n",
       "        }}\n",
       "}});\n",
       "\n",
       "// Listen for the removal of the full notebook cells\n",
       "var notebookContainer = gd.closest('#notebook-container');\n",
       "if (notebookContainer) {{\n",
       "    x.observe(notebookContainer, {childList: true});\n",
       "}}\n",
       "\n",
       "// Listen for the clearing of the current output cell\n",
       "var outputEl = gd.closest('.output');\n",
       "if (outputEl) {{\n",
       "    x.observe(outputEl, {childList: true});\n",
       "}}\n",
       "\n",
       "                        })                };                });            </script>        </div>"
      ]
     },
     "metadata": {},
     "output_type": "display_data"
    }
   ],
   "source": [
    "fig_year = px.histogram(imdb, x = 'Year', histnorm='probability density', nbins = 30, color_discrete_sequence = colors)\n",
    "fig_year.update_traces(selector=dict(type='histogram'))\n",
    "fig_year.update_layout(title='Distribution of Year', title_x=0.5, title_pad=dict(t=20), title_font=dict(size=20), xaxis_title='Year', yaxis_title='Probability Density', xaxis=dict(showgrid=False), yaxis=dict(showgrid=False), bargap=0.02, plot_bgcolor = 'white')\n",
    "fig_year.show()"
   ]
  },
  {
   "cell_type": "code",
   "execution_count": 17,
   "id": "05dc7cf2",
   "metadata": {
    "execution": {
     "iopub.execute_input": "2023-12-22T18:08:56.261025Z",
     "iopub.status.busy": "2023-12-22T18:08:56.260441Z",
     "iopub.status.idle": "2023-12-22T18:08:56.326977Z",
     "shell.execute_reply": "2023-12-22T18:08:56.325511Z"
    },
    "papermill": {
     "duration": 0.084835,
     "end_time": "2023-12-22T18:08:56.329672",
     "exception": false,
     "start_time": "2023-12-22T18:08:56.244837",
     "status": "completed"
    },
    "tags": []
   },
   "outputs": [
    {
     "data": {
      "text/html": [
       "<div>                            <div id=\"a1b90bda-d885-4d16-84c8-17ff7f0f94ac\" class=\"plotly-graph-div\" style=\"height:525px; width:100%;\"></div>            <script type=\"text/javascript\">                require([\"plotly\"], function(Plotly) {                    window.PLOTLYENV=window.PLOTLYENV || {};                                    if (document.getElementById(\"a1b90bda-d885-4d16-84c8-17ff7f0f94ac\")) {                    Plotly.newPlot(                        \"a1b90bda-d885-4d16-84c8-17ff7f0f94ac\",                        [{\"alignmentgroup\":\"True\",\"bingroup\":\"x\",\"histnorm\":\"probability density\",\"hovertemplate\":\"Duration=%{x}\\u003cbr\\u003eprobability density=%{y}\\u003cextra\\u003e\\u003c\\u002fextra\\u003e\",\"legendgroup\":\"\",\"marker\":{\"color\":\"#235E72\",\"pattern\":{\"shape\":\"\"}},\"name\":\"\",\"nbinsx\":40,\"offsetgroup\":\"\",\"orientation\":\"v\",\"showlegend\":false,\"x\":[109,96,120,116,168,94,107,113,130,126,115,122,100,93,102,145,111,104,92,126,100,124,105,145,127,140,112,104,121,123,120,144,72,132,107,154,142,78,145,133,170,137,151,78,116,46,132,162,153,138,116,152,130,160,144,94,141,125,180,129,120,136,146,132,172,150,132,146,128,133,78,127,132,88,150,122,120,151,142,137,123,140,145,120,115,104,136,58,160,165,136,124,100,109,120,135,97,149,133,137,166,121,153,95,155,135,102,113,169,152,110,151,131,153,142,148,91,134,125,154,160,84,136,125,137,173,122,131,90,118,103,86,97,128,109,102,127,120,300,135,155,152,142,149,119,96,144,150,149,101,131,131,152,102,140,117,79,127,65,138,48,148,120,118,138,146,129,123,119,95,100,103,91,137,145,170,160,120,156,147,133,72,176,68,81,132,133,117,120,176,136,102,145,126,108,148,169,131,161,125,125,125,128,88,135,172,127,160,115,89,113,136,136,172,164,133,83,84,115,120,74,105,113,95,142,143,122,128,85,100,96,93,140,142,141,74,140,138,131,131,115,91,139,145,100,116,126,122,120,114,135,150,125,124,81,127,107,115,136,68,114,116,93,95,119,126,130,120,131,126,150,83,164,165,136,137,134,92,140,120,111,127,150,130,95,108,149,169,120,137,129,166,140,128,207,136,109,136,147,156,102,130,123,88,85,106,136,102,90,130,97,141,155,127,110,116,155,135,90,114,85,107,135,99,108,135,98,113,137,90,92,140,104,142,116,120,140,119,139,130,89,97,145,149,120,110,106,153,145,152,76,146,113,107,128,121,108,125,180,137,75,155,91,100,126,110,98,141,94,130,158,139,114,87,117,79,135,146,148,129,150,117,100,153,126,129,139,152,97,120,137,130,148,110,127,142,120,130,155,131,120,127,153,139,130,145,110,90,144,99,138,135,147,130,104,102,92,92,137,124,120,171,130,120,160,143,166,147,116,110,153,177,125,123,115,71,120,137,147,100,133,122,139,133,95,105,137,100,105,130,138,136,135,132,115,73,164,120,151,97,140,94,133,102,104,139,134,145,117,80,84,87,165,97,84,106,86,160,112,85,109,141,138,180,104,111,127,145,120,119,140,107,128,112,157,145,134,124,102,129,146,90,125,124,111,151,150,105,153,156,155,158,157,138,108,126,103,126,123,120,90,110,140,134,155,64,90,130,139,132,96,110,169,140,125,134,136,152,102,75,118,140,102,120,125,117,128,82,108,108,89,120,136,121,137,109,160,135,149,133,136,129,102,93,170,186,120,133,135,102,142,149,106,102,128,125,47,115,91,118,130,104,112,127,172,143,121,126,144,119,137,134,142,135,149,120,118,125,95,117,102,100,120,98,127,140,131,143,143,121,144,145,82,124,116,155,103,125,148,134,132,108,131,93,127,136,160,140,139,137,127,131,139,94,112,163,173,141,162,90,195,131,126,130,185,110,139,135,139,82,135,120,143,124,173,144,93,132,133,149,120,139,140,104,140,133,136,93,142,154,147,144,161,134,100,155,115,149,93,128,133,78,109,90,144,135,109,148,127,90,73,136,101,138,125,132,95,137,136,95,147,131,120,93,132,127,162,112,70,122,124,130,120,95,88,113,135,103,120,115,99,130,96,121,110,119,127,125,167,119,74,100,106,134,103,92,117,117,87,127,130,97,145,82,91,158,155,155,120,100,84,137,143,119,142,124,143,135,141,137,85,125,140,130,65,180,130,92,105,65,140,104,116,112,150,107,86,121,143,124,136,87,125,106,161,125,113,133,135,123,148,134,147,92,108,92,120,90,113,108,137,125,130,81,85,108,105,103,120,100,90,160,122,107,126,132,157,122,129,91,156,127,117,180,140,124,148,151,152,145,139,116,113,120,130,133,145,128,137,130,106,80,82,167,160,130,127,120,146,45,120,180,178,127,136,106,137,130,90,137,199,112,100,130,94,109,109,80,118,152,96,119,99,130,120,95,115,107,154,99,103,124,96,80,155,152,79,140,153,162,99,104,138,120,155,135,150,162,140,141,129,142,164,140,161,180,108,122,110,90,131,146,98,87,107,130,119,161,148,90,102,133,113,117,104,119,143,126,130,100,112,113,115,93,105,85,95,108,119,114,155,95,142,140,156,135,100,130,134,146,77,128,133,130,132,134,136,95,104,190,87,122,143,165,120,132,182,132,136,127,131,156,126,128,121,146,84,146,130,110,125,150,132,137,128,130,147,104,99,142,118,136,65,122,140,154,165,125,95,133,100,128,95,95,110,138,108,155,123,105,80,118,117,99,92,160,101,122,89,129,126,150,59,114,146,160,153,115,141,130,98,129,162,135,123,145,88,138,100,49,113,131,98,143,143,83,170,116,129,120,125,139,110,120,109,120,83,155,157,152,139,114,140,128,141,134,132,142,118,109,122,117,127,120,138,188,175,130,85,120,107,110,158,155,138,128,120,126,83,150,125,121,125,150,114,121,130,135,138,110,97,159,139,135,137,116,133,106,135,154,161,136,100,145,96,113,85,109,127,118,122,120,149,119,70,120,139,133,151,171,117,146,144,125,138,120,135,128,90,111,130,122,112,104,140,157,141,122,139,98,93,180,162,80,116,124,101,65,89,125,131,88,80,82,80,159,145,105,158,78,123,117,80,95,50,107,139,119,90,100,128,117,107,135,150,153,110,137,83,139,117,130,150,132,54,135,114,109,137,129,120,133,132,120,109,149,128,162,126,129,128,151,165,131,155,168,100,137,157,116,106,118,126,148,114,152,175,132,97,139,144,135,115,185,104,120,47,130,140,150,126,127,134,90,129,140,99,73,138,79,128,76,155,130,115,135,122,127,144,113,115,120,133,110,125,110,162,139,111,67,100,147,170,125,132,95,93,52,90,99,142,123,96,100,105,134,160,135,112,133,97,94,140,80,153,153,114,135,134,135,100,107,105,143,143,143,127,60,110,121,90,66,139,140,189,90,160,151,104,133,154,135,121,182,127,115,155,144,120,110,171,122,104,131,136,101,160,158,120,143,116,153,148,107,127,122,103,120,73,195,155,104,125,142,65,110,149,90,134,144,125,93,121,138,87,119,95,48,92,110,100,89,137,102,100,82,118,98,122,90,140,89,141,96,97,90,115,113,108,110,124,96,91,119,90,87,105,115,140,150,137,121,124,155,130,94,151,88,113,135,124,112,136,87,107,130,137,157,114,120,96,155,134,135,136,72,127,92,145,100,140,90,123,120,137,151,93,125,106,137,122,112,110,153,85,101,98,145,93,136,158,175,135,129,127,144,250,135,148,118,120,151,82,110,150,143,128,150,125,130,79,117,110,108,78,144,92,115,116,112,94,135,93,121,142,150,82,92,97,152,128,108,150,137,151,115,77,132,117,129,106,117,90,108,147,140,133,117,92,132,84,124,125,125,166,115,140,141,136,112,131,134,117,120,120,140,100,115],\"xaxis\":\"x\",\"yaxis\":\"y\",\"type\":\"histogram\"}],                        {\"template\":{\"data\":{\"histogram2dcontour\":[{\"type\":\"histogram2dcontour\",\"colorbar\":{\"outlinewidth\":0,\"ticks\":\"\"},\"colorscale\":[[0.0,\"#0d0887\"],[0.1111111111111111,\"#46039f\"],[0.2222222222222222,\"#7201a8\"],[0.3333333333333333,\"#9c179e\"],[0.4444444444444444,\"#bd3786\"],[0.5555555555555556,\"#d8576b\"],[0.6666666666666666,\"#ed7953\"],[0.7777777777777778,\"#fb9f3a\"],[0.8888888888888888,\"#fdca26\"],[1.0,\"#f0f921\"]]}],\"choropleth\":[{\"type\":\"choropleth\",\"colorbar\":{\"outlinewidth\":0,\"ticks\":\"\"}}],\"histogram2d\":[{\"type\":\"histogram2d\",\"colorbar\":{\"outlinewidth\":0,\"ticks\":\"\"},\"colorscale\":[[0.0,\"#0d0887\"],[0.1111111111111111,\"#46039f\"],[0.2222222222222222,\"#7201a8\"],[0.3333333333333333,\"#9c179e\"],[0.4444444444444444,\"#bd3786\"],[0.5555555555555556,\"#d8576b\"],[0.6666666666666666,\"#ed7953\"],[0.7777777777777778,\"#fb9f3a\"],[0.8888888888888888,\"#fdca26\"],[1.0,\"#f0f921\"]]}],\"heatmap\":[{\"type\":\"heatmap\",\"colorbar\":{\"outlinewidth\":0,\"ticks\":\"\"},\"colorscale\":[[0.0,\"#0d0887\"],[0.1111111111111111,\"#46039f\"],[0.2222222222222222,\"#7201a8\"],[0.3333333333333333,\"#9c179e\"],[0.4444444444444444,\"#bd3786\"],[0.5555555555555556,\"#d8576b\"],[0.6666666666666666,\"#ed7953\"],[0.7777777777777778,\"#fb9f3a\"],[0.8888888888888888,\"#fdca26\"],[1.0,\"#f0f921\"]]}],\"heatmapgl\":[{\"type\":\"heatmapgl\",\"colorbar\":{\"outlinewidth\":0,\"ticks\":\"\"},\"colorscale\":[[0.0,\"#0d0887\"],[0.1111111111111111,\"#46039f\"],[0.2222222222222222,\"#7201a8\"],[0.3333333333333333,\"#9c179e\"],[0.4444444444444444,\"#bd3786\"],[0.5555555555555556,\"#d8576b\"],[0.6666666666666666,\"#ed7953\"],[0.7777777777777778,\"#fb9f3a\"],[0.8888888888888888,\"#fdca26\"],[1.0,\"#f0f921\"]]}],\"contourcarpet\":[{\"type\":\"contourcarpet\",\"colorbar\":{\"outlinewidth\":0,\"ticks\":\"\"}}],\"contour\":[{\"type\":\"contour\",\"colorbar\":{\"outlinewidth\":0,\"ticks\":\"\"},\"colorscale\":[[0.0,\"#0d0887\"],[0.1111111111111111,\"#46039f\"],[0.2222222222222222,\"#7201a8\"],[0.3333333333333333,\"#9c179e\"],[0.4444444444444444,\"#bd3786\"],[0.5555555555555556,\"#d8576b\"],[0.6666666666666666,\"#ed7953\"],[0.7777777777777778,\"#fb9f3a\"],[0.8888888888888888,\"#fdca26\"],[1.0,\"#f0f921\"]]}],\"surface\":[{\"type\":\"surface\",\"colorbar\":{\"outlinewidth\":0,\"ticks\":\"\"},\"colorscale\":[[0.0,\"#0d0887\"],[0.1111111111111111,\"#46039f\"],[0.2222222222222222,\"#7201a8\"],[0.3333333333333333,\"#9c179e\"],[0.4444444444444444,\"#bd3786\"],[0.5555555555555556,\"#d8576b\"],[0.6666666666666666,\"#ed7953\"],[0.7777777777777778,\"#fb9f3a\"],[0.8888888888888888,\"#fdca26\"],[1.0,\"#f0f921\"]]}],\"mesh3d\":[{\"type\":\"mesh3d\",\"colorbar\":{\"outlinewidth\":0,\"ticks\":\"\"}}],\"scatter\":[{\"fillpattern\":{\"fillmode\":\"overlay\",\"size\":10,\"solidity\":0.2},\"type\":\"scatter\"}],\"parcoords\":[{\"type\":\"parcoords\",\"line\":{\"colorbar\":{\"outlinewidth\":0,\"ticks\":\"\"}}}],\"scatterpolargl\":[{\"type\":\"scatterpolargl\",\"marker\":{\"colorbar\":{\"outlinewidth\":0,\"ticks\":\"\"}}}],\"bar\":[{\"error_x\":{\"color\":\"#2a3f5f\"},\"error_y\":{\"color\":\"#2a3f5f\"},\"marker\":{\"line\":{\"color\":\"#E5ECF6\",\"width\":0.5},\"pattern\":{\"fillmode\":\"overlay\",\"size\":10,\"solidity\":0.2}},\"type\":\"bar\"}],\"scattergeo\":[{\"type\":\"scattergeo\",\"marker\":{\"colorbar\":{\"outlinewidth\":0,\"ticks\":\"\"}}}],\"scatterpolar\":[{\"type\":\"scatterpolar\",\"marker\":{\"colorbar\":{\"outlinewidth\":0,\"ticks\":\"\"}}}],\"histogram\":[{\"marker\":{\"pattern\":{\"fillmode\":\"overlay\",\"size\":10,\"solidity\":0.2}},\"type\":\"histogram\"}],\"scattergl\":[{\"type\":\"scattergl\",\"marker\":{\"colorbar\":{\"outlinewidth\":0,\"ticks\":\"\"}}}],\"scatter3d\":[{\"type\":\"scatter3d\",\"line\":{\"colorbar\":{\"outlinewidth\":0,\"ticks\":\"\"}},\"marker\":{\"colorbar\":{\"outlinewidth\":0,\"ticks\":\"\"}}}],\"scattermapbox\":[{\"type\":\"scattermapbox\",\"marker\":{\"colorbar\":{\"outlinewidth\":0,\"ticks\":\"\"}}}],\"scatterternary\":[{\"type\":\"scatterternary\",\"marker\":{\"colorbar\":{\"outlinewidth\":0,\"ticks\":\"\"}}}],\"scattercarpet\":[{\"type\":\"scattercarpet\",\"marker\":{\"colorbar\":{\"outlinewidth\":0,\"ticks\":\"\"}}}],\"carpet\":[{\"aaxis\":{\"endlinecolor\":\"#2a3f5f\",\"gridcolor\":\"white\",\"linecolor\":\"white\",\"minorgridcolor\":\"white\",\"startlinecolor\":\"#2a3f5f\"},\"baxis\":{\"endlinecolor\":\"#2a3f5f\",\"gridcolor\":\"white\",\"linecolor\":\"white\",\"minorgridcolor\":\"white\",\"startlinecolor\":\"#2a3f5f\"},\"type\":\"carpet\"}],\"table\":[{\"cells\":{\"fill\":{\"color\":\"#EBF0F8\"},\"line\":{\"color\":\"white\"}},\"header\":{\"fill\":{\"color\":\"#C8D4E3\"},\"line\":{\"color\":\"white\"}},\"type\":\"table\"}],\"barpolar\":[{\"marker\":{\"line\":{\"color\":\"#E5ECF6\",\"width\":0.5},\"pattern\":{\"fillmode\":\"overlay\",\"size\":10,\"solidity\":0.2}},\"type\":\"barpolar\"}],\"pie\":[{\"automargin\":true,\"type\":\"pie\"}]},\"layout\":{\"autotypenumbers\":\"strict\",\"colorway\":[\"#636efa\",\"#EF553B\",\"#00cc96\",\"#ab63fa\",\"#FFA15A\",\"#19d3f3\",\"#FF6692\",\"#B6E880\",\"#FF97FF\",\"#FECB52\"],\"font\":{\"color\":\"#2a3f5f\"},\"hovermode\":\"closest\",\"hoverlabel\":{\"align\":\"left\"},\"paper_bgcolor\":\"white\",\"plot_bgcolor\":\"#E5ECF6\",\"polar\":{\"bgcolor\":\"#E5ECF6\",\"angularaxis\":{\"gridcolor\":\"white\",\"linecolor\":\"white\",\"ticks\":\"\"},\"radialaxis\":{\"gridcolor\":\"white\",\"linecolor\":\"white\",\"ticks\":\"\"}},\"ternary\":{\"bgcolor\":\"#E5ECF6\",\"aaxis\":{\"gridcolor\":\"white\",\"linecolor\":\"white\",\"ticks\":\"\"},\"baxis\":{\"gridcolor\":\"white\",\"linecolor\":\"white\",\"ticks\":\"\"},\"caxis\":{\"gridcolor\":\"white\",\"linecolor\":\"white\",\"ticks\":\"\"}},\"coloraxis\":{\"colorbar\":{\"outlinewidth\":0,\"ticks\":\"\"}},\"colorscale\":{\"sequential\":[[0.0,\"#0d0887\"],[0.1111111111111111,\"#46039f\"],[0.2222222222222222,\"#7201a8\"],[0.3333333333333333,\"#9c179e\"],[0.4444444444444444,\"#bd3786\"],[0.5555555555555556,\"#d8576b\"],[0.6666666666666666,\"#ed7953\"],[0.7777777777777778,\"#fb9f3a\"],[0.8888888888888888,\"#fdca26\"],[1.0,\"#f0f921\"]],\"sequentialminus\":[[0.0,\"#0d0887\"],[0.1111111111111111,\"#46039f\"],[0.2222222222222222,\"#7201a8\"],[0.3333333333333333,\"#9c179e\"],[0.4444444444444444,\"#bd3786\"],[0.5555555555555556,\"#d8576b\"],[0.6666666666666666,\"#ed7953\"],[0.7777777777777778,\"#fb9f3a\"],[0.8888888888888888,\"#fdca26\"],[1.0,\"#f0f921\"]],\"diverging\":[[0,\"#8e0152\"],[0.1,\"#c51b7d\"],[0.2,\"#de77ae\"],[0.3,\"#f1b6da\"],[0.4,\"#fde0ef\"],[0.5,\"#f7f7f7\"],[0.6,\"#e6f5d0\"],[0.7,\"#b8e186\"],[0.8,\"#7fbc41\"],[0.9,\"#4d9221\"],[1,\"#276419\"]]},\"xaxis\":{\"gridcolor\":\"white\",\"linecolor\":\"white\",\"ticks\":\"\",\"title\":{\"standoff\":15},\"zerolinecolor\":\"white\",\"automargin\":true,\"zerolinewidth\":2},\"yaxis\":{\"gridcolor\":\"white\",\"linecolor\":\"white\",\"ticks\":\"\",\"title\":{\"standoff\":15},\"zerolinecolor\":\"white\",\"automargin\":true,\"zerolinewidth\":2},\"scene\":{\"xaxis\":{\"backgroundcolor\":\"#E5ECF6\",\"gridcolor\":\"white\",\"linecolor\":\"white\",\"showbackground\":true,\"ticks\":\"\",\"zerolinecolor\":\"white\",\"gridwidth\":2},\"yaxis\":{\"backgroundcolor\":\"#E5ECF6\",\"gridcolor\":\"white\",\"linecolor\":\"white\",\"showbackground\":true,\"ticks\":\"\",\"zerolinecolor\":\"white\",\"gridwidth\":2},\"zaxis\":{\"backgroundcolor\":\"#E5ECF6\",\"gridcolor\":\"white\",\"linecolor\":\"white\",\"showbackground\":true,\"ticks\":\"\",\"zerolinecolor\":\"white\",\"gridwidth\":2}},\"shapedefaults\":{\"line\":{\"color\":\"#2a3f5f\"}},\"annotationdefaults\":{\"arrowcolor\":\"#2a3f5f\",\"arrowhead\":0,\"arrowwidth\":1},\"geo\":{\"bgcolor\":\"white\",\"landcolor\":\"#E5ECF6\",\"subunitcolor\":\"white\",\"showland\":true,\"showlakes\":true,\"lakecolor\":\"white\"},\"title\":{\"x\":0.05},\"mapbox\":{\"style\":\"light\"}}},\"xaxis\":{\"anchor\":\"y\",\"domain\":[0.0,1.0],\"title\":{\"text\":\"Duration\"},\"showgrid\":false},\"yaxis\":{\"anchor\":\"x\",\"domain\":[0.0,1.0],\"title\":{\"text\":\"Probability Density\"},\"showgrid\":false},\"legend\":{\"tracegroupgap\":0},\"margin\":{\"t\":60},\"barmode\":\"relative\",\"title\":{\"text\":\"Distribution of Duration\",\"x\":0.5,\"pad\":{\"t\":20},\"font\":{\"size\":20}},\"bargap\":0.02,\"plot_bgcolor\":\"white\"},                        {\"responsive\": true}                    ).then(function(){\n",
       "                            \n",
       "var gd = document.getElementById('a1b90bda-d885-4d16-84c8-17ff7f0f94ac');\n",
       "var x = new MutationObserver(function (mutations, observer) {{\n",
       "        var display = window.getComputedStyle(gd).display;\n",
       "        if (!display || display === 'none') {{\n",
       "            console.log([gd, 'removed!']);\n",
       "            Plotly.purge(gd);\n",
       "            observer.disconnect();\n",
       "        }}\n",
       "}});\n",
       "\n",
       "// Listen for the removal of the full notebook cells\n",
       "var notebookContainer = gd.closest('#notebook-container');\n",
       "if (notebookContainer) {{\n",
       "    x.observe(notebookContainer, {childList: true});\n",
       "}}\n",
       "\n",
       "// Listen for the clearing of the current output cell\n",
       "var outputEl = gd.closest('.output');\n",
       "if (outputEl) {{\n",
       "    x.observe(outputEl, {childList: true});\n",
       "}}\n",
       "\n",
       "                        })                };                });            </script>        </div>"
      ]
     },
     "metadata": {},
     "output_type": "display_data"
    }
   ],
   "source": [
    "fig_duration = px.histogram(imdb, x = 'Duration', histnorm='probability density', nbins = 40, color_discrete_sequence = colors)\n",
    "fig_duration.update_traces(selector=dict(type='histogram'))\n",
    "fig_duration.update_layout(title='Distribution of Duration', title_x=0.5, title_pad=dict(t=20), title_font=dict(size=20), xaxis_title='Duration', yaxis_title='Probability Density', xaxis=dict(showgrid=False), yaxis=dict(showgrid=False), bargap=0.02, plot_bgcolor = 'white')\n",
    "fig_duration.show()"
   ]
  },
  {
   "cell_type": "code",
   "execution_count": 18,
   "id": "78bc0c49",
   "metadata": {
    "execution": {
     "iopub.execute_input": "2023-12-22T18:08:56.358832Z",
     "iopub.status.busy": "2023-12-22T18:08:56.358403Z",
     "iopub.status.idle": "2023-12-22T18:08:56.421021Z",
     "shell.execute_reply": "2023-12-22T18:08:56.419562Z"
    },
    "papermill": {
     "duration": 0.080383,
     "end_time": "2023-12-22T18:08:56.423643",
     "exception": false,
     "start_time": "2023-12-22T18:08:56.343260",
     "status": "completed"
    },
    "tags": []
   },
   "outputs": [
    {
     "data": {
      "text/html": [
       "<div>                            <div id=\"03174715-17bd-495d-8764-7cf9131e488f\" class=\"plotly-graph-div\" style=\"height:525px; width:100%;\"></div>            <script type=\"text/javascript\">                require([\"plotly\"], function(Plotly) {                    window.PLOTLYENV=window.PLOTLYENV || {};                                    if (document.getElementById(\"03174715-17bd-495d-8764-7cf9131e488f\")) {                    Plotly.newPlot(                        \"03174715-17bd-495d-8764-7cf9131e488f\",                        [{\"alignmentgroup\":\"True\",\"bingroup\":\"x\",\"histnorm\":\"probability density\",\"hovertemplate\":\"Rating=%{x}\\u003cbr\\u003eprobability density=%{y}\\u003cextra\\u003e\\u003c\\u002fextra\\u003e\",\"legendgroup\":\"\",\"marker\":{\"color\":\"#235E72\",\"pattern\":{\"shape\":\"\"}},\"name\":\"\",\"nbinsx\":40,\"offsetgroup\":\"\",\"orientation\":\"v\",\"showlegend\":false,\"x\":[7.0,6.2,5.9,7.1,5.6,4.5,4.0,5.5,6.1,6.1,6.9,6.9,6.9,5.6,5.6,6.3,5.7,4.2,6.2,5.0,6.2,5.3,8.1,6.3,7.3,6.0,3.1,7.9,8.0,2.7,6.8,2.4,7.4,5.1,7.6,6.4,6.7,7.6,4.2,4.1,5.3,4.8,5.0,3.1,5.5,3.1,3.3,4.4,6.9,2.8,5.4,3.0,6.4,5.6,6.1,6.6,4.2,6.1,6.1,6.7,7.1,5.5,7.3,6.1,5.5,4.5,6.4,5.1,6.6,7.6,4.0,7.0,5.8,4.7,5.0,5.5,6.6,4.7,3.1,7.8,3.6,4.6,5.9,6.6,5.8,6.9,6.6,5.5,7.0,5.6,6.9,6.8,5.5,5.9,6.5,6.3,7.9,4.3,3.7,6.6,6.1,6.5,4.2,4.4,4.9,6.2,7.3,5.9,5.0,5.6,3.9,5.5,8.0,7.0,4.9,7.1,6.3,7.4,6.3,6.6,5.5,7.1,4.4,6.6,5.7,6.8,7.3,7.5,6.5,6.9,3.7,4.8,9.3,4.3,7.3,7.3,8.8,4.3,5.6,5.9,6.4,3.8,4.2,4.2,4.8,6.4,6.5,7.2,5.9,8.7,3.6,5.1,6.2,7.6,7.1,8.8,6.1,7.3,7.0,6.2,6.1,6.4,8.2,3.3,6.0,6.9,6.7,4.7,2.5,7.1,6.6,5.9,7.7,5.5,4.7,5.7,7.1,8.8,6.0,6.3,6.8,9.3,7.7,4.2,2.3,6.1,7.3,8.1,7.5,5.6,3.6,7.2,6.1,7.9,3.7,6.0,4.9,2.8,6.0,7.0,4.8,5.6,5.6,5.9,5.8,4.9,6.3,5.2,3.6,2.5,4.6,8.7,4.4,3.8,5.8,4.6,6.2,5.5,5.1,6.8,6.8,4.3,3.4,4.9,6.4,6.2,5.9,7.0,4.0,7.1,7.2,7.8,6.7,7.4,7.0,6.4,4.4,6.9,6.0,4.5,3.9,7.6,5.9,6.2,7.1,4.1,6.9,8.2,8.6,6.5,6.5,7.9,6.0,4.8,6.1,6.7,2.9,6.4,7.5,6.9,7.6,7.3,2.6,6.8,7.8,6.0,4.8,4.5,4.2,5.6,7.0,7.9,7.8,3.5,7.7,4.5,8.6,4.7,6.8,4.2,3.8,4.9,8.6,6.5,5.9,7.0,6.8,6.7,4.7,4.8,4.6,6.7,6.3,6.6,6.9,4.1,8.3,6.9,8.1,8.0,4.5,5.9,6.8,6.5,6.4,5.8,3.8,7.5,6.3,6.2,5.5,3.7,6.6,5.3,7.2,6.8,4.6,6.8,6.5,5.8,7.4,4.7,7.1,3.1,6.1,5.3,4.9,6.7,7.3,5.9,5.6,6.5,6.2,6.5,7.7,6.8,5.3,6.9,6.5,3.9,7.1,7.7,7.4,6.3,3.8,7.0,6.7,3.7,7.5,7.0,5.2,5.1,6.5,5.6,7.2,6.3,5.4,7.4,6.7,7.2,8.1,7.3,7.8,7.5,6.4,6.1,5.9,6.1,5.9,4.9,5.5,4.0,6.4,4.2,7.8,5.2,5.5,6.5,4.4,6.3,7.3,6.5,7.0,6.7,7.2,5.7,4.5,7.2,3.6,7.0,6.1,5.3,5.0,5.0,5.0,6.7,7.2,2.5,6.9,8.4,5.3,6.1,5.4,3.8,6.3,3.3,6.4,7.1,6.5,4.0,7.7,6.0,7.9,3.3,4.2,8.2,7.0,3.8,1.9,5.3,5.2,7.1,4.6,5.0,5.2,6.6,6.9,6.5,4.6,5.7,4.0,7.1,4.3,7.8,7.7,5.7,6.7,6.7,6.3,8.5,7.1,2.9,6.6,3.8,3.9,7.1,6.4,7.2,2.5,3.4,6.9,6.1,6.9,6.8,5.7,6.9,6.9,4.4,6.9,5.7,6.0,5.8,6.2,7.1,4.9,4.3,5.4,5.1,7.3,6.9,6.8,4.4,4.8,6.0,6.0,6.3,6.4,7.5,4.7,6.8,7.1,6.5,3.1,6.2,8.3,4.8,7.2,3.5,7.3,7.1,7.1,5.8,4.6,5.2,6.4,5.7,6.7,5.3,4.5,7.3,8.1,7.3,7.0,8.8,5.6,5.9,6.0,6.7,7.1,5.5,6.0,5.9,6.6,4.6,5.5,4.9,6.8,3.2,2.1,5.6,9.3,7.0,7.1,6.9,7.4,6.1,5.7,4.7,6.7,5.4,7.5,5.6,4.9,4.2,4.1,6.8,6.6,5.8,5.7,6.2,4.3,4.9,8.4,6.1,2.5,6.4,6.7,7.8,7.8,5.7,7.6,7.4,4.5,4.4,6.4,7.9,7.5,4.4,4.7,7.9,5.6,4.1,6.7,6.2,6.5,7.1,7.9,3.4,5.6,5.6,5.3,5.1,6.3,5.4,5.3,5.9,6.6,3.5,4.2,5.1,5.8,5.5,5.8,6.4,6.4,5.7,7.1,6.2,6.5,6.0,5.8,4.6,5.9,1.7,6.9,5.3,6.8,5.2,6.8,6.5,8.6,7.3,6.0,3.5,6.5,9.2,7.4,5.9,7.0,7.3,7.4,4.6,6.8,6.8,5.8,5.0,2.6,4.0,3.1,5.7,4.8,6.7,6.8,4.3,5.3,6.9,5.6,5.9,4.7,6.6,4.6,4.8,6.5,5.6,8.1,6.6,6.1,7.8,7.2,5.3,5.0,6.2,6.7,5.7,7.0,2.7,5.9,2.8,5.8,6.0,5.6,4.6,5.0,4.2,5.4,4.8,6.7,5.9,5.9,4.8,3.8,6.2,7.3,7.2,7.1,4.7,6.6,4.4,4.9,6.4,3.4,8.6,6.1,6.8,9.0,6.6,6.2,3.7,9.4,5.1,6.2,3.1,7.9,8.0,5.9,6.5,3.9,8.0,8.9,5.0,2.7,6.4,7.3,4.8,5.4,6.6,7.8,6.6,6.8,8.1,5.8,6.9,7.5,5.4,6.6,6.7,6.2,6.2,8.0,6.7,7.2,5.2,7.1,7.2,5.1,8.2,5.8,6.3,4.0,4.2,4.8,4.4,6.6,7.0,5.6,5.6,5.1,5.7,5.9,5.6,6.3,7.7,7.2,5.8,5.1,8.1,4.1,2.7,5.6,4.1,5.5,2.8,4.7,7.5,8.1,5.8,5.8,4.1,4.6,7.8,5.6,6.3,7.4,4.6,7.1,7.4,5.8,5.5,3.5,7.4,7.3,8.6,3.8,5.8,7.8,5.7,6.6,6.7,4.3,8.5,3.8,4.3,7.5,3.7,5.1,8.5,5.7,4.3,8.9,1.9,4.9,5.8,6.4,3.6,5.9,6.5,5.4,4.7,5.7,6.2,6.5,6.3,7.4,7.3,6.0,6.6,6.6,5.2,6.2,6.3,8.2,4.4,5.5,6.6,7.1,6.6,8.6,5.8,7.8,5.7,7.4,5.1,5.2,6.0,4.2,6.6,7.6,7.4,5.8,5.1,7.1,7.1,5.1,4.7,6.6,6.2,7.5,5.1,7.0,5.7,3.7,8.6,4.5,2.3,4.6,3.2,5.1,5.0,6.5,7.6,7.7,8.0,6.3,9.0,7.2,5.8,7.3,4.2,4.7,6.8,7.8,5.1,5.4,2.8,7.7,8.1,7.0,7.7,6.9,5.2,7.3,4.2,7.2,4.9,5.1,5.4,8.2,8.2,7.2,4.8,3.3,2.4,7.7,2.8,4.3,4.2,3.5,6.9,5.8,2.7,6.7,5.7,7.9,6.7,7.2,5.5,6.6,6.1,3.4,7.2,6.6,7.2,6.1,5.6,4.8,4.7,4.1,8.8,4.9,3.9,5.2,5.5,7.4,6.6,5.0,3.5,6.1,7.8,5.6,7.1,5.0,6.2,6.6,6.2,3.9,4.1,7.3,6.1,7.5,6.3,4.5,3.2,4.3,3.8,6.8,6.9,8.0,4.5,7.1,7.1,6.8,4.2,5.8,9.0,4.7,7.9,5.3,5.8,6.6,7.2,3.9,6.1,7.0,6.9,4.8,1.6,4.8,5.9,7.7,6.6,6.4,3.2,5.8,4.8,5.7,5.5,6.7,5.5,6.2,4.6,6.4,3.1,6.9,8.0,6.5,5.4,4.1,5.8,4.4,5.8,4.8,6.7,7.1,7.4,7.5,7.3,7.4,8.2,8.6,6.8,7.0,6.5,3.8,6.2,5.4,5.6,6.6,6.6,7.1,5.8,4.4,5.4,7.8,6.8,6.1,7.4,5.4,3.2,2.7,7.7,9.1,5.5,5.9,9.1,5.4,4.9,5.8,5.7,5.1,6.2,6.6,5.1,8.2,5.4,6.3,4.2,7.1,6.7,5.6,7.0,6.2,6.6,8.5,4.8,6.5,5.2,5.4,3.8,7.6,6.7,7.1,7.1,2.4,7.2,6.7,6.3,6.5,6.5,6.5,5.9,8.6,7.3,3.7,4.6,5.5,6.0,6.7,7.6,6.4,8.1,7.2,6.6,7.2,4.1,4.6,4.0,4.3,3.8,4.6,8.0,7.0,5.6,4.4,5.5,6.0,7.2,6.2,6.1,5.4,2.7,6.5,4.4,7.6,5.4,6.2,8.0,7.9,8.4,8.7,5.9,6.2,5.4,3.4,4.1,5.2,5.4,6.9,4.9,6.8,5.5,5.5,6.5,6.7,7.7,3.5,7.7,5.8,5.7,6.2,6.4,6.6,6.5,5.2,5.9,6.1,3.6,5.9,5.3,6.9,6.3,6.1,4.4,5.0,4.0,5.2,3.1,7.4,6.3,7.1,4.8,7.3,7.9,3.6,3.8,5.6,6.8,7.0,5.8,5.4,6.1,4.3,6.0,6.3,3.3,3.1,3.1,2.9,4.7,7.6,6.5,6.7,6.6,3.7,8.0,5.8,6.0,5.4,6.8,6.9,3.6,7.3,7.1,2.3,7.2,3.5,9.0,3.9,9.3,5.5,5.9,3.2,7.7,4.5,4.9,7.0,8.4,5.1,8.5,6.7,7.6,7.0,6.7,6.4,8.7,6.1,7.8,6.9,3.9,3.5,6.8,7.2,7.7,5.7,6.8,7.2,4.9,5.8,8.2,5.6,5.7,7.1,5.1,6.7,4.4,6.9,6.8,2.9,5.8,7.2,6.1,6.4,4.7,4.1,6.4,3.6,5.6,7.3,6.2,7.5,5.4,6.7,6.9,7.3,6.7,6.8,7.2,7.2,6.8,6.4,6.6,6.2,7.5,7.0,5.3,6.7,5.9,8.2,3.8,3.8,4.7,6.0,6.2,5.5,7.0,2.5,5.3,6.5,7.5,6.8,6.9,5.3,5.2,5.1,6.9,3.5,4.9,7.4,7.4,7.1,4.3,4.8,6.7,6.8,6.5,5.8,6.8,4.9,7.2,7.4,7.2,3.9,6.5,4.2,4.0,5.1,7.0,4.9,8.1,4.2,5.2,6.8,5.0,7.2,6.6,5.7,6.5,7.2,4.5,6.4,7.2,6.6,7.5,7.3,2.9,6.2,4.0,3.4,5.8,5.5,6.9,5.3,6.9,6.0,2.8,9.1,5.6,5.8,6.1,5.9,6.3,6.5,5.4,7.2,6.1,6.9,6.6,4.5,8.6,6.5,6.8,5.9,8.0,5.9,7.3,8.2,6.9,6.7,6.7,8.7,4.4,4.7,5.6,6.1,6.7,6.8,5.1,8.7,6.0,7.3,5.5,6.9,7.6,8.1,3.8,3.8,7.4,6.8,6.4,7.5,5.9,6.3,5.4,4.9,4.0,5.1,2.4,5.9,6.1,7.0,6.7,5.0,6.2,4.7,6.8,4.2,7.3,5.7,5.9,7.7,6.4,5.9,2.4,3.6,6.0,5.1,6.2,5.4,9.2,6.1,6.2,3.5,7.2,6.8,6.8,7.2,6.4,6.0,6.6,6.1,7.9,5.9,7.0,6.4,5.3,5.7,6.8,8.6,9.4,2.9,6.9,4.9,6.7,7.3,5.9,7.1,7.3,4.6,5.2,4.4,5.9,6.4,6.6,5.9,4.8,6.4,7.3,7.9,4.1,5.4,6.3,7.9,3.4,5.7,5.4,7.6,6.5,7.0,5.1,7.3,7.3,8.0,6.4,6.0,3.9,6.1,8.1,5.0,6.9,4.8,6.8,5.8,6.6,3.5,6.9,6.5,6.6,8.2,5.8,7.3,7.8,7.2,6.7,6.9,5.2,5.6,4.8,7.0,4.7,8.2,7.4,5.1,6.5,3.2,5.8,5.0,6.0,5.2,5.2,6.5,7.1,7.2,7.3,6.2,5.6,8.9,4.3,5.3,6.7,5.4,6.7,6.6,7.7,4.8,4.9,7.9,7.3,5.4,6.5,4.9,5.5,6.8,4.5,4.8,4.6,7.1,6.4,3.3,8.1,2.7,5.7,5.4,5.6,7.0,6.0,6.6,5.1,6.7,5.4,6.1,6.4,4.6,7.6,6.6,3.3,5.2,4.4,6.1,3.4,8.6,4.8,5.9,7.0,7.9,5.0,3.3,6.3,6.4,6.4,5.3,3.9,7.1,6.0,3.7,4.4,6.0,5.7,5.7,6.1],\"xaxis\":\"x\",\"yaxis\":\"y\",\"type\":\"histogram\"}],                        {\"template\":{\"data\":{\"histogram2dcontour\":[{\"type\":\"histogram2dcontour\",\"colorbar\":{\"outlinewidth\":0,\"ticks\":\"\"},\"colorscale\":[[0.0,\"#0d0887\"],[0.1111111111111111,\"#46039f\"],[0.2222222222222222,\"#7201a8\"],[0.3333333333333333,\"#9c179e\"],[0.4444444444444444,\"#bd3786\"],[0.5555555555555556,\"#d8576b\"],[0.6666666666666666,\"#ed7953\"],[0.7777777777777778,\"#fb9f3a\"],[0.8888888888888888,\"#fdca26\"],[1.0,\"#f0f921\"]]}],\"choropleth\":[{\"type\":\"choropleth\",\"colorbar\":{\"outlinewidth\":0,\"ticks\":\"\"}}],\"histogram2d\":[{\"type\":\"histogram2d\",\"colorbar\":{\"outlinewidth\":0,\"ticks\":\"\"},\"colorscale\":[[0.0,\"#0d0887\"],[0.1111111111111111,\"#46039f\"],[0.2222222222222222,\"#7201a8\"],[0.3333333333333333,\"#9c179e\"],[0.4444444444444444,\"#bd3786\"],[0.5555555555555556,\"#d8576b\"],[0.6666666666666666,\"#ed7953\"],[0.7777777777777778,\"#fb9f3a\"],[0.8888888888888888,\"#fdca26\"],[1.0,\"#f0f921\"]]}],\"heatmap\":[{\"type\":\"heatmap\",\"colorbar\":{\"outlinewidth\":0,\"ticks\":\"\"},\"colorscale\":[[0.0,\"#0d0887\"],[0.1111111111111111,\"#46039f\"],[0.2222222222222222,\"#7201a8\"],[0.3333333333333333,\"#9c179e\"],[0.4444444444444444,\"#bd3786\"],[0.5555555555555556,\"#d8576b\"],[0.6666666666666666,\"#ed7953\"],[0.7777777777777778,\"#fb9f3a\"],[0.8888888888888888,\"#fdca26\"],[1.0,\"#f0f921\"]]}],\"heatmapgl\":[{\"type\":\"heatmapgl\",\"colorbar\":{\"outlinewidth\":0,\"ticks\":\"\"},\"colorscale\":[[0.0,\"#0d0887\"],[0.1111111111111111,\"#46039f\"],[0.2222222222222222,\"#7201a8\"],[0.3333333333333333,\"#9c179e\"],[0.4444444444444444,\"#bd3786\"],[0.5555555555555556,\"#d8576b\"],[0.6666666666666666,\"#ed7953\"],[0.7777777777777778,\"#fb9f3a\"],[0.8888888888888888,\"#fdca26\"],[1.0,\"#f0f921\"]]}],\"contourcarpet\":[{\"type\":\"contourcarpet\",\"colorbar\":{\"outlinewidth\":0,\"ticks\":\"\"}}],\"contour\":[{\"type\":\"contour\",\"colorbar\":{\"outlinewidth\":0,\"ticks\":\"\"},\"colorscale\":[[0.0,\"#0d0887\"],[0.1111111111111111,\"#46039f\"],[0.2222222222222222,\"#7201a8\"],[0.3333333333333333,\"#9c179e\"],[0.4444444444444444,\"#bd3786\"],[0.5555555555555556,\"#d8576b\"],[0.6666666666666666,\"#ed7953\"],[0.7777777777777778,\"#fb9f3a\"],[0.8888888888888888,\"#fdca26\"],[1.0,\"#f0f921\"]]}],\"surface\":[{\"type\":\"surface\",\"colorbar\":{\"outlinewidth\":0,\"ticks\":\"\"},\"colorscale\":[[0.0,\"#0d0887\"],[0.1111111111111111,\"#46039f\"],[0.2222222222222222,\"#7201a8\"],[0.3333333333333333,\"#9c179e\"],[0.4444444444444444,\"#bd3786\"],[0.5555555555555556,\"#d8576b\"],[0.6666666666666666,\"#ed7953\"],[0.7777777777777778,\"#fb9f3a\"],[0.8888888888888888,\"#fdca26\"],[1.0,\"#f0f921\"]]}],\"mesh3d\":[{\"type\":\"mesh3d\",\"colorbar\":{\"outlinewidth\":0,\"ticks\":\"\"}}],\"scatter\":[{\"fillpattern\":{\"fillmode\":\"overlay\",\"size\":10,\"solidity\":0.2},\"type\":\"scatter\"}],\"parcoords\":[{\"type\":\"parcoords\",\"line\":{\"colorbar\":{\"outlinewidth\":0,\"ticks\":\"\"}}}],\"scatterpolargl\":[{\"type\":\"scatterpolargl\",\"marker\":{\"colorbar\":{\"outlinewidth\":0,\"ticks\":\"\"}}}],\"bar\":[{\"error_x\":{\"color\":\"#2a3f5f\"},\"error_y\":{\"color\":\"#2a3f5f\"},\"marker\":{\"line\":{\"color\":\"#E5ECF6\",\"width\":0.5},\"pattern\":{\"fillmode\":\"overlay\",\"size\":10,\"solidity\":0.2}},\"type\":\"bar\"}],\"scattergeo\":[{\"type\":\"scattergeo\",\"marker\":{\"colorbar\":{\"outlinewidth\":0,\"ticks\":\"\"}}}],\"scatterpolar\":[{\"type\":\"scatterpolar\",\"marker\":{\"colorbar\":{\"outlinewidth\":0,\"ticks\":\"\"}}}],\"histogram\":[{\"marker\":{\"pattern\":{\"fillmode\":\"overlay\",\"size\":10,\"solidity\":0.2}},\"type\":\"histogram\"}],\"scattergl\":[{\"type\":\"scattergl\",\"marker\":{\"colorbar\":{\"outlinewidth\":0,\"ticks\":\"\"}}}],\"scatter3d\":[{\"type\":\"scatter3d\",\"line\":{\"colorbar\":{\"outlinewidth\":0,\"ticks\":\"\"}},\"marker\":{\"colorbar\":{\"outlinewidth\":0,\"ticks\":\"\"}}}],\"scattermapbox\":[{\"type\":\"scattermapbox\",\"marker\":{\"colorbar\":{\"outlinewidth\":0,\"ticks\":\"\"}}}],\"scatterternary\":[{\"type\":\"scatterternary\",\"marker\":{\"colorbar\":{\"outlinewidth\":0,\"ticks\":\"\"}}}],\"scattercarpet\":[{\"type\":\"scattercarpet\",\"marker\":{\"colorbar\":{\"outlinewidth\":0,\"ticks\":\"\"}}}],\"carpet\":[{\"aaxis\":{\"endlinecolor\":\"#2a3f5f\",\"gridcolor\":\"white\",\"linecolor\":\"white\",\"minorgridcolor\":\"white\",\"startlinecolor\":\"#2a3f5f\"},\"baxis\":{\"endlinecolor\":\"#2a3f5f\",\"gridcolor\":\"white\",\"linecolor\":\"white\",\"minorgridcolor\":\"white\",\"startlinecolor\":\"#2a3f5f\"},\"type\":\"carpet\"}],\"table\":[{\"cells\":{\"fill\":{\"color\":\"#EBF0F8\"},\"line\":{\"color\":\"white\"}},\"header\":{\"fill\":{\"color\":\"#C8D4E3\"},\"line\":{\"color\":\"white\"}},\"type\":\"table\"}],\"barpolar\":[{\"marker\":{\"line\":{\"color\":\"#E5ECF6\",\"width\":0.5},\"pattern\":{\"fillmode\":\"overlay\",\"size\":10,\"solidity\":0.2}},\"type\":\"barpolar\"}],\"pie\":[{\"automargin\":true,\"type\":\"pie\"}]},\"layout\":{\"autotypenumbers\":\"strict\",\"colorway\":[\"#636efa\",\"#EF553B\",\"#00cc96\",\"#ab63fa\",\"#FFA15A\",\"#19d3f3\",\"#FF6692\",\"#B6E880\",\"#FF97FF\",\"#FECB52\"],\"font\":{\"color\":\"#2a3f5f\"},\"hovermode\":\"closest\",\"hoverlabel\":{\"align\":\"left\"},\"paper_bgcolor\":\"white\",\"plot_bgcolor\":\"#E5ECF6\",\"polar\":{\"bgcolor\":\"#E5ECF6\",\"angularaxis\":{\"gridcolor\":\"white\",\"linecolor\":\"white\",\"ticks\":\"\"},\"radialaxis\":{\"gridcolor\":\"white\",\"linecolor\":\"white\",\"ticks\":\"\"}},\"ternary\":{\"bgcolor\":\"#E5ECF6\",\"aaxis\":{\"gridcolor\":\"white\",\"linecolor\":\"white\",\"ticks\":\"\"},\"baxis\":{\"gridcolor\":\"white\",\"linecolor\":\"white\",\"ticks\":\"\"},\"caxis\":{\"gridcolor\":\"white\",\"linecolor\":\"white\",\"ticks\":\"\"}},\"coloraxis\":{\"colorbar\":{\"outlinewidth\":0,\"ticks\":\"\"}},\"colorscale\":{\"sequential\":[[0.0,\"#0d0887\"],[0.1111111111111111,\"#46039f\"],[0.2222222222222222,\"#7201a8\"],[0.3333333333333333,\"#9c179e\"],[0.4444444444444444,\"#bd3786\"],[0.5555555555555556,\"#d8576b\"],[0.6666666666666666,\"#ed7953\"],[0.7777777777777778,\"#fb9f3a\"],[0.8888888888888888,\"#fdca26\"],[1.0,\"#f0f921\"]],\"sequentialminus\":[[0.0,\"#0d0887\"],[0.1111111111111111,\"#46039f\"],[0.2222222222222222,\"#7201a8\"],[0.3333333333333333,\"#9c179e\"],[0.4444444444444444,\"#bd3786\"],[0.5555555555555556,\"#d8576b\"],[0.6666666666666666,\"#ed7953\"],[0.7777777777777778,\"#fb9f3a\"],[0.8888888888888888,\"#fdca26\"],[1.0,\"#f0f921\"]],\"diverging\":[[0,\"#8e0152\"],[0.1,\"#c51b7d\"],[0.2,\"#de77ae\"],[0.3,\"#f1b6da\"],[0.4,\"#fde0ef\"],[0.5,\"#f7f7f7\"],[0.6,\"#e6f5d0\"],[0.7,\"#b8e186\"],[0.8,\"#7fbc41\"],[0.9,\"#4d9221\"],[1,\"#276419\"]]},\"xaxis\":{\"gridcolor\":\"white\",\"linecolor\":\"white\",\"ticks\":\"\",\"title\":{\"standoff\":15},\"zerolinecolor\":\"white\",\"automargin\":true,\"zerolinewidth\":2},\"yaxis\":{\"gridcolor\":\"white\",\"linecolor\":\"white\",\"ticks\":\"\",\"title\":{\"standoff\":15},\"zerolinecolor\":\"white\",\"automargin\":true,\"zerolinewidth\":2},\"scene\":{\"xaxis\":{\"backgroundcolor\":\"#E5ECF6\",\"gridcolor\":\"white\",\"linecolor\":\"white\",\"showbackground\":true,\"ticks\":\"\",\"zerolinecolor\":\"white\",\"gridwidth\":2},\"yaxis\":{\"backgroundcolor\":\"#E5ECF6\",\"gridcolor\":\"white\",\"linecolor\":\"white\",\"showbackground\":true,\"ticks\":\"\",\"zerolinecolor\":\"white\",\"gridwidth\":2},\"zaxis\":{\"backgroundcolor\":\"#E5ECF6\",\"gridcolor\":\"white\",\"linecolor\":\"white\",\"showbackground\":true,\"ticks\":\"\",\"zerolinecolor\":\"white\",\"gridwidth\":2}},\"shapedefaults\":{\"line\":{\"color\":\"#2a3f5f\"}},\"annotationdefaults\":{\"arrowcolor\":\"#2a3f5f\",\"arrowhead\":0,\"arrowwidth\":1},\"geo\":{\"bgcolor\":\"white\",\"landcolor\":\"#E5ECF6\",\"subunitcolor\":\"white\",\"showland\":true,\"showlakes\":true,\"lakecolor\":\"white\"},\"title\":{\"x\":0.05},\"mapbox\":{\"style\":\"light\"}}},\"xaxis\":{\"anchor\":\"y\",\"domain\":[0.0,1.0],\"title\":{\"text\":\"Rating\"},\"showgrid\":false},\"yaxis\":{\"anchor\":\"x\",\"domain\":[0.0,1.0],\"title\":{\"text\":\"Probability Density\"},\"showgrid\":false},\"legend\":{\"tracegroupgap\":0},\"margin\":{\"t\":60},\"barmode\":\"relative\",\"title\":{\"text\":\"Distribution of Rating\",\"x\":0.5,\"pad\":{\"t\":20},\"font\":{\"size\":20}},\"bargap\":0.02,\"plot_bgcolor\":\"white\"},                        {\"responsive\": true}                    ).then(function(){\n",
       "                            \n",
       "var gd = document.getElementById('03174715-17bd-495d-8764-7cf9131e488f');\n",
       "var x = new MutationObserver(function (mutations, observer) {{\n",
       "        var display = window.getComputedStyle(gd).display;\n",
       "        if (!display || display === 'none') {{\n",
       "            console.log([gd, 'removed!']);\n",
       "            Plotly.purge(gd);\n",
       "            observer.disconnect();\n",
       "        }}\n",
       "}});\n",
       "\n",
       "// Listen for the removal of the full notebook cells\n",
       "var notebookContainer = gd.closest('#notebook-container');\n",
       "if (notebookContainer) {{\n",
       "    x.observe(notebookContainer, {childList: true});\n",
       "}}\n",
       "\n",
       "// Listen for the clearing of the current output cell\n",
       "var outputEl = gd.closest('.output');\n",
       "if (outputEl) {{\n",
       "    x.observe(outputEl, {childList: true});\n",
       "}}\n",
       "\n",
       "                        })                };                });            </script>        </div>"
      ]
     },
     "metadata": {},
     "output_type": "display_data"
    }
   ],
   "source": [
    "fig_rating = px.histogram(imdb, x = 'Rating', histnorm='probability density', nbins = 40, color_discrete_sequence = colors)\n",
    "fig_rating.update_traces(selector=dict(type='histogram'))\n",
    "fig_rating.update_layout(title='Distribution of Rating', title_x=0.5, title_pad=dict(t=20), title_font=dict(size=20), xaxis_title='Rating', yaxis_title='Probability Density', xaxis=dict(showgrid=False), yaxis=dict(showgrid=False), bargap=0.02, plot_bgcolor = 'white')\n",
    "fig_rating.show()"
   ]
  },
  {
   "cell_type": "code",
   "execution_count": 19,
   "id": "852b9a2f",
   "metadata": {
    "execution": {
     "iopub.execute_input": "2023-12-22T18:08:56.454789Z",
     "iopub.status.busy": "2023-12-22T18:08:56.454050Z",
     "iopub.status.idle": "2023-12-22T18:08:56.545949Z",
     "shell.execute_reply": "2023-12-22T18:08:56.544371Z"
    },
    "papermill": {
     "duration": 0.11025,
     "end_time": "2023-12-22T18:08:56.548415",
     "exception": false,
     "start_time": "2023-12-22T18:08:56.438165",
     "status": "completed"
    },
    "tags": []
   },
   "outputs": [
    {
     "data": {
      "text/html": [
       "<div>                            <div id=\"74a96ac1-dea5-49b8-bde7-9ae273ac7982\" class=\"plotly-graph-div\" style=\"height:525px; width:100%;\"></div>            <script type=\"text/javascript\">                require([\"plotly\"], function(Plotly) {                    window.PLOTLYENV=window.PLOTLYENV || {};                                    if (document.getElementById(\"74a96ac1-dea5-49b8-bde7-9ae273ac7982\")) {                    Plotly.newPlot(                        \"74a96ac1-dea5-49b8-bde7-9ae273ac7982\",                        [{\"alignmentgroup\":\"True\",\"hovertemplate\":\"Votes=%{x}\\u003cextra\\u003e\\u003c\\u002fextra\\u003e\",\"legendgroup\":\"\",\"marker\":{\"color\":\"#235E72\"},\"name\":\"\",\"notched\":false,\"offsetgroup\":\"\",\"orientation\":\"h\",\"showlegend\":false,\"x\":[8,17,59,1002,15,16,20,106,94,361,194,35,358,93,80,6,75,171,31,7,10,9,412,10,17,80,142,24,249,339,16,264,150,18,69,19,66,62,266,13,93,21,52,7,281,15,15,30,122,17,26,922,37,102,49,15,160,44,230,13,1259,85,203,10,6,88,172,7,85,80,6,64,109,11,8,76,12,7,14,33,53,24,53,52,52,973,32,10,4780,11,7,8,349,37,137,11,384,7,1622,23,17,14,41,16,47,11,856,1636,636,48,71,46,1185,5,43,29,13,94,19,9,109,7,124,115,6,25,6,68,50,137,12,8,7,38,645,33,5,204,1807,7,5383,36,36,16,44,223,64,571,150,21,5,34,40,432,11,5,10,16,20,356,271,165,9,6,66,7,7,123,25,805,10,14,72,6,63,18,54,23,10,16,42,29,85,13,9,7,12370,24,17,8,50,1533,21,7,7,6,9,101,4685,288,15,10,1873,14,10,75,30,35,18,26,18,10,68,24,15,29,11,15,34,58,132,6,8,24,18,9,74,1257,9,367,1968,147,403,585,23,22,34,26,17,22,8,882,33,51,27,365,45,33782,38,201,112,20,257,12,115,5124,7,10,13,19,17,456,356,323,25,982,41,6,862,36,13,31,162,122,26,8,656,24,141,28,101,45,336,676,185,2108,13,35,54,16,9,43,10,5,39,11,39,70,60,44,159,7,15,299,82,22,140,86,954,142,117,11,35,30,15,62,189,5,941,4826,7,22,16,102,7,22,10,9,433,101,58,15,191,1957,4338,179,105,54,32,75,22,40,285,15,5,52,127,24,727,64,8,191,8,329,62,3207,1962,57,19,6,15,252,10,22,66,284,24,7256,48,50,11,126,15,31,15,16,13,57,16,2118,87,388,12695,158,242,7,19,78,88,170,20,103,213,21,22,10,58,575,421,1857,20,88,5,24,9,6,24,29,6,7,47,33,5785,46,44,37,62,18,128,6,15,84,850,7,13,2610,31,50,17,1556,652,200,27,10,10,16,46,13,30,6,124,554,14,5,78,257,14,78,104,186,17,10,43,30,15,8,18,15,52,394,502,21,12,472,8,37,77,62,3371,9,26,261,47,11,13,365,23,57,52,48,191,4890,72,97,47,9,454,77,106,181,89,8,56,6,17,7,11,106,30,15,689,398,64,85,36,56,45,113,42,75,360,65,13,640,2708,51,64,344,23,184,46,58,37,15644,38,27,47,672,49,1770,209,7,14,345,40,41,9,5,14,11,1208,25,52,18,8,28,10,43,1055,23,796,11,1251,25,8,3781,45,92,35,50,31,17,31,101,11,274,4744,9,1042,3167,33,4132,166,303,7,14,18,11,1747,15,10,1486,36,37,442,286,28,10,15,47,19,42,10,27,51,9,118,27,948,897,17,700,25,20,117,36,27,7,218,57,38,52,131,32,5,38,143,96,151,10,151,315,503,9,18,8,48,7,43,5,68,38,40,14,17,31,23,8,5,19,87,1242,454,15,33,11,9,8,3336,5,37,8,7,26,99,17,18,22,55,22,9,12,6,672,15,330,129,167,301,32,263,47,188,49,12,21,137,22,18,8,6,8,30,24,31,29,136,2136,203,7,9,13,85,17,259,76,317,76,5,985,48,7,24,104,131,18,65,95,6,39,13,17,55,212,12,8,39,1098,23,64,30,16,29,49,10,24,46,216,23,221,12,52,242,16,49,27,7,21,21,39,41,8,7,77,27,293,17,320,7,8,12,12,93,20,128,197,102,26,514,51,15,1523,20,6,28,31,23,302,126,41,15,18,820,70,46,6,7,171,10,4165,3748,56,7,20,16,55,129,37,14,16,117,9,8,278,77,7,32,9,18,116,37,47,16,36,29,588,1417,102,8,3677,26,126,47,10,40,13,60,1570,12,42,9678,23,75,31,3690,8,22,19,26,10,13,155,399,235,1383,9,1909,60,10,21,35,29,36,22,699,43,35,118,7,101,51,32,5,9,85,24,6120,406,80,5,46,16,3565,73,291,17,24900,27,105,24,6,2622,2042,10,25,6,8,69,13,58,17,14,7,384,12,14,18,22,299,47,41,442,17,11,8,36,7,16,14,7,12,11,536,30,45,191,31,6,7,283,10,3031,411,9,22,101,27,17,17,9,6,235,74,25,245,2334,13,13,153,32,119,45,28,37,61,1059,6,6,114,13,29,25,27,14156,25,43,27,110,6034,68,153,13,8,352,31,28,82,258,13,156,26,8,23,101014,13,9,20,14,17,5,27,13,8,3737,30,1564,94,344,16,27,21,11,9,25,346,13,25,30,38,12,13,374,20,182,12,15,12,42,35,6,7,14,200,99,1622,10,221,39,15,196,44,8,13,13,20,1582,438,193,39,15,176,23,16,25,40,29,67,27,450,138,230,346,185,12,10,7,11,26,8,17,43,9,125,206,67,13,52,4954,10,2921,53,160,494,342,15,8,7,151,29,49,9,18,7,783,17,24,44,1983,206,9,8,20,870,16,11,2633,232,33,6,16,1147,22,58,13,18,1446,8,9,21,47,37,18,11,67,6,27,63,27,69,77,27,10,250,15,11,5,59,30,64,51,29,8,54,18,5,7,27,7,1020,12,17,7,22,2740,12,12,28,20,249,14,22,7,37,6,10,15,20,162,5,12,18,92,61,1272,13,58,12,10,71,119,81,520,215,9,6,62,28,467,27,45,8,29,18,10,27,692,34,15,75,527,20,11,44,12,268,50,365,28,31,193,489,215,7,12,474,134,12,1781,23,760,264,75,9,215,8,42,7,25,66,10,27,15,9,9,39,26,6,14,31,219,7,594,67,229,62,80,60,65,9,189,33,20,39,12,68,4964,690,24,6,13,25,58,14,18,25,406,32,55,103,15,246,11,28,7,892,180,20,25,21,6,51,6,7099,26,24,27,251,446,15,53,34,13,5,20,56,41,1061,6922,1023,101,31,8,337,145,268,444,92,67,678,68,9,77,671,13,13,696,8,96,86,210,63,1589,22,28,83029,60,34,9,31,15,31,9,13,43,11,30,6,663,31,20,33,648,3011,26,85340,19,1255,103,93,21,24,8,50,19,302,37,20,20,31,43,47,73,31,6,9,238,53,10,27,525,27,43,311,9,13,8,7,22,10,48,11,9,5433,15063,10,425,81,126,540,19,478,18,12,14,265,41,13,97,532,179,41,16,2139,10,894,34,12,89,7,778,22,243,17,17337,123,640,14,16,15,793,2906,87,293,294,21,55,24,17,14,101,108,228,7,8,45,1553,1785,35,19,22,485,11,12,34,1361,1544,255,75,63,73,13,370,83,24,19,43,34,75,57,45,95,56,43,4944,86,128,20,17,694,9,78,736,420,13,101,395,18,706,32,7,9,257,12000,84,5,26,12,12,57,488,254,275,56,36,294,60,73,142,118,14,28,14461,13,82,9,1747,597,673,34,83,107,113,122,10,30,32,17,106,50,798,18,239,9,32,504,244,15,13,14,132,10,1126,9,11,76,15,10,17,500,14,102,15,3007,16,6,7,14,449,6,9,27,5,6,33,13,7,78,408],\"x0\":\" \",\"xaxis\":\"x\",\"y0\":\" \",\"yaxis\":\"y\",\"type\":\"box\"}],                        {\"template\":{\"data\":{\"histogram2dcontour\":[{\"type\":\"histogram2dcontour\",\"colorbar\":{\"outlinewidth\":0,\"ticks\":\"\"},\"colorscale\":[[0.0,\"#0d0887\"],[0.1111111111111111,\"#46039f\"],[0.2222222222222222,\"#7201a8\"],[0.3333333333333333,\"#9c179e\"],[0.4444444444444444,\"#bd3786\"],[0.5555555555555556,\"#d8576b\"],[0.6666666666666666,\"#ed7953\"],[0.7777777777777778,\"#fb9f3a\"],[0.8888888888888888,\"#fdca26\"],[1.0,\"#f0f921\"]]}],\"choropleth\":[{\"type\":\"choropleth\",\"colorbar\":{\"outlinewidth\":0,\"ticks\":\"\"}}],\"histogram2d\":[{\"type\":\"histogram2d\",\"colorbar\":{\"outlinewidth\":0,\"ticks\":\"\"},\"colorscale\":[[0.0,\"#0d0887\"],[0.1111111111111111,\"#46039f\"],[0.2222222222222222,\"#7201a8\"],[0.3333333333333333,\"#9c179e\"],[0.4444444444444444,\"#bd3786\"],[0.5555555555555556,\"#d8576b\"],[0.6666666666666666,\"#ed7953\"],[0.7777777777777778,\"#fb9f3a\"],[0.8888888888888888,\"#fdca26\"],[1.0,\"#f0f921\"]]}],\"heatmap\":[{\"type\":\"heatmap\",\"colorbar\":{\"outlinewidth\":0,\"ticks\":\"\"},\"colorscale\":[[0.0,\"#0d0887\"],[0.1111111111111111,\"#46039f\"],[0.2222222222222222,\"#7201a8\"],[0.3333333333333333,\"#9c179e\"],[0.4444444444444444,\"#bd3786\"],[0.5555555555555556,\"#d8576b\"],[0.6666666666666666,\"#ed7953\"],[0.7777777777777778,\"#fb9f3a\"],[0.8888888888888888,\"#fdca26\"],[1.0,\"#f0f921\"]]}],\"heatmapgl\":[{\"type\":\"heatmapgl\",\"colorbar\":{\"outlinewidth\":0,\"ticks\":\"\"},\"colorscale\":[[0.0,\"#0d0887\"],[0.1111111111111111,\"#46039f\"],[0.2222222222222222,\"#7201a8\"],[0.3333333333333333,\"#9c179e\"],[0.4444444444444444,\"#bd3786\"],[0.5555555555555556,\"#d8576b\"],[0.6666666666666666,\"#ed7953\"],[0.7777777777777778,\"#fb9f3a\"],[0.8888888888888888,\"#fdca26\"],[1.0,\"#f0f921\"]]}],\"contourcarpet\":[{\"type\":\"contourcarpet\",\"colorbar\":{\"outlinewidth\":0,\"ticks\":\"\"}}],\"contour\":[{\"type\":\"contour\",\"colorbar\":{\"outlinewidth\":0,\"ticks\":\"\"},\"colorscale\":[[0.0,\"#0d0887\"],[0.1111111111111111,\"#46039f\"],[0.2222222222222222,\"#7201a8\"],[0.3333333333333333,\"#9c179e\"],[0.4444444444444444,\"#bd3786\"],[0.5555555555555556,\"#d8576b\"],[0.6666666666666666,\"#ed7953\"],[0.7777777777777778,\"#fb9f3a\"],[0.8888888888888888,\"#fdca26\"],[1.0,\"#f0f921\"]]}],\"surface\":[{\"type\":\"surface\",\"colorbar\":{\"outlinewidth\":0,\"ticks\":\"\"},\"colorscale\":[[0.0,\"#0d0887\"],[0.1111111111111111,\"#46039f\"],[0.2222222222222222,\"#7201a8\"],[0.3333333333333333,\"#9c179e\"],[0.4444444444444444,\"#bd3786\"],[0.5555555555555556,\"#d8576b\"],[0.6666666666666666,\"#ed7953\"],[0.7777777777777778,\"#fb9f3a\"],[0.8888888888888888,\"#fdca26\"],[1.0,\"#f0f921\"]]}],\"mesh3d\":[{\"type\":\"mesh3d\",\"colorbar\":{\"outlinewidth\":0,\"ticks\":\"\"}}],\"scatter\":[{\"fillpattern\":{\"fillmode\":\"overlay\",\"size\":10,\"solidity\":0.2},\"type\":\"scatter\"}],\"parcoords\":[{\"type\":\"parcoords\",\"line\":{\"colorbar\":{\"outlinewidth\":0,\"ticks\":\"\"}}}],\"scatterpolargl\":[{\"type\":\"scatterpolargl\",\"marker\":{\"colorbar\":{\"outlinewidth\":0,\"ticks\":\"\"}}}],\"bar\":[{\"error_x\":{\"color\":\"#2a3f5f\"},\"error_y\":{\"color\":\"#2a3f5f\"},\"marker\":{\"line\":{\"color\":\"#E5ECF6\",\"width\":0.5},\"pattern\":{\"fillmode\":\"overlay\",\"size\":10,\"solidity\":0.2}},\"type\":\"bar\"}],\"scattergeo\":[{\"type\":\"scattergeo\",\"marker\":{\"colorbar\":{\"outlinewidth\":0,\"ticks\":\"\"}}}],\"scatterpolar\":[{\"type\":\"scatterpolar\",\"marker\":{\"colorbar\":{\"outlinewidth\":0,\"ticks\":\"\"}}}],\"histogram\":[{\"marker\":{\"pattern\":{\"fillmode\":\"overlay\",\"size\":10,\"solidity\":0.2}},\"type\":\"histogram\"}],\"scattergl\":[{\"type\":\"scattergl\",\"marker\":{\"colorbar\":{\"outlinewidth\":0,\"ticks\":\"\"}}}],\"scatter3d\":[{\"type\":\"scatter3d\",\"line\":{\"colorbar\":{\"outlinewidth\":0,\"ticks\":\"\"}},\"marker\":{\"colorbar\":{\"outlinewidth\":0,\"ticks\":\"\"}}}],\"scattermapbox\":[{\"type\":\"scattermapbox\",\"marker\":{\"colorbar\":{\"outlinewidth\":0,\"ticks\":\"\"}}}],\"scatterternary\":[{\"type\":\"scatterternary\",\"marker\":{\"colorbar\":{\"outlinewidth\":0,\"ticks\":\"\"}}}],\"scattercarpet\":[{\"type\":\"scattercarpet\",\"marker\":{\"colorbar\":{\"outlinewidth\":0,\"ticks\":\"\"}}}],\"carpet\":[{\"aaxis\":{\"endlinecolor\":\"#2a3f5f\",\"gridcolor\":\"white\",\"linecolor\":\"white\",\"minorgridcolor\":\"white\",\"startlinecolor\":\"#2a3f5f\"},\"baxis\":{\"endlinecolor\":\"#2a3f5f\",\"gridcolor\":\"white\",\"linecolor\":\"white\",\"minorgridcolor\":\"white\",\"startlinecolor\":\"#2a3f5f\"},\"type\":\"carpet\"}],\"table\":[{\"cells\":{\"fill\":{\"color\":\"#EBF0F8\"},\"line\":{\"color\":\"white\"}},\"header\":{\"fill\":{\"color\":\"#C8D4E3\"},\"line\":{\"color\":\"white\"}},\"type\":\"table\"}],\"barpolar\":[{\"marker\":{\"line\":{\"color\":\"#E5ECF6\",\"width\":0.5},\"pattern\":{\"fillmode\":\"overlay\",\"size\":10,\"solidity\":0.2}},\"type\":\"barpolar\"}],\"pie\":[{\"automargin\":true,\"type\":\"pie\"}]},\"layout\":{\"autotypenumbers\":\"strict\",\"colorway\":[\"#636efa\",\"#EF553B\",\"#00cc96\",\"#ab63fa\",\"#FFA15A\",\"#19d3f3\",\"#FF6692\",\"#B6E880\",\"#FF97FF\",\"#FECB52\"],\"font\":{\"color\":\"#2a3f5f\"},\"hovermode\":\"closest\",\"hoverlabel\":{\"align\":\"left\"},\"paper_bgcolor\":\"white\",\"plot_bgcolor\":\"#E5ECF6\",\"polar\":{\"bgcolor\":\"#E5ECF6\",\"angularaxis\":{\"gridcolor\":\"white\",\"linecolor\":\"white\",\"ticks\":\"\"},\"radialaxis\":{\"gridcolor\":\"white\",\"linecolor\":\"white\",\"ticks\":\"\"}},\"ternary\":{\"bgcolor\":\"#E5ECF6\",\"aaxis\":{\"gridcolor\":\"white\",\"linecolor\":\"white\",\"ticks\":\"\"},\"baxis\":{\"gridcolor\":\"white\",\"linecolor\":\"white\",\"ticks\":\"\"},\"caxis\":{\"gridcolor\":\"white\",\"linecolor\":\"white\",\"ticks\":\"\"}},\"coloraxis\":{\"colorbar\":{\"outlinewidth\":0,\"ticks\":\"\"}},\"colorscale\":{\"sequential\":[[0.0,\"#0d0887\"],[0.1111111111111111,\"#46039f\"],[0.2222222222222222,\"#7201a8\"],[0.3333333333333333,\"#9c179e\"],[0.4444444444444444,\"#bd3786\"],[0.5555555555555556,\"#d8576b\"],[0.6666666666666666,\"#ed7953\"],[0.7777777777777778,\"#fb9f3a\"],[0.8888888888888888,\"#fdca26\"],[1.0,\"#f0f921\"]],\"sequentialminus\":[[0.0,\"#0d0887\"],[0.1111111111111111,\"#46039f\"],[0.2222222222222222,\"#7201a8\"],[0.3333333333333333,\"#9c179e\"],[0.4444444444444444,\"#bd3786\"],[0.5555555555555556,\"#d8576b\"],[0.6666666666666666,\"#ed7953\"],[0.7777777777777778,\"#fb9f3a\"],[0.8888888888888888,\"#fdca26\"],[1.0,\"#f0f921\"]],\"diverging\":[[0,\"#8e0152\"],[0.1,\"#c51b7d\"],[0.2,\"#de77ae\"],[0.3,\"#f1b6da\"],[0.4,\"#fde0ef\"],[0.5,\"#f7f7f7\"],[0.6,\"#e6f5d0\"],[0.7,\"#b8e186\"],[0.8,\"#7fbc41\"],[0.9,\"#4d9221\"],[1,\"#276419\"]]},\"xaxis\":{\"gridcolor\":\"white\",\"linecolor\":\"white\",\"ticks\":\"\",\"title\":{\"standoff\":15},\"zerolinecolor\":\"white\",\"automargin\":true,\"zerolinewidth\":2},\"yaxis\":{\"gridcolor\":\"white\",\"linecolor\":\"white\",\"ticks\":\"\",\"title\":{\"standoff\":15},\"zerolinecolor\":\"white\",\"automargin\":true,\"zerolinewidth\":2},\"scene\":{\"xaxis\":{\"backgroundcolor\":\"#E5ECF6\",\"gridcolor\":\"white\",\"linecolor\":\"white\",\"showbackground\":true,\"ticks\":\"\",\"zerolinecolor\":\"white\",\"gridwidth\":2},\"yaxis\":{\"backgroundcolor\":\"#E5ECF6\",\"gridcolor\":\"white\",\"linecolor\":\"white\",\"showbackground\":true,\"ticks\":\"\",\"zerolinecolor\":\"white\",\"gridwidth\":2},\"zaxis\":{\"backgroundcolor\":\"#E5ECF6\",\"gridcolor\":\"white\",\"linecolor\":\"white\",\"showbackground\":true,\"ticks\":\"\",\"zerolinecolor\":\"white\",\"gridwidth\":2}},\"shapedefaults\":{\"line\":{\"color\":\"#2a3f5f\"}},\"annotationdefaults\":{\"arrowcolor\":\"#2a3f5f\",\"arrowhead\":0,\"arrowwidth\":1},\"geo\":{\"bgcolor\":\"white\",\"landcolor\":\"#E5ECF6\",\"subunitcolor\":\"white\",\"showland\":true,\"showlakes\":true,\"lakecolor\":\"white\"},\"title\":{\"x\":0.05},\"mapbox\":{\"style\":\"light\"}}},\"xaxis\":{\"anchor\":\"y\",\"domain\":[0.0,1.0],\"title\":{\"text\":\"Votes\"},\"showgrid\":false},\"yaxis\":{\"anchor\":\"x\",\"domain\":[0.0,1.0],\"title\":{\"text\":\"Probability Density\"},\"showgrid\":false},\"legend\":{\"tracegroupgap\":0},\"margin\":{\"t\":60},\"boxmode\":\"group\",\"title\":{\"text\":\"Distribution of Votes\",\"x\":0.5,\"pad\":{\"t\":20},\"font\":{\"size\":20}},\"plot_bgcolor\":\"white\"},                        {\"responsive\": true}                    ).then(function(){\n",
       "                            \n",
       "var gd = document.getElementById('74a96ac1-dea5-49b8-bde7-9ae273ac7982');\n",
       "var x = new MutationObserver(function (mutations, observer) {{\n",
       "        var display = window.getComputedStyle(gd).display;\n",
       "        if (!display || display === 'none') {{\n",
       "            console.log([gd, 'removed!']);\n",
       "            Plotly.purge(gd);\n",
       "            observer.disconnect();\n",
       "        }}\n",
       "}});\n",
       "\n",
       "// Listen for the removal of the full notebook cells\n",
       "var notebookContainer = gd.closest('#notebook-container');\n",
       "if (notebookContainer) {{\n",
       "    x.observe(notebookContainer, {childList: true});\n",
       "}}\n",
       "\n",
       "// Listen for the clearing of the current output cell\n",
       "var outputEl = gd.closest('.output');\n",
       "if (outputEl) {{\n",
       "    x.observe(outputEl, {childList: true});\n",
       "}}\n",
       "\n",
       "                        })                };                });            </script>        </div>"
      ]
     },
     "metadata": {},
     "output_type": "display_data"
    }
   ],
   "source": [
    "fig_votes = px.box(imdb, x = 'Votes', color_discrete_sequence = colors)\n",
    "fig_votes.update_layout(title='Distribution of Votes', title_x=0.5, title_pad=dict(t=20), title_font=dict(size=20), xaxis_title='Votes', yaxis_title='Probability Density', xaxis=dict(showgrid=False), yaxis=dict(showgrid=False), plot_bgcolor = 'white')\n",
    "fig_votes.show()"
   ]
  },
  {
   "cell_type": "markdown",
   "id": "d4c68f27",
   "metadata": {
    "papermill": {
     "duration": 0.013941,
     "end_time": "2023-12-22T18:08:56.576531",
     "exception": false,
     "start_time": "2023-12-22T18:08:56.562590",
     "status": "completed"
    },
    "tags": []
   },
   "source": [
    "<div style=\"border-radius:10px; border:#000000 solid; padding: 15px; background-color: ##F0E68C ; font-size:100%; text-align:left\">\n",
    "\n",
    "<h3 align=\"left\"><font color=black>📊 Insights:</font></h3>\n",
    "\n",
    "* The distribution of **Year is skewed towards left** with a high concentration of movies directed in between **2015-2019** \n",
    "    \n",
    "* The **duration of movies has a guassian distribution** with a very few outliers\n",
    "    \n",
    "* The distribution of **Rating is also having a guassian distribution** with a high concentration of **6.6 and 6.7** \n",
    "    \n",
    "* The **number of votes** has a **plenty of outliers**"
   ]
  },
  {
   "cell_type": "markdown",
   "id": "16aada20",
   "metadata": {
    "papermill": {
     "duration": 0.014026,
     "end_time": "2023-12-22T18:08:56.604858",
     "exception": false,
     "start_time": "2023-12-22T18:08:56.590832",
     "status": "completed"
    },
    "tags": []
   },
   "source": [
    "---\n",
    "### Bivariate Analysis\n",
    "---"
   ]
  },
  {
   "cell_type": "code",
   "execution_count": 20,
   "id": "a8b75c07",
   "metadata": {
    "execution": {
     "iopub.execute_input": "2023-12-22T18:08:56.636120Z",
     "iopub.status.busy": "2023-12-22T18:08:56.634365Z",
     "iopub.status.idle": "2023-12-22T18:08:56.739150Z",
     "shell.execute_reply": "2023-12-22T18:08:56.738103Z"
    },
    "papermill": {
     "duration": 0.122349,
     "end_time": "2023-12-22T18:08:56.741216",
     "exception": false,
     "start_time": "2023-12-22T18:08:56.618867",
     "status": "completed"
    },
    "tags": []
   },
   "outputs": [
    {
     "data": {
      "text/html": [
       "<div>                            <div id=\"f512efbd-777b-4338-af25-7e842dbaee2d\" class=\"plotly-graph-div\" style=\"height:525px; width:100%;\"></div>            <script type=\"text/javascript\">                require([\"plotly\"], function(Plotly) {                    window.PLOTLYENV=window.PLOTLYENV || {};                                    if (document.getElementById(\"f512efbd-777b-4338-af25-7e842dbaee2d\")) {                    Plotly.newPlot(                        \"f512efbd-777b-4338-af25-7e842dbaee2d\",                        [{\"alignmentgroup\":\"True\",\"hovertemplate\":\"Year=%{x}\\u003cbr\\u003eRating=%{marker.color}\\u003cextra\\u003e\\u003c\\u002fextra\\u003e\",\"legendgroup\":\"\",\"marker\":{\"color\":[7.3,7.220000000000001,7.160869565217391,7.15,7.066666666666666,7.0,6.966666666666666,6.959999999999999,6.925,6.866666666666667],\"coloraxis\":\"coloraxis\",\"pattern\":{\"shape\":\"\"}},\"name\":\"\",\"offsetgroup\":\"\",\"orientation\":\"v\",\"showlegend\":false,\"textposition\":\"auto\",\"x\":[1944,1967,2021,1961,1957,1948,1946,1963,1955,1949],\"xaxis\":\"x\",\"y\":[7.3,7.220000000000001,7.160869565217391,7.15,7.066666666666666,7.0,6.966666666666666,6.959999999999999,6.925,6.866666666666667],\"yaxis\":\"y\",\"type\":\"bar\"}],                        {\"template\":{\"data\":{\"histogram2dcontour\":[{\"type\":\"histogram2dcontour\",\"colorbar\":{\"outlinewidth\":0,\"ticks\":\"\"},\"colorscale\":[[0.0,\"#0d0887\"],[0.1111111111111111,\"#46039f\"],[0.2222222222222222,\"#7201a8\"],[0.3333333333333333,\"#9c179e\"],[0.4444444444444444,\"#bd3786\"],[0.5555555555555556,\"#d8576b\"],[0.6666666666666666,\"#ed7953\"],[0.7777777777777778,\"#fb9f3a\"],[0.8888888888888888,\"#fdca26\"],[1.0,\"#f0f921\"]]}],\"choropleth\":[{\"type\":\"choropleth\",\"colorbar\":{\"outlinewidth\":0,\"ticks\":\"\"}}],\"histogram2d\":[{\"type\":\"histogram2d\",\"colorbar\":{\"outlinewidth\":0,\"ticks\":\"\"},\"colorscale\":[[0.0,\"#0d0887\"],[0.1111111111111111,\"#46039f\"],[0.2222222222222222,\"#7201a8\"],[0.3333333333333333,\"#9c179e\"],[0.4444444444444444,\"#bd3786\"],[0.5555555555555556,\"#d8576b\"],[0.6666666666666666,\"#ed7953\"],[0.7777777777777778,\"#fb9f3a\"],[0.8888888888888888,\"#fdca26\"],[1.0,\"#f0f921\"]]}],\"heatmap\":[{\"type\":\"heatmap\",\"colorbar\":{\"outlinewidth\":0,\"ticks\":\"\"},\"colorscale\":[[0.0,\"#0d0887\"],[0.1111111111111111,\"#46039f\"],[0.2222222222222222,\"#7201a8\"],[0.3333333333333333,\"#9c179e\"],[0.4444444444444444,\"#bd3786\"],[0.5555555555555556,\"#d8576b\"],[0.6666666666666666,\"#ed7953\"],[0.7777777777777778,\"#fb9f3a\"],[0.8888888888888888,\"#fdca26\"],[1.0,\"#f0f921\"]]}],\"heatmapgl\":[{\"type\":\"heatmapgl\",\"colorbar\":{\"outlinewidth\":0,\"ticks\":\"\"},\"colorscale\":[[0.0,\"#0d0887\"],[0.1111111111111111,\"#46039f\"],[0.2222222222222222,\"#7201a8\"],[0.3333333333333333,\"#9c179e\"],[0.4444444444444444,\"#bd3786\"],[0.5555555555555556,\"#d8576b\"],[0.6666666666666666,\"#ed7953\"],[0.7777777777777778,\"#fb9f3a\"],[0.8888888888888888,\"#fdca26\"],[1.0,\"#f0f921\"]]}],\"contourcarpet\":[{\"type\":\"contourcarpet\",\"colorbar\":{\"outlinewidth\":0,\"ticks\":\"\"}}],\"contour\":[{\"type\":\"contour\",\"colorbar\":{\"outlinewidth\":0,\"ticks\":\"\"},\"colorscale\":[[0.0,\"#0d0887\"],[0.1111111111111111,\"#46039f\"],[0.2222222222222222,\"#7201a8\"],[0.3333333333333333,\"#9c179e\"],[0.4444444444444444,\"#bd3786\"],[0.5555555555555556,\"#d8576b\"],[0.6666666666666666,\"#ed7953\"],[0.7777777777777778,\"#fb9f3a\"],[0.8888888888888888,\"#fdca26\"],[1.0,\"#f0f921\"]]}],\"surface\":[{\"type\":\"surface\",\"colorbar\":{\"outlinewidth\":0,\"ticks\":\"\"},\"colorscale\":[[0.0,\"#0d0887\"],[0.1111111111111111,\"#46039f\"],[0.2222222222222222,\"#7201a8\"],[0.3333333333333333,\"#9c179e\"],[0.4444444444444444,\"#bd3786\"],[0.5555555555555556,\"#d8576b\"],[0.6666666666666666,\"#ed7953\"],[0.7777777777777778,\"#fb9f3a\"],[0.8888888888888888,\"#fdca26\"],[1.0,\"#f0f921\"]]}],\"mesh3d\":[{\"type\":\"mesh3d\",\"colorbar\":{\"outlinewidth\":0,\"ticks\":\"\"}}],\"scatter\":[{\"fillpattern\":{\"fillmode\":\"overlay\",\"size\":10,\"solidity\":0.2},\"type\":\"scatter\"}],\"parcoords\":[{\"type\":\"parcoords\",\"line\":{\"colorbar\":{\"outlinewidth\":0,\"ticks\":\"\"}}}],\"scatterpolargl\":[{\"type\":\"scatterpolargl\",\"marker\":{\"colorbar\":{\"outlinewidth\":0,\"ticks\":\"\"}}}],\"bar\":[{\"error_x\":{\"color\":\"#2a3f5f\"},\"error_y\":{\"color\":\"#2a3f5f\"},\"marker\":{\"line\":{\"color\":\"#E5ECF6\",\"width\":0.5},\"pattern\":{\"fillmode\":\"overlay\",\"size\":10,\"solidity\":0.2}},\"type\":\"bar\"}],\"scattergeo\":[{\"type\":\"scattergeo\",\"marker\":{\"colorbar\":{\"outlinewidth\":0,\"ticks\":\"\"}}}],\"scatterpolar\":[{\"type\":\"scatterpolar\",\"marker\":{\"colorbar\":{\"outlinewidth\":0,\"ticks\":\"\"}}}],\"histogram\":[{\"marker\":{\"pattern\":{\"fillmode\":\"overlay\",\"size\":10,\"solidity\":0.2}},\"type\":\"histogram\"}],\"scattergl\":[{\"type\":\"scattergl\",\"marker\":{\"colorbar\":{\"outlinewidth\":0,\"ticks\":\"\"}}}],\"scatter3d\":[{\"type\":\"scatter3d\",\"line\":{\"colorbar\":{\"outlinewidth\":0,\"ticks\":\"\"}},\"marker\":{\"colorbar\":{\"outlinewidth\":0,\"ticks\":\"\"}}}],\"scattermapbox\":[{\"type\":\"scattermapbox\",\"marker\":{\"colorbar\":{\"outlinewidth\":0,\"ticks\":\"\"}}}],\"scatterternary\":[{\"type\":\"scatterternary\",\"marker\":{\"colorbar\":{\"outlinewidth\":0,\"ticks\":\"\"}}}],\"scattercarpet\":[{\"type\":\"scattercarpet\",\"marker\":{\"colorbar\":{\"outlinewidth\":0,\"ticks\":\"\"}}}],\"carpet\":[{\"aaxis\":{\"endlinecolor\":\"#2a3f5f\",\"gridcolor\":\"white\",\"linecolor\":\"white\",\"minorgridcolor\":\"white\",\"startlinecolor\":\"#2a3f5f\"},\"baxis\":{\"endlinecolor\":\"#2a3f5f\",\"gridcolor\":\"white\",\"linecolor\":\"white\",\"minorgridcolor\":\"white\",\"startlinecolor\":\"#2a3f5f\"},\"type\":\"carpet\"}],\"table\":[{\"cells\":{\"fill\":{\"color\":\"#EBF0F8\"},\"line\":{\"color\":\"white\"}},\"header\":{\"fill\":{\"color\":\"#C8D4E3\"},\"line\":{\"color\":\"white\"}},\"type\":\"table\"}],\"barpolar\":[{\"marker\":{\"line\":{\"color\":\"#E5ECF6\",\"width\":0.5},\"pattern\":{\"fillmode\":\"overlay\",\"size\":10,\"solidity\":0.2}},\"type\":\"barpolar\"}],\"pie\":[{\"automargin\":true,\"type\":\"pie\"}]},\"layout\":{\"autotypenumbers\":\"strict\",\"colorway\":[\"#636efa\",\"#EF553B\",\"#00cc96\",\"#ab63fa\",\"#FFA15A\",\"#19d3f3\",\"#FF6692\",\"#B6E880\",\"#FF97FF\",\"#FECB52\"],\"font\":{\"color\":\"#2a3f5f\"},\"hovermode\":\"closest\",\"hoverlabel\":{\"align\":\"left\"},\"paper_bgcolor\":\"white\",\"plot_bgcolor\":\"#E5ECF6\",\"polar\":{\"bgcolor\":\"#E5ECF6\",\"angularaxis\":{\"gridcolor\":\"white\",\"linecolor\":\"white\",\"ticks\":\"\"},\"radialaxis\":{\"gridcolor\":\"white\",\"linecolor\":\"white\",\"ticks\":\"\"}},\"ternary\":{\"bgcolor\":\"#E5ECF6\",\"aaxis\":{\"gridcolor\":\"white\",\"linecolor\":\"white\",\"ticks\":\"\"},\"baxis\":{\"gridcolor\":\"white\",\"linecolor\":\"white\",\"ticks\":\"\"},\"caxis\":{\"gridcolor\":\"white\",\"linecolor\":\"white\",\"ticks\":\"\"}},\"coloraxis\":{\"colorbar\":{\"outlinewidth\":0,\"ticks\":\"\"}},\"colorscale\":{\"sequential\":[[0.0,\"#0d0887\"],[0.1111111111111111,\"#46039f\"],[0.2222222222222222,\"#7201a8\"],[0.3333333333333333,\"#9c179e\"],[0.4444444444444444,\"#bd3786\"],[0.5555555555555556,\"#d8576b\"],[0.6666666666666666,\"#ed7953\"],[0.7777777777777778,\"#fb9f3a\"],[0.8888888888888888,\"#fdca26\"],[1.0,\"#f0f921\"]],\"sequentialminus\":[[0.0,\"#0d0887\"],[0.1111111111111111,\"#46039f\"],[0.2222222222222222,\"#7201a8\"],[0.3333333333333333,\"#9c179e\"],[0.4444444444444444,\"#bd3786\"],[0.5555555555555556,\"#d8576b\"],[0.6666666666666666,\"#ed7953\"],[0.7777777777777778,\"#fb9f3a\"],[0.8888888888888888,\"#fdca26\"],[1.0,\"#f0f921\"]],\"diverging\":[[0,\"#8e0152\"],[0.1,\"#c51b7d\"],[0.2,\"#de77ae\"],[0.3,\"#f1b6da\"],[0.4,\"#fde0ef\"],[0.5,\"#f7f7f7\"],[0.6,\"#e6f5d0\"],[0.7,\"#b8e186\"],[0.8,\"#7fbc41\"],[0.9,\"#4d9221\"],[1,\"#276419\"]]},\"xaxis\":{\"gridcolor\":\"white\",\"linecolor\":\"white\",\"ticks\":\"\",\"title\":{\"standoff\":15},\"zerolinecolor\":\"white\",\"automargin\":true,\"zerolinewidth\":2},\"yaxis\":{\"gridcolor\":\"white\",\"linecolor\":\"white\",\"ticks\":\"\",\"title\":{\"standoff\":15},\"zerolinecolor\":\"white\",\"automargin\":true,\"zerolinewidth\":2},\"scene\":{\"xaxis\":{\"backgroundcolor\":\"#E5ECF6\",\"gridcolor\":\"white\",\"linecolor\":\"white\",\"showbackground\":true,\"ticks\":\"\",\"zerolinecolor\":\"white\",\"gridwidth\":2},\"yaxis\":{\"backgroundcolor\":\"#E5ECF6\",\"gridcolor\":\"white\",\"linecolor\":\"white\",\"showbackground\":true,\"ticks\":\"\",\"zerolinecolor\":\"white\",\"gridwidth\":2},\"zaxis\":{\"backgroundcolor\":\"#E5ECF6\",\"gridcolor\":\"white\",\"linecolor\":\"white\",\"showbackground\":true,\"ticks\":\"\",\"zerolinecolor\":\"white\",\"gridwidth\":2}},\"shapedefaults\":{\"line\":{\"color\":\"#2a3f5f\"}},\"annotationdefaults\":{\"arrowcolor\":\"#2a3f5f\",\"arrowhead\":0,\"arrowwidth\":1},\"geo\":{\"bgcolor\":\"white\",\"landcolor\":\"#E5ECF6\",\"subunitcolor\":\"white\",\"showland\":true,\"showlakes\":true,\"lakecolor\":\"white\"},\"title\":{\"x\":0.05},\"mapbox\":{\"style\":\"light\"}}},\"xaxis\":{\"anchor\":\"y\",\"domain\":[0.0,1.0],\"title\":{\"text\":\"Year\"},\"type\":\"category\"},\"yaxis\":{\"anchor\":\"x\",\"domain\":[0.0,1.0],\"title\":{\"text\":\"Average Rating\"}},\"coloraxis\":{\"colorbar\":{\"title\":{\"text\":\"Rating\"}},\"colorscale\":[[0.0,\"rgb(210, 251, 212)\"],[0.16666666666666666,\"rgb(165, 219, 194)\"],[0.3333333333333333,\"rgb(123, 188, 176)\"],[0.5,\"rgb(85, 156, 158)\"],[0.6666666666666666,\"rgb(58, 124, 137)\"],[0.8333333333333334,\"rgb(35, 93, 114)\"],[1.0,\"rgb(18, 63, 90)\"]]},\"legend\":{\"tracegroupgap\":0},\"title\":{\"text\":\"Top 10 Years by Average Rating\"},\"barmode\":\"relative\",\"plot_bgcolor\":\"white\"},                        {\"responsive\": true}                    ).then(function(){\n",
       "                            \n",
       "var gd = document.getElementById('f512efbd-777b-4338-af25-7e842dbaee2d');\n",
       "var x = new MutationObserver(function (mutations, observer) {{\n",
       "        var display = window.getComputedStyle(gd).display;\n",
       "        if (!display || display === 'none') {{\n",
       "            console.log([gd, 'removed!']);\n",
       "            Plotly.purge(gd);\n",
       "            observer.disconnect();\n",
       "        }}\n",
       "}});\n",
       "\n",
       "// Listen for the removal of the full notebook cells\n",
       "var notebookContainer = gd.closest('#notebook-container');\n",
       "if (notebookContainer) {{\n",
       "    x.observe(notebookContainer, {childList: true});\n",
       "}}\n",
       "\n",
       "// Listen for the clearing of the current output cell\n",
       "var outputEl = gd.closest('.output');\n",
       "if (outputEl) {{\n",
       "    x.observe(outputEl, {childList: true});\n",
       "}}\n",
       "\n",
       "                        })                };                });            </script>        </div>"
      ]
     },
     "metadata": {},
     "output_type": "display_data"
    }
   ],
   "source": [
    "year_avg_rating = imdb.groupby('Year')['Rating'].mean().reset_index()\n",
    "\n",
    "top_5_years = year_avg_rating.nlargest(10, 'Rating')\n",
    "fig = px.bar(top_5_years, x='Year', y='Rating', title='Top 10 Years by Average Rating', color = \"Rating\", color_continuous_scale = \"darkmint\")\n",
    "fig.update_xaxes(type='category')  \n",
    "fig.update_layout(xaxis_title='Year', yaxis_title='Average Rating', plot_bgcolor = 'white')\n",
    "fig.show()"
   ]
  },
  {
   "cell_type": "code",
   "execution_count": 21,
   "id": "72bccc6c",
   "metadata": {
    "execution": {
     "iopub.execute_input": "2023-12-22T18:08:56.773011Z",
     "iopub.status.busy": "2023-12-22T18:08:56.771727Z",
     "iopub.status.idle": "2023-12-22T18:08:56.866102Z",
     "shell.execute_reply": "2023-12-22T18:08:56.864943Z"
    },
    "papermill": {
     "duration": 0.111889,
     "end_time": "2023-12-22T18:08:56.867918",
     "exception": false,
     "start_time": "2023-12-22T18:08:56.756029",
     "status": "completed"
    },
    "tags": []
   },
   "outputs": [
    {
     "data": {
      "text/html": [
       "<div>                            <div id=\"fd97116f-a06c-4a07-abf1-47479aaf4e42\" class=\"plotly-graph-div\" style=\"height:525px; width:100%;\"></div>            <script type=\"text/javascript\">                require([\"plotly\"], function(Plotly) {                    window.PLOTLYENV=window.PLOTLYENV || {};                                    if (document.getElementById(\"fd97116f-a06c-4a07-abf1-47479aaf4e42\")) {                    Plotly.newPlot(                        \"fd97116f-a06c-4a07-abf1-47479aaf4e42\",                        [{\"hovertemplate\":\"Year=%{x}\\u003cbr\\u003eRating=%{y}\\u003cextra\\u003e\\u003c\\u002fextra\\u003e\",\"legendgroup\":\"\",\"line\":{\"color\":\"#559C9E\",\"dash\":\"solid\"},\"marker\":{\"symbol\":\"circle\"},\"mode\":\"lines\",\"name\":\"\",\"orientation\":\"v\",\"showlegend\":false,\"x\":[1931,1932,1933,1934,1935,1936,1937,1938,1940,1941,1942,1943,1944,1945,1946,1947,1948,1949,1950,1951,1952,1953,1954,1955,1956,1957,1958,1959,1960,1961,1962,1963,1964,1965,1966,1967,1968,1969,1970,1971,1972,1973,1974,1975,1976,1977,1978,1979,1980,1981,1982,1983,1984,1985,1986,1987,1988,1989,1990,1991,1992,1993,1994,1995,1996,1997,1998,1999,2000,2001,2002,2003,2004,2005,2006,2007,2008,2009,2010,2011,2012,2013,2014,2015,2016,2017,2018,2019,2020,2021],\"xaxis\":\"x\",\"y\":[5.3,5.8,6.5,6.6,5.8999999999999995,5.816666666666666,6.166666666666667,6.066666666666666,6.7,6.533333333333334,6.5,6.18,7.3,6.5,6.966666666666666,5.925,7.0,6.866666666666667,6.525,6.220000000000001,6.0,6.828571428571428,6.7,6.925,6.085714285714286,7.066666666666666,6.55,6.8090909090909095,6.220000000000001,7.15,5.766666666666667,6.959999999999999,5.733333333333333,6.216666666666666,5.971428571428572,7.220000000000001,6.49090909090909,6.358333333333333,6.633333333333334,6.761538461538462,6.753846153846154,6.514285714285714,6.858333333333333,6.427272727272728,6.6,6.3933333333333335,6.4071428571428575,6.7,6.161111111111111,6.0600000000000005,6.39375,6.14,6.3625,6.1,6.070833333333333,5.915384615384615,5.965217391304347,5.6000000000000005,5.3999999999999995,5.1952380952380945,5.277272727272727,5.01875,5.335714285714286,5.681818181818182,5.375,5.4,5.310526315789474,5.173684210526315,5.231578947368422,5.2043478260869565,5.239999999999999,5.52258064516129,4.977777777777778,5.457142857142857,5.727586206896552,5.529166666666666,6.1,6.131578947368421,5.635294117647058,5.8,5.617777777777778,5.494736842105263,5.651020408163265,5.882258064516129,5.886206896551724,6.068627450980392,6.346666666666668,6.421978021978021,6.53,7.160869565217391],\"yaxis\":\"y\",\"type\":\"scatter\"}],                        {\"template\":{\"data\":{\"histogram2dcontour\":[{\"type\":\"histogram2dcontour\",\"colorbar\":{\"outlinewidth\":0,\"ticks\":\"\"},\"colorscale\":[[0.0,\"#0d0887\"],[0.1111111111111111,\"#46039f\"],[0.2222222222222222,\"#7201a8\"],[0.3333333333333333,\"#9c179e\"],[0.4444444444444444,\"#bd3786\"],[0.5555555555555556,\"#d8576b\"],[0.6666666666666666,\"#ed7953\"],[0.7777777777777778,\"#fb9f3a\"],[0.8888888888888888,\"#fdca26\"],[1.0,\"#f0f921\"]]}],\"choropleth\":[{\"type\":\"choropleth\",\"colorbar\":{\"outlinewidth\":0,\"ticks\":\"\"}}],\"histogram2d\":[{\"type\":\"histogram2d\",\"colorbar\":{\"outlinewidth\":0,\"ticks\":\"\"},\"colorscale\":[[0.0,\"#0d0887\"],[0.1111111111111111,\"#46039f\"],[0.2222222222222222,\"#7201a8\"],[0.3333333333333333,\"#9c179e\"],[0.4444444444444444,\"#bd3786\"],[0.5555555555555556,\"#d8576b\"],[0.6666666666666666,\"#ed7953\"],[0.7777777777777778,\"#fb9f3a\"],[0.8888888888888888,\"#fdca26\"],[1.0,\"#f0f921\"]]}],\"heatmap\":[{\"type\":\"heatmap\",\"colorbar\":{\"outlinewidth\":0,\"ticks\":\"\"},\"colorscale\":[[0.0,\"#0d0887\"],[0.1111111111111111,\"#46039f\"],[0.2222222222222222,\"#7201a8\"],[0.3333333333333333,\"#9c179e\"],[0.4444444444444444,\"#bd3786\"],[0.5555555555555556,\"#d8576b\"],[0.6666666666666666,\"#ed7953\"],[0.7777777777777778,\"#fb9f3a\"],[0.8888888888888888,\"#fdca26\"],[1.0,\"#f0f921\"]]}],\"heatmapgl\":[{\"type\":\"heatmapgl\",\"colorbar\":{\"outlinewidth\":0,\"ticks\":\"\"},\"colorscale\":[[0.0,\"#0d0887\"],[0.1111111111111111,\"#46039f\"],[0.2222222222222222,\"#7201a8\"],[0.3333333333333333,\"#9c179e\"],[0.4444444444444444,\"#bd3786\"],[0.5555555555555556,\"#d8576b\"],[0.6666666666666666,\"#ed7953\"],[0.7777777777777778,\"#fb9f3a\"],[0.8888888888888888,\"#fdca26\"],[1.0,\"#f0f921\"]]}],\"contourcarpet\":[{\"type\":\"contourcarpet\",\"colorbar\":{\"outlinewidth\":0,\"ticks\":\"\"}}],\"contour\":[{\"type\":\"contour\",\"colorbar\":{\"outlinewidth\":0,\"ticks\":\"\"},\"colorscale\":[[0.0,\"#0d0887\"],[0.1111111111111111,\"#46039f\"],[0.2222222222222222,\"#7201a8\"],[0.3333333333333333,\"#9c179e\"],[0.4444444444444444,\"#bd3786\"],[0.5555555555555556,\"#d8576b\"],[0.6666666666666666,\"#ed7953\"],[0.7777777777777778,\"#fb9f3a\"],[0.8888888888888888,\"#fdca26\"],[1.0,\"#f0f921\"]]}],\"surface\":[{\"type\":\"surface\",\"colorbar\":{\"outlinewidth\":0,\"ticks\":\"\"},\"colorscale\":[[0.0,\"#0d0887\"],[0.1111111111111111,\"#46039f\"],[0.2222222222222222,\"#7201a8\"],[0.3333333333333333,\"#9c179e\"],[0.4444444444444444,\"#bd3786\"],[0.5555555555555556,\"#d8576b\"],[0.6666666666666666,\"#ed7953\"],[0.7777777777777778,\"#fb9f3a\"],[0.8888888888888888,\"#fdca26\"],[1.0,\"#f0f921\"]]}],\"mesh3d\":[{\"type\":\"mesh3d\",\"colorbar\":{\"outlinewidth\":0,\"ticks\":\"\"}}],\"scatter\":[{\"fillpattern\":{\"fillmode\":\"overlay\",\"size\":10,\"solidity\":0.2},\"type\":\"scatter\"}],\"parcoords\":[{\"type\":\"parcoords\",\"line\":{\"colorbar\":{\"outlinewidth\":0,\"ticks\":\"\"}}}],\"scatterpolargl\":[{\"type\":\"scatterpolargl\",\"marker\":{\"colorbar\":{\"outlinewidth\":0,\"ticks\":\"\"}}}],\"bar\":[{\"error_x\":{\"color\":\"#2a3f5f\"},\"error_y\":{\"color\":\"#2a3f5f\"},\"marker\":{\"line\":{\"color\":\"#E5ECF6\",\"width\":0.5},\"pattern\":{\"fillmode\":\"overlay\",\"size\":10,\"solidity\":0.2}},\"type\":\"bar\"}],\"scattergeo\":[{\"type\":\"scattergeo\",\"marker\":{\"colorbar\":{\"outlinewidth\":0,\"ticks\":\"\"}}}],\"scatterpolar\":[{\"type\":\"scatterpolar\",\"marker\":{\"colorbar\":{\"outlinewidth\":0,\"ticks\":\"\"}}}],\"histogram\":[{\"marker\":{\"pattern\":{\"fillmode\":\"overlay\",\"size\":10,\"solidity\":0.2}},\"type\":\"histogram\"}],\"scattergl\":[{\"type\":\"scattergl\",\"marker\":{\"colorbar\":{\"outlinewidth\":0,\"ticks\":\"\"}}}],\"scatter3d\":[{\"type\":\"scatter3d\",\"line\":{\"colorbar\":{\"outlinewidth\":0,\"ticks\":\"\"}},\"marker\":{\"colorbar\":{\"outlinewidth\":0,\"ticks\":\"\"}}}],\"scattermapbox\":[{\"type\":\"scattermapbox\",\"marker\":{\"colorbar\":{\"outlinewidth\":0,\"ticks\":\"\"}}}],\"scatterternary\":[{\"type\":\"scatterternary\",\"marker\":{\"colorbar\":{\"outlinewidth\":0,\"ticks\":\"\"}}}],\"scattercarpet\":[{\"type\":\"scattercarpet\",\"marker\":{\"colorbar\":{\"outlinewidth\":0,\"ticks\":\"\"}}}],\"carpet\":[{\"aaxis\":{\"endlinecolor\":\"#2a3f5f\",\"gridcolor\":\"white\",\"linecolor\":\"white\",\"minorgridcolor\":\"white\",\"startlinecolor\":\"#2a3f5f\"},\"baxis\":{\"endlinecolor\":\"#2a3f5f\",\"gridcolor\":\"white\",\"linecolor\":\"white\",\"minorgridcolor\":\"white\",\"startlinecolor\":\"#2a3f5f\"},\"type\":\"carpet\"}],\"table\":[{\"cells\":{\"fill\":{\"color\":\"#EBF0F8\"},\"line\":{\"color\":\"white\"}},\"header\":{\"fill\":{\"color\":\"#C8D4E3\"},\"line\":{\"color\":\"white\"}},\"type\":\"table\"}],\"barpolar\":[{\"marker\":{\"line\":{\"color\":\"#E5ECF6\",\"width\":0.5},\"pattern\":{\"fillmode\":\"overlay\",\"size\":10,\"solidity\":0.2}},\"type\":\"barpolar\"}],\"pie\":[{\"automargin\":true,\"type\":\"pie\"}]},\"layout\":{\"autotypenumbers\":\"strict\",\"colorway\":[\"#636efa\",\"#EF553B\",\"#00cc96\",\"#ab63fa\",\"#FFA15A\",\"#19d3f3\",\"#FF6692\",\"#B6E880\",\"#FF97FF\",\"#FECB52\"],\"font\":{\"color\":\"#2a3f5f\"},\"hovermode\":\"closest\",\"hoverlabel\":{\"align\":\"left\"},\"paper_bgcolor\":\"white\",\"plot_bgcolor\":\"#E5ECF6\",\"polar\":{\"bgcolor\":\"#E5ECF6\",\"angularaxis\":{\"gridcolor\":\"white\",\"linecolor\":\"white\",\"ticks\":\"\"},\"radialaxis\":{\"gridcolor\":\"white\",\"linecolor\":\"white\",\"ticks\":\"\"}},\"ternary\":{\"bgcolor\":\"#E5ECF6\",\"aaxis\":{\"gridcolor\":\"white\",\"linecolor\":\"white\",\"ticks\":\"\"},\"baxis\":{\"gridcolor\":\"white\",\"linecolor\":\"white\",\"ticks\":\"\"},\"caxis\":{\"gridcolor\":\"white\",\"linecolor\":\"white\",\"ticks\":\"\"}},\"coloraxis\":{\"colorbar\":{\"outlinewidth\":0,\"ticks\":\"\"}},\"colorscale\":{\"sequential\":[[0.0,\"#0d0887\"],[0.1111111111111111,\"#46039f\"],[0.2222222222222222,\"#7201a8\"],[0.3333333333333333,\"#9c179e\"],[0.4444444444444444,\"#bd3786\"],[0.5555555555555556,\"#d8576b\"],[0.6666666666666666,\"#ed7953\"],[0.7777777777777778,\"#fb9f3a\"],[0.8888888888888888,\"#fdca26\"],[1.0,\"#f0f921\"]],\"sequentialminus\":[[0.0,\"#0d0887\"],[0.1111111111111111,\"#46039f\"],[0.2222222222222222,\"#7201a8\"],[0.3333333333333333,\"#9c179e\"],[0.4444444444444444,\"#bd3786\"],[0.5555555555555556,\"#d8576b\"],[0.6666666666666666,\"#ed7953\"],[0.7777777777777778,\"#fb9f3a\"],[0.8888888888888888,\"#fdca26\"],[1.0,\"#f0f921\"]],\"diverging\":[[0,\"#8e0152\"],[0.1,\"#c51b7d\"],[0.2,\"#de77ae\"],[0.3,\"#f1b6da\"],[0.4,\"#fde0ef\"],[0.5,\"#f7f7f7\"],[0.6,\"#e6f5d0\"],[0.7,\"#b8e186\"],[0.8,\"#7fbc41\"],[0.9,\"#4d9221\"],[1,\"#276419\"]]},\"xaxis\":{\"gridcolor\":\"white\",\"linecolor\":\"white\",\"ticks\":\"\",\"title\":{\"standoff\":15},\"zerolinecolor\":\"white\",\"automargin\":true,\"zerolinewidth\":2},\"yaxis\":{\"gridcolor\":\"white\",\"linecolor\":\"white\",\"ticks\":\"\",\"title\":{\"standoff\":15},\"zerolinecolor\":\"white\",\"automargin\":true,\"zerolinewidth\":2},\"scene\":{\"xaxis\":{\"backgroundcolor\":\"#E5ECF6\",\"gridcolor\":\"white\",\"linecolor\":\"white\",\"showbackground\":true,\"ticks\":\"\",\"zerolinecolor\":\"white\",\"gridwidth\":2},\"yaxis\":{\"backgroundcolor\":\"#E5ECF6\",\"gridcolor\":\"white\",\"linecolor\":\"white\",\"showbackground\":true,\"ticks\":\"\",\"zerolinecolor\":\"white\",\"gridwidth\":2},\"zaxis\":{\"backgroundcolor\":\"#E5ECF6\",\"gridcolor\":\"white\",\"linecolor\":\"white\",\"showbackground\":true,\"ticks\":\"\",\"zerolinecolor\":\"white\",\"gridwidth\":2}},\"shapedefaults\":{\"line\":{\"color\":\"#2a3f5f\"}},\"annotationdefaults\":{\"arrowcolor\":\"#2a3f5f\",\"arrowhead\":0,\"arrowwidth\":1},\"geo\":{\"bgcolor\":\"white\",\"landcolor\":\"#E5ECF6\",\"subunitcolor\":\"white\",\"showland\":true,\"showlakes\":true,\"lakecolor\":\"white\"},\"title\":{\"x\":0.05},\"mapbox\":{\"style\":\"light\"}}},\"xaxis\":{\"anchor\":\"y\",\"domain\":[0.0,1.0],\"title\":{\"text\":\"Year\"},\"showgrid\":false},\"yaxis\":{\"anchor\":\"x\",\"domain\":[0.0,1.0],\"title\":{\"text\":\"Rating\"},\"showgrid\":false},\"legend\":{\"tracegroupgap\":0},\"margin\":{\"t\":60},\"title\":{\"text\":\"Are there any trends in ratings across year?\",\"x\":0.5,\"pad\":{\"t\":20},\"font\":{\"size\":20}},\"plot_bgcolor\":\"white\"},                        {\"responsive\": true}                    ).then(function(){\n",
       "                            \n",
       "var gd = document.getElementById('fd97116f-a06c-4a07-abf1-47479aaf4e42');\n",
       "var x = new MutationObserver(function (mutations, observer) {{\n",
       "        var display = window.getComputedStyle(gd).display;\n",
       "        if (!display || display === 'none') {{\n",
       "            console.log([gd, 'removed!']);\n",
       "            Plotly.purge(gd);\n",
       "            observer.disconnect();\n",
       "        }}\n",
       "}});\n",
       "\n",
       "// Listen for the removal of the full notebook cells\n",
       "var notebookContainer = gd.closest('#notebook-container');\n",
       "if (notebookContainer) {{\n",
       "    x.observe(notebookContainer, {childList: true});\n",
       "}}\n",
       "\n",
       "// Listen for the clearing of the current output cell\n",
       "var outputEl = gd.closest('.output');\n",
       "if (outputEl) {{\n",
       "    x.observe(outputEl, {childList: true});\n",
       "}}\n",
       "\n",
       "                        })                };                });            </script>        </div>"
      ]
     },
     "metadata": {},
     "output_type": "display_data"
    }
   ],
   "source": [
    "# Group data by Year and calculate the average rating\n",
    "average_rating_by_year = imdb.groupby('Year')['Rating'].mean().reset_index()\n",
    "\n",
    "# Create the line plot with Plotly Express\n",
    "fig = px.line(average_rating_by_year, x='Year', y='Rating', color_discrete_sequence=['#559C9E'])\n",
    "fig.update_layout(title='Are there any trends in ratings across year?', title_x=0.5, title_pad=dict(t=20), title_font=dict(size=20), xaxis_title='Year', yaxis_title='Rating', xaxis=dict(showgrid=False), yaxis=dict(showgrid=False), plot_bgcolor = 'white')\n",
    "fig.show()"
   ]
  },
  {
   "cell_type": "code",
   "execution_count": 22,
   "id": "ea5ace13",
   "metadata": {
    "execution": {
     "iopub.execute_input": "2023-12-22T18:08:56.899840Z",
     "iopub.status.busy": "2023-12-22T18:08:56.898631Z",
     "iopub.status.idle": "2023-12-22T18:08:56.958108Z",
     "shell.execute_reply": "2023-12-22T18:08:56.956571Z"
    },
    "papermill": {
     "duration": 0.078607,
     "end_time": "2023-12-22T18:08:56.961220",
     "exception": false,
     "start_time": "2023-12-22T18:08:56.882613",
     "status": "completed"
    },
    "tags": []
   },
   "outputs": [
    {
     "data": {
      "text/html": [
       "<div>                            <div id=\"67a98ac0-e5fc-49e3-a277-d205ec52e6b2\" class=\"plotly-graph-div\" style=\"height:525px; width:100%;\"></div>            <script type=\"text/javascript\">                require([\"plotly\"], function(Plotly) {                    window.PLOTLYENV=window.PLOTLYENV || {};                                    if (document.getElementById(\"67a98ac0-e5fc-49e3-a277-d205ec52e6b2\")) {                    Plotly.newPlot(                        \"67a98ac0-e5fc-49e3-a277-d205ec52e6b2\",                        [{\"hovertemplate\":\"Year=%{x}\\u003cbr\\u003eVotes=%{y}\\u003cextra\\u003e\\u003c\\u002fextra\\u003e\",\"legendgroup\":\"\",\"line\":{\"color\":\"#559C9E\",\"dash\":\"solid\"},\"marker\":{\"symbol\":\"circle\"},\"mode\":\"lines\",\"name\":\"\",\"orientation\":\"v\",\"showlegend\":false,\"x\":[1931,1932,1933,1934,1935,1936,1937,1938,1940,1941,1942,1943,1944,1945,1946,1947,1948,1949,1950,1951,1952,1953,1954,1955,1956,1957,1958,1959,1960,1961,1962,1963,1964,1965,1966,1967,1968,1969,1970,1971,1972,1973,1974,1975,1976,1977,1978,1979,1980,1981,1982,1983,1984,1985,1986,1987,1988,1989,1990,1991,1992,1993,1994,1995,1996,1997,1998,1999,2000,2001,2002,2003,2004,2005,2006,2007,2008,2009,2010,2011,2012,2013,2014,2015,2016,2017,2018,2019,2020,2021],\"xaxis\":\"x\",\"y\":[6.0,13.0,10.0,5.0,13.0,11.333333333333334,52.833333333333336,13.0,9.333333333333334,13.666666666666666,10.0,32.6,8.0,8.0,76.0,12.0,38.666666666666664,23.0,11.0,12.2,7.0,285.0,28.25,35.5,18.857142857142858,36.333333333333336,30.333333333333332,229.9090909090909,19.0,106.75,124.0,49.0,29.166666666666668,13.0,34.42857142857143,47.6,42.81818181818182,82.83333333333333,62.333333333333336,88.84615384615384,190.07692307692307,262.42857142857144,186.91666666666666,25.09090909090909,119.3,77.33333333333333,52.5,116.8,31.38888888888889,47.3,93.1875,98.46666666666667,163.20833333333334,83.46153846153847,48.208333333333336,75.38461538461539,75.1304347826087,92.69565217391305,108.9090909090909,44.80952380952381,84.63636363636364,70.25,84.85714285714286,667.5454545454545,129.16666666666666,57.523809523809526,406.10526315789474,104.36842105263158,118.26315789473684,62.73913043478261,78.53333333333333,615.2258064516129,3362.4814814814813,1651.3142857142857,628.7241379310345,380.0,550.0,1177.2631578947369,7244.764705882353,450.375,739.3777777777777,460.0263157894737,500.2857142857143,762.2741935483871,536.8965517241379,282.6862745098039,581.3777777777777,561.5274725274726,2432.04,488.69565217391306],\"yaxis\":\"y\",\"type\":\"scatter\"}],                        {\"template\":{\"data\":{\"histogram2dcontour\":[{\"type\":\"histogram2dcontour\",\"colorbar\":{\"outlinewidth\":0,\"ticks\":\"\"},\"colorscale\":[[0.0,\"#0d0887\"],[0.1111111111111111,\"#46039f\"],[0.2222222222222222,\"#7201a8\"],[0.3333333333333333,\"#9c179e\"],[0.4444444444444444,\"#bd3786\"],[0.5555555555555556,\"#d8576b\"],[0.6666666666666666,\"#ed7953\"],[0.7777777777777778,\"#fb9f3a\"],[0.8888888888888888,\"#fdca26\"],[1.0,\"#f0f921\"]]}],\"choropleth\":[{\"type\":\"choropleth\",\"colorbar\":{\"outlinewidth\":0,\"ticks\":\"\"}}],\"histogram2d\":[{\"type\":\"histogram2d\",\"colorbar\":{\"outlinewidth\":0,\"ticks\":\"\"},\"colorscale\":[[0.0,\"#0d0887\"],[0.1111111111111111,\"#46039f\"],[0.2222222222222222,\"#7201a8\"],[0.3333333333333333,\"#9c179e\"],[0.4444444444444444,\"#bd3786\"],[0.5555555555555556,\"#d8576b\"],[0.6666666666666666,\"#ed7953\"],[0.7777777777777778,\"#fb9f3a\"],[0.8888888888888888,\"#fdca26\"],[1.0,\"#f0f921\"]]}],\"heatmap\":[{\"type\":\"heatmap\",\"colorbar\":{\"outlinewidth\":0,\"ticks\":\"\"},\"colorscale\":[[0.0,\"#0d0887\"],[0.1111111111111111,\"#46039f\"],[0.2222222222222222,\"#7201a8\"],[0.3333333333333333,\"#9c179e\"],[0.4444444444444444,\"#bd3786\"],[0.5555555555555556,\"#d8576b\"],[0.6666666666666666,\"#ed7953\"],[0.7777777777777778,\"#fb9f3a\"],[0.8888888888888888,\"#fdca26\"],[1.0,\"#f0f921\"]]}],\"heatmapgl\":[{\"type\":\"heatmapgl\",\"colorbar\":{\"outlinewidth\":0,\"ticks\":\"\"},\"colorscale\":[[0.0,\"#0d0887\"],[0.1111111111111111,\"#46039f\"],[0.2222222222222222,\"#7201a8\"],[0.3333333333333333,\"#9c179e\"],[0.4444444444444444,\"#bd3786\"],[0.5555555555555556,\"#d8576b\"],[0.6666666666666666,\"#ed7953\"],[0.7777777777777778,\"#fb9f3a\"],[0.8888888888888888,\"#fdca26\"],[1.0,\"#f0f921\"]]}],\"contourcarpet\":[{\"type\":\"contourcarpet\",\"colorbar\":{\"outlinewidth\":0,\"ticks\":\"\"}}],\"contour\":[{\"type\":\"contour\",\"colorbar\":{\"outlinewidth\":0,\"ticks\":\"\"},\"colorscale\":[[0.0,\"#0d0887\"],[0.1111111111111111,\"#46039f\"],[0.2222222222222222,\"#7201a8\"],[0.3333333333333333,\"#9c179e\"],[0.4444444444444444,\"#bd3786\"],[0.5555555555555556,\"#d8576b\"],[0.6666666666666666,\"#ed7953\"],[0.7777777777777778,\"#fb9f3a\"],[0.8888888888888888,\"#fdca26\"],[1.0,\"#f0f921\"]]}],\"surface\":[{\"type\":\"surface\",\"colorbar\":{\"outlinewidth\":0,\"ticks\":\"\"},\"colorscale\":[[0.0,\"#0d0887\"],[0.1111111111111111,\"#46039f\"],[0.2222222222222222,\"#7201a8\"],[0.3333333333333333,\"#9c179e\"],[0.4444444444444444,\"#bd3786\"],[0.5555555555555556,\"#d8576b\"],[0.6666666666666666,\"#ed7953\"],[0.7777777777777778,\"#fb9f3a\"],[0.8888888888888888,\"#fdca26\"],[1.0,\"#f0f921\"]]}],\"mesh3d\":[{\"type\":\"mesh3d\",\"colorbar\":{\"outlinewidth\":0,\"ticks\":\"\"}}],\"scatter\":[{\"fillpattern\":{\"fillmode\":\"overlay\",\"size\":10,\"solidity\":0.2},\"type\":\"scatter\"}],\"parcoords\":[{\"type\":\"parcoords\",\"line\":{\"colorbar\":{\"outlinewidth\":0,\"ticks\":\"\"}}}],\"scatterpolargl\":[{\"type\":\"scatterpolargl\",\"marker\":{\"colorbar\":{\"outlinewidth\":0,\"ticks\":\"\"}}}],\"bar\":[{\"error_x\":{\"color\":\"#2a3f5f\"},\"error_y\":{\"color\":\"#2a3f5f\"},\"marker\":{\"line\":{\"color\":\"#E5ECF6\",\"width\":0.5},\"pattern\":{\"fillmode\":\"overlay\",\"size\":10,\"solidity\":0.2}},\"type\":\"bar\"}],\"scattergeo\":[{\"type\":\"scattergeo\",\"marker\":{\"colorbar\":{\"outlinewidth\":0,\"ticks\":\"\"}}}],\"scatterpolar\":[{\"type\":\"scatterpolar\",\"marker\":{\"colorbar\":{\"outlinewidth\":0,\"ticks\":\"\"}}}],\"histogram\":[{\"marker\":{\"pattern\":{\"fillmode\":\"overlay\",\"size\":10,\"solidity\":0.2}},\"type\":\"histogram\"}],\"scattergl\":[{\"type\":\"scattergl\",\"marker\":{\"colorbar\":{\"outlinewidth\":0,\"ticks\":\"\"}}}],\"scatter3d\":[{\"type\":\"scatter3d\",\"line\":{\"colorbar\":{\"outlinewidth\":0,\"ticks\":\"\"}},\"marker\":{\"colorbar\":{\"outlinewidth\":0,\"ticks\":\"\"}}}],\"scattermapbox\":[{\"type\":\"scattermapbox\",\"marker\":{\"colorbar\":{\"outlinewidth\":0,\"ticks\":\"\"}}}],\"scatterternary\":[{\"type\":\"scatterternary\",\"marker\":{\"colorbar\":{\"outlinewidth\":0,\"ticks\":\"\"}}}],\"scattercarpet\":[{\"type\":\"scattercarpet\",\"marker\":{\"colorbar\":{\"outlinewidth\":0,\"ticks\":\"\"}}}],\"carpet\":[{\"aaxis\":{\"endlinecolor\":\"#2a3f5f\",\"gridcolor\":\"white\",\"linecolor\":\"white\",\"minorgridcolor\":\"white\",\"startlinecolor\":\"#2a3f5f\"},\"baxis\":{\"endlinecolor\":\"#2a3f5f\",\"gridcolor\":\"white\",\"linecolor\":\"white\",\"minorgridcolor\":\"white\",\"startlinecolor\":\"#2a3f5f\"},\"type\":\"carpet\"}],\"table\":[{\"cells\":{\"fill\":{\"color\":\"#EBF0F8\"},\"line\":{\"color\":\"white\"}},\"header\":{\"fill\":{\"color\":\"#C8D4E3\"},\"line\":{\"color\":\"white\"}},\"type\":\"table\"}],\"barpolar\":[{\"marker\":{\"line\":{\"color\":\"#E5ECF6\",\"width\":0.5},\"pattern\":{\"fillmode\":\"overlay\",\"size\":10,\"solidity\":0.2}},\"type\":\"barpolar\"}],\"pie\":[{\"automargin\":true,\"type\":\"pie\"}]},\"layout\":{\"autotypenumbers\":\"strict\",\"colorway\":[\"#636efa\",\"#EF553B\",\"#00cc96\",\"#ab63fa\",\"#FFA15A\",\"#19d3f3\",\"#FF6692\",\"#B6E880\",\"#FF97FF\",\"#FECB52\"],\"font\":{\"color\":\"#2a3f5f\"},\"hovermode\":\"closest\",\"hoverlabel\":{\"align\":\"left\"},\"paper_bgcolor\":\"white\",\"plot_bgcolor\":\"#E5ECF6\",\"polar\":{\"bgcolor\":\"#E5ECF6\",\"angularaxis\":{\"gridcolor\":\"white\",\"linecolor\":\"white\",\"ticks\":\"\"},\"radialaxis\":{\"gridcolor\":\"white\",\"linecolor\":\"white\",\"ticks\":\"\"}},\"ternary\":{\"bgcolor\":\"#E5ECF6\",\"aaxis\":{\"gridcolor\":\"white\",\"linecolor\":\"white\",\"ticks\":\"\"},\"baxis\":{\"gridcolor\":\"white\",\"linecolor\":\"white\",\"ticks\":\"\"},\"caxis\":{\"gridcolor\":\"white\",\"linecolor\":\"white\",\"ticks\":\"\"}},\"coloraxis\":{\"colorbar\":{\"outlinewidth\":0,\"ticks\":\"\"}},\"colorscale\":{\"sequential\":[[0.0,\"#0d0887\"],[0.1111111111111111,\"#46039f\"],[0.2222222222222222,\"#7201a8\"],[0.3333333333333333,\"#9c179e\"],[0.4444444444444444,\"#bd3786\"],[0.5555555555555556,\"#d8576b\"],[0.6666666666666666,\"#ed7953\"],[0.7777777777777778,\"#fb9f3a\"],[0.8888888888888888,\"#fdca26\"],[1.0,\"#f0f921\"]],\"sequentialminus\":[[0.0,\"#0d0887\"],[0.1111111111111111,\"#46039f\"],[0.2222222222222222,\"#7201a8\"],[0.3333333333333333,\"#9c179e\"],[0.4444444444444444,\"#bd3786\"],[0.5555555555555556,\"#d8576b\"],[0.6666666666666666,\"#ed7953\"],[0.7777777777777778,\"#fb9f3a\"],[0.8888888888888888,\"#fdca26\"],[1.0,\"#f0f921\"]],\"diverging\":[[0,\"#8e0152\"],[0.1,\"#c51b7d\"],[0.2,\"#de77ae\"],[0.3,\"#f1b6da\"],[0.4,\"#fde0ef\"],[0.5,\"#f7f7f7\"],[0.6,\"#e6f5d0\"],[0.7,\"#b8e186\"],[0.8,\"#7fbc41\"],[0.9,\"#4d9221\"],[1,\"#276419\"]]},\"xaxis\":{\"gridcolor\":\"white\",\"linecolor\":\"white\",\"ticks\":\"\",\"title\":{\"standoff\":15},\"zerolinecolor\":\"white\",\"automargin\":true,\"zerolinewidth\":2},\"yaxis\":{\"gridcolor\":\"white\",\"linecolor\":\"white\",\"ticks\":\"\",\"title\":{\"standoff\":15},\"zerolinecolor\":\"white\",\"automargin\":true,\"zerolinewidth\":2},\"scene\":{\"xaxis\":{\"backgroundcolor\":\"#E5ECF6\",\"gridcolor\":\"white\",\"linecolor\":\"white\",\"showbackground\":true,\"ticks\":\"\",\"zerolinecolor\":\"white\",\"gridwidth\":2},\"yaxis\":{\"backgroundcolor\":\"#E5ECF6\",\"gridcolor\":\"white\",\"linecolor\":\"white\",\"showbackground\":true,\"ticks\":\"\",\"zerolinecolor\":\"white\",\"gridwidth\":2},\"zaxis\":{\"backgroundcolor\":\"#E5ECF6\",\"gridcolor\":\"white\",\"linecolor\":\"white\",\"showbackground\":true,\"ticks\":\"\",\"zerolinecolor\":\"white\",\"gridwidth\":2}},\"shapedefaults\":{\"line\":{\"color\":\"#2a3f5f\"}},\"annotationdefaults\":{\"arrowcolor\":\"#2a3f5f\",\"arrowhead\":0,\"arrowwidth\":1},\"geo\":{\"bgcolor\":\"white\",\"landcolor\":\"#E5ECF6\",\"subunitcolor\":\"white\",\"showland\":true,\"showlakes\":true,\"lakecolor\":\"white\"},\"title\":{\"x\":0.05},\"mapbox\":{\"style\":\"light\"}}},\"xaxis\":{\"anchor\":\"y\",\"domain\":[0.0,1.0],\"title\":{\"text\":\"Year\"},\"showgrid\":false},\"yaxis\":{\"anchor\":\"x\",\"domain\":[0.0,1.0],\"title\":{\"text\":\"Votes\"},\"showgrid\":false},\"legend\":{\"tracegroupgap\":0},\"margin\":{\"t\":60},\"title\":{\"text\":\"Are there any trends in votes across year?\",\"x\":0.5,\"pad\":{\"t\":20},\"font\":{\"size\":20}},\"plot_bgcolor\":\"white\"},                        {\"responsive\": true}                    ).then(function(){\n",
       "                            \n",
       "var gd = document.getElementById('67a98ac0-e5fc-49e3-a277-d205ec52e6b2');\n",
       "var x = new MutationObserver(function (mutations, observer) {{\n",
       "        var display = window.getComputedStyle(gd).display;\n",
       "        if (!display || display === 'none') {{\n",
       "            console.log([gd, 'removed!']);\n",
       "            Plotly.purge(gd);\n",
       "            observer.disconnect();\n",
       "        }}\n",
       "}});\n",
       "\n",
       "// Listen for the removal of the full notebook cells\n",
       "var notebookContainer = gd.closest('#notebook-container');\n",
       "if (notebookContainer) {{\n",
       "    x.observe(notebookContainer, {childList: true});\n",
       "}}\n",
       "\n",
       "// Listen for the clearing of the current output cell\n",
       "var outputEl = gd.closest('.output');\n",
       "if (outputEl) {{\n",
       "    x.observe(outputEl, {childList: true});\n",
       "}}\n",
       "\n",
       "                        })                };                });            </script>        </div>"
      ]
     },
     "metadata": {},
     "output_type": "display_data"
    }
   ],
   "source": [
    "# Group data by Year and calculate the average rating\n",
    "average_rating_by_year = imdb.groupby('Year')['Votes'].mean().reset_index()\n",
    "\n",
    "# Create the line plot with Plotly Express\n",
    "fig = px.line(average_rating_by_year, x='Year', y='Votes', color_discrete_sequence=['#559C9E'])\n",
    "fig.update_layout(title='Are there any trends in votes across year?', title_x=0.5, title_pad=dict(t=20), title_font=dict(size=20), xaxis_title='Year', yaxis_title='Votes', xaxis=dict(showgrid=False), yaxis=dict(showgrid=False), plot_bgcolor = 'white')\n",
    "fig.show()"
   ]
  },
  {
   "cell_type": "code",
   "execution_count": 23,
   "id": "c96f249e",
   "metadata": {
    "execution": {
     "iopub.execute_input": "2023-12-22T18:08:56.994267Z",
     "iopub.status.busy": "2023-12-22T18:08:56.993605Z",
     "iopub.status.idle": "2023-12-22T18:08:57.076016Z",
     "shell.execute_reply": "2023-12-22T18:08:57.074976Z"
    },
    "papermill": {
     "duration": 0.101558,
     "end_time": "2023-12-22T18:08:57.077952",
     "exception": false,
     "start_time": "2023-12-22T18:08:56.976394",
     "status": "completed"
    },
    "tags": []
   },
   "outputs": [
    {
     "data": {
      "text/html": [
       "<div>                            <div id=\"51ea335c-0795-45bb-8c3f-f9b4c656a614\" class=\"plotly-graph-div\" style=\"height:525px; width:100%;\"></div>            <script type=\"text/javascript\">                require([\"plotly\"], function(Plotly) {                    window.PLOTLYENV=window.PLOTLYENV || {};                                    if (document.getElementById(\"51ea335c-0795-45bb-8c3f-f9b4c656a614\")) {                    Plotly.newPlot(                        \"51ea335c-0795-45bb-8c3f-f9b4c656a614\",                        [{\"hovertemplate\":\"Genre=Drama\\u003cbr\\u003eYear=%{x}\\u003cbr\\u003eRating=%{y}\\u003cextra\\u003e\\u003c\\u002fextra\\u003e\",\"legendgroup\":\"Drama\",\"line\":{\"color\":\"#559C9E\",\"dash\":\"solid\"},\"marker\":{\"symbol\":\"circle\"},\"mode\":\"lines\",\"name\":\"Drama\",\"orientation\":\"v\",\"showlegend\":true,\"x\":[1931,1932,1933,1934,1935,1936,1937,1938,1940,1941,1942,1943,1944,1945,1946,1947,1948,1949,1950,1951,1953,1954,1955,1956,1957,1958,1959,1960,1961,1962,1963,1964,1965,1966,1967,1968,1969,1970,1971,1972,1973,1974,1975,1976,1977,1978,1979,1980,1981,1982,1983,1984,1985,1986,1987,1988,1989,1990,1991,1992,1993,1994,1995,1996,1997,1998,1999,2000,2001,2002,2003,2004,2005,2006,2007,2008,2009,2010,2011,2012,2013,2014,2015,2016,2017,2018,2019,2020,2021],\"xaxis\":\"x\",\"y\":[5.3,5.8,6.5,6.6,6.2,6.36,6.725,5.9,6.7,6.533333333333334,6.5,6.9,7.3,6.5,6.966666666666666,6.5,7.15,6.75,6.566666666666666,5.975,7.225,6.75,6.366666666666667,6.266666666666667,6.9,6.58,6.8999999999999995,6.4,7.2,5.949999999999999,7.0,6.766666666666667,6.216666666666666,6.333333333333333,7.220000000000001,6.3,6.199999999999999,7.233333333333333,6.779999999999999,7.07,6.514285714285714,6.775,6.6571428571428575,6.566666666666666,7.085714285714286,6.771428571428571,6.466666666666666,6.166666666666667,6.216666666666666,6.777777777777778,6.671428571428572,6.786666666666666,6.466666666666666,6.0055555555555555,6.3500000000000005,6.38,5.907692307692307,5.5636363636363635,5.8999999999999995,5.422222222222222,5.5600000000000005,6.083333333333333,6.32,5.766666666666667,6.344444444444445,6.442857142857143,6.375,6.116666666666667,5.614285714285714,5.083333333333333,6.185714285714285,5.627272727272727,6.135294117647058,5.976923076923077,6.07,6.0375,5.827272727272727,6.05,6.328571428571428,6.1571428571428575,6.3,6.295454545454546,6.26,6.4222222222222225,6.44,6.721153846153846,6.652941176470589,7.3961538461538465,7.1461538461538465],\"yaxis\":\"y\",\"type\":\"scatter\"},{\"hovertemplate\":\"Genre=Comedy\\u003cbr\\u003eYear=%{x}\\u003cbr\\u003eRating=%{y}\\u003cextra\\u003e\\u003c\\u002fextra\\u003e\",\"legendgroup\":\"Comedy\",\"line\":{\"color\":\"#0B1F26\",\"dash\":\"solid\"},\"marker\":{\"symbol\":\"circle\"},\"mode\":\"lines\",\"name\":\"Comedy\",\"orientation\":\"v\",\"showlegend\":true,\"x\":[1953,1956,1960,1961,1962,1963,1966,1968,1969,1971,1972,1975,1976,1977,1978,1982,1983,1984,1985,1986,1988,1989,1994,1995,1996,1997,1998,1999,2002,2003,2004,2005,2006,2007,2008,2009,2010,2011,2012,2013,2014,2015,2016,2017,2018,2019,2020,2021],\"xaxis\":\"x\",\"y\":[5.9,6.45,6.8,7.0,5.4,7.15,6.9,6.8,6.6,6.8,5.5,5.6,6.8,6.7,7.0,7.2,6.1000000000000005,6.6,7.55,6.4,6.25,6.3,6.2,4.2,4.6,4.3,5.6,4.85,6.5,5.233333333333333,5.475,4.683333333333334,5.82,4.42,7.3,7.133333333333333,5.35,5.15,5.1923076923076925,5.033333333333334,5.3100000000000005,5.108333333333333,5.3,5.629411764705883,5.425,6.300000000000001,5.95,5.6],\"yaxis\":\"y\",\"type\":\"scatter\"},{\"hovertemplate\":\"Genre=Action\\u003cbr\\u003eYear=%{x}\\u003cbr\\u003eRating=%{y}\\u003cextra\\u003e\\u003c\\u002fextra\\u003e\",\"legendgroup\":\"Action\",\"line\":{\"color\":\"#00CC96\",\"dash\":\"solid\"},\"marker\":{\"symbol\":\"circle\"},\"mode\":\"lines\",\"name\":\"Action\",\"orientation\":\"v\",\"showlegend\":true,\"x\":[1964,1968,1969,1970,1976,1977,1978,1979,1980,1981,1982,1983,1984,1985,1986,1987,1988,1989,1990,1991,1992,1993,1994,1995,1996,1997,1998,1999,2000,2001,2002,2003,2004,2005,2006,2007,2009,2010,2011,2012,2013,2014,2015,2016,2017,2018,2020],\"xaxis\":\"x\",\"y\":[2.8,6.1,6.9,3.8,6.3,5.3,5.8,6.5,6.3,5.2,3.4,5.4,5.4,5.2,6.066666666666666,5.2749999999999995,5.05,5.866666666666667,5.075,4.8,4.5600000000000005,4.875,3.85,4.6,5.733333333333333,4.22,4.166666666666667,4.825,4.233333333333333,5.033333333333333,4.75,4.074999999999999,4.675,6.9,5.35,5.6499999999999995,6.5,4.8,6.0,4.2,3.8,4.95,5.033333333333333,6.5,4.933333333333334,6.1,6.8],\"yaxis\":\"y\",\"type\":\"scatter\"}],                        {\"template\":{\"data\":{\"histogram2dcontour\":[{\"type\":\"histogram2dcontour\",\"colorbar\":{\"outlinewidth\":0,\"ticks\":\"\"},\"colorscale\":[[0.0,\"#0d0887\"],[0.1111111111111111,\"#46039f\"],[0.2222222222222222,\"#7201a8\"],[0.3333333333333333,\"#9c179e\"],[0.4444444444444444,\"#bd3786\"],[0.5555555555555556,\"#d8576b\"],[0.6666666666666666,\"#ed7953\"],[0.7777777777777778,\"#fb9f3a\"],[0.8888888888888888,\"#fdca26\"],[1.0,\"#f0f921\"]]}],\"choropleth\":[{\"type\":\"choropleth\",\"colorbar\":{\"outlinewidth\":0,\"ticks\":\"\"}}],\"histogram2d\":[{\"type\":\"histogram2d\",\"colorbar\":{\"outlinewidth\":0,\"ticks\":\"\"},\"colorscale\":[[0.0,\"#0d0887\"],[0.1111111111111111,\"#46039f\"],[0.2222222222222222,\"#7201a8\"],[0.3333333333333333,\"#9c179e\"],[0.4444444444444444,\"#bd3786\"],[0.5555555555555556,\"#d8576b\"],[0.6666666666666666,\"#ed7953\"],[0.7777777777777778,\"#fb9f3a\"],[0.8888888888888888,\"#fdca26\"],[1.0,\"#f0f921\"]]}],\"heatmap\":[{\"type\":\"heatmap\",\"colorbar\":{\"outlinewidth\":0,\"ticks\":\"\"},\"colorscale\":[[0.0,\"#0d0887\"],[0.1111111111111111,\"#46039f\"],[0.2222222222222222,\"#7201a8\"],[0.3333333333333333,\"#9c179e\"],[0.4444444444444444,\"#bd3786\"],[0.5555555555555556,\"#d8576b\"],[0.6666666666666666,\"#ed7953\"],[0.7777777777777778,\"#fb9f3a\"],[0.8888888888888888,\"#fdca26\"],[1.0,\"#f0f921\"]]}],\"heatmapgl\":[{\"type\":\"heatmapgl\",\"colorbar\":{\"outlinewidth\":0,\"ticks\":\"\"},\"colorscale\":[[0.0,\"#0d0887\"],[0.1111111111111111,\"#46039f\"],[0.2222222222222222,\"#7201a8\"],[0.3333333333333333,\"#9c179e\"],[0.4444444444444444,\"#bd3786\"],[0.5555555555555556,\"#d8576b\"],[0.6666666666666666,\"#ed7953\"],[0.7777777777777778,\"#fb9f3a\"],[0.8888888888888888,\"#fdca26\"],[1.0,\"#f0f921\"]]}],\"contourcarpet\":[{\"type\":\"contourcarpet\",\"colorbar\":{\"outlinewidth\":0,\"ticks\":\"\"}}],\"contour\":[{\"type\":\"contour\",\"colorbar\":{\"outlinewidth\":0,\"ticks\":\"\"},\"colorscale\":[[0.0,\"#0d0887\"],[0.1111111111111111,\"#46039f\"],[0.2222222222222222,\"#7201a8\"],[0.3333333333333333,\"#9c179e\"],[0.4444444444444444,\"#bd3786\"],[0.5555555555555556,\"#d8576b\"],[0.6666666666666666,\"#ed7953\"],[0.7777777777777778,\"#fb9f3a\"],[0.8888888888888888,\"#fdca26\"],[1.0,\"#f0f921\"]]}],\"surface\":[{\"type\":\"surface\",\"colorbar\":{\"outlinewidth\":0,\"ticks\":\"\"},\"colorscale\":[[0.0,\"#0d0887\"],[0.1111111111111111,\"#46039f\"],[0.2222222222222222,\"#7201a8\"],[0.3333333333333333,\"#9c179e\"],[0.4444444444444444,\"#bd3786\"],[0.5555555555555556,\"#d8576b\"],[0.6666666666666666,\"#ed7953\"],[0.7777777777777778,\"#fb9f3a\"],[0.8888888888888888,\"#fdca26\"],[1.0,\"#f0f921\"]]}],\"mesh3d\":[{\"type\":\"mesh3d\",\"colorbar\":{\"outlinewidth\":0,\"ticks\":\"\"}}],\"scatter\":[{\"fillpattern\":{\"fillmode\":\"overlay\",\"size\":10,\"solidity\":0.2},\"type\":\"scatter\"}],\"parcoords\":[{\"type\":\"parcoords\",\"line\":{\"colorbar\":{\"outlinewidth\":0,\"ticks\":\"\"}}}],\"scatterpolargl\":[{\"type\":\"scatterpolargl\",\"marker\":{\"colorbar\":{\"outlinewidth\":0,\"ticks\":\"\"}}}],\"bar\":[{\"error_x\":{\"color\":\"#2a3f5f\"},\"error_y\":{\"color\":\"#2a3f5f\"},\"marker\":{\"line\":{\"color\":\"#E5ECF6\",\"width\":0.5},\"pattern\":{\"fillmode\":\"overlay\",\"size\":10,\"solidity\":0.2}},\"type\":\"bar\"}],\"scattergeo\":[{\"type\":\"scattergeo\",\"marker\":{\"colorbar\":{\"outlinewidth\":0,\"ticks\":\"\"}}}],\"scatterpolar\":[{\"type\":\"scatterpolar\",\"marker\":{\"colorbar\":{\"outlinewidth\":0,\"ticks\":\"\"}}}],\"histogram\":[{\"marker\":{\"pattern\":{\"fillmode\":\"overlay\",\"size\":10,\"solidity\":0.2}},\"type\":\"histogram\"}],\"scattergl\":[{\"type\":\"scattergl\",\"marker\":{\"colorbar\":{\"outlinewidth\":0,\"ticks\":\"\"}}}],\"scatter3d\":[{\"type\":\"scatter3d\",\"line\":{\"colorbar\":{\"outlinewidth\":0,\"ticks\":\"\"}},\"marker\":{\"colorbar\":{\"outlinewidth\":0,\"ticks\":\"\"}}}],\"scattermapbox\":[{\"type\":\"scattermapbox\",\"marker\":{\"colorbar\":{\"outlinewidth\":0,\"ticks\":\"\"}}}],\"scatterternary\":[{\"type\":\"scatterternary\",\"marker\":{\"colorbar\":{\"outlinewidth\":0,\"ticks\":\"\"}}}],\"scattercarpet\":[{\"type\":\"scattercarpet\",\"marker\":{\"colorbar\":{\"outlinewidth\":0,\"ticks\":\"\"}}}],\"carpet\":[{\"aaxis\":{\"endlinecolor\":\"#2a3f5f\",\"gridcolor\":\"white\",\"linecolor\":\"white\",\"minorgridcolor\":\"white\",\"startlinecolor\":\"#2a3f5f\"},\"baxis\":{\"endlinecolor\":\"#2a3f5f\",\"gridcolor\":\"white\",\"linecolor\":\"white\",\"minorgridcolor\":\"white\",\"startlinecolor\":\"#2a3f5f\"},\"type\":\"carpet\"}],\"table\":[{\"cells\":{\"fill\":{\"color\":\"#EBF0F8\"},\"line\":{\"color\":\"white\"}},\"header\":{\"fill\":{\"color\":\"#C8D4E3\"},\"line\":{\"color\":\"white\"}},\"type\":\"table\"}],\"barpolar\":[{\"marker\":{\"line\":{\"color\":\"#E5ECF6\",\"width\":0.5},\"pattern\":{\"fillmode\":\"overlay\",\"size\":10,\"solidity\":0.2}},\"type\":\"barpolar\"}],\"pie\":[{\"automargin\":true,\"type\":\"pie\"}]},\"layout\":{\"autotypenumbers\":\"strict\",\"colorway\":[\"#636efa\",\"#EF553B\",\"#00cc96\",\"#ab63fa\",\"#FFA15A\",\"#19d3f3\",\"#FF6692\",\"#B6E880\",\"#FF97FF\",\"#FECB52\"],\"font\":{\"color\":\"#2a3f5f\"},\"hovermode\":\"closest\",\"hoverlabel\":{\"align\":\"left\"},\"paper_bgcolor\":\"white\",\"plot_bgcolor\":\"#E5ECF6\",\"polar\":{\"bgcolor\":\"#E5ECF6\",\"angularaxis\":{\"gridcolor\":\"white\",\"linecolor\":\"white\",\"ticks\":\"\"},\"radialaxis\":{\"gridcolor\":\"white\",\"linecolor\":\"white\",\"ticks\":\"\"}},\"ternary\":{\"bgcolor\":\"#E5ECF6\",\"aaxis\":{\"gridcolor\":\"white\",\"linecolor\":\"white\",\"ticks\":\"\"},\"baxis\":{\"gridcolor\":\"white\",\"linecolor\":\"white\",\"ticks\":\"\"},\"caxis\":{\"gridcolor\":\"white\",\"linecolor\":\"white\",\"ticks\":\"\"}},\"coloraxis\":{\"colorbar\":{\"outlinewidth\":0,\"ticks\":\"\"}},\"colorscale\":{\"sequential\":[[0.0,\"#0d0887\"],[0.1111111111111111,\"#46039f\"],[0.2222222222222222,\"#7201a8\"],[0.3333333333333333,\"#9c179e\"],[0.4444444444444444,\"#bd3786\"],[0.5555555555555556,\"#d8576b\"],[0.6666666666666666,\"#ed7953\"],[0.7777777777777778,\"#fb9f3a\"],[0.8888888888888888,\"#fdca26\"],[1.0,\"#f0f921\"]],\"sequentialminus\":[[0.0,\"#0d0887\"],[0.1111111111111111,\"#46039f\"],[0.2222222222222222,\"#7201a8\"],[0.3333333333333333,\"#9c179e\"],[0.4444444444444444,\"#bd3786\"],[0.5555555555555556,\"#d8576b\"],[0.6666666666666666,\"#ed7953\"],[0.7777777777777778,\"#fb9f3a\"],[0.8888888888888888,\"#fdca26\"],[1.0,\"#f0f921\"]],\"diverging\":[[0,\"#8e0152\"],[0.1,\"#c51b7d\"],[0.2,\"#de77ae\"],[0.3,\"#f1b6da\"],[0.4,\"#fde0ef\"],[0.5,\"#f7f7f7\"],[0.6,\"#e6f5d0\"],[0.7,\"#b8e186\"],[0.8,\"#7fbc41\"],[0.9,\"#4d9221\"],[1,\"#276419\"]]},\"xaxis\":{\"gridcolor\":\"white\",\"linecolor\":\"white\",\"ticks\":\"\",\"title\":{\"standoff\":15},\"zerolinecolor\":\"white\",\"automargin\":true,\"zerolinewidth\":2},\"yaxis\":{\"gridcolor\":\"white\",\"linecolor\":\"white\",\"ticks\":\"\",\"title\":{\"standoff\":15},\"zerolinecolor\":\"white\",\"automargin\":true,\"zerolinewidth\":2},\"scene\":{\"xaxis\":{\"backgroundcolor\":\"#E5ECF6\",\"gridcolor\":\"white\",\"linecolor\":\"white\",\"showbackground\":true,\"ticks\":\"\",\"zerolinecolor\":\"white\",\"gridwidth\":2},\"yaxis\":{\"backgroundcolor\":\"#E5ECF6\",\"gridcolor\":\"white\",\"linecolor\":\"white\",\"showbackground\":true,\"ticks\":\"\",\"zerolinecolor\":\"white\",\"gridwidth\":2},\"zaxis\":{\"backgroundcolor\":\"#E5ECF6\",\"gridcolor\":\"white\",\"linecolor\":\"white\",\"showbackground\":true,\"ticks\":\"\",\"zerolinecolor\":\"white\",\"gridwidth\":2}},\"shapedefaults\":{\"line\":{\"color\":\"#2a3f5f\"}},\"annotationdefaults\":{\"arrowcolor\":\"#2a3f5f\",\"arrowhead\":0,\"arrowwidth\":1},\"geo\":{\"bgcolor\":\"white\",\"landcolor\":\"#E5ECF6\",\"subunitcolor\":\"white\",\"showland\":true,\"showlakes\":true,\"lakecolor\":\"white\"},\"title\":{\"x\":0.05},\"mapbox\":{\"style\":\"light\"}}},\"xaxis\":{\"anchor\":\"y\",\"domain\":[0.0,1.0],\"title\":{\"text\":\"Year\"},\"showgrid\":false},\"yaxis\":{\"anchor\":\"x\",\"domain\":[0.0,1.0],\"title\":{\"text\":\"Average Rating\"},\"showgrid\":false},\"legend\":{\"title\":{\"text\":\"Genre\"},\"tracegroupgap\":0},\"margin\":{\"t\":60},\"title\":{\"text\":\"Average Rating by Year for Top 3 Genres\"},\"plot_bgcolor\":\"white\"},                        {\"responsive\": true}                    ).then(function(){\n",
       "                            \n",
       "var gd = document.getElementById('51ea335c-0795-45bb-8c3f-f9b4c656a614');\n",
       "var x = new MutationObserver(function (mutations, observer) {{\n",
       "        var display = window.getComputedStyle(gd).display;\n",
       "        if (!display || display === 'none') {{\n",
       "            console.log([gd, 'removed!']);\n",
       "            Plotly.purge(gd);\n",
       "            observer.disconnect();\n",
       "        }}\n",
       "}});\n",
       "\n",
       "// Listen for the removal of the full notebook cells\n",
       "var notebookContainer = gd.closest('#notebook-container');\n",
       "if (notebookContainer) {{\n",
       "    x.observe(notebookContainer, {childList: true});\n",
       "}}\n",
       "\n",
       "// Listen for the clearing of the current output cell\n",
       "var outputEl = gd.closest('.output');\n",
       "if (outputEl) {{\n",
       "    x.observe(outputEl, {childList: true});\n",
       "}}\n",
       "\n",
       "                        })                };                });            </script>        </div>"
      ]
     },
     "metadata": {},
     "output_type": "display_data"
    }
   ],
   "source": [
    "# Group data by Year and calculate the average rating\n",
    "average_rating_by_year = imdb.groupby(['Year', 'Genre'])['Rating'].mean().reset_index()\n",
    "\n",
    "# Get the top 3 genres\n",
    "top_3_genres = imdb['Genre'].value_counts().head(3).index\n",
    "\n",
    "# Filter the data to include only the top 3 genres\n",
    "average_rating_by_year = average_rating_by_year[average_rating_by_year['Genre'].isin(top_3_genres)]\n",
    "\n",
    "# Create the line plot with Plotly Express\n",
    "fig = px.line(average_rating_by_year, x='Year', y='Rating', color = \"Genre\", color_discrete_sequence=['#559C9E', '#0B1F26', '#00CC96'])\n",
    "\n",
    "# Customize the layout\n",
    "fig.update_layout(title='Average Rating by Year for Top 3 Genres', xaxis_title='Year', yaxis_title='Average Rating', xaxis=dict(showgrid=False), yaxis=dict(showgrid=False), plot_bgcolor='white')\n",
    "\n",
    "# Show the plot\n",
    "fig.show()"
   ]
  },
  {
   "cell_type": "code",
   "execution_count": 24,
   "id": "eb1e8f2f",
   "metadata": {
    "execution": {
     "iopub.execute_input": "2023-12-22T18:08:57.110443Z",
     "iopub.status.busy": "2023-12-22T18:08:57.109446Z",
     "iopub.status.idle": "2023-12-22T18:08:58.643714Z",
     "shell.execute_reply": "2023-12-22T18:08:58.642199Z"
    },
    "papermill": {
     "duration": 1.553269,
     "end_time": "2023-12-22T18:08:58.646606",
     "exception": false,
     "start_time": "2023-12-22T18:08:57.093337",
     "status": "completed"
    },
    "tags": []
   },
   "outputs": [
    {
     "data": {
      "text/html": [
       "<div>                            <div id=\"a143a430-1d43-4200-a371-ed8167195dd6\" class=\"plotly-graph-div\" style=\"height:525px; width:100%;\"></div>            <script type=\"text/javascript\">                require([\"plotly\"], function(Plotly) {                    window.PLOTLYENV=window.PLOTLYENV || {};                                    if (document.getElementById(\"a143a430-1d43-4200-a371-ed8167195dd6\")) {                    Plotly.newPlot(                        \"a143a430-1d43-4200-a371-ed8167195dd6\",                        [{\"hovertemplate\":\"Duration=%{x}\\u003cbr\\u003eRating=%{marker.color}\\u003cextra\\u003e\\u003c\\u002fextra\\u003e\",\"legendgroup\":\"\",\"marker\":{\"color\":[7.0,6.2,5.9,7.1,5.6,4.5,4.0,5.5,6.1,6.1,6.9,6.9,6.9,5.6,5.6,6.3,5.7,4.2,6.2,5.0,6.2,5.3,8.1,6.3,7.3,6.0,3.1,7.9,8.0,2.7,6.8,2.4,7.4,5.1,7.6,6.4,6.7,7.6,4.2,4.1,5.3,4.8,5.0,3.1,5.5,3.1,3.3,4.4,6.9,2.8,5.4,3.0,6.4,5.6,6.1,6.6,4.2,6.1,6.1,6.7,7.1,5.5,7.3,6.1,5.5,4.5,6.4,5.1,6.6,7.6,4.0,7.0,5.8,4.7,5.0,5.5,6.6,4.7,3.1,7.8,3.6,4.6,5.9,6.6,5.8,6.9,6.6,5.5,7.0,5.6,6.9,6.8,5.5,5.9,6.5,6.3,7.9,4.3,3.7,6.6,6.1,6.5,4.2,4.4,4.9,6.2,7.3,5.9,5.0,5.6,3.9,5.5,8.0,7.0,4.9,7.1,6.3,7.4,6.3,6.6,5.5,7.1,4.4,6.6,5.7,6.8,7.3,7.5,6.5,6.9,3.7,4.8,9.3,4.3,7.3,7.3,8.8,4.3,5.6,5.9,6.4,3.8,4.2,4.2,4.8,6.4,6.5,7.2,5.9,8.7,3.6,5.1,6.2,7.6,7.1,8.8,6.1,7.3,7.0,6.2,6.1,6.4,8.2,3.3,6.0,6.9,6.7,4.7,2.5,7.1,6.6,5.9,7.7,5.5,4.7,5.7,7.1,8.8,6.0,6.3,6.8,9.3,7.7,4.2,2.3,6.1,7.3,8.1,7.5,5.6,3.6,7.2,6.1,7.9,3.7,6.0,4.9,2.8,6.0,7.0,4.8,5.6,5.6,5.9,5.8,4.9,6.3,5.2,3.6,2.5,4.6,8.7,4.4,3.8,5.8,4.6,6.2,5.5,5.1,6.8,6.8,4.3,3.4,4.9,6.4,6.2,5.9,7.0,4.0,7.1,7.2,7.8,6.7,7.4,7.0,6.4,4.4,6.9,6.0,4.5,3.9,7.6,5.9,6.2,7.1,4.1,6.9,8.2,8.6,6.5,6.5,7.9,6.0,4.8,6.1,6.7,2.9,6.4,7.5,6.9,7.6,7.3,2.6,6.8,7.8,6.0,4.8,4.5,4.2,5.6,7.0,7.9,7.8,3.5,7.7,4.5,8.6,4.7,6.8,4.2,3.8,4.9,8.6,6.5,5.9,7.0,6.8,6.7,4.7,4.8,4.6,6.7,6.3,6.6,6.9,4.1,8.3,6.9,8.1,8.0,4.5,5.9,6.8,6.5,6.4,5.8,3.8,7.5,6.3,6.2,5.5,3.7,6.6,5.3,7.2,6.8,4.6,6.8,6.5,5.8,7.4,4.7,7.1,3.1,6.1,5.3,4.9,6.7,7.3,5.9,5.6,6.5,6.2,6.5,7.7,6.8,5.3,6.9,6.5,3.9,7.1,7.7,7.4,6.3,3.8,7.0,6.7,3.7,7.5,7.0,5.2,5.1,6.5,5.6,7.2,6.3,5.4,7.4,6.7,7.2,8.1,7.3,7.8,7.5,6.4,6.1,5.9,6.1,5.9,4.9,5.5,4.0,6.4,4.2,7.8,5.2,5.5,6.5,4.4,6.3,7.3,6.5,7.0,6.7,7.2,5.7,4.5,7.2,3.6,7.0,6.1,5.3,5.0,5.0,5.0,6.7,7.2,2.5,6.9,8.4,5.3,6.1,5.4,3.8,6.3,3.3,6.4,7.1,6.5,4.0,7.7,6.0,7.9,3.3,4.2,8.2,7.0,3.8,1.9,5.3,5.2,7.1,4.6,5.0,5.2,6.6,6.9,6.5,4.6,5.7,4.0,7.1,4.3,7.8,7.7,5.7,6.7,6.7,6.3,8.5,7.1,2.9,6.6,3.8,3.9,7.1,6.4,7.2,2.5,3.4,6.9,6.1,6.9,6.8,5.7,6.9,6.9,4.4,6.9,5.7,6.0,5.8,6.2,7.1,4.9,4.3,5.4,5.1,7.3,6.9,6.8,4.4,4.8,6.0,6.0,6.3,6.4,7.5,4.7,6.8,7.1,6.5,3.1,6.2,8.3,4.8,7.2,3.5,7.3,7.1,7.1,5.8,4.6,5.2,6.4,5.7,6.7,5.3,4.5,7.3,8.1,7.3,7.0,8.8,5.6,5.9,6.0,6.7,7.1,5.5,6.0,5.9,6.6,4.6,5.5,4.9,6.8,3.2,2.1,5.6,9.3,7.0,7.1,6.9,7.4,6.1,5.7,4.7,6.7,5.4,7.5,5.6,4.9,4.2,4.1,6.8,6.6,5.8,5.7,6.2,4.3,4.9,8.4,6.1,2.5,6.4,6.7,7.8,7.8,5.7,7.6,7.4,4.5,4.4,6.4,7.9,7.5,4.4,4.7,7.9,5.6,4.1,6.7,6.2,6.5,7.1,7.9,3.4,5.6,5.6,5.3,5.1,6.3,5.4,5.3,5.9,6.6,3.5,4.2,5.1,5.8,5.5,5.8,6.4,6.4,5.7,7.1,6.2,6.5,6.0,5.8,4.6,5.9,1.7,6.9,5.3,6.8,5.2,6.8,6.5,8.6,7.3,6.0,3.5,6.5,9.2,7.4,5.9,7.0,7.3,7.4,4.6,6.8,6.8,5.8,5.0,2.6,4.0,3.1,5.7,4.8,6.7,6.8,4.3,5.3,6.9,5.6,5.9,4.7,6.6,4.6,4.8,6.5,5.6,8.1,6.6,6.1,7.8,7.2,5.3,5.0,6.2,6.7,5.7,7.0,2.7,5.9,2.8,5.8,6.0,5.6,4.6,5.0,4.2,5.4,4.8,6.7,5.9,5.9,4.8,3.8,6.2,7.3,7.2,7.1,4.7,6.6,4.4,4.9,6.4,3.4,8.6,6.1,6.8,9.0,6.6,6.2,3.7,9.4,5.1,6.2,3.1,7.9,8.0,5.9,6.5,3.9,8.0,8.9,5.0,2.7,6.4,7.3,4.8,5.4,6.6,7.8,6.6,6.8,8.1,5.8,6.9,7.5,5.4,6.6,6.7,6.2,6.2,8.0,6.7,7.2,5.2,7.1,7.2,5.1,8.2,5.8,6.3,4.0,4.2,4.8,4.4,6.6,7.0,5.6,5.6,5.1,5.7,5.9,5.6,6.3,7.7,7.2,5.8,5.1,8.1,4.1,2.7,5.6,4.1,5.5,2.8,4.7,7.5,8.1,5.8,5.8,4.1,4.6,7.8,5.6,6.3,7.4,4.6,7.1,7.4,5.8,5.5,3.5,7.4,7.3,8.6,3.8,5.8,7.8,5.7,6.6,6.7,4.3,8.5,3.8,4.3,7.5,3.7,5.1,8.5,5.7,4.3,8.9,1.9,4.9,5.8,6.4,3.6,5.9,6.5,5.4,4.7,5.7,6.2,6.5,6.3,7.4,7.3,6.0,6.6,6.6,5.2,6.2,6.3,8.2,4.4,5.5,6.6,7.1,6.6,8.6,5.8,7.8,5.7,7.4,5.1,5.2,6.0,4.2,6.6,7.6,7.4,5.8,5.1,7.1,7.1,5.1,4.7,6.6,6.2,7.5,5.1,7.0,5.7,3.7,8.6,4.5,2.3,4.6,3.2,5.1,5.0,6.5,7.6,7.7,8.0,6.3,9.0,7.2,5.8,7.3,4.2,4.7,6.8,7.8,5.1,5.4,2.8,7.7,8.1,7.0,7.7,6.9,5.2,7.3,4.2,7.2,4.9,5.1,5.4,8.2,8.2,7.2,4.8,3.3,2.4,7.7,2.8,4.3,4.2,3.5,6.9,5.8,2.7,6.7,5.7,7.9,6.7,7.2,5.5,6.6,6.1,3.4,7.2,6.6,7.2,6.1,5.6,4.8,4.7,4.1,8.8,4.9,3.9,5.2,5.5,7.4,6.6,5.0,3.5,6.1,7.8,5.6,7.1,5.0,6.2,6.6,6.2,3.9,4.1,7.3,6.1,7.5,6.3,4.5,3.2,4.3,3.8,6.8,6.9,8.0,4.5,7.1,7.1,6.8,4.2,5.8,9.0,4.7,7.9,5.3,5.8,6.6,7.2,3.9,6.1,7.0,6.9,4.8,1.6,4.8,5.9,7.7,6.6,6.4,3.2,5.8,4.8,5.7,5.5,6.7,5.5,6.2,4.6,6.4,3.1,6.9,8.0,6.5,5.4,4.1,5.8,4.4,5.8,4.8,6.7,7.1,7.4,7.5,7.3,7.4,8.2,8.6,6.8,7.0,6.5,3.8,6.2,5.4,5.6,6.6,6.6,7.1,5.8,4.4,5.4,7.8,6.8,6.1,7.4,5.4,3.2,2.7,7.7,9.1,5.5,5.9,9.1,5.4,4.9,5.8,5.7,5.1,6.2,6.6,5.1,8.2,5.4,6.3,4.2,7.1,6.7,5.6,7.0,6.2,6.6,8.5,4.8,6.5,5.2,5.4,3.8,7.6,6.7,7.1,7.1,2.4,7.2,6.7,6.3,6.5,6.5,6.5,5.9,8.6,7.3,3.7,4.6,5.5,6.0,6.7,7.6,6.4,8.1,7.2,6.6,7.2,4.1,4.6,4.0,4.3,3.8,4.6,8.0,7.0,5.6,4.4,5.5,6.0,7.2,6.2,6.1,5.4,2.7,6.5,4.4,7.6,5.4,6.2,8.0,7.9,8.4,8.7,5.9,6.2,5.4,3.4,4.1,5.2,5.4,6.9,4.9,6.8,5.5,5.5,6.5,6.7,7.7,3.5,7.7,5.8,5.7,6.2,6.4,6.6,6.5,5.2,5.9,6.1,3.6,5.9,5.3,6.9,6.3,6.1,4.4,5.0,4.0,5.2,3.1,7.4,6.3,7.1,4.8,7.3,7.9,3.6,3.8,5.6,6.8,7.0,5.8,5.4,6.1,4.3,6.0,6.3,3.3,3.1,3.1,2.9,4.7,7.6,6.5,6.7,6.6,3.7,8.0,5.8,6.0,5.4,6.8,6.9,3.6,7.3,7.1,2.3,7.2,3.5,9.0,3.9,9.3,5.5,5.9,3.2,7.7,4.5,4.9,7.0,8.4,5.1,8.5,6.7,7.6,7.0,6.7,6.4,8.7,6.1,7.8,6.9,3.9,3.5,6.8,7.2,7.7,5.7,6.8,7.2,4.9,5.8,8.2,5.6,5.7,7.1,5.1,6.7,4.4,6.9,6.8,2.9,5.8,7.2,6.1,6.4,4.7,4.1,6.4,3.6,5.6,7.3,6.2,7.5,5.4,6.7,6.9,7.3,6.7,6.8,7.2,7.2,6.8,6.4,6.6,6.2,7.5,7.0,5.3,6.7,5.9,8.2,3.8,3.8,4.7,6.0,6.2,5.5,7.0,2.5,5.3,6.5,7.5,6.8,6.9,5.3,5.2,5.1,6.9,3.5,4.9,7.4,7.4,7.1,4.3,4.8,6.7,6.8,6.5,5.8,6.8,4.9,7.2,7.4,7.2,3.9,6.5,4.2,4.0,5.1,7.0,4.9,8.1,4.2,5.2,6.8,5.0,7.2,6.6,5.7,6.5,7.2,4.5,6.4,7.2,6.6,7.5,7.3,2.9,6.2,4.0,3.4,5.8,5.5,6.9,5.3,6.9,6.0,2.8,9.1,5.6,5.8,6.1,5.9,6.3,6.5,5.4,7.2,6.1,6.9,6.6,4.5,8.6,6.5,6.8,5.9,8.0,5.9,7.3,8.2,6.9,6.7,6.7,8.7,4.4,4.7,5.6,6.1,6.7,6.8,5.1,8.7,6.0,7.3,5.5,6.9,7.6,8.1,3.8,3.8,7.4,6.8,6.4,7.5,5.9,6.3,5.4,4.9,4.0,5.1,2.4,5.9,6.1,7.0,6.7,5.0,6.2,4.7,6.8,4.2,7.3,5.7,5.9,7.7,6.4,5.9,2.4,3.6,6.0,5.1,6.2,5.4,9.2,6.1,6.2,3.5,7.2,6.8,6.8,7.2,6.4,6.0,6.6,6.1,7.9,5.9,7.0,6.4,5.3,5.7,6.8,8.6,9.4,2.9,6.9,4.9,6.7,7.3,5.9,7.1,7.3,4.6,5.2,4.4,5.9,6.4,6.6,5.9,4.8,6.4,7.3,7.9,4.1,5.4,6.3,7.9,3.4,5.7,5.4,7.6,6.5,7.0,5.1,7.3,7.3,8.0,6.4,6.0,3.9,6.1,8.1,5.0,6.9,4.8,6.8,5.8,6.6,3.5,6.9,6.5,6.6,8.2,5.8,7.3,7.8,7.2,6.7,6.9,5.2,5.6,4.8,7.0,4.7,8.2,7.4,5.1,6.5,3.2,5.8,5.0,6.0,5.2,5.2,6.5,7.1,7.2,7.3,6.2,5.6,8.9,4.3,5.3,6.7,5.4,6.7,6.6,7.7,4.8,4.9,7.9,7.3,5.4,6.5,4.9,5.5,6.8,4.5,4.8,4.6,7.1,6.4,3.3,8.1,2.7,5.7,5.4,5.6,7.0,6.0,6.6,5.1,6.7,5.4,6.1,6.4,4.6,7.6,6.6,3.3,5.2,4.4,6.1,3.4,8.6,4.8,5.9,7.0,7.9,5.0,3.3,6.3,6.4,6.4,5.3,3.9,7.1,6.0,3.7,4.4,6.0,5.7,5.7,6.1],\"coloraxis\":\"coloraxis\",\"symbol\":\"circle\"},\"mode\":\"markers\",\"name\":\"\",\"showlegend\":false,\"x\":[109,96,120,116,168,94,107,113,130,126,115,122,100,93,102,145,111,104,92,126,100,124,105,145,127,140,112,104,121,123,120,144,72,132,107,154,142,78,145,133,170,137,151,78,116,46,132,162,153,138,116,152,130,160,144,94,141,125,180,129,120,136,146,132,172,150,132,146,128,133,78,127,132,88,150,122,120,151,142,137,123,140,145,120,115,104,136,58,160,165,136,124,100,109,120,135,97,149,133,137,166,121,153,95,155,135,102,113,169,152,110,151,131,153,142,148,91,134,125,154,160,84,136,125,137,173,122,131,90,118,103,86,97,128,109,102,127,120,300,135,155,152,142,149,119,96,144,150,149,101,131,131,152,102,140,117,79,127,65,138,48,148,120,118,138,146,129,123,119,95,100,103,91,137,145,170,160,120,156,147,133,72,176,68,81,132,133,117,120,176,136,102,145,126,108,148,169,131,161,125,125,125,128,88,135,172,127,160,115,89,113,136,136,172,164,133,83,84,115,120,74,105,113,95,142,143,122,128,85,100,96,93,140,142,141,74,140,138,131,131,115,91,139,145,100,116,126,122,120,114,135,150,125,124,81,127,107,115,136,68,114,116,93,95,119,126,130,120,131,126,150,83,164,165,136,137,134,92,140,120,111,127,150,130,95,108,149,169,120,137,129,166,140,128,207,136,109,136,147,156,102,130,123,88,85,106,136,102,90,130,97,141,155,127,110,116,155,135,90,114,85,107,135,99,108,135,98,113,137,90,92,140,104,142,116,120,140,119,139,130,89,97,145,149,120,110,106,153,145,152,76,146,113,107,128,121,108,125,180,137,75,155,91,100,126,110,98,141,94,130,158,139,114,87,117,79,135,146,148,129,150,117,100,153,126,129,139,152,97,120,137,130,148,110,127,142,120,130,155,131,120,127,153,139,130,145,110,90,144,99,138,135,147,130,104,102,92,92,137,124,120,171,130,120,160,143,166,147,116,110,153,177,125,123,115,71,120,137,147,100,133,122,139,133,95,105,137,100,105,130,138,136,135,132,115,73,164,120,151,97,140,94,133,102,104,139,134,145,117,80,84,87,165,97,84,106,86,160,112,85,109,141,138,180,104,111,127,145,120,119,140,107,128,112,157,145,134,124,102,129,146,90,125,124,111,151,150,105,153,156,155,158,157,138,108,126,103,126,123,120,90,110,140,134,155,64,90,130,139,132,96,110,169,140,125,134,136,152,102,75,118,140,102,120,125,117,128,82,108,108,89,120,136,121,137,109,160,135,149,133,136,129,102,93,170,186,120,133,135,102,142,149,106,102,128,125,47,115,91,118,130,104,112,127,172,143,121,126,144,119,137,134,142,135,149,120,118,125,95,117,102,100,120,98,127,140,131,143,143,121,144,145,82,124,116,155,103,125,148,134,132,108,131,93,127,136,160,140,139,137,127,131,139,94,112,163,173,141,162,90,195,131,126,130,185,110,139,135,139,82,135,120,143,124,173,144,93,132,133,149,120,139,140,104,140,133,136,93,142,154,147,144,161,134,100,155,115,149,93,128,133,78,109,90,144,135,109,148,127,90,73,136,101,138,125,132,95,137,136,95,147,131,120,93,132,127,162,112,70,122,124,130,120,95,88,113,135,103,120,115,99,130,96,121,110,119,127,125,167,119,74,100,106,134,103,92,117,117,87,127,130,97,145,82,91,158,155,155,120,100,84,137,143,119,142,124,143,135,141,137,85,125,140,130,65,180,130,92,105,65,140,104,116,112,150,107,86,121,143,124,136,87,125,106,161,125,113,133,135,123,148,134,147,92,108,92,120,90,113,108,137,125,130,81,85,108,105,103,120,100,90,160,122,107,126,132,157,122,129,91,156,127,117,180,140,124,148,151,152,145,139,116,113,120,130,133,145,128,137,130,106,80,82,167,160,130,127,120,146,45,120,180,178,127,136,106,137,130,90,137,199,112,100,130,94,109,109,80,118,152,96,119,99,130,120,95,115,107,154,99,103,124,96,80,155,152,79,140,153,162,99,104,138,120,155,135,150,162,140,141,129,142,164,140,161,180,108,122,110,90,131,146,98,87,107,130,119,161,148,90,102,133,113,117,104,119,143,126,130,100,112,113,115,93,105,85,95,108,119,114,155,95,142,140,156,135,100,130,134,146,77,128,133,130,132,134,136,95,104,190,87,122,143,165,120,132,182,132,136,127,131,156,126,128,121,146,84,146,130,110,125,150,132,137,128,130,147,104,99,142,118,136,65,122,140,154,165,125,95,133,100,128,95,95,110,138,108,155,123,105,80,118,117,99,92,160,101,122,89,129,126,150,59,114,146,160,153,115,141,130,98,129,162,135,123,145,88,138,100,49,113,131,98,143,143,83,170,116,129,120,125,139,110,120,109,120,83,155,157,152,139,114,140,128,141,134,132,142,118,109,122,117,127,120,138,188,175,130,85,120,107,110,158,155,138,128,120,126,83,150,125,121,125,150,114,121,130,135,138,110,97,159,139,135,137,116,133,106,135,154,161,136,100,145,96,113,85,109,127,118,122,120,149,119,70,120,139,133,151,171,117,146,144,125,138,120,135,128,90,111,130,122,112,104,140,157,141,122,139,98,93,180,162,80,116,124,101,65,89,125,131,88,80,82,80,159,145,105,158,78,123,117,80,95,50,107,139,119,90,100,128,117,107,135,150,153,110,137,83,139,117,130,150,132,54,135,114,109,137,129,120,133,132,120,109,149,128,162,126,129,128,151,165,131,155,168,100,137,157,116,106,118,126,148,114,152,175,132,97,139,144,135,115,185,104,120,47,130,140,150,126,127,134,90,129,140,99,73,138,79,128,76,155,130,115,135,122,127,144,113,115,120,133,110,125,110,162,139,111,67,100,147,170,125,132,95,93,52,90,99,142,123,96,100,105,134,160,135,112,133,97,94,140,80,153,153,114,135,134,135,100,107,105,143,143,143,127,60,110,121,90,66,139,140,189,90,160,151,104,133,154,135,121,182,127,115,155,144,120,110,171,122,104,131,136,101,160,158,120,143,116,153,148,107,127,122,103,120,73,195,155,104,125,142,65,110,149,90,134,144,125,93,121,138,87,119,95,48,92,110,100,89,137,102,100,82,118,98,122,90,140,89,141,96,97,90,115,113,108,110,124,96,91,119,90,87,105,115,140,150,137,121,124,155,130,94,151,88,113,135,124,112,136,87,107,130,137,157,114,120,96,155,134,135,136,72,127,92,145,100,140,90,123,120,137,151,93,125,106,137,122,112,110,153,85,101,98,145,93,136,158,175,135,129,127,144,250,135,148,118,120,151,82,110,150,143,128,150,125,130,79,117,110,108,78,144,92,115,116,112,94,135,93,121,142,150,82,92,97,152,128,108,150,137,151,115,77,132,117,129,106,117,90,108,147,140,133,117,92,132,84,124,125,125,166,115,140,141,136,112,131,134,117,120,120,140,100,115],\"xaxis\":\"x\",\"y\":[7.0,6.2,5.9,7.1,5.6,4.5,4.0,5.5,6.1,6.1,6.9,6.9,6.9,5.6,5.6,6.3,5.7,4.2,6.2,5.0,6.2,5.3,8.1,6.3,7.3,6.0,3.1,7.9,8.0,2.7,6.8,2.4,7.4,5.1,7.6,6.4,6.7,7.6,4.2,4.1,5.3,4.8,5.0,3.1,5.5,3.1,3.3,4.4,6.9,2.8,5.4,3.0,6.4,5.6,6.1,6.6,4.2,6.1,6.1,6.7,7.1,5.5,7.3,6.1,5.5,4.5,6.4,5.1,6.6,7.6,4.0,7.0,5.8,4.7,5.0,5.5,6.6,4.7,3.1,7.8,3.6,4.6,5.9,6.6,5.8,6.9,6.6,5.5,7.0,5.6,6.9,6.8,5.5,5.9,6.5,6.3,7.9,4.3,3.7,6.6,6.1,6.5,4.2,4.4,4.9,6.2,7.3,5.9,5.0,5.6,3.9,5.5,8.0,7.0,4.9,7.1,6.3,7.4,6.3,6.6,5.5,7.1,4.4,6.6,5.7,6.8,7.3,7.5,6.5,6.9,3.7,4.8,9.3,4.3,7.3,7.3,8.8,4.3,5.6,5.9,6.4,3.8,4.2,4.2,4.8,6.4,6.5,7.2,5.9,8.7,3.6,5.1,6.2,7.6,7.1,8.8,6.1,7.3,7.0,6.2,6.1,6.4,8.2,3.3,6.0,6.9,6.7,4.7,2.5,7.1,6.6,5.9,7.7,5.5,4.7,5.7,7.1,8.8,6.0,6.3,6.8,9.3,7.7,4.2,2.3,6.1,7.3,8.1,7.5,5.6,3.6,7.2,6.1,7.9,3.7,6.0,4.9,2.8,6.0,7.0,4.8,5.6,5.6,5.9,5.8,4.9,6.3,5.2,3.6,2.5,4.6,8.7,4.4,3.8,5.8,4.6,6.2,5.5,5.1,6.8,6.8,4.3,3.4,4.9,6.4,6.2,5.9,7.0,4.0,7.1,7.2,7.8,6.7,7.4,7.0,6.4,4.4,6.9,6.0,4.5,3.9,7.6,5.9,6.2,7.1,4.1,6.9,8.2,8.6,6.5,6.5,7.9,6.0,4.8,6.1,6.7,2.9,6.4,7.5,6.9,7.6,7.3,2.6,6.8,7.8,6.0,4.8,4.5,4.2,5.6,7.0,7.9,7.8,3.5,7.7,4.5,8.6,4.7,6.8,4.2,3.8,4.9,8.6,6.5,5.9,7.0,6.8,6.7,4.7,4.8,4.6,6.7,6.3,6.6,6.9,4.1,8.3,6.9,8.1,8.0,4.5,5.9,6.8,6.5,6.4,5.8,3.8,7.5,6.3,6.2,5.5,3.7,6.6,5.3,7.2,6.8,4.6,6.8,6.5,5.8,7.4,4.7,7.1,3.1,6.1,5.3,4.9,6.7,7.3,5.9,5.6,6.5,6.2,6.5,7.7,6.8,5.3,6.9,6.5,3.9,7.1,7.7,7.4,6.3,3.8,7.0,6.7,3.7,7.5,7.0,5.2,5.1,6.5,5.6,7.2,6.3,5.4,7.4,6.7,7.2,8.1,7.3,7.8,7.5,6.4,6.1,5.9,6.1,5.9,4.9,5.5,4.0,6.4,4.2,7.8,5.2,5.5,6.5,4.4,6.3,7.3,6.5,7.0,6.7,7.2,5.7,4.5,7.2,3.6,7.0,6.1,5.3,5.0,5.0,5.0,6.7,7.2,2.5,6.9,8.4,5.3,6.1,5.4,3.8,6.3,3.3,6.4,7.1,6.5,4.0,7.7,6.0,7.9,3.3,4.2,8.2,7.0,3.8,1.9,5.3,5.2,7.1,4.6,5.0,5.2,6.6,6.9,6.5,4.6,5.7,4.0,7.1,4.3,7.8,7.7,5.7,6.7,6.7,6.3,8.5,7.1,2.9,6.6,3.8,3.9,7.1,6.4,7.2,2.5,3.4,6.9,6.1,6.9,6.8,5.7,6.9,6.9,4.4,6.9,5.7,6.0,5.8,6.2,7.1,4.9,4.3,5.4,5.1,7.3,6.9,6.8,4.4,4.8,6.0,6.0,6.3,6.4,7.5,4.7,6.8,7.1,6.5,3.1,6.2,8.3,4.8,7.2,3.5,7.3,7.1,7.1,5.8,4.6,5.2,6.4,5.7,6.7,5.3,4.5,7.3,8.1,7.3,7.0,8.8,5.6,5.9,6.0,6.7,7.1,5.5,6.0,5.9,6.6,4.6,5.5,4.9,6.8,3.2,2.1,5.6,9.3,7.0,7.1,6.9,7.4,6.1,5.7,4.7,6.7,5.4,7.5,5.6,4.9,4.2,4.1,6.8,6.6,5.8,5.7,6.2,4.3,4.9,8.4,6.1,2.5,6.4,6.7,7.8,7.8,5.7,7.6,7.4,4.5,4.4,6.4,7.9,7.5,4.4,4.7,7.9,5.6,4.1,6.7,6.2,6.5,7.1,7.9,3.4,5.6,5.6,5.3,5.1,6.3,5.4,5.3,5.9,6.6,3.5,4.2,5.1,5.8,5.5,5.8,6.4,6.4,5.7,7.1,6.2,6.5,6.0,5.8,4.6,5.9,1.7,6.9,5.3,6.8,5.2,6.8,6.5,8.6,7.3,6.0,3.5,6.5,9.2,7.4,5.9,7.0,7.3,7.4,4.6,6.8,6.8,5.8,5.0,2.6,4.0,3.1,5.7,4.8,6.7,6.8,4.3,5.3,6.9,5.6,5.9,4.7,6.6,4.6,4.8,6.5,5.6,8.1,6.6,6.1,7.8,7.2,5.3,5.0,6.2,6.7,5.7,7.0,2.7,5.9,2.8,5.8,6.0,5.6,4.6,5.0,4.2,5.4,4.8,6.7,5.9,5.9,4.8,3.8,6.2,7.3,7.2,7.1,4.7,6.6,4.4,4.9,6.4,3.4,8.6,6.1,6.8,9.0,6.6,6.2,3.7,9.4,5.1,6.2,3.1,7.9,8.0,5.9,6.5,3.9,8.0,8.9,5.0,2.7,6.4,7.3,4.8,5.4,6.6,7.8,6.6,6.8,8.1,5.8,6.9,7.5,5.4,6.6,6.7,6.2,6.2,8.0,6.7,7.2,5.2,7.1,7.2,5.1,8.2,5.8,6.3,4.0,4.2,4.8,4.4,6.6,7.0,5.6,5.6,5.1,5.7,5.9,5.6,6.3,7.7,7.2,5.8,5.1,8.1,4.1,2.7,5.6,4.1,5.5,2.8,4.7,7.5,8.1,5.8,5.8,4.1,4.6,7.8,5.6,6.3,7.4,4.6,7.1,7.4,5.8,5.5,3.5,7.4,7.3,8.6,3.8,5.8,7.8,5.7,6.6,6.7,4.3,8.5,3.8,4.3,7.5,3.7,5.1,8.5,5.7,4.3,8.9,1.9,4.9,5.8,6.4,3.6,5.9,6.5,5.4,4.7,5.7,6.2,6.5,6.3,7.4,7.3,6.0,6.6,6.6,5.2,6.2,6.3,8.2,4.4,5.5,6.6,7.1,6.6,8.6,5.8,7.8,5.7,7.4,5.1,5.2,6.0,4.2,6.6,7.6,7.4,5.8,5.1,7.1,7.1,5.1,4.7,6.6,6.2,7.5,5.1,7.0,5.7,3.7,8.6,4.5,2.3,4.6,3.2,5.1,5.0,6.5,7.6,7.7,8.0,6.3,9.0,7.2,5.8,7.3,4.2,4.7,6.8,7.8,5.1,5.4,2.8,7.7,8.1,7.0,7.7,6.9,5.2,7.3,4.2,7.2,4.9,5.1,5.4,8.2,8.2,7.2,4.8,3.3,2.4,7.7,2.8,4.3,4.2,3.5,6.9,5.8,2.7,6.7,5.7,7.9,6.7,7.2,5.5,6.6,6.1,3.4,7.2,6.6,7.2,6.1,5.6,4.8,4.7,4.1,8.8,4.9,3.9,5.2,5.5,7.4,6.6,5.0,3.5,6.1,7.8,5.6,7.1,5.0,6.2,6.6,6.2,3.9,4.1,7.3,6.1,7.5,6.3,4.5,3.2,4.3,3.8,6.8,6.9,8.0,4.5,7.1,7.1,6.8,4.2,5.8,9.0,4.7,7.9,5.3,5.8,6.6,7.2,3.9,6.1,7.0,6.9,4.8,1.6,4.8,5.9,7.7,6.6,6.4,3.2,5.8,4.8,5.7,5.5,6.7,5.5,6.2,4.6,6.4,3.1,6.9,8.0,6.5,5.4,4.1,5.8,4.4,5.8,4.8,6.7,7.1,7.4,7.5,7.3,7.4,8.2,8.6,6.8,7.0,6.5,3.8,6.2,5.4,5.6,6.6,6.6,7.1,5.8,4.4,5.4,7.8,6.8,6.1,7.4,5.4,3.2,2.7,7.7,9.1,5.5,5.9,9.1,5.4,4.9,5.8,5.7,5.1,6.2,6.6,5.1,8.2,5.4,6.3,4.2,7.1,6.7,5.6,7.0,6.2,6.6,8.5,4.8,6.5,5.2,5.4,3.8,7.6,6.7,7.1,7.1,2.4,7.2,6.7,6.3,6.5,6.5,6.5,5.9,8.6,7.3,3.7,4.6,5.5,6.0,6.7,7.6,6.4,8.1,7.2,6.6,7.2,4.1,4.6,4.0,4.3,3.8,4.6,8.0,7.0,5.6,4.4,5.5,6.0,7.2,6.2,6.1,5.4,2.7,6.5,4.4,7.6,5.4,6.2,8.0,7.9,8.4,8.7,5.9,6.2,5.4,3.4,4.1,5.2,5.4,6.9,4.9,6.8,5.5,5.5,6.5,6.7,7.7,3.5,7.7,5.8,5.7,6.2,6.4,6.6,6.5,5.2,5.9,6.1,3.6,5.9,5.3,6.9,6.3,6.1,4.4,5.0,4.0,5.2,3.1,7.4,6.3,7.1,4.8,7.3,7.9,3.6,3.8,5.6,6.8,7.0,5.8,5.4,6.1,4.3,6.0,6.3,3.3,3.1,3.1,2.9,4.7,7.6,6.5,6.7,6.6,3.7,8.0,5.8,6.0,5.4,6.8,6.9,3.6,7.3,7.1,2.3,7.2,3.5,9.0,3.9,9.3,5.5,5.9,3.2,7.7,4.5,4.9,7.0,8.4,5.1,8.5,6.7,7.6,7.0,6.7,6.4,8.7,6.1,7.8,6.9,3.9,3.5,6.8,7.2,7.7,5.7,6.8,7.2,4.9,5.8,8.2,5.6,5.7,7.1,5.1,6.7,4.4,6.9,6.8,2.9,5.8,7.2,6.1,6.4,4.7,4.1,6.4,3.6,5.6,7.3,6.2,7.5,5.4,6.7,6.9,7.3,6.7,6.8,7.2,7.2,6.8,6.4,6.6,6.2,7.5,7.0,5.3,6.7,5.9,8.2,3.8,3.8,4.7,6.0,6.2,5.5,7.0,2.5,5.3,6.5,7.5,6.8,6.9,5.3,5.2,5.1,6.9,3.5,4.9,7.4,7.4,7.1,4.3,4.8,6.7,6.8,6.5,5.8,6.8,4.9,7.2,7.4,7.2,3.9,6.5,4.2,4.0,5.1,7.0,4.9,8.1,4.2,5.2,6.8,5.0,7.2,6.6,5.7,6.5,7.2,4.5,6.4,7.2,6.6,7.5,7.3,2.9,6.2,4.0,3.4,5.8,5.5,6.9,5.3,6.9,6.0,2.8,9.1,5.6,5.8,6.1,5.9,6.3,6.5,5.4,7.2,6.1,6.9,6.6,4.5,8.6,6.5,6.8,5.9,8.0,5.9,7.3,8.2,6.9,6.7,6.7,8.7,4.4,4.7,5.6,6.1,6.7,6.8,5.1,8.7,6.0,7.3,5.5,6.9,7.6,8.1,3.8,3.8,7.4,6.8,6.4,7.5,5.9,6.3,5.4,4.9,4.0,5.1,2.4,5.9,6.1,7.0,6.7,5.0,6.2,4.7,6.8,4.2,7.3,5.7,5.9,7.7,6.4,5.9,2.4,3.6,6.0,5.1,6.2,5.4,9.2,6.1,6.2,3.5,7.2,6.8,6.8,7.2,6.4,6.0,6.6,6.1,7.9,5.9,7.0,6.4,5.3,5.7,6.8,8.6,9.4,2.9,6.9,4.9,6.7,7.3,5.9,7.1,7.3,4.6,5.2,4.4,5.9,6.4,6.6,5.9,4.8,6.4,7.3,7.9,4.1,5.4,6.3,7.9,3.4,5.7,5.4,7.6,6.5,7.0,5.1,7.3,7.3,8.0,6.4,6.0,3.9,6.1,8.1,5.0,6.9,4.8,6.8,5.8,6.6,3.5,6.9,6.5,6.6,8.2,5.8,7.3,7.8,7.2,6.7,6.9,5.2,5.6,4.8,7.0,4.7,8.2,7.4,5.1,6.5,3.2,5.8,5.0,6.0,5.2,5.2,6.5,7.1,7.2,7.3,6.2,5.6,8.9,4.3,5.3,6.7,5.4,6.7,6.6,7.7,4.8,4.9,7.9,7.3,5.4,6.5,4.9,5.5,6.8,4.5,4.8,4.6,7.1,6.4,3.3,8.1,2.7,5.7,5.4,5.6,7.0,6.0,6.6,5.1,6.7,5.4,6.1,6.4,4.6,7.6,6.6,3.3,5.2,4.4,6.1,3.4,8.6,4.8,5.9,7.0,7.9,5.0,3.3,6.3,6.4,6.4,5.3,3.9,7.1,6.0,3.7,4.4,6.0,5.7,5.7,6.1],\"yaxis\":\"y\",\"type\":\"scattergl\"},{\"hovertemplate\":\"\\u003cb\\u003eOLS trendline\\u003c\\u002fb\\u003e\\u003cbr\\u003eRating = -0.00358894 * Duration + 6.42064\\u003cbr\\u003eR\\u003csup\\u003e2\\u003c\\u002fsup\\u003e=0.004070\\u003cbr\\u003e\\u003cbr\\u003eDuration=%{x}\\u003cbr\\u003eRating=%{y} \\u003cb\\u003e(trend)\\u003c\\u002fb\\u003e\\u003cextra\\u003e\\u003c\\u002fextra\\u003e\",\"legendgroup\":\"\",\"marker\":{\"symbol\":\"circle\"},\"mode\":\"lines\",\"name\":\"\",\"showlegend\":false,\"x\":[45,46,47,47,48,48,49,50,52,54,58,59,60,64,65,65,65,65,65,65,66,67,68,68,70,70,71,72,72,72,73,73,73,73,74,74,74,75,75,76,76,77,77,78,78,78,78,78,78,79,79,79,79,79,80,80,80,80,80,80,80,80,80,80,81,81,81,82,82,82,82,82,82,82,82,82,83,83,83,83,83,83,84,84,84,84,84,84,84,85,85,85,85,85,85,85,85,85,85,86,86,86,87,87,87,87,87,87,87,87,87,88,88,88,88,88,88,88,89,89,89,89,89,89,89,90,90,90,90,90,90,90,90,90,90,90,90,90,90,90,90,90,90,90,90,90,90,90,90,90,90,90,90,91,91,91,91,91,91,91,91,92,92,92,92,92,92,92,92,92,92,92,92,92,92,92,93,93,93,93,93,93,93,93,93,93,93,93,93,93,93,93,94,94,94,94,94,94,94,94,94,95,95,95,95,95,95,95,95,95,95,95,95,95,95,95,95,95,95,95,95,96,96,96,96,96,96,96,96,96,96,96,96,97,97,97,97,97,97,97,97,97,97,97,97,97,98,98,98,98,98,98,98,98,98,99,99,99,99,99,99,99,99,99,99,100,100,100,100,100,100,100,100,100,100,100,100,100,100,100,100,100,100,100,100,100,100,100,100,100,100,100,100,100,100,101,101,101,101,101,101,102,102,102,102,102,102,102,102,102,102,102,102,102,102,102,102,102,102,103,103,103,103,103,103,103,103,103,104,104,104,104,104,104,104,104,104,104,104,104,104,104,104,104,104,104,104,105,105,105,105,105,105,105,105,105,105,105,105,105,106,106,106,106,106,106,106,106,106,106,106,106,107,107,107,107,107,107,107,107,107,107,107,107,107,107,107,107,108,108,108,108,108,108,108,108,108,108,108,108,108,108,108,108,108,108,109,109,109,109,109,109,109,109,109,109,109,109,109,109,109,110,110,110,110,110,110,110,110,110,110,110,110,110,110,110,110,110,110,110,110,110,110,110,110,110,110,110,110,111,111,111,111,111,111,112,112,112,112,112,112,112,112,112,112,112,112,112,112,112,113,113,113,113,113,113,113,113,113,113,113,113,113,113,113,113,113,114,114,114,114,114,114,114,114,114,114,114,114,115,115,115,115,115,115,115,115,115,115,115,115,115,115,115,115,115,115,115,115,115,115,115,115,116,116,116,116,116,116,116,116,116,116,116,116,116,116,116,116,116,117,117,117,117,117,117,117,117,117,117,117,117,117,117,117,117,117,117,117,117,117,117,118,118,118,118,118,118,118,118,118,118,118,118,118,119,119,119,119,119,119,119,119,119,119,119,119,119,119,119,119,119,120,120,120,120,120,120,120,120,120,120,120,120,120,120,120,120,120,120,120,120,120,120,120,120,120,120,120,120,120,120,120,120,120,120,120,120,120,120,120,120,120,120,120,120,120,120,120,120,120,120,120,120,120,120,120,120,120,120,120,120,120,120,120,120,120,120,121,121,121,121,121,121,121,121,121,121,121,121,121,121,121,121,122,122,122,122,122,122,122,122,122,122,122,122,122,122,122,122,122,122,122,122,122,122,123,123,123,123,123,123,123,123,123,123,123,123,124,124,124,124,124,124,124,124,124,124,124,124,124,124,124,124,124,124,125,125,125,125,125,125,125,125,125,125,125,125,125,125,125,125,125,125,125,125,125,125,125,125,125,125,125,125,125,125,125,125,125,125,125,125,126,126,126,126,126,126,126,126,126,126,126,126,126,126,126,126,126,126,126,126,127,127,127,127,127,127,127,127,127,127,127,127,127,127,127,127,127,127,127,127,127,127,127,127,127,127,127,127,127,127,127,127,128,128,128,128,128,128,128,128,128,128,128,128,128,128,128,128,128,128,128,128,128,128,128,128,129,129,129,129,129,129,129,129,129,129,129,129,129,129,129,129,129,130,130,130,130,130,130,130,130,130,130,130,130,130,130,130,130,130,130,130,130,130,130,130,130,130,130,130,130,130,130,130,130,130,130,130,130,130,130,130,130,130,130,130,130,130,131,131,131,131,131,131,131,131,131,131,131,131,131,131,131,131,131,131,131,131,131,132,132,132,132,132,132,132,132,132,132,132,132,132,132,132,132,132,132,132,132,132,132,132,132,133,133,133,133,133,133,133,133,133,133,133,133,133,133,133,133,133,133,133,133,133,133,133,133,133,133,134,134,134,134,134,134,134,134,134,134,134,134,134,134,134,134,134,134,134,134,135,135,135,135,135,135,135,135,135,135,135,135,135,135,135,135,135,135,135,135,135,135,135,135,135,135,135,135,135,135,135,135,135,135,135,135,135,135,135,135,136,136,136,136,136,136,136,136,136,136,136,136,136,136,136,136,136,136,136,136,136,136,136,136,136,136,136,136,136,136,136,137,137,137,137,137,137,137,137,137,137,137,137,137,137,137,137,137,137,137,137,137,137,137,137,137,137,137,137,137,137,137,137,137,137,138,138,138,138,138,138,138,138,138,138,138,138,138,138,138,138,138,138,139,139,139,139,139,139,139,139,139,139,139,139,139,139,139,139,139,139,139,139,139,139,139,139,140,140,140,140,140,140,140,140,140,140,140,140,140,140,140,140,140,140,140,140,140,140,140,140,140,140,140,140,140,140,140,140,140,140,140,140,140,140,141,141,141,141,141,141,141,141,141,141,141,141,141,142,142,142,142,142,142,142,142,142,142,142,142,142,142,142,142,142,142,142,143,143,143,143,143,143,143,143,143,143,143,143,143,143,143,143,143,143,144,144,144,144,144,144,144,144,144,144,144,144,144,144,144,144,145,145,145,145,145,145,145,145,145,145,145,145,145,145,145,145,145,145,145,145,145,145,146,146,146,146,146,146,146,146,146,146,146,146,146,147,147,147,147,147,147,147,147,147,147,147,148,148,148,148,148,148,148,148,148,148,148,148,148,149,149,149,149,149,149,149,149,149,149,149,149,149,150,150,150,150,150,150,150,150,150,150,150,150,150,150,150,150,150,150,150,150,150,150,151,151,151,151,151,151,151,151,151,151,151,151,151,152,152,152,152,152,152,152,152,152,152,152,152,152,153,153,153,153,153,153,153,153,153,153,153,153,153,153,153,154,154,154,154,154,154,154,155,155,155,155,155,155,155,155,155,155,155,155,155,155,155,155,155,155,155,155,155,155,155,155,156,156,156,156,156,156,157,157,157,157,157,157,157,158,158,158,158,158,158,158,159,159,160,160,160,160,160,160,160,160,160,160,160,160,160,160,160,160,161,161,161,161,161,161,162,162,162,162,162,162,162,162,162,163,164,164,164,164,165,165,165,165,165,165,166,166,166,166,167,167,168,168,169,169,169,169,170,170,170,170,170,171,171,171,172,172,172,172,173,173,173,175,175,175,176,176,177,178,180,180,180,180,180,180,180,180,182,182,185,185,186,188,189,190,195,195,199,207,250,300],\"xaxis\":\"x\",\"y\":[6.259137786461846,6.255548847812745,6.251959909163643,6.251959909163643,6.248370970514542,6.248370970514542,6.244782031865441,6.2411930932163395,6.234015215918138,6.226837338619935,6.212481584023531,6.20889264537443,6.205303706725329,6.190947952128925,6.187359013479823,6.187359013479823,6.187359013479823,6.187359013479823,6.187359013479823,6.187359013479823,6.183770074830722,6.180181136181622,6.17659219753252,6.17659219753252,6.169414320234318,6.169414320234318,6.165825381585217,6.162236442936116,6.162236442936116,6.162236442936116,6.158647504287015,6.158647504287015,6.158647504287015,6.158647504287015,6.155058565637914,6.155058565637914,6.155058565637914,6.1514696269888125,6.1514696269888125,6.147880688339711,6.147880688339711,6.144291749690611,6.144291749690611,6.14070281104151,6.14070281104151,6.14070281104151,6.14070281104151,6.14070281104151,6.14070281104151,6.137113872392408,6.137113872392408,6.137113872392408,6.137113872392408,6.137113872392408,6.133524933743307,6.133524933743307,6.133524933743307,6.133524933743307,6.133524933743307,6.133524933743307,6.133524933743307,6.133524933743307,6.133524933743307,6.133524933743307,6.129935995094206,6.129935995094206,6.129935995094206,6.1263470564451055,6.1263470564451055,6.1263470564451055,6.1263470564451055,6.1263470564451055,6.1263470564451055,6.1263470564451055,6.1263470564451055,6.1263470564451055,6.122758117796004,6.122758117796004,6.122758117796004,6.122758117796004,6.122758117796004,6.122758117796004,6.119169179146903,6.119169179146903,6.119169179146903,6.119169179146903,6.119169179146903,6.119169179146903,6.119169179146903,6.115580240497802,6.115580240497802,6.115580240497802,6.115580240497802,6.115580240497802,6.115580240497802,6.115580240497802,6.115580240497802,6.115580240497802,6.115580240497802,6.1119913018487,6.1119913018487,6.1119913018487,6.1084023631996,6.1084023631996,6.1084023631996,6.1084023631996,6.1084023631996,6.1084023631996,6.1084023631996,6.1084023631996,6.1084023631996,6.104813424550499,6.104813424550499,6.104813424550499,6.104813424550499,6.104813424550499,6.104813424550499,6.104813424550499,6.1012244859013975,6.1012244859013975,6.1012244859013975,6.1012244859013975,6.1012244859013975,6.1012244859013975,6.1012244859013975,6.097635547252296,6.097635547252296,6.097635547252296,6.097635547252296,6.097635547252296,6.097635547252296,6.097635547252296,6.097635547252296,6.097635547252296,6.097635547252296,6.097635547252296,6.097635547252296,6.097635547252296,6.097635547252296,6.097635547252296,6.097635547252296,6.097635547252296,6.097635547252296,6.097635547252296,6.097635547252296,6.097635547252296,6.097635547252296,6.097635547252296,6.097635547252296,6.097635547252296,6.097635547252296,6.097635547252296,6.097635547252296,6.094046608603195,6.094046608603195,6.094046608603195,6.094046608603195,6.094046608603195,6.094046608603195,6.094046608603195,6.094046608603195,6.090457669954094,6.090457669954094,6.090457669954094,6.090457669954094,6.090457669954094,6.090457669954094,6.090457669954094,6.090457669954094,6.090457669954094,6.090457669954094,6.090457669954094,6.090457669954094,6.090457669954094,6.090457669954094,6.090457669954094,6.086868731304993,6.086868731304993,6.086868731304993,6.086868731304993,6.086868731304993,6.086868731304993,6.086868731304993,6.086868731304993,6.086868731304993,6.086868731304993,6.086868731304993,6.086868731304993,6.086868731304993,6.086868731304993,6.086868731304993,6.086868731304993,6.083279792655892,6.083279792655892,6.083279792655892,6.083279792655892,6.083279792655892,6.083279792655892,6.083279792655892,6.083279792655892,6.083279792655892,6.079690854006791,6.079690854006791,6.079690854006791,6.079690854006791,6.079690854006791,6.079690854006791,6.079690854006791,6.079690854006791,6.079690854006791,6.079690854006791,6.079690854006791,6.079690854006791,6.079690854006791,6.079690854006791,6.079690854006791,6.079690854006791,6.079690854006791,6.079690854006791,6.079690854006791,6.079690854006791,6.07610191535769,6.07610191535769,6.07610191535769,6.07610191535769,6.07610191535769,6.07610191535769,6.07610191535769,6.07610191535769,6.07610191535769,6.07610191535769,6.07610191535769,6.07610191535769,6.072512976708588,6.072512976708588,6.072512976708588,6.072512976708588,6.072512976708588,6.072512976708588,6.072512976708588,6.072512976708588,6.072512976708588,6.072512976708588,6.072512976708588,6.072512976708588,6.072512976708588,6.068924038059488,6.068924038059488,6.068924038059488,6.068924038059488,6.068924038059488,6.068924038059488,6.068924038059488,6.068924038059488,6.068924038059488,6.065335099410387,6.065335099410387,6.065335099410387,6.065335099410387,6.065335099410387,6.065335099410387,6.065335099410387,6.065335099410387,6.065335099410387,6.065335099410387,6.0617461607612855,6.0617461607612855,6.0617461607612855,6.0617461607612855,6.0617461607612855,6.0617461607612855,6.0617461607612855,6.0617461607612855,6.0617461607612855,6.0617461607612855,6.0617461607612855,6.0617461607612855,6.0617461607612855,6.0617461607612855,6.0617461607612855,6.0617461607612855,6.0617461607612855,6.0617461607612855,6.0617461607612855,6.0617461607612855,6.0617461607612855,6.0617461607612855,6.0617461607612855,6.0617461607612855,6.0617461607612855,6.0617461607612855,6.0617461607612855,6.0617461607612855,6.0617461607612855,6.0617461607612855,6.058157222112184,6.058157222112184,6.058157222112184,6.058157222112184,6.058157222112184,6.058157222112184,6.054568283463083,6.054568283463083,6.054568283463083,6.054568283463083,6.054568283463083,6.054568283463083,6.054568283463083,6.054568283463083,6.054568283463083,6.054568283463083,6.054568283463083,6.054568283463083,6.054568283463083,6.054568283463083,6.054568283463083,6.054568283463083,6.054568283463083,6.054568283463083,6.050979344813982,6.050979344813982,6.050979344813982,6.050979344813982,6.050979344813982,6.050979344813982,6.050979344813982,6.050979344813982,6.050979344813982,6.047390406164881,6.047390406164881,6.047390406164881,6.047390406164881,6.047390406164881,6.047390406164881,6.047390406164881,6.047390406164881,6.047390406164881,6.047390406164881,6.047390406164881,6.047390406164881,6.047390406164881,6.047390406164881,6.047390406164881,6.047390406164881,6.047390406164881,6.047390406164881,6.047390406164881,6.04380146751578,6.04380146751578,6.04380146751578,6.04380146751578,6.04380146751578,6.04380146751578,6.04380146751578,6.04380146751578,6.04380146751578,6.04380146751578,6.04380146751578,6.04380146751578,6.04380146751578,6.040212528866679,6.040212528866679,6.040212528866679,6.040212528866679,6.040212528866679,6.040212528866679,6.040212528866679,6.040212528866679,6.040212528866679,6.040212528866679,6.040212528866679,6.040212528866679,6.0366235902175776,6.0366235902175776,6.0366235902175776,6.0366235902175776,6.0366235902175776,6.0366235902175776,6.0366235902175776,6.0366235902175776,6.0366235902175776,6.0366235902175776,6.0366235902175776,6.0366235902175776,6.0366235902175776,6.0366235902175776,6.0366235902175776,6.0366235902175776,6.033034651568476,6.033034651568476,6.033034651568476,6.033034651568476,6.033034651568476,6.033034651568476,6.033034651568476,6.033034651568476,6.033034651568476,6.033034651568476,6.033034651568476,6.033034651568476,6.033034651568476,6.033034651568476,6.033034651568476,6.033034651568476,6.033034651568476,6.033034651568476,6.029445712919376,6.029445712919376,6.029445712919376,6.029445712919376,6.029445712919376,6.029445712919376,6.029445712919376,6.029445712919376,6.029445712919376,6.029445712919376,6.029445712919376,6.029445712919376,6.029445712919376,6.029445712919376,6.029445712919376,6.025856774270275,6.025856774270275,6.025856774270275,6.025856774270275,6.025856774270275,6.025856774270275,6.025856774270275,6.025856774270275,6.025856774270275,6.025856774270275,6.025856774270275,6.025856774270275,6.025856774270275,6.025856774270275,6.025856774270275,6.025856774270275,6.025856774270275,6.025856774270275,6.025856774270275,6.025856774270275,6.025856774270275,6.025856774270275,6.025856774270275,6.025856774270275,6.025856774270275,6.025856774270275,6.025856774270275,6.025856774270275,6.022267835621173,6.022267835621173,6.022267835621173,6.022267835621173,6.022267835621173,6.022267835621173,6.018678896972072,6.018678896972072,6.018678896972072,6.018678896972072,6.018678896972072,6.018678896972072,6.018678896972072,6.018678896972072,6.018678896972072,6.018678896972072,6.018678896972072,6.018678896972072,6.018678896972072,6.018678896972072,6.018678896972072,6.015089958322971,6.015089958322971,6.015089958322971,6.015089958322971,6.015089958322971,6.015089958322971,6.015089958322971,6.015089958322971,6.015089958322971,6.015089958322971,6.015089958322971,6.015089958322971,6.015089958322971,6.015089958322971,6.015089958322971,6.015089958322971,6.015089958322971,6.0115010196738705,6.0115010196738705,6.0115010196738705,6.0115010196738705,6.0115010196738705,6.0115010196738705,6.0115010196738705,6.0115010196738705,6.0115010196738705,6.0115010196738705,6.0115010196738705,6.0115010196738705,6.007912081024769,6.007912081024769,6.007912081024769,6.007912081024769,6.007912081024769,6.007912081024769,6.007912081024769,6.007912081024769,6.007912081024769,6.007912081024769,6.007912081024769,6.007912081024769,6.007912081024769,6.007912081024769,6.007912081024769,6.007912081024769,6.007912081024769,6.007912081024769,6.007912081024769,6.007912081024769,6.007912081024769,6.007912081024769,6.007912081024769,6.007912081024769,6.004323142375668,6.004323142375668,6.004323142375668,6.004323142375668,6.004323142375668,6.004323142375668,6.004323142375668,6.004323142375668,6.004323142375668,6.004323142375668,6.004323142375668,6.004323142375668,6.004323142375668,6.004323142375668,6.004323142375668,6.004323142375668,6.004323142375668,6.000734203726567,6.000734203726567,6.000734203726567,6.000734203726567,6.000734203726567,6.000734203726567,6.000734203726567,6.000734203726567,6.000734203726567,6.000734203726567,6.000734203726567,6.000734203726567,6.000734203726567,6.000734203726567,6.000734203726567,6.000734203726567,6.000734203726567,6.000734203726567,6.000734203726567,6.000734203726567,6.000734203726567,6.000734203726567,5.9971452650774655,5.9971452650774655,5.9971452650774655,5.9971452650774655,5.9971452650774655,5.9971452650774655,5.9971452650774655,5.9971452650774655,5.9971452650774655,5.9971452650774655,5.9971452650774655,5.9971452650774655,5.9971452650774655,5.993556326428365,5.993556326428365,5.993556326428365,5.993556326428365,5.993556326428365,5.993556326428365,5.993556326428365,5.993556326428365,5.993556326428365,5.993556326428365,5.993556326428365,5.993556326428365,5.993556326428365,5.993556326428365,5.993556326428365,5.993556326428365,5.993556326428365,5.989967387779264,5.989967387779264,5.989967387779264,5.989967387779264,5.989967387779264,5.989967387779264,5.989967387779264,5.989967387779264,5.989967387779264,5.989967387779264,5.989967387779264,5.989967387779264,5.989967387779264,5.989967387779264,5.989967387779264,5.989967387779264,5.989967387779264,5.989967387779264,5.989967387779264,5.989967387779264,5.989967387779264,5.989967387779264,5.989967387779264,5.989967387779264,5.989967387779264,5.989967387779264,5.989967387779264,5.989967387779264,5.989967387779264,5.989967387779264,5.989967387779264,5.989967387779264,5.989967387779264,5.989967387779264,5.989967387779264,5.989967387779264,5.989967387779264,5.989967387779264,5.989967387779264,5.989967387779264,5.989967387779264,5.989967387779264,5.989967387779264,5.989967387779264,5.989967387779264,5.989967387779264,5.989967387779264,5.989967387779264,5.989967387779264,5.989967387779264,5.989967387779264,5.989967387779264,5.989967387779264,5.989967387779264,5.989967387779264,5.989967387779264,5.989967387779264,5.989967387779264,5.989967387779264,5.989967387779264,5.989967387779264,5.989967387779264,5.989967387779264,5.989967387779264,5.989967387779264,5.989967387779264,5.986378449130163,5.986378449130163,5.986378449130163,5.986378449130163,5.986378449130163,5.986378449130163,5.986378449130163,5.986378449130163,5.986378449130163,5.986378449130163,5.986378449130163,5.986378449130163,5.986378449130163,5.986378449130163,5.986378449130163,5.986378449130163,5.982789510481061,5.982789510481061,5.982789510481061,5.982789510481061,5.982789510481061,5.982789510481061,5.982789510481061,5.982789510481061,5.982789510481061,5.982789510481061,5.982789510481061,5.982789510481061,5.982789510481061,5.982789510481061,5.982789510481061,5.982789510481061,5.982789510481061,5.982789510481061,5.982789510481061,5.982789510481061,5.982789510481061,5.982789510481061,5.97920057183196,5.97920057183196,5.97920057183196,5.97920057183196,5.97920057183196,5.97920057183196,5.97920057183196,5.97920057183196,5.97920057183196,5.97920057183196,5.97920057183196,5.97920057183196,5.97561163318286,5.97561163318286,5.97561163318286,5.97561163318286,5.97561163318286,5.97561163318286,5.97561163318286,5.97561163318286,5.97561163318286,5.97561163318286,5.97561163318286,5.97561163318286,5.97561163318286,5.97561163318286,5.97561163318286,5.97561163318286,5.97561163318286,5.97561163318286,5.9720226945337584,5.9720226945337584,5.9720226945337584,5.9720226945337584,5.9720226945337584,5.9720226945337584,5.9720226945337584,5.9720226945337584,5.9720226945337584,5.9720226945337584,5.9720226945337584,5.9720226945337584,5.9720226945337584,5.9720226945337584,5.9720226945337584,5.9720226945337584,5.9720226945337584,5.9720226945337584,5.9720226945337584,5.9720226945337584,5.9720226945337584,5.9720226945337584,5.9720226945337584,5.9720226945337584,5.9720226945337584,5.9720226945337584,5.9720226945337584,5.9720226945337584,5.9720226945337584,5.9720226945337584,5.9720226945337584,5.9720226945337584,5.9720226945337584,5.9720226945337584,5.9720226945337584,5.9720226945337584,5.968433755884657,5.968433755884657,5.968433755884657,5.968433755884657,5.968433755884657,5.968433755884657,5.968433755884657,5.968433755884657,5.968433755884657,5.968433755884657,5.968433755884657,5.968433755884657,5.968433755884657,5.968433755884657,5.968433755884657,5.968433755884657,5.968433755884657,5.968433755884657,5.968433755884657,5.968433755884657,5.964844817235556,5.964844817235556,5.964844817235556,5.964844817235556,5.964844817235556,5.964844817235556,5.964844817235556,5.964844817235556,5.964844817235556,5.964844817235556,5.964844817235556,5.964844817235556,5.964844817235556,5.964844817235556,5.964844817235556,5.964844817235556,5.964844817235556,5.964844817235556,5.964844817235556,5.964844817235556,5.964844817235556,5.964844817235556,5.964844817235556,5.964844817235556,5.964844817235556,5.964844817235556,5.964844817235556,5.964844817235556,5.964844817235556,5.964844817235556,5.964844817235556,5.964844817235556,5.961255878586455,5.961255878586455,5.961255878586455,5.961255878586455,5.961255878586455,5.961255878586455,5.961255878586455,5.961255878586455,5.961255878586455,5.961255878586455,5.961255878586455,5.961255878586455,5.961255878586455,5.961255878586455,5.961255878586455,5.961255878586455,5.961255878586455,5.961255878586455,5.961255878586455,5.961255878586455,5.961255878586455,5.961255878586455,5.961255878586455,5.961255878586455,5.957666939937353,5.957666939937353,5.957666939937353,5.957666939937353,5.957666939937353,5.957666939937353,5.957666939937353,5.957666939937353,5.957666939937353,5.957666939937353,5.957666939937353,5.957666939937353,5.957666939937353,5.957666939937353,5.957666939937353,5.957666939937353,5.957666939937353,5.954078001288253,5.954078001288253,5.954078001288253,5.954078001288253,5.954078001288253,5.954078001288253,5.954078001288253,5.954078001288253,5.954078001288253,5.954078001288253,5.954078001288253,5.954078001288253,5.954078001288253,5.954078001288253,5.954078001288253,5.954078001288253,5.954078001288253,5.954078001288253,5.954078001288253,5.954078001288253,5.954078001288253,5.954078001288253,5.954078001288253,5.954078001288253,5.954078001288253,5.954078001288253,5.954078001288253,5.954078001288253,5.954078001288253,5.954078001288253,5.954078001288253,5.954078001288253,5.954078001288253,5.954078001288253,5.954078001288253,5.954078001288253,5.954078001288253,5.954078001288253,5.954078001288253,5.954078001288253,5.954078001288253,5.954078001288253,5.954078001288253,5.954078001288253,5.954078001288253,5.950489062639152,5.950489062639152,5.950489062639152,5.950489062639152,5.950489062639152,5.950489062639152,5.950489062639152,5.950489062639152,5.950489062639152,5.950489062639152,5.950489062639152,5.950489062639152,5.950489062639152,5.950489062639152,5.950489062639152,5.950489062639152,5.950489062639152,5.950489062639152,5.950489062639152,5.950489062639152,5.950489062639152,5.9469001239900505,5.9469001239900505,5.9469001239900505,5.9469001239900505,5.9469001239900505,5.9469001239900505,5.9469001239900505,5.9469001239900505,5.9469001239900505,5.9469001239900505,5.9469001239900505,5.9469001239900505,5.9469001239900505,5.9469001239900505,5.9469001239900505,5.9469001239900505,5.9469001239900505,5.9469001239900505,5.9469001239900505,5.9469001239900505,5.9469001239900505,5.9469001239900505,5.9469001239900505,5.9469001239900505,5.943311185340949,5.943311185340949,5.943311185340949,5.943311185340949,5.943311185340949,5.943311185340949,5.943311185340949,5.943311185340949,5.943311185340949,5.943311185340949,5.943311185340949,5.943311185340949,5.943311185340949,5.943311185340949,5.943311185340949,5.943311185340949,5.943311185340949,5.943311185340949,5.943311185340949,5.943311185340949,5.943311185340949,5.943311185340949,5.943311185340949,5.943311185340949,5.943311185340949,5.943311185340949,5.939722246691848,5.939722246691848,5.939722246691848,5.939722246691848,5.939722246691848,5.939722246691848,5.939722246691848,5.939722246691848,5.939722246691848,5.939722246691848,5.939722246691848,5.939722246691848,5.939722246691848,5.939722246691848,5.939722246691848,5.939722246691848,5.939722246691848,5.939722246691848,5.939722246691848,5.939722246691848,5.936133308042748,5.936133308042748,5.936133308042748,5.936133308042748,5.936133308042748,5.936133308042748,5.936133308042748,5.936133308042748,5.936133308042748,5.936133308042748,5.936133308042748,5.936133308042748,5.936133308042748,5.936133308042748,5.936133308042748,5.936133308042748,5.936133308042748,5.936133308042748,5.936133308042748,5.936133308042748,5.936133308042748,5.936133308042748,5.936133308042748,5.936133308042748,5.936133308042748,5.936133308042748,5.936133308042748,5.936133308042748,5.936133308042748,5.936133308042748,5.936133308042748,5.936133308042748,5.936133308042748,5.936133308042748,5.936133308042748,5.936133308042748,5.936133308042748,5.936133308042748,5.936133308042748,5.936133308042748,5.932544369393646,5.932544369393646,5.932544369393646,5.932544369393646,5.932544369393646,5.932544369393646,5.932544369393646,5.932544369393646,5.932544369393646,5.932544369393646,5.932544369393646,5.932544369393646,5.932544369393646,5.932544369393646,5.932544369393646,5.932544369393646,5.932544369393646,5.932544369393646,5.932544369393646,5.932544369393646,5.932544369393646,5.932544369393646,5.932544369393646,5.932544369393646,5.932544369393646,5.932544369393646,5.932544369393646,5.932544369393646,5.932544369393646,5.932544369393646,5.932544369393646,5.928955430744545,5.928955430744545,5.928955430744545,5.928955430744545,5.928955430744545,5.928955430744545,5.928955430744545,5.928955430744545,5.928955430744545,5.928955430744545,5.928955430744545,5.928955430744545,5.928955430744545,5.928955430744545,5.928955430744545,5.928955430744545,5.928955430744545,5.928955430744545,5.928955430744545,5.928955430744545,5.928955430744545,5.928955430744545,5.928955430744545,5.928955430744545,5.928955430744545,5.928955430744545,5.928955430744545,5.928955430744545,5.928955430744545,5.928955430744545,5.928955430744545,5.928955430744545,5.928955430744545,5.928955430744545,5.925366492095444,5.925366492095444,5.925366492095444,5.925366492095444,5.925366492095444,5.925366492095444,5.925366492095444,5.925366492095444,5.925366492095444,5.925366492095444,5.925366492095444,5.925366492095444,5.925366492095444,5.925366492095444,5.925366492095444,5.925366492095444,5.925366492095444,5.925366492095444,5.921777553446343,5.921777553446343,5.921777553446343,5.921777553446343,5.921777553446343,5.921777553446343,5.921777553446343,5.921777553446343,5.921777553446343,5.921777553446343,5.921777553446343,5.921777553446343,5.921777553446343,5.921777553446343,5.921777553446343,5.921777553446343,5.921777553446343,5.921777553446343,5.921777553446343,5.921777553446343,5.921777553446343,5.921777553446343,5.921777553446343,5.921777553446343,5.918188614797241,5.918188614797241,5.918188614797241,5.918188614797241,5.918188614797241,5.918188614797241,5.918188614797241,5.918188614797241,5.918188614797241,5.918188614797241,5.918188614797241,5.918188614797241,5.918188614797241,5.918188614797241,5.918188614797241,5.918188614797241,5.918188614797241,5.918188614797241,5.918188614797241,5.918188614797241,5.918188614797241,5.918188614797241,5.918188614797241,5.918188614797241,5.918188614797241,5.918188614797241,5.918188614797241,5.918188614797241,5.918188614797241,5.918188614797241,5.918188614797241,5.918188614797241,5.918188614797241,5.918188614797241,5.918188614797241,5.918188614797241,5.918188614797241,5.918188614797241,5.914599676148141,5.914599676148141,5.914599676148141,5.914599676148141,5.914599676148141,5.914599676148141,5.914599676148141,5.914599676148141,5.914599676148141,5.914599676148141,5.914599676148141,5.914599676148141,5.914599676148141,5.91101073749904,5.91101073749904,5.91101073749904,5.91101073749904,5.91101073749904,5.91101073749904,5.91101073749904,5.91101073749904,5.91101073749904,5.91101073749904,5.91101073749904,5.91101073749904,5.91101073749904,5.91101073749904,5.91101073749904,5.91101073749904,5.91101073749904,5.91101073749904,5.91101073749904,5.9074217988499385,5.9074217988499385,5.9074217988499385,5.9074217988499385,5.9074217988499385,5.9074217988499385,5.9074217988499385,5.9074217988499385,5.9074217988499385,5.9074217988499385,5.9074217988499385,5.9074217988499385,5.9074217988499385,5.9074217988499385,5.9074217988499385,5.9074217988499385,5.9074217988499385,5.9074217988499385,5.903832860200837,5.903832860200837,5.903832860200837,5.903832860200837,5.903832860200837,5.903832860200837,5.903832860200837,5.903832860200837,5.903832860200837,5.903832860200837,5.903832860200837,5.903832860200837,5.903832860200837,5.903832860200837,5.903832860200837,5.903832860200837,5.900243921551736,5.900243921551736,5.900243921551736,5.900243921551736,5.900243921551736,5.900243921551736,5.900243921551736,5.900243921551736,5.900243921551736,5.900243921551736,5.900243921551736,5.900243921551736,5.900243921551736,5.900243921551736,5.900243921551736,5.900243921551736,5.900243921551736,5.900243921551736,5.900243921551736,5.900243921551736,5.900243921551736,5.900243921551736,5.896654982902636,5.896654982902636,5.896654982902636,5.896654982902636,5.896654982902636,5.896654982902636,5.896654982902636,5.896654982902636,5.896654982902636,5.896654982902636,5.896654982902636,5.896654982902636,5.896654982902636,5.893066044253534,5.893066044253534,5.893066044253534,5.893066044253534,5.893066044253534,5.893066044253534,5.893066044253534,5.893066044253534,5.893066044253534,5.893066044253534,5.893066044253534,5.889477105604433,5.889477105604433,5.889477105604433,5.889477105604433,5.889477105604433,5.889477105604433,5.889477105604433,5.889477105604433,5.889477105604433,5.889477105604433,5.889477105604433,5.889477105604433,5.889477105604433,5.885888166955332,5.885888166955332,5.885888166955332,5.885888166955332,5.885888166955332,5.885888166955332,5.885888166955332,5.885888166955332,5.885888166955332,5.885888166955332,5.885888166955332,5.885888166955332,5.885888166955332,5.8822992283062305,5.8822992283062305,5.8822992283062305,5.8822992283062305,5.8822992283062305,5.8822992283062305,5.8822992283062305,5.8822992283062305,5.8822992283062305,5.8822992283062305,5.8822992283062305,5.8822992283062305,5.8822992283062305,5.8822992283062305,5.8822992283062305,5.8822992283062305,5.8822992283062305,5.8822992283062305,5.8822992283062305,5.8822992283062305,5.8822992283062305,5.8822992283062305,5.87871028965713,5.87871028965713,5.87871028965713,5.87871028965713,5.87871028965713,5.87871028965713,5.87871028965713,5.87871028965713,5.87871028965713,5.87871028965713,5.87871028965713,5.87871028965713,5.87871028965713,5.875121351008029,5.875121351008029,5.875121351008029,5.875121351008029,5.875121351008029,5.875121351008029,5.875121351008029,5.875121351008029,5.875121351008029,5.875121351008029,5.875121351008029,5.875121351008029,5.875121351008029,5.871532412358928,5.871532412358928,5.871532412358928,5.871532412358928,5.871532412358928,5.871532412358928,5.871532412358928,5.871532412358928,5.871532412358928,5.871532412358928,5.871532412358928,5.871532412358928,5.871532412358928,5.871532412358928,5.871532412358928,5.867943473709826,5.867943473709826,5.867943473709826,5.867943473709826,5.867943473709826,5.867943473709826,5.867943473709826,5.864354535060725,5.864354535060725,5.864354535060725,5.864354535060725,5.864354535060725,5.864354535060725,5.864354535060725,5.864354535060725,5.864354535060725,5.864354535060725,5.864354535060725,5.864354535060725,5.864354535060725,5.864354535060725,5.864354535060725,5.864354535060725,5.864354535060725,5.864354535060725,5.864354535060725,5.864354535060725,5.864354535060725,5.864354535060725,5.864354535060725,5.864354535060725,5.860765596411625,5.860765596411625,5.860765596411625,5.860765596411625,5.860765596411625,5.860765596411625,5.8571766577625235,5.8571766577625235,5.8571766577625235,5.8571766577625235,5.8571766577625235,5.8571766577625235,5.8571766577625235,5.853587719113422,5.853587719113422,5.853587719113422,5.853587719113422,5.853587719113422,5.853587719113422,5.853587719113422,5.849998780464321,5.849998780464321,5.84640984181522,5.84640984181522,5.84640984181522,5.84640984181522,5.84640984181522,5.84640984181522,5.84640984181522,5.84640984181522,5.84640984181522,5.84640984181522,5.84640984181522,5.84640984181522,5.84640984181522,5.84640984181522,5.84640984181522,5.84640984181522,5.842820903166119,5.842820903166119,5.842820903166119,5.842820903166119,5.842820903166119,5.842820903166119,5.839231964517018,5.839231964517018,5.839231964517018,5.839231964517018,5.839231964517018,5.839231964517018,5.839231964517018,5.839231964517018,5.839231964517018,5.835643025867917,5.832054087218816,5.832054087218816,5.832054087218816,5.832054087218816,5.828465148569714,5.828465148569714,5.828465148569714,5.828465148569714,5.828465148569714,5.828465148569714,5.824876209920614,5.824876209920614,5.824876209920614,5.824876209920614,5.821287271271513,5.821287271271513,5.817698332622411,5.817698332622411,5.81410939397331,5.81410939397331,5.81410939397331,5.81410939397331,5.810520455324209,5.810520455324209,5.810520455324209,5.810520455324209,5.810520455324209,5.806931516675108,5.806931516675108,5.806931516675108,5.803342578026007,5.803342578026007,5.803342578026007,5.803342578026007,5.799753639376906,5.799753639376906,5.799753639376906,5.7925757620787035,5.7925757620787035,5.7925757620787035,5.788986823429602,5.788986823429602,5.785397884780501,5.781808946131401,5.774631068833198,5.774631068833198,5.774631068833198,5.774631068833198,5.774631068833198,5.774631068833198,5.774631068833198,5.774631068833198,5.767453191534996,5.767453191534996,5.756686375587693,5.756686375587693,5.753097436938591,5.74591955964039,5.7423306209912885,5.738741682342187,5.720796989096682,5.720796989096682,5.706441234500278,5.6777297253074686,5.5234053633961215,5.3439584309410675],\"yaxis\":\"y\",\"type\":\"scattergl\"}],                        {\"template\":{\"data\":{\"histogram2dcontour\":[{\"type\":\"histogram2dcontour\",\"colorbar\":{\"outlinewidth\":0,\"ticks\":\"\"},\"colorscale\":[[0.0,\"#0d0887\"],[0.1111111111111111,\"#46039f\"],[0.2222222222222222,\"#7201a8\"],[0.3333333333333333,\"#9c179e\"],[0.4444444444444444,\"#bd3786\"],[0.5555555555555556,\"#d8576b\"],[0.6666666666666666,\"#ed7953\"],[0.7777777777777778,\"#fb9f3a\"],[0.8888888888888888,\"#fdca26\"],[1.0,\"#f0f921\"]]}],\"choropleth\":[{\"type\":\"choropleth\",\"colorbar\":{\"outlinewidth\":0,\"ticks\":\"\"}}],\"histogram2d\":[{\"type\":\"histogram2d\",\"colorbar\":{\"outlinewidth\":0,\"ticks\":\"\"},\"colorscale\":[[0.0,\"#0d0887\"],[0.1111111111111111,\"#46039f\"],[0.2222222222222222,\"#7201a8\"],[0.3333333333333333,\"#9c179e\"],[0.4444444444444444,\"#bd3786\"],[0.5555555555555556,\"#d8576b\"],[0.6666666666666666,\"#ed7953\"],[0.7777777777777778,\"#fb9f3a\"],[0.8888888888888888,\"#fdca26\"],[1.0,\"#f0f921\"]]}],\"heatmap\":[{\"type\":\"heatmap\",\"colorbar\":{\"outlinewidth\":0,\"ticks\":\"\"},\"colorscale\":[[0.0,\"#0d0887\"],[0.1111111111111111,\"#46039f\"],[0.2222222222222222,\"#7201a8\"],[0.3333333333333333,\"#9c179e\"],[0.4444444444444444,\"#bd3786\"],[0.5555555555555556,\"#d8576b\"],[0.6666666666666666,\"#ed7953\"],[0.7777777777777778,\"#fb9f3a\"],[0.8888888888888888,\"#fdca26\"],[1.0,\"#f0f921\"]]}],\"heatmapgl\":[{\"type\":\"heatmapgl\",\"colorbar\":{\"outlinewidth\":0,\"ticks\":\"\"},\"colorscale\":[[0.0,\"#0d0887\"],[0.1111111111111111,\"#46039f\"],[0.2222222222222222,\"#7201a8\"],[0.3333333333333333,\"#9c179e\"],[0.4444444444444444,\"#bd3786\"],[0.5555555555555556,\"#d8576b\"],[0.6666666666666666,\"#ed7953\"],[0.7777777777777778,\"#fb9f3a\"],[0.8888888888888888,\"#fdca26\"],[1.0,\"#f0f921\"]]}],\"contourcarpet\":[{\"type\":\"contourcarpet\",\"colorbar\":{\"outlinewidth\":0,\"ticks\":\"\"}}],\"contour\":[{\"type\":\"contour\",\"colorbar\":{\"outlinewidth\":0,\"ticks\":\"\"},\"colorscale\":[[0.0,\"#0d0887\"],[0.1111111111111111,\"#46039f\"],[0.2222222222222222,\"#7201a8\"],[0.3333333333333333,\"#9c179e\"],[0.4444444444444444,\"#bd3786\"],[0.5555555555555556,\"#d8576b\"],[0.6666666666666666,\"#ed7953\"],[0.7777777777777778,\"#fb9f3a\"],[0.8888888888888888,\"#fdca26\"],[1.0,\"#f0f921\"]]}],\"surface\":[{\"type\":\"surface\",\"colorbar\":{\"outlinewidth\":0,\"ticks\":\"\"},\"colorscale\":[[0.0,\"#0d0887\"],[0.1111111111111111,\"#46039f\"],[0.2222222222222222,\"#7201a8\"],[0.3333333333333333,\"#9c179e\"],[0.4444444444444444,\"#bd3786\"],[0.5555555555555556,\"#d8576b\"],[0.6666666666666666,\"#ed7953\"],[0.7777777777777778,\"#fb9f3a\"],[0.8888888888888888,\"#fdca26\"],[1.0,\"#f0f921\"]]}],\"mesh3d\":[{\"type\":\"mesh3d\",\"colorbar\":{\"outlinewidth\":0,\"ticks\":\"\"}}],\"scatter\":[{\"fillpattern\":{\"fillmode\":\"overlay\",\"size\":10,\"solidity\":0.2},\"type\":\"scatter\"}],\"parcoords\":[{\"type\":\"parcoords\",\"line\":{\"colorbar\":{\"outlinewidth\":0,\"ticks\":\"\"}}}],\"scatterpolargl\":[{\"type\":\"scatterpolargl\",\"marker\":{\"colorbar\":{\"outlinewidth\":0,\"ticks\":\"\"}}}],\"bar\":[{\"error_x\":{\"color\":\"#2a3f5f\"},\"error_y\":{\"color\":\"#2a3f5f\"},\"marker\":{\"line\":{\"color\":\"#E5ECF6\",\"width\":0.5},\"pattern\":{\"fillmode\":\"overlay\",\"size\":10,\"solidity\":0.2}},\"type\":\"bar\"}],\"scattergeo\":[{\"type\":\"scattergeo\",\"marker\":{\"colorbar\":{\"outlinewidth\":0,\"ticks\":\"\"}}}],\"scatterpolar\":[{\"type\":\"scatterpolar\",\"marker\":{\"colorbar\":{\"outlinewidth\":0,\"ticks\":\"\"}}}],\"histogram\":[{\"marker\":{\"pattern\":{\"fillmode\":\"overlay\",\"size\":10,\"solidity\":0.2}},\"type\":\"histogram\"}],\"scattergl\":[{\"type\":\"scattergl\",\"marker\":{\"colorbar\":{\"outlinewidth\":0,\"ticks\":\"\"}}}],\"scatter3d\":[{\"type\":\"scatter3d\",\"line\":{\"colorbar\":{\"outlinewidth\":0,\"ticks\":\"\"}},\"marker\":{\"colorbar\":{\"outlinewidth\":0,\"ticks\":\"\"}}}],\"scattermapbox\":[{\"type\":\"scattermapbox\",\"marker\":{\"colorbar\":{\"outlinewidth\":0,\"ticks\":\"\"}}}],\"scatterternary\":[{\"type\":\"scatterternary\",\"marker\":{\"colorbar\":{\"outlinewidth\":0,\"ticks\":\"\"}}}],\"scattercarpet\":[{\"type\":\"scattercarpet\",\"marker\":{\"colorbar\":{\"outlinewidth\":0,\"ticks\":\"\"}}}],\"carpet\":[{\"aaxis\":{\"endlinecolor\":\"#2a3f5f\",\"gridcolor\":\"white\",\"linecolor\":\"white\",\"minorgridcolor\":\"white\",\"startlinecolor\":\"#2a3f5f\"},\"baxis\":{\"endlinecolor\":\"#2a3f5f\",\"gridcolor\":\"white\",\"linecolor\":\"white\",\"minorgridcolor\":\"white\",\"startlinecolor\":\"#2a3f5f\"},\"type\":\"carpet\"}],\"table\":[{\"cells\":{\"fill\":{\"color\":\"#EBF0F8\"},\"line\":{\"color\":\"white\"}},\"header\":{\"fill\":{\"color\":\"#C8D4E3\"},\"line\":{\"color\":\"white\"}},\"type\":\"table\"}],\"barpolar\":[{\"marker\":{\"line\":{\"color\":\"#E5ECF6\",\"width\":0.5},\"pattern\":{\"fillmode\":\"overlay\",\"size\":10,\"solidity\":0.2}},\"type\":\"barpolar\"}],\"pie\":[{\"automargin\":true,\"type\":\"pie\"}]},\"layout\":{\"autotypenumbers\":\"strict\",\"colorway\":[\"#636efa\",\"#EF553B\",\"#00cc96\",\"#ab63fa\",\"#FFA15A\",\"#19d3f3\",\"#FF6692\",\"#B6E880\",\"#FF97FF\",\"#FECB52\"],\"font\":{\"color\":\"#2a3f5f\"},\"hovermode\":\"closest\",\"hoverlabel\":{\"align\":\"left\"},\"paper_bgcolor\":\"white\",\"plot_bgcolor\":\"#E5ECF6\",\"polar\":{\"bgcolor\":\"#E5ECF6\",\"angularaxis\":{\"gridcolor\":\"white\",\"linecolor\":\"white\",\"ticks\":\"\"},\"radialaxis\":{\"gridcolor\":\"white\",\"linecolor\":\"white\",\"ticks\":\"\"}},\"ternary\":{\"bgcolor\":\"#E5ECF6\",\"aaxis\":{\"gridcolor\":\"white\",\"linecolor\":\"white\",\"ticks\":\"\"},\"baxis\":{\"gridcolor\":\"white\",\"linecolor\":\"white\",\"ticks\":\"\"},\"caxis\":{\"gridcolor\":\"white\",\"linecolor\":\"white\",\"ticks\":\"\"}},\"coloraxis\":{\"colorbar\":{\"outlinewidth\":0,\"ticks\":\"\"}},\"colorscale\":{\"sequential\":[[0.0,\"#0d0887\"],[0.1111111111111111,\"#46039f\"],[0.2222222222222222,\"#7201a8\"],[0.3333333333333333,\"#9c179e\"],[0.4444444444444444,\"#bd3786\"],[0.5555555555555556,\"#d8576b\"],[0.6666666666666666,\"#ed7953\"],[0.7777777777777778,\"#fb9f3a\"],[0.8888888888888888,\"#fdca26\"],[1.0,\"#f0f921\"]],\"sequentialminus\":[[0.0,\"#0d0887\"],[0.1111111111111111,\"#46039f\"],[0.2222222222222222,\"#7201a8\"],[0.3333333333333333,\"#9c179e\"],[0.4444444444444444,\"#bd3786\"],[0.5555555555555556,\"#d8576b\"],[0.6666666666666666,\"#ed7953\"],[0.7777777777777778,\"#fb9f3a\"],[0.8888888888888888,\"#fdca26\"],[1.0,\"#f0f921\"]],\"diverging\":[[0,\"#8e0152\"],[0.1,\"#c51b7d\"],[0.2,\"#de77ae\"],[0.3,\"#f1b6da\"],[0.4,\"#fde0ef\"],[0.5,\"#f7f7f7\"],[0.6,\"#e6f5d0\"],[0.7,\"#b8e186\"],[0.8,\"#7fbc41\"],[0.9,\"#4d9221\"],[1,\"#276419\"]]},\"xaxis\":{\"gridcolor\":\"white\",\"linecolor\":\"white\",\"ticks\":\"\",\"title\":{\"standoff\":15},\"zerolinecolor\":\"white\",\"automargin\":true,\"zerolinewidth\":2},\"yaxis\":{\"gridcolor\":\"white\",\"linecolor\":\"white\",\"ticks\":\"\",\"title\":{\"standoff\":15},\"zerolinecolor\":\"white\",\"automargin\":true,\"zerolinewidth\":2},\"scene\":{\"xaxis\":{\"backgroundcolor\":\"#E5ECF6\",\"gridcolor\":\"white\",\"linecolor\":\"white\",\"showbackground\":true,\"ticks\":\"\",\"zerolinecolor\":\"white\",\"gridwidth\":2},\"yaxis\":{\"backgroundcolor\":\"#E5ECF6\",\"gridcolor\":\"white\",\"linecolor\":\"white\",\"showbackground\":true,\"ticks\":\"\",\"zerolinecolor\":\"white\",\"gridwidth\":2},\"zaxis\":{\"backgroundcolor\":\"#E5ECF6\",\"gridcolor\":\"white\",\"linecolor\":\"white\",\"showbackground\":true,\"ticks\":\"\",\"zerolinecolor\":\"white\",\"gridwidth\":2}},\"shapedefaults\":{\"line\":{\"color\":\"#2a3f5f\"}},\"annotationdefaults\":{\"arrowcolor\":\"#2a3f5f\",\"arrowhead\":0,\"arrowwidth\":1},\"geo\":{\"bgcolor\":\"white\",\"landcolor\":\"#E5ECF6\",\"subunitcolor\":\"white\",\"showland\":true,\"showlakes\":true,\"lakecolor\":\"white\"},\"title\":{\"x\":0.05},\"mapbox\":{\"style\":\"light\"}}},\"xaxis\":{\"anchor\":\"y\",\"domain\":[0.0,1.0],\"title\":{\"text\":\"Duration of Movie in Minutes\"},\"showgrid\":false},\"yaxis\":{\"anchor\":\"x\",\"domain\":[0.0,1.0],\"title\":{\"text\":\"Rating of a movie\"},\"showgrid\":false},\"coloraxis\":{\"colorbar\":{\"title\":{\"text\":\"Rating\"}},\"colorscale\":[[0.0,\"rgb(210, 251, 212)\"],[0.16666666666666666,\"rgb(165, 219, 194)\"],[0.3333333333333333,\"rgb(123, 188, 176)\"],[0.5,\"rgb(85, 156, 158)\"],[0.6666666666666666,\"rgb(58, 124, 137)\"],[0.8333333333333334,\"rgb(35, 93, 114)\"],[1.0,\"rgb(18, 63, 90)\"]]},\"legend\":{\"tracegroupgap\":0},\"margin\":{\"t\":60},\"title\":{\"text\":\"Does length of movie have any impact on rating?\",\"x\":0.5,\"pad\":{\"t\":20},\"font\":{\"size\":20}},\"plot_bgcolor\":\"white\"},                        {\"responsive\": true}                    ).then(function(){\n",
       "                            \n",
       "var gd = document.getElementById('a143a430-1d43-4200-a371-ed8167195dd6');\n",
       "var x = new MutationObserver(function (mutations, observer) {{\n",
       "        var display = window.getComputedStyle(gd).display;\n",
       "        if (!display || display === 'none') {{\n",
       "            console.log([gd, 'removed!']);\n",
       "            Plotly.purge(gd);\n",
       "            observer.disconnect();\n",
       "        }}\n",
       "}});\n",
       "\n",
       "// Listen for the removal of the full notebook cells\n",
       "var notebookContainer = gd.closest('#notebook-container');\n",
       "if (notebookContainer) {{\n",
       "    x.observe(notebookContainer, {childList: true});\n",
       "}}\n",
       "\n",
       "// Listen for the clearing of the current output cell\n",
       "var outputEl = gd.closest('.output');\n",
       "if (outputEl) {{\n",
       "    x.observe(outputEl, {childList: true});\n",
       "}}\n",
       "\n",
       "                        })                };                });            </script>        </div>"
      ]
     },
     "metadata": {},
     "output_type": "display_data"
    }
   ],
   "source": [
    "fig_dur_rat = px.scatter(imdb, x = 'Duration', y = 'Rating', trendline='ols', color = \"Rating\", color_continuous_scale = \"darkmint\")\n",
    "fig_dur_rat.update_layout(title='Does length of movie have any impact on rating?', title_x=0.5, title_pad=dict(t=20), title_font=dict(size=20), xaxis_title='Duration of Movie in Minutes', yaxis_title='Rating of a movie', xaxis=dict(showgrid=False), yaxis=dict(showgrid=False), plot_bgcolor = 'white')\n",
    "fig_dur_rat.show()"
   ]
  },
  {
   "cell_type": "code",
   "execution_count": 25,
   "id": "d780c0e9",
   "metadata": {
    "execution": {
     "iopub.execute_input": "2023-12-22T18:08:58.682947Z",
     "iopub.status.busy": "2023-12-22T18:08:58.682597Z",
     "iopub.status.idle": "2023-12-22T18:08:58.752622Z",
     "shell.execute_reply": "2023-12-22T18:08:58.751151Z"
    },
    "papermill": {
     "duration": 0.091566,
     "end_time": "2023-12-22T18:08:58.755165",
     "exception": false,
     "start_time": "2023-12-22T18:08:58.663599",
     "status": "completed"
    },
    "tags": []
   },
   "outputs": [
    {
     "data": {
      "text/html": [
       "<div>                            <div id=\"c5aea87b-5a06-48d7-9f97-b4c037e79149\" class=\"plotly-graph-div\" style=\"height:525px; width:100%;\"></div>            <script type=\"text/javascript\">                require([\"plotly\"], function(Plotly) {                    window.PLOTLYENV=window.PLOTLYENV || {};                                    if (document.getElementById(\"c5aea87b-5a06-48d7-9f97-b4c037e79149\")) {                    Plotly.newPlot(                        \"c5aea87b-5a06-48d7-9f97-b4c037e79149\",                        [{\"hovertemplate\":\"Duration=%{x}\\u003cbr\\u003eVotes=%{marker.color}\\u003cextra\\u003e\\u003c\\u002fextra\\u003e\",\"legendgroup\":\"\",\"marker\":{\"color\":[8,17,59,1002,15,16,20,106,94,361,194,35,358,93,80,6,75,171,31,7,10,9,412,10,17,80,142,24,249,339,16,264,150,18,69,19,66,62,266,13,93,21,52,7,281,15,15,30,122,17,26,922,37,102,49,15,160,44,230,13,1259,85,203,10,6,88,172,7,85,80,6,64,109,11,8,76,12,7,14,33,53,24,53,52,52,973,32,10,4780,11,7,8,349,37,137,11,384,7,1622,23,17,14,41,16,47,11,856,1636,636,48,71,46,1185,5,43,29,13,94,19,9,109,7,124,115,6,25,6,68,50,137,12,8,7,38,645,33,5,204,1807,7,5383,36,36,16,44,223,64,571,150,21,5,34,40,432,11,5,10,16,20,356,271,165,9,6,66,7,7,123,25,805,10,14,72,6,63,18,54,23,10,16,42,29,85,13,9,7,12370,24,17,8,50,1533,21,7,7,6,9,101,4685,288,15,10,1873,14,10,75,30,35,18,26,18,10,68,24,15,29,11,15,34,58,132,6,8,24,18,9,74,1257,9,367,1968,147,403,585,23,22,34,26,17,22,8,882,33,51,27,365,45,33782,38,201,112,20,257,12,115,5124,7,10,13,19,17,456,356,323,25,982,41,6,862,36,13,31,162,122,26,8,656,24,141,28,101,45,336,676,185,2108,13,35,54,16,9,43,10,5,39,11,39,70,60,44,159,7,15,299,82,22,140,86,954,142,117,11,35,30,15,62,189,5,941,4826,7,22,16,102,7,22,10,9,433,101,58,15,191,1957,4338,179,105,54,32,75,22,40,285,15,5,52,127,24,727,64,8,191,8,329,62,3207,1962,57,19,6,15,252,10,22,66,284,24,7256,48,50,11,126,15,31,15,16,13,57,16,2118,87,388,12695,158,242,7,19,78,88,170,20,103,213,21,22,10,58,575,421,1857,20,88,5,24,9,6,24,29,6,7,47,33,5785,46,44,37,62,18,128,6,15,84,850,7,13,2610,31,50,17,1556,652,200,27,10,10,16,46,13,30,6,124,554,14,5,78,257,14,78,104,186,17,10,43,30,15,8,18,15,52,394,502,21,12,472,8,37,77,62,3371,9,26,261,47,11,13,365,23,57,52,48,191,4890,72,97,47,9,454,77,106,181,89,8,56,6,17,7,11,106,30,15,689,398,64,85,36,56,45,113,42,75,360,65,13,640,2708,51,64,344,23,184,46,58,37,15644,38,27,47,672,49,1770,209,7,14,345,40,41,9,5,14,11,1208,25,52,18,8,28,10,43,1055,23,796,11,1251,25,8,3781,45,92,35,50,31,17,31,101,11,274,4744,9,1042,3167,33,4132,166,303,7,14,18,11,1747,15,10,1486,36,37,442,286,28,10,15,47,19,42,10,27,51,9,118,27,948,897,17,700,25,20,117,36,27,7,218,57,38,52,131,32,5,38,143,96,151,10,151,315,503,9,18,8,48,7,43,5,68,38,40,14,17,31,23,8,5,19,87,1242,454,15,33,11,9,8,3336,5,37,8,7,26,99,17,18,22,55,22,9,12,6,672,15,330,129,167,301,32,263,47,188,49,12,21,137,22,18,8,6,8,30,24,31,29,136,2136,203,7,9,13,85,17,259,76,317,76,5,985,48,7,24,104,131,18,65,95,6,39,13,17,55,212,12,8,39,1098,23,64,30,16,29,49,10,24,46,216,23,221,12,52,242,16,49,27,7,21,21,39,41,8,7,77,27,293,17,320,7,8,12,12,93,20,128,197,102,26,514,51,15,1523,20,6,28,31,23,302,126,41,15,18,820,70,46,6,7,171,10,4165,3748,56,7,20,16,55,129,37,14,16,117,9,8,278,77,7,32,9,18,116,37,47,16,36,29,588,1417,102,8,3677,26,126,47,10,40,13,60,1570,12,42,9678,23,75,31,3690,8,22,19,26,10,13,155,399,235,1383,9,1909,60,10,21,35,29,36,22,699,43,35,118,7,101,51,32,5,9,85,24,6120,406,80,5,46,16,3565,73,291,17,24900,27,105,24,6,2622,2042,10,25,6,8,69,13,58,17,14,7,384,12,14,18,22,299,47,41,442,17,11,8,36,7,16,14,7,12,11,536,30,45,191,31,6,7,283,10,3031,411,9,22,101,27,17,17,9,6,235,74,25,245,2334,13,13,153,32,119,45,28,37,61,1059,6,6,114,13,29,25,27,14156,25,43,27,110,6034,68,153,13,8,352,31,28,82,258,13,156,26,8,23,101014,13,9,20,14,17,5,27,13,8,3737,30,1564,94,344,16,27,21,11,9,25,346,13,25,30,38,12,13,374,20,182,12,15,12,42,35,6,7,14,200,99,1622,10,221,39,15,196,44,8,13,13,20,1582,438,193,39,15,176,23,16,25,40,29,67,27,450,138,230,346,185,12,10,7,11,26,8,17,43,9,125,206,67,13,52,4954,10,2921,53,160,494,342,15,8,7,151,29,49,9,18,7,783,17,24,44,1983,206,9,8,20,870,16,11,2633,232,33,6,16,1147,22,58,13,18,1446,8,9,21,47,37,18,11,67,6,27,63,27,69,77,27,10,250,15,11,5,59,30,64,51,29,8,54,18,5,7,27,7,1020,12,17,7,22,2740,12,12,28,20,249,14,22,7,37,6,10,15,20,162,5,12,18,92,61,1272,13,58,12,10,71,119,81,520,215,9,6,62,28,467,27,45,8,29,18,10,27,692,34,15,75,527,20,11,44,12,268,50,365,28,31,193,489,215,7,12,474,134,12,1781,23,760,264,75,9,215,8,42,7,25,66,10,27,15,9,9,39,26,6,14,31,219,7,594,67,229,62,80,60,65,9,189,33,20,39,12,68,4964,690,24,6,13,25,58,14,18,25,406,32,55,103,15,246,11,28,7,892,180,20,25,21,6,51,6,7099,26,24,27,251,446,15,53,34,13,5,20,56,41,1061,6922,1023,101,31,8,337,145,268,444,92,67,678,68,9,77,671,13,13,696,8,96,86,210,63,1589,22,28,83029,60,34,9,31,15,31,9,13,43,11,30,6,663,31,20,33,648,3011,26,85340,19,1255,103,93,21,24,8,50,19,302,37,20,20,31,43,47,73,31,6,9,238,53,10,27,525,27,43,311,9,13,8,7,22,10,48,11,9,5433,15063,10,425,81,126,540,19,478,18,12,14,265,41,13,97,532,179,41,16,2139,10,894,34,12,89,7,778,22,243,17,17337,123,640,14,16,15,793,2906,87,293,294,21,55,24,17,14,101,108,228,7,8,45,1553,1785,35,19,22,485,11,12,34,1361,1544,255,75,63,73,13,370,83,24,19,43,34,75,57,45,95,56,43,4944,86,128,20,17,694,9,78,736,420,13,101,395,18,706,32,7,9,257,12000,84,5,26,12,12,57,488,254,275,56,36,294,60,73,142,118,14,28,14461,13,82,9,1747,597,673,34,83,107,113,122,10,30,32,17,106,50,798,18,239,9,32,504,244,15,13,14,132,10,1126,9,11,76,15,10,17,500,14,102,15,3007,16,6,7,14,449,6,9,27,5,6,33,13,7,78,408],\"coloraxis\":\"coloraxis\",\"symbol\":\"circle\"},\"mode\":\"markers\",\"name\":\"\",\"showlegend\":false,\"x\":[109,96,120,116,168,94,107,113,130,126,115,122,100,93,102,145,111,104,92,126,100,124,105,145,127,140,112,104,121,123,120,144,72,132,107,154,142,78,145,133,170,137,151,78,116,46,132,162,153,138,116,152,130,160,144,94,141,125,180,129,120,136,146,132,172,150,132,146,128,133,78,127,132,88,150,122,120,151,142,137,123,140,145,120,115,104,136,58,160,165,136,124,100,109,120,135,97,149,133,137,166,121,153,95,155,135,102,113,169,152,110,151,131,153,142,148,91,134,125,154,160,84,136,125,137,173,122,131,90,118,103,86,97,128,109,102,127,120,300,135,155,152,142,149,119,96,144,150,149,101,131,131,152,102,140,117,79,127,65,138,48,148,120,118,138,146,129,123,119,95,100,103,91,137,145,170,160,120,156,147,133,72,176,68,81,132,133,117,120,176,136,102,145,126,108,148,169,131,161,125,125,125,128,88,135,172,127,160,115,89,113,136,136,172,164,133,83,84,115,120,74,105,113,95,142,143,122,128,85,100,96,93,140,142,141,74,140,138,131,131,115,91,139,145,100,116,126,122,120,114,135,150,125,124,81,127,107,115,136,68,114,116,93,95,119,126,130,120,131,126,150,83,164,165,136,137,134,92,140,120,111,127,150,130,95,108,149,169,120,137,129,166,140,128,207,136,109,136,147,156,102,130,123,88,85,106,136,102,90,130,97,141,155,127,110,116,155,135,90,114,85,107,135,99,108,135,98,113,137,90,92,140,104,142,116,120,140,119,139,130,89,97,145,149,120,110,106,153,145,152,76,146,113,107,128,121,108,125,180,137,75,155,91,100,126,110,98,141,94,130,158,139,114,87,117,79,135,146,148,129,150,117,100,153,126,129,139,152,97,120,137,130,148,110,127,142,120,130,155,131,120,127,153,139,130,145,110,90,144,99,138,135,147,130,104,102,92,92,137,124,120,171,130,120,160,143,166,147,116,110,153,177,125,123,115,71,120,137,147,100,133,122,139,133,95,105,137,100,105,130,138,136,135,132,115,73,164,120,151,97,140,94,133,102,104,139,134,145,117,80,84,87,165,97,84,106,86,160,112,85,109,141,138,180,104,111,127,145,120,119,140,107,128,112,157,145,134,124,102,129,146,90,125,124,111,151,150,105,153,156,155,158,157,138,108,126,103,126,123,120,90,110,140,134,155,64,90,130,139,132,96,110,169,140,125,134,136,152,102,75,118,140,102,120,125,117,128,82,108,108,89,120,136,121,137,109,160,135,149,133,136,129,102,93,170,186,120,133,135,102,142,149,106,102,128,125,47,115,91,118,130,104,112,127,172,143,121,126,144,119,137,134,142,135,149,120,118,125,95,117,102,100,120,98,127,140,131,143,143,121,144,145,82,124,116,155,103,125,148,134,132,108,131,93,127,136,160,140,139,137,127,131,139,94,112,163,173,141,162,90,195,131,126,130,185,110,139,135,139,82,135,120,143,124,173,144,93,132,133,149,120,139,140,104,140,133,136,93,142,154,147,144,161,134,100,155,115,149,93,128,133,78,109,90,144,135,109,148,127,90,73,136,101,138,125,132,95,137,136,95,147,131,120,93,132,127,162,112,70,122,124,130,120,95,88,113,135,103,120,115,99,130,96,121,110,119,127,125,167,119,74,100,106,134,103,92,117,117,87,127,130,97,145,82,91,158,155,155,120,100,84,137,143,119,142,124,143,135,141,137,85,125,140,130,65,180,130,92,105,65,140,104,116,112,150,107,86,121,143,124,136,87,125,106,161,125,113,133,135,123,148,134,147,92,108,92,120,90,113,108,137,125,130,81,85,108,105,103,120,100,90,160,122,107,126,132,157,122,129,91,156,127,117,180,140,124,148,151,152,145,139,116,113,120,130,133,145,128,137,130,106,80,82,167,160,130,127,120,146,45,120,180,178,127,136,106,137,130,90,137,199,112,100,130,94,109,109,80,118,152,96,119,99,130,120,95,115,107,154,99,103,124,96,80,155,152,79,140,153,162,99,104,138,120,155,135,150,162,140,141,129,142,164,140,161,180,108,122,110,90,131,146,98,87,107,130,119,161,148,90,102,133,113,117,104,119,143,126,130,100,112,113,115,93,105,85,95,108,119,114,155,95,142,140,156,135,100,130,134,146,77,128,133,130,132,134,136,95,104,190,87,122,143,165,120,132,182,132,136,127,131,156,126,128,121,146,84,146,130,110,125,150,132,137,128,130,147,104,99,142,118,136,65,122,140,154,165,125,95,133,100,128,95,95,110,138,108,155,123,105,80,118,117,99,92,160,101,122,89,129,126,150,59,114,146,160,153,115,141,130,98,129,162,135,123,145,88,138,100,49,113,131,98,143,143,83,170,116,129,120,125,139,110,120,109,120,83,155,157,152,139,114,140,128,141,134,132,142,118,109,122,117,127,120,138,188,175,130,85,120,107,110,158,155,138,128,120,126,83,150,125,121,125,150,114,121,130,135,138,110,97,159,139,135,137,116,133,106,135,154,161,136,100,145,96,113,85,109,127,118,122,120,149,119,70,120,139,133,151,171,117,146,144,125,138,120,135,128,90,111,130,122,112,104,140,157,141,122,139,98,93,180,162,80,116,124,101,65,89,125,131,88,80,82,80,159,145,105,158,78,123,117,80,95,50,107,139,119,90,100,128,117,107,135,150,153,110,137,83,139,117,130,150,132,54,135,114,109,137,129,120,133,132,120,109,149,128,162,126,129,128,151,165,131,155,168,100,137,157,116,106,118,126,148,114,152,175,132,97,139,144,135,115,185,104,120,47,130,140,150,126,127,134,90,129,140,99,73,138,79,128,76,155,130,115,135,122,127,144,113,115,120,133,110,125,110,162,139,111,67,100,147,170,125,132,95,93,52,90,99,142,123,96,100,105,134,160,135,112,133,97,94,140,80,153,153,114,135,134,135,100,107,105,143,143,143,127,60,110,121,90,66,139,140,189,90,160,151,104,133,154,135,121,182,127,115,155,144,120,110,171,122,104,131,136,101,160,158,120,143,116,153,148,107,127,122,103,120,73,195,155,104,125,142,65,110,149,90,134,144,125,93,121,138,87,119,95,48,92,110,100,89,137,102,100,82,118,98,122,90,140,89,141,96,97,90,115,113,108,110,124,96,91,119,90,87,105,115,140,150,137,121,124,155,130,94,151,88,113,135,124,112,136,87,107,130,137,157,114,120,96,155,134,135,136,72,127,92,145,100,140,90,123,120,137,151,93,125,106,137,122,112,110,153,85,101,98,145,93,136,158,175,135,129,127,144,250,135,148,118,120,151,82,110,150,143,128,150,125,130,79,117,110,108,78,144,92,115,116,112,94,135,93,121,142,150,82,92,97,152,128,108,150,137,151,115,77,132,117,129,106,117,90,108,147,140,133,117,92,132,84,124,125,125,166,115,140,141,136,112,131,134,117,120,120,140,100,115],\"xaxis\":\"x\",\"y\":[8,17,59,1002,15,16,20,106,94,361,194,35,358,93,80,6,75,171,31,7,10,9,412,10,17,80,142,24,249,339,16,264,150,18,69,19,66,62,266,13,93,21,52,7,281,15,15,30,122,17,26,922,37,102,49,15,160,44,230,13,1259,85,203,10,6,88,172,7,85,80,6,64,109,11,8,76,12,7,14,33,53,24,53,52,52,973,32,10,4780,11,7,8,349,37,137,11,384,7,1622,23,17,14,41,16,47,11,856,1636,636,48,71,46,1185,5,43,29,13,94,19,9,109,7,124,115,6,25,6,68,50,137,12,8,7,38,645,33,5,204,1807,7,5383,36,36,16,44,223,64,571,150,21,5,34,40,432,11,5,10,16,20,356,271,165,9,6,66,7,7,123,25,805,10,14,72,6,63,18,54,23,10,16,42,29,85,13,9,7,12370,24,17,8,50,1533,21,7,7,6,9,101,4685,288,15,10,1873,14,10,75,30,35,18,26,18,10,68,24,15,29,11,15,34,58,132,6,8,24,18,9,74,1257,9,367,1968,147,403,585,23,22,34,26,17,22,8,882,33,51,27,365,45,33782,38,201,112,20,257,12,115,5124,7,10,13,19,17,456,356,323,25,982,41,6,862,36,13,31,162,122,26,8,656,24,141,28,101,45,336,676,185,2108,13,35,54,16,9,43,10,5,39,11,39,70,60,44,159,7,15,299,82,22,140,86,954,142,117,11,35,30,15,62,189,5,941,4826,7,22,16,102,7,22,10,9,433,101,58,15,191,1957,4338,179,105,54,32,75,22,40,285,15,5,52,127,24,727,64,8,191,8,329,62,3207,1962,57,19,6,15,252,10,22,66,284,24,7256,48,50,11,126,15,31,15,16,13,57,16,2118,87,388,12695,158,242,7,19,78,88,170,20,103,213,21,22,10,58,575,421,1857,20,88,5,24,9,6,24,29,6,7,47,33,5785,46,44,37,62,18,128,6,15,84,850,7,13,2610,31,50,17,1556,652,200,27,10,10,16,46,13,30,6,124,554,14,5,78,257,14,78,104,186,17,10,43,30,15,8,18,15,52,394,502,21,12,472,8,37,77,62,3371,9,26,261,47,11,13,365,23,57,52,48,191,4890,72,97,47,9,454,77,106,181,89,8,56,6,17,7,11,106,30,15,689,398,64,85,36,56,45,113,42,75,360,65,13,640,2708,51,64,344,23,184,46,58,37,15644,38,27,47,672,49,1770,209,7,14,345,40,41,9,5,14,11,1208,25,52,18,8,28,10,43,1055,23,796,11,1251,25,8,3781,45,92,35,50,31,17,31,101,11,274,4744,9,1042,3167,33,4132,166,303,7,14,18,11,1747,15,10,1486,36,37,442,286,28,10,15,47,19,42,10,27,51,9,118,27,948,897,17,700,25,20,117,36,27,7,218,57,38,52,131,32,5,38,143,96,151,10,151,315,503,9,18,8,48,7,43,5,68,38,40,14,17,31,23,8,5,19,87,1242,454,15,33,11,9,8,3336,5,37,8,7,26,99,17,18,22,55,22,9,12,6,672,15,330,129,167,301,32,263,47,188,49,12,21,137,22,18,8,6,8,30,24,31,29,136,2136,203,7,9,13,85,17,259,76,317,76,5,985,48,7,24,104,131,18,65,95,6,39,13,17,55,212,12,8,39,1098,23,64,30,16,29,49,10,24,46,216,23,221,12,52,242,16,49,27,7,21,21,39,41,8,7,77,27,293,17,320,7,8,12,12,93,20,128,197,102,26,514,51,15,1523,20,6,28,31,23,302,126,41,15,18,820,70,46,6,7,171,10,4165,3748,56,7,20,16,55,129,37,14,16,117,9,8,278,77,7,32,9,18,116,37,47,16,36,29,588,1417,102,8,3677,26,126,47,10,40,13,60,1570,12,42,9678,23,75,31,3690,8,22,19,26,10,13,155,399,235,1383,9,1909,60,10,21,35,29,36,22,699,43,35,118,7,101,51,32,5,9,85,24,6120,406,80,5,46,16,3565,73,291,17,24900,27,105,24,6,2622,2042,10,25,6,8,69,13,58,17,14,7,384,12,14,18,22,299,47,41,442,17,11,8,36,7,16,14,7,12,11,536,30,45,191,31,6,7,283,10,3031,411,9,22,101,27,17,17,9,6,235,74,25,245,2334,13,13,153,32,119,45,28,37,61,1059,6,6,114,13,29,25,27,14156,25,43,27,110,6034,68,153,13,8,352,31,28,82,258,13,156,26,8,23,101014,13,9,20,14,17,5,27,13,8,3737,30,1564,94,344,16,27,21,11,9,25,346,13,25,30,38,12,13,374,20,182,12,15,12,42,35,6,7,14,200,99,1622,10,221,39,15,196,44,8,13,13,20,1582,438,193,39,15,176,23,16,25,40,29,67,27,450,138,230,346,185,12,10,7,11,26,8,17,43,9,125,206,67,13,52,4954,10,2921,53,160,494,342,15,8,7,151,29,49,9,18,7,783,17,24,44,1983,206,9,8,20,870,16,11,2633,232,33,6,16,1147,22,58,13,18,1446,8,9,21,47,37,18,11,67,6,27,63,27,69,77,27,10,250,15,11,5,59,30,64,51,29,8,54,18,5,7,27,7,1020,12,17,7,22,2740,12,12,28,20,249,14,22,7,37,6,10,15,20,162,5,12,18,92,61,1272,13,58,12,10,71,119,81,520,215,9,6,62,28,467,27,45,8,29,18,10,27,692,34,15,75,527,20,11,44,12,268,50,365,28,31,193,489,215,7,12,474,134,12,1781,23,760,264,75,9,215,8,42,7,25,66,10,27,15,9,9,39,26,6,14,31,219,7,594,67,229,62,80,60,65,9,189,33,20,39,12,68,4964,690,24,6,13,25,58,14,18,25,406,32,55,103,15,246,11,28,7,892,180,20,25,21,6,51,6,7099,26,24,27,251,446,15,53,34,13,5,20,56,41,1061,6922,1023,101,31,8,337,145,268,444,92,67,678,68,9,77,671,13,13,696,8,96,86,210,63,1589,22,28,83029,60,34,9,31,15,31,9,13,43,11,30,6,663,31,20,33,648,3011,26,85340,19,1255,103,93,21,24,8,50,19,302,37,20,20,31,43,47,73,31,6,9,238,53,10,27,525,27,43,311,9,13,8,7,22,10,48,11,9,5433,15063,10,425,81,126,540,19,478,18,12,14,265,41,13,97,532,179,41,16,2139,10,894,34,12,89,7,778,22,243,17,17337,123,640,14,16,15,793,2906,87,293,294,21,55,24,17,14,101,108,228,7,8,45,1553,1785,35,19,22,485,11,12,34,1361,1544,255,75,63,73,13,370,83,24,19,43,34,75,57,45,95,56,43,4944,86,128,20,17,694,9,78,736,420,13,101,395,18,706,32,7,9,257,12000,84,5,26,12,12,57,488,254,275,56,36,294,60,73,142,118,14,28,14461,13,82,9,1747,597,673,34,83,107,113,122,10,30,32,17,106,50,798,18,239,9,32,504,244,15,13,14,132,10,1126,9,11,76,15,10,17,500,14,102,15,3007,16,6,7,14,449,6,9,27,5,6,33,13,7,78,408],\"yaxis\":\"y\",\"type\":\"scattergl\"},{\"hovertemplate\":\"\\u003cb\\u003eOLS trendline\\u003c\\u002fb\\u003e\\u003cbr\\u003eVotes = 14.1264 * Duration + -1196.71\\u003cbr\\u003eR\\u003csup\\u003e2\\u003c\\u002fsup\\u003e=0.006767\\u003cbr\\u003e\\u003cbr\\u003eDuration=%{x}\\u003cbr\\u003eVotes=%{y} \\u003cb\\u003e(trend)\\u003c\\u002fb\\u003e\\u003cextra\\u003e\\u003c\\u002fextra\\u003e\",\"legendgroup\":\"\",\"marker\":{\"symbol\":\"circle\"},\"mode\":\"lines\",\"name\":\"\",\"showlegend\":false,\"x\":[45,46,47,47,48,48,49,50,52,54,58,59,60,64,65,65,65,65,65,65,66,67,68,68,70,70,71,72,72,72,73,73,73,73,74,74,74,75,75,76,76,77,77,78,78,78,78,78,78,79,79,79,79,79,80,80,80,80,80,80,80,80,80,80,81,81,81,82,82,82,82,82,82,82,82,82,83,83,83,83,83,83,84,84,84,84,84,84,84,85,85,85,85,85,85,85,85,85,85,86,86,86,87,87,87,87,87,87,87,87,87,88,88,88,88,88,88,88,89,89,89,89,89,89,89,90,90,90,90,90,90,90,90,90,90,90,90,90,90,90,90,90,90,90,90,90,90,90,90,90,90,90,90,91,91,91,91,91,91,91,91,92,92,92,92,92,92,92,92,92,92,92,92,92,92,92,93,93,93,93,93,93,93,93,93,93,93,93,93,93,93,93,94,94,94,94,94,94,94,94,94,95,95,95,95,95,95,95,95,95,95,95,95,95,95,95,95,95,95,95,95,96,96,96,96,96,96,96,96,96,96,96,96,97,97,97,97,97,97,97,97,97,97,97,97,97,98,98,98,98,98,98,98,98,98,99,99,99,99,99,99,99,99,99,99,100,100,100,100,100,100,100,100,100,100,100,100,100,100,100,100,100,100,100,100,100,100,100,100,100,100,100,100,100,100,101,101,101,101,101,101,102,102,102,102,102,102,102,102,102,102,102,102,102,102,102,102,102,102,103,103,103,103,103,103,103,103,103,104,104,104,104,104,104,104,104,104,104,104,104,104,104,104,104,104,104,104,105,105,105,105,105,105,105,105,105,105,105,105,105,106,106,106,106,106,106,106,106,106,106,106,106,107,107,107,107,107,107,107,107,107,107,107,107,107,107,107,107,108,108,108,108,108,108,108,108,108,108,108,108,108,108,108,108,108,108,109,109,109,109,109,109,109,109,109,109,109,109,109,109,109,110,110,110,110,110,110,110,110,110,110,110,110,110,110,110,110,110,110,110,110,110,110,110,110,110,110,110,110,111,111,111,111,111,111,112,112,112,112,112,112,112,112,112,112,112,112,112,112,112,113,113,113,113,113,113,113,113,113,113,113,113,113,113,113,113,113,114,114,114,114,114,114,114,114,114,114,114,114,115,115,115,115,115,115,115,115,115,115,115,115,115,115,115,115,115,115,115,115,115,115,115,115,116,116,116,116,116,116,116,116,116,116,116,116,116,116,116,116,116,117,117,117,117,117,117,117,117,117,117,117,117,117,117,117,117,117,117,117,117,117,117,118,118,118,118,118,118,118,118,118,118,118,118,118,119,119,119,119,119,119,119,119,119,119,119,119,119,119,119,119,119,120,120,120,120,120,120,120,120,120,120,120,120,120,120,120,120,120,120,120,120,120,120,120,120,120,120,120,120,120,120,120,120,120,120,120,120,120,120,120,120,120,120,120,120,120,120,120,120,120,120,120,120,120,120,120,120,120,120,120,120,120,120,120,120,120,120,121,121,121,121,121,121,121,121,121,121,121,121,121,121,121,121,122,122,122,122,122,122,122,122,122,122,122,122,122,122,122,122,122,122,122,122,122,122,123,123,123,123,123,123,123,123,123,123,123,123,124,124,124,124,124,124,124,124,124,124,124,124,124,124,124,124,124,124,125,125,125,125,125,125,125,125,125,125,125,125,125,125,125,125,125,125,125,125,125,125,125,125,125,125,125,125,125,125,125,125,125,125,125,125,126,126,126,126,126,126,126,126,126,126,126,126,126,126,126,126,126,126,126,126,127,127,127,127,127,127,127,127,127,127,127,127,127,127,127,127,127,127,127,127,127,127,127,127,127,127,127,127,127,127,127,127,128,128,128,128,128,128,128,128,128,128,128,128,128,128,128,128,128,128,128,128,128,128,128,128,129,129,129,129,129,129,129,129,129,129,129,129,129,129,129,129,129,130,130,130,130,130,130,130,130,130,130,130,130,130,130,130,130,130,130,130,130,130,130,130,130,130,130,130,130,130,130,130,130,130,130,130,130,130,130,130,130,130,130,130,130,130,131,131,131,131,131,131,131,131,131,131,131,131,131,131,131,131,131,131,131,131,131,132,132,132,132,132,132,132,132,132,132,132,132,132,132,132,132,132,132,132,132,132,132,132,132,133,133,133,133,133,133,133,133,133,133,133,133,133,133,133,133,133,133,133,133,133,133,133,133,133,133,134,134,134,134,134,134,134,134,134,134,134,134,134,134,134,134,134,134,134,134,135,135,135,135,135,135,135,135,135,135,135,135,135,135,135,135,135,135,135,135,135,135,135,135,135,135,135,135,135,135,135,135,135,135,135,135,135,135,135,135,136,136,136,136,136,136,136,136,136,136,136,136,136,136,136,136,136,136,136,136,136,136,136,136,136,136,136,136,136,136,136,137,137,137,137,137,137,137,137,137,137,137,137,137,137,137,137,137,137,137,137,137,137,137,137,137,137,137,137,137,137,137,137,137,137,138,138,138,138,138,138,138,138,138,138,138,138,138,138,138,138,138,138,139,139,139,139,139,139,139,139,139,139,139,139,139,139,139,139,139,139,139,139,139,139,139,139,140,140,140,140,140,140,140,140,140,140,140,140,140,140,140,140,140,140,140,140,140,140,140,140,140,140,140,140,140,140,140,140,140,140,140,140,140,140,141,141,141,141,141,141,141,141,141,141,141,141,141,142,142,142,142,142,142,142,142,142,142,142,142,142,142,142,142,142,142,142,143,143,143,143,143,143,143,143,143,143,143,143,143,143,143,143,143,143,144,144,144,144,144,144,144,144,144,144,144,144,144,144,144,144,145,145,145,145,145,145,145,145,145,145,145,145,145,145,145,145,145,145,145,145,145,145,146,146,146,146,146,146,146,146,146,146,146,146,146,147,147,147,147,147,147,147,147,147,147,147,148,148,148,148,148,148,148,148,148,148,148,148,148,149,149,149,149,149,149,149,149,149,149,149,149,149,150,150,150,150,150,150,150,150,150,150,150,150,150,150,150,150,150,150,150,150,150,150,151,151,151,151,151,151,151,151,151,151,151,151,151,152,152,152,152,152,152,152,152,152,152,152,152,152,153,153,153,153,153,153,153,153,153,153,153,153,153,153,153,154,154,154,154,154,154,154,155,155,155,155,155,155,155,155,155,155,155,155,155,155,155,155,155,155,155,155,155,155,155,155,156,156,156,156,156,156,157,157,157,157,157,157,157,158,158,158,158,158,158,158,159,159,160,160,160,160,160,160,160,160,160,160,160,160,160,160,160,160,161,161,161,161,161,161,162,162,162,162,162,162,162,162,162,163,164,164,164,164,165,165,165,165,165,165,166,166,166,166,167,167,168,168,169,169,169,169,170,170,170,170,170,171,171,171,172,172,172,172,173,173,173,175,175,175,176,176,177,178,180,180,180,180,180,180,180,180,182,182,185,185,186,188,189,190,195,195,199,207,250,300],\"xaxis\":\"x\",\"y\":[-561.0180032429943,-546.8916155828123,-532.7652279226304,-532.7652279226304,-518.6388402624484,-518.6388402624484,-504.5124526022664,-490.38606494208454,-462.1332896217207,-433.8805143013567,-377.37496366062896,-363.248576000447,-349.122188340265,-292.61663769953725,-278.49025003935526,-278.49025003935526,-278.49025003935526,-278.49025003935526,-278.49025003935526,-278.49025003935526,-264.3638623791734,-250.2374747189914,-236.11108705880952,-236.11108705880952,-207.85831173844554,-207.85831173844554,-193.73192407826366,-179.60553641808167,-179.60553641808167,-179.60553641808167,-165.4791487578998,-165.4791487578998,-165.4791487578998,-165.4791487578998,-151.3527610977178,-151.3527610977178,-151.3527610977178,-137.2263734375358,-137.2263734375358,-123.09998577735382,-123.09998577735382,-108.97359811717183,-108.97359811717183,-94.84721045699007,-94.84721045699007,-94.84721045699007,-94.84721045699007,-94.84721045699007,-94.84721045699007,-80.72082279680808,-80.72082279680808,-80.72082279680808,-80.72082279680808,-80.72082279680808,-66.59443513662609,-66.59443513662609,-66.59443513662609,-66.59443513662609,-66.59443513662609,-66.59443513662609,-66.59443513662609,-66.59443513662609,-66.59443513662609,-66.59443513662609,-52.4680474764441,-52.4680474764441,-52.4680474764441,-38.34165981626211,-38.34165981626211,-38.34165981626211,-38.34165981626211,-38.34165981626211,-38.34165981626211,-38.34165981626211,-38.34165981626211,-38.34165981626211,-24.215272156080346,-24.215272156080346,-24.215272156080346,-24.215272156080346,-24.215272156080346,-24.215272156080346,-10.088884495898355,-10.088884495898355,-10.088884495898355,-10.088884495898355,-10.088884495898355,-10.088884495898355,-10.088884495898355,4.037503164283635,4.037503164283635,4.037503164283635,4.037503164283635,4.037503164283635,4.037503164283635,4.037503164283635,4.037503164283635,4.037503164283635,4.037503164283635,18.163890824465625,18.163890824465625,18.163890824465625,32.290278484647615,32.290278484647615,32.290278484647615,32.290278484647615,32.290278484647615,32.290278484647615,32.290278484647615,32.290278484647615,32.290278484647615,46.416666144829605,46.416666144829605,46.416666144829605,46.416666144829605,46.416666144829605,46.416666144829605,46.416666144829605,60.54305380501137,60.54305380501137,60.54305380501137,60.54305380501137,60.54305380501137,60.54305380501137,60.54305380501137,74.66944146519336,74.66944146519336,74.66944146519336,74.66944146519336,74.66944146519336,74.66944146519336,74.66944146519336,74.66944146519336,74.66944146519336,74.66944146519336,74.66944146519336,74.66944146519336,74.66944146519336,74.66944146519336,74.66944146519336,74.66944146519336,74.66944146519336,74.66944146519336,74.66944146519336,74.66944146519336,74.66944146519336,74.66944146519336,74.66944146519336,74.66944146519336,74.66944146519336,74.66944146519336,74.66944146519336,74.66944146519336,88.79582912537535,88.79582912537535,88.79582912537535,88.79582912537535,88.79582912537535,88.79582912537535,88.79582912537535,88.79582912537535,102.92221678555734,102.92221678555734,102.92221678555734,102.92221678555734,102.92221678555734,102.92221678555734,102.92221678555734,102.92221678555734,102.92221678555734,102.92221678555734,102.92221678555734,102.92221678555734,102.92221678555734,102.92221678555734,102.92221678555734,117.04860444573933,117.04860444573933,117.04860444573933,117.04860444573933,117.04860444573933,117.04860444573933,117.04860444573933,117.04860444573933,117.04860444573933,117.04860444573933,117.04860444573933,117.04860444573933,117.04860444573933,117.04860444573933,117.04860444573933,117.04860444573933,131.1749921059211,131.1749921059211,131.1749921059211,131.1749921059211,131.1749921059211,131.1749921059211,131.1749921059211,131.1749921059211,131.1749921059211,145.30137976610308,145.30137976610308,145.30137976610308,145.30137976610308,145.30137976610308,145.30137976610308,145.30137976610308,145.30137976610308,145.30137976610308,145.30137976610308,145.30137976610308,145.30137976610308,145.30137976610308,145.30137976610308,145.30137976610308,145.30137976610308,145.30137976610308,145.30137976610308,145.30137976610308,145.30137976610308,159.42776742628507,159.42776742628507,159.42776742628507,159.42776742628507,159.42776742628507,159.42776742628507,159.42776742628507,159.42776742628507,159.42776742628507,159.42776742628507,159.42776742628507,159.42776742628507,173.55415508646706,173.55415508646706,173.55415508646706,173.55415508646706,173.55415508646706,173.55415508646706,173.55415508646706,173.55415508646706,173.55415508646706,173.55415508646706,173.55415508646706,173.55415508646706,173.55415508646706,187.68054274664905,187.68054274664905,187.68054274664905,187.68054274664905,187.68054274664905,187.68054274664905,187.68054274664905,187.68054274664905,187.68054274664905,201.80693040683082,201.80693040683082,201.80693040683082,201.80693040683082,201.80693040683082,201.80693040683082,201.80693040683082,201.80693040683082,201.80693040683082,201.80693040683082,215.9333180670128,215.9333180670128,215.9333180670128,215.9333180670128,215.9333180670128,215.9333180670128,215.9333180670128,215.9333180670128,215.9333180670128,215.9333180670128,215.9333180670128,215.9333180670128,215.9333180670128,215.9333180670128,215.9333180670128,215.9333180670128,215.9333180670128,215.9333180670128,215.9333180670128,215.9333180670128,215.9333180670128,215.9333180670128,215.9333180670128,215.9333180670128,215.9333180670128,215.9333180670128,215.9333180670128,215.9333180670128,215.9333180670128,215.9333180670128,230.0597057271948,230.0597057271948,230.0597057271948,230.0597057271948,230.0597057271948,230.0597057271948,244.1860933873768,244.1860933873768,244.1860933873768,244.1860933873768,244.1860933873768,244.1860933873768,244.1860933873768,244.1860933873768,244.1860933873768,244.1860933873768,244.1860933873768,244.1860933873768,244.1860933873768,244.1860933873768,244.1860933873768,244.1860933873768,244.1860933873768,244.1860933873768,258.3124810475588,258.3124810475588,258.3124810475588,258.3124810475588,258.3124810475588,258.3124810475588,258.3124810475588,258.3124810475588,258.3124810475588,272.43886870774054,272.43886870774054,272.43886870774054,272.43886870774054,272.43886870774054,272.43886870774054,272.43886870774054,272.43886870774054,272.43886870774054,272.43886870774054,272.43886870774054,272.43886870774054,272.43886870774054,272.43886870774054,272.43886870774054,272.43886870774054,272.43886870774054,272.43886870774054,272.43886870774054,286.56525636792253,286.56525636792253,286.56525636792253,286.56525636792253,286.56525636792253,286.56525636792253,286.56525636792253,286.56525636792253,286.56525636792253,286.56525636792253,286.56525636792253,286.56525636792253,286.56525636792253,300.6916440281045,300.6916440281045,300.6916440281045,300.6916440281045,300.6916440281045,300.6916440281045,300.6916440281045,300.6916440281045,300.6916440281045,300.6916440281045,300.6916440281045,300.6916440281045,314.8180316882865,314.8180316882865,314.8180316882865,314.8180316882865,314.8180316882865,314.8180316882865,314.8180316882865,314.8180316882865,314.8180316882865,314.8180316882865,314.8180316882865,314.8180316882865,314.8180316882865,314.8180316882865,314.8180316882865,314.8180316882865,328.9444193484685,328.9444193484685,328.9444193484685,328.9444193484685,328.9444193484685,328.9444193484685,328.9444193484685,328.9444193484685,328.9444193484685,328.9444193484685,328.9444193484685,328.9444193484685,328.9444193484685,328.9444193484685,328.9444193484685,328.9444193484685,328.9444193484685,328.9444193484685,343.0708070086505,343.0708070086505,343.0708070086505,343.0708070086505,343.0708070086505,343.0708070086505,343.0708070086505,343.0708070086505,343.0708070086505,343.0708070086505,343.0708070086505,343.0708070086505,343.0708070086505,343.0708070086505,343.0708070086505,357.19719466883225,357.19719466883225,357.19719466883225,357.19719466883225,357.19719466883225,357.19719466883225,357.19719466883225,357.19719466883225,357.19719466883225,357.19719466883225,357.19719466883225,357.19719466883225,357.19719466883225,357.19719466883225,357.19719466883225,357.19719466883225,357.19719466883225,357.19719466883225,357.19719466883225,357.19719466883225,357.19719466883225,357.19719466883225,357.19719466883225,357.19719466883225,357.19719466883225,357.19719466883225,357.19719466883225,357.19719466883225,371.32358232901424,371.32358232901424,371.32358232901424,371.32358232901424,371.32358232901424,371.32358232901424,385.44996998919623,385.44996998919623,385.44996998919623,385.44996998919623,385.44996998919623,385.44996998919623,385.44996998919623,385.44996998919623,385.44996998919623,385.44996998919623,385.44996998919623,385.44996998919623,385.44996998919623,385.44996998919623,385.44996998919623,399.5763576493782,399.5763576493782,399.5763576493782,399.5763576493782,399.5763576493782,399.5763576493782,399.5763576493782,399.5763576493782,399.5763576493782,399.5763576493782,399.5763576493782,399.5763576493782,399.5763576493782,399.5763576493782,399.5763576493782,399.5763576493782,399.5763576493782,413.7027453095602,413.7027453095602,413.7027453095602,413.7027453095602,413.7027453095602,413.7027453095602,413.7027453095602,413.7027453095602,413.7027453095602,413.7027453095602,413.7027453095602,413.7027453095602,427.829132969742,427.829132969742,427.829132969742,427.829132969742,427.829132969742,427.829132969742,427.829132969742,427.829132969742,427.829132969742,427.829132969742,427.829132969742,427.829132969742,427.829132969742,427.829132969742,427.829132969742,427.829132969742,427.829132969742,427.829132969742,427.829132969742,427.829132969742,427.829132969742,427.829132969742,427.829132969742,427.829132969742,441.95552062992397,441.95552062992397,441.95552062992397,441.95552062992397,441.95552062992397,441.95552062992397,441.95552062992397,441.95552062992397,441.95552062992397,441.95552062992397,441.95552062992397,441.95552062992397,441.95552062992397,441.95552062992397,441.95552062992397,441.95552062992397,441.95552062992397,456.08190829010596,456.08190829010596,456.08190829010596,456.08190829010596,456.08190829010596,456.08190829010596,456.08190829010596,456.08190829010596,456.08190829010596,456.08190829010596,456.08190829010596,456.08190829010596,456.08190829010596,456.08190829010596,456.08190829010596,456.08190829010596,456.08190829010596,456.08190829010596,456.08190829010596,456.08190829010596,456.08190829010596,456.08190829010596,470.20829595028795,470.20829595028795,470.20829595028795,470.20829595028795,470.20829595028795,470.20829595028795,470.20829595028795,470.20829595028795,470.20829595028795,470.20829595028795,470.20829595028795,470.20829595028795,470.20829595028795,484.33468361046994,484.33468361046994,484.33468361046994,484.33468361046994,484.33468361046994,484.33468361046994,484.33468361046994,484.33468361046994,484.33468361046994,484.33468361046994,484.33468361046994,484.33468361046994,484.33468361046994,484.33468361046994,484.33468361046994,484.33468361046994,484.33468361046994,498.4610712706519,498.4610712706519,498.4610712706519,498.4610712706519,498.4610712706519,498.4610712706519,498.4610712706519,498.4610712706519,498.4610712706519,498.4610712706519,498.4610712706519,498.4610712706519,498.4610712706519,498.4610712706519,498.4610712706519,498.4610712706519,498.4610712706519,498.4610712706519,498.4610712706519,498.4610712706519,498.4610712706519,498.4610712706519,498.4610712706519,498.4610712706519,498.4610712706519,498.4610712706519,498.4610712706519,498.4610712706519,498.4610712706519,498.4610712706519,498.4610712706519,498.4610712706519,498.4610712706519,498.4610712706519,498.4610712706519,498.4610712706519,498.4610712706519,498.4610712706519,498.4610712706519,498.4610712706519,498.4610712706519,498.4610712706519,498.4610712706519,498.4610712706519,498.4610712706519,498.4610712706519,498.4610712706519,498.4610712706519,498.4610712706519,498.4610712706519,498.4610712706519,498.4610712706519,498.4610712706519,498.4610712706519,498.4610712706519,498.4610712706519,498.4610712706519,498.4610712706519,498.4610712706519,498.4610712706519,498.4610712706519,498.4610712706519,498.4610712706519,498.4610712706519,498.4610712706519,498.4610712706519,512.5874589308337,512.5874589308337,512.5874589308337,512.5874589308337,512.5874589308337,512.5874589308337,512.5874589308337,512.5874589308337,512.5874589308337,512.5874589308337,512.5874589308337,512.5874589308337,512.5874589308337,512.5874589308337,512.5874589308337,512.5874589308337,526.7138465910157,526.7138465910157,526.7138465910157,526.7138465910157,526.7138465910157,526.7138465910157,526.7138465910157,526.7138465910157,526.7138465910157,526.7138465910157,526.7138465910157,526.7138465910157,526.7138465910157,526.7138465910157,526.7138465910157,526.7138465910157,526.7138465910157,526.7138465910157,526.7138465910157,526.7138465910157,526.7138465910157,526.7138465910157,540.8402342511977,540.8402342511977,540.8402342511977,540.8402342511977,540.8402342511977,540.8402342511977,540.8402342511977,540.8402342511977,540.8402342511977,540.8402342511977,540.8402342511977,540.8402342511977,554.9666219113797,554.9666219113797,554.9666219113797,554.9666219113797,554.9666219113797,554.9666219113797,554.9666219113797,554.9666219113797,554.9666219113797,554.9666219113797,554.9666219113797,554.9666219113797,554.9666219113797,554.9666219113797,554.9666219113797,554.9666219113797,554.9666219113797,554.9666219113797,569.0930095715617,569.0930095715617,569.0930095715617,569.0930095715617,569.0930095715617,569.0930095715617,569.0930095715617,569.0930095715617,569.0930095715617,569.0930095715617,569.0930095715617,569.0930095715617,569.0930095715617,569.0930095715617,569.0930095715617,569.0930095715617,569.0930095715617,569.0930095715617,569.0930095715617,569.0930095715617,569.0930095715617,569.0930095715617,569.0930095715617,569.0930095715617,569.0930095715617,569.0930095715617,569.0930095715617,569.0930095715617,569.0930095715617,569.0930095715617,569.0930095715617,569.0930095715617,569.0930095715617,569.0930095715617,569.0930095715617,569.0930095715617,583.2193972317434,583.2193972317434,583.2193972317434,583.2193972317434,583.2193972317434,583.2193972317434,583.2193972317434,583.2193972317434,583.2193972317434,583.2193972317434,583.2193972317434,583.2193972317434,583.2193972317434,583.2193972317434,583.2193972317434,583.2193972317434,583.2193972317434,583.2193972317434,583.2193972317434,583.2193972317434,597.3457848919254,597.3457848919254,597.3457848919254,597.3457848919254,597.3457848919254,597.3457848919254,597.3457848919254,597.3457848919254,597.3457848919254,597.3457848919254,597.3457848919254,597.3457848919254,597.3457848919254,597.3457848919254,597.3457848919254,597.3457848919254,597.3457848919254,597.3457848919254,597.3457848919254,597.3457848919254,597.3457848919254,597.3457848919254,597.3457848919254,597.3457848919254,597.3457848919254,597.3457848919254,597.3457848919254,597.3457848919254,597.3457848919254,597.3457848919254,597.3457848919254,597.3457848919254,611.4721725521074,611.4721725521074,611.4721725521074,611.4721725521074,611.4721725521074,611.4721725521074,611.4721725521074,611.4721725521074,611.4721725521074,611.4721725521074,611.4721725521074,611.4721725521074,611.4721725521074,611.4721725521074,611.4721725521074,611.4721725521074,611.4721725521074,611.4721725521074,611.4721725521074,611.4721725521074,611.4721725521074,611.4721725521074,611.4721725521074,611.4721725521074,625.5985602122894,625.5985602122894,625.5985602122894,625.5985602122894,625.5985602122894,625.5985602122894,625.5985602122894,625.5985602122894,625.5985602122894,625.5985602122894,625.5985602122894,625.5985602122894,625.5985602122894,625.5985602122894,625.5985602122894,625.5985602122894,625.5985602122894,639.7249478724714,639.7249478724714,639.7249478724714,639.7249478724714,639.7249478724714,639.7249478724714,639.7249478724714,639.7249478724714,639.7249478724714,639.7249478724714,639.7249478724714,639.7249478724714,639.7249478724714,639.7249478724714,639.7249478724714,639.7249478724714,639.7249478724714,639.7249478724714,639.7249478724714,639.7249478724714,639.7249478724714,639.7249478724714,639.7249478724714,639.7249478724714,639.7249478724714,639.7249478724714,639.7249478724714,639.7249478724714,639.7249478724714,639.7249478724714,639.7249478724714,639.7249478724714,639.7249478724714,639.7249478724714,639.7249478724714,639.7249478724714,639.7249478724714,639.7249478724714,639.7249478724714,639.7249478724714,639.7249478724714,639.7249478724714,639.7249478724714,639.7249478724714,639.7249478724714,653.8513355326531,653.8513355326531,653.8513355326531,653.8513355326531,653.8513355326531,653.8513355326531,653.8513355326531,653.8513355326531,653.8513355326531,653.8513355326531,653.8513355326531,653.8513355326531,653.8513355326531,653.8513355326531,653.8513355326531,653.8513355326531,653.8513355326531,653.8513355326531,653.8513355326531,653.8513355326531,653.8513355326531,667.9777231928351,667.9777231928351,667.9777231928351,667.9777231928351,667.9777231928351,667.9777231928351,667.9777231928351,667.9777231928351,667.9777231928351,667.9777231928351,667.9777231928351,667.9777231928351,667.9777231928351,667.9777231928351,667.9777231928351,667.9777231928351,667.9777231928351,667.9777231928351,667.9777231928351,667.9777231928351,667.9777231928351,667.9777231928351,667.9777231928351,667.9777231928351,682.1041108530171,682.1041108530171,682.1041108530171,682.1041108530171,682.1041108530171,682.1041108530171,682.1041108530171,682.1041108530171,682.1041108530171,682.1041108530171,682.1041108530171,682.1041108530171,682.1041108530171,682.1041108530171,682.1041108530171,682.1041108530171,682.1041108530171,682.1041108530171,682.1041108530171,682.1041108530171,682.1041108530171,682.1041108530171,682.1041108530171,682.1041108530171,682.1041108530171,682.1041108530171,696.2304985131991,696.2304985131991,696.2304985131991,696.2304985131991,696.2304985131991,696.2304985131991,696.2304985131991,696.2304985131991,696.2304985131991,696.2304985131991,696.2304985131991,696.2304985131991,696.2304985131991,696.2304985131991,696.2304985131991,696.2304985131991,696.2304985131991,696.2304985131991,696.2304985131991,696.2304985131991,710.3568861733811,710.3568861733811,710.3568861733811,710.3568861733811,710.3568861733811,710.3568861733811,710.3568861733811,710.3568861733811,710.3568861733811,710.3568861733811,710.3568861733811,710.3568861733811,710.3568861733811,710.3568861733811,710.3568861733811,710.3568861733811,710.3568861733811,710.3568861733811,710.3568861733811,710.3568861733811,710.3568861733811,710.3568861733811,710.3568861733811,710.3568861733811,710.3568861733811,710.3568861733811,710.3568861733811,710.3568861733811,710.3568861733811,710.3568861733811,710.3568861733811,710.3568861733811,710.3568861733811,710.3568861733811,710.3568861733811,710.3568861733811,710.3568861733811,710.3568861733811,710.3568861733811,710.3568861733811,724.4832738335629,724.4832738335629,724.4832738335629,724.4832738335629,724.4832738335629,724.4832738335629,724.4832738335629,724.4832738335629,724.4832738335629,724.4832738335629,724.4832738335629,724.4832738335629,724.4832738335629,724.4832738335629,724.4832738335629,724.4832738335629,724.4832738335629,724.4832738335629,724.4832738335629,724.4832738335629,724.4832738335629,724.4832738335629,724.4832738335629,724.4832738335629,724.4832738335629,724.4832738335629,724.4832738335629,724.4832738335629,724.4832738335629,724.4832738335629,724.4832738335629,738.6096614937449,738.6096614937449,738.6096614937449,738.6096614937449,738.6096614937449,738.6096614937449,738.6096614937449,738.6096614937449,738.6096614937449,738.6096614937449,738.6096614937449,738.6096614937449,738.6096614937449,738.6096614937449,738.6096614937449,738.6096614937449,738.6096614937449,738.6096614937449,738.6096614937449,738.6096614937449,738.6096614937449,738.6096614937449,738.6096614937449,738.6096614937449,738.6096614937449,738.6096614937449,738.6096614937449,738.6096614937449,738.6096614937449,738.6096614937449,738.6096614937449,738.6096614937449,738.6096614937449,738.6096614937449,752.7360491539268,752.7360491539268,752.7360491539268,752.7360491539268,752.7360491539268,752.7360491539268,752.7360491539268,752.7360491539268,752.7360491539268,752.7360491539268,752.7360491539268,752.7360491539268,752.7360491539268,752.7360491539268,752.7360491539268,752.7360491539268,752.7360491539268,752.7360491539268,766.8624368141088,766.8624368141088,766.8624368141088,766.8624368141088,766.8624368141088,766.8624368141088,766.8624368141088,766.8624368141088,766.8624368141088,766.8624368141088,766.8624368141088,766.8624368141088,766.8624368141088,766.8624368141088,766.8624368141088,766.8624368141088,766.8624368141088,766.8624368141088,766.8624368141088,766.8624368141088,766.8624368141088,766.8624368141088,766.8624368141088,766.8624368141088,780.9888244742908,780.9888244742908,780.9888244742908,780.9888244742908,780.9888244742908,780.9888244742908,780.9888244742908,780.9888244742908,780.9888244742908,780.9888244742908,780.9888244742908,780.9888244742908,780.9888244742908,780.9888244742908,780.9888244742908,780.9888244742908,780.9888244742908,780.9888244742908,780.9888244742908,780.9888244742908,780.9888244742908,780.9888244742908,780.9888244742908,780.9888244742908,780.9888244742908,780.9888244742908,780.9888244742908,780.9888244742908,780.9888244742908,780.9888244742908,780.9888244742908,780.9888244742908,780.9888244742908,780.9888244742908,780.9888244742908,780.9888244742908,780.9888244742908,780.9888244742908,795.1152121344728,795.1152121344728,795.1152121344728,795.1152121344728,795.1152121344728,795.1152121344728,795.1152121344728,795.1152121344728,795.1152121344728,795.1152121344728,795.1152121344728,795.1152121344728,795.1152121344728,809.2415997946546,809.2415997946546,809.2415997946546,809.2415997946546,809.2415997946546,809.2415997946546,809.2415997946546,809.2415997946546,809.2415997946546,809.2415997946546,809.2415997946546,809.2415997946546,809.2415997946546,809.2415997946546,809.2415997946546,809.2415997946546,809.2415997946546,809.2415997946546,809.2415997946546,823.3679874548366,823.3679874548366,823.3679874548366,823.3679874548366,823.3679874548366,823.3679874548366,823.3679874548366,823.3679874548366,823.3679874548366,823.3679874548366,823.3679874548366,823.3679874548366,823.3679874548366,823.3679874548366,823.3679874548366,823.3679874548366,823.3679874548366,823.3679874548366,837.4943751150186,837.4943751150186,837.4943751150186,837.4943751150186,837.4943751150186,837.4943751150186,837.4943751150186,837.4943751150186,837.4943751150186,837.4943751150186,837.4943751150186,837.4943751150186,837.4943751150186,837.4943751150186,837.4943751150186,837.4943751150186,851.6207627752003,851.6207627752003,851.6207627752003,851.6207627752003,851.6207627752003,851.6207627752003,851.6207627752003,851.6207627752003,851.6207627752003,851.6207627752003,851.6207627752003,851.6207627752003,851.6207627752003,851.6207627752003,851.6207627752003,851.6207627752003,851.6207627752003,851.6207627752003,851.6207627752003,851.6207627752003,851.6207627752003,851.6207627752003,865.7471504353823,865.7471504353823,865.7471504353823,865.7471504353823,865.7471504353823,865.7471504353823,865.7471504353823,865.7471504353823,865.7471504353823,865.7471504353823,865.7471504353823,865.7471504353823,865.7471504353823,879.8735380955643,879.8735380955643,879.8735380955643,879.8735380955643,879.8735380955643,879.8735380955643,879.8735380955643,879.8735380955643,879.8735380955643,879.8735380955643,879.8735380955643,893.9999257557463,893.9999257557463,893.9999257557463,893.9999257557463,893.9999257557463,893.9999257557463,893.9999257557463,893.9999257557463,893.9999257557463,893.9999257557463,893.9999257557463,893.9999257557463,893.9999257557463,908.1263134159283,908.1263134159283,908.1263134159283,908.1263134159283,908.1263134159283,908.1263134159283,908.1263134159283,908.1263134159283,908.1263134159283,908.1263134159283,908.1263134159283,908.1263134159283,908.1263134159283,922.2527010761103,922.2527010761103,922.2527010761103,922.2527010761103,922.2527010761103,922.2527010761103,922.2527010761103,922.2527010761103,922.2527010761103,922.2527010761103,922.2527010761103,922.2527010761103,922.2527010761103,922.2527010761103,922.2527010761103,922.2527010761103,922.2527010761103,922.2527010761103,922.2527010761103,922.2527010761103,922.2527010761103,922.2527010761103,936.3790887362923,936.3790887362923,936.3790887362923,936.3790887362923,936.3790887362923,936.3790887362923,936.3790887362923,936.3790887362923,936.3790887362923,936.3790887362923,936.3790887362923,936.3790887362923,936.3790887362923,950.5054763964743,950.5054763964743,950.5054763964743,950.5054763964743,950.5054763964743,950.5054763964743,950.5054763964743,950.5054763964743,950.5054763964743,950.5054763964743,950.5054763964743,950.5054763964743,950.5054763964743,964.6318640566562,964.6318640566562,964.6318640566562,964.6318640566562,964.6318640566562,964.6318640566562,964.6318640566562,964.6318640566562,964.6318640566562,964.6318640566562,964.6318640566562,964.6318640566562,964.6318640566562,964.6318640566562,964.6318640566562,978.7582517168382,978.7582517168382,978.7582517168382,978.7582517168382,978.7582517168382,978.7582517168382,978.7582517168382,992.8846393770198,992.8846393770198,992.8846393770198,992.8846393770198,992.8846393770198,992.8846393770198,992.8846393770198,992.8846393770198,992.8846393770198,992.8846393770198,992.8846393770198,992.8846393770198,992.8846393770198,992.8846393770198,992.8846393770198,992.8846393770198,992.8846393770198,992.8846393770198,992.8846393770198,992.8846393770198,992.8846393770198,992.8846393770198,992.8846393770198,992.8846393770198,1007.0110270372018,1007.0110270372018,1007.0110270372018,1007.0110270372018,1007.0110270372018,1007.0110270372018,1021.1374146973837,1021.1374146973837,1021.1374146973837,1021.1374146973837,1021.1374146973837,1021.1374146973837,1021.1374146973837,1035.2638023575657,1035.2638023575657,1035.2638023575657,1035.2638023575657,1035.2638023575657,1035.2638023575657,1035.2638023575657,1049.3901900177477,1049.3901900177477,1063.5165776779297,1063.5165776779297,1063.5165776779297,1063.5165776779297,1063.5165776779297,1063.5165776779297,1063.5165776779297,1063.5165776779297,1063.5165776779297,1063.5165776779297,1063.5165776779297,1063.5165776779297,1063.5165776779297,1063.5165776779297,1063.5165776779297,1063.5165776779297,1077.6429653381117,1077.6429653381117,1077.6429653381117,1077.6429653381117,1077.6429653381117,1077.6429653381117,1091.7693529982937,1091.7693529982937,1091.7693529982937,1091.7693529982937,1091.7693529982937,1091.7693529982937,1091.7693529982937,1091.7693529982937,1091.7693529982937,1105.8957406584757,1120.0221283186577,1120.0221283186577,1120.0221283186577,1120.0221283186577,1134.1485159788397,1134.1485159788397,1134.1485159788397,1134.1485159788397,1134.1485159788397,1134.1485159788397,1148.2749036390212,1148.2749036390212,1148.2749036390212,1148.2749036390212,1162.4012912992032,1162.4012912992032,1176.5276789593852,1176.5276789593852,1190.6540666195672,1190.6540666195672,1190.6540666195672,1190.6540666195672,1204.7804542797492,1204.7804542797492,1204.7804542797492,1204.7804542797492,1204.7804542797492,1218.9068419399312,1218.9068419399312,1218.9068419399312,1233.0332296001131,1233.0332296001131,1233.0332296001131,1233.0332296001131,1247.1596172602951,1247.1596172602951,1247.1596172602951,1275.4123925806591,1275.4123925806591,1275.4123925806591,1289.538780240841,1289.538780240841,1303.6651679010226,1317.7915555612046,1346.0443308815686,1346.0443308815686,1346.0443308815686,1346.0443308815686,1346.0443308815686,1346.0443308815686,1346.0443308815686,1346.0443308815686,1374.2971062019326,1374.2971062019326,1416.6762691824786,1416.6762691824786,1430.8026568426606,1459.055432163024,1473.181819823206,1487.308207483388,1557.940145784298,1557.940145784298,1614.4456964250255,1727.4567977064814,2334.891467094305,3041.2108501034027],\"yaxis\":\"y\",\"type\":\"scattergl\"}],                        {\"template\":{\"data\":{\"histogram2dcontour\":[{\"type\":\"histogram2dcontour\",\"colorbar\":{\"outlinewidth\":0,\"ticks\":\"\"},\"colorscale\":[[0.0,\"#0d0887\"],[0.1111111111111111,\"#46039f\"],[0.2222222222222222,\"#7201a8\"],[0.3333333333333333,\"#9c179e\"],[0.4444444444444444,\"#bd3786\"],[0.5555555555555556,\"#d8576b\"],[0.6666666666666666,\"#ed7953\"],[0.7777777777777778,\"#fb9f3a\"],[0.8888888888888888,\"#fdca26\"],[1.0,\"#f0f921\"]]}],\"choropleth\":[{\"type\":\"choropleth\",\"colorbar\":{\"outlinewidth\":0,\"ticks\":\"\"}}],\"histogram2d\":[{\"type\":\"histogram2d\",\"colorbar\":{\"outlinewidth\":0,\"ticks\":\"\"},\"colorscale\":[[0.0,\"#0d0887\"],[0.1111111111111111,\"#46039f\"],[0.2222222222222222,\"#7201a8\"],[0.3333333333333333,\"#9c179e\"],[0.4444444444444444,\"#bd3786\"],[0.5555555555555556,\"#d8576b\"],[0.6666666666666666,\"#ed7953\"],[0.7777777777777778,\"#fb9f3a\"],[0.8888888888888888,\"#fdca26\"],[1.0,\"#f0f921\"]]}],\"heatmap\":[{\"type\":\"heatmap\",\"colorbar\":{\"outlinewidth\":0,\"ticks\":\"\"},\"colorscale\":[[0.0,\"#0d0887\"],[0.1111111111111111,\"#46039f\"],[0.2222222222222222,\"#7201a8\"],[0.3333333333333333,\"#9c179e\"],[0.4444444444444444,\"#bd3786\"],[0.5555555555555556,\"#d8576b\"],[0.6666666666666666,\"#ed7953\"],[0.7777777777777778,\"#fb9f3a\"],[0.8888888888888888,\"#fdca26\"],[1.0,\"#f0f921\"]]}],\"heatmapgl\":[{\"type\":\"heatmapgl\",\"colorbar\":{\"outlinewidth\":0,\"ticks\":\"\"},\"colorscale\":[[0.0,\"#0d0887\"],[0.1111111111111111,\"#46039f\"],[0.2222222222222222,\"#7201a8\"],[0.3333333333333333,\"#9c179e\"],[0.4444444444444444,\"#bd3786\"],[0.5555555555555556,\"#d8576b\"],[0.6666666666666666,\"#ed7953\"],[0.7777777777777778,\"#fb9f3a\"],[0.8888888888888888,\"#fdca26\"],[1.0,\"#f0f921\"]]}],\"contourcarpet\":[{\"type\":\"contourcarpet\",\"colorbar\":{\"outlinewidth\":0,\"ticks\":\"\"}}],\"contour\":[{\"type\":\"contour\",\"colorbar\":{\"outlinewidth\":0,\"ticks\":\"\"},\"colorscale\":[[0.0,\"#0d0887\"],[0.1111111111111111,\"#46039f\"],[0.2222222222222222,\"#7201a8\"],[0.3333333333333333,\"#9c179e\"],[0.4444444444444444,\"#bd3786\"],[0.5555555555555556,\"#d8576b\"],[0.6666666666666666,\"#ed7953\"],[0.7777777777777778,\"#fb9f3a\"],[0.8888888888888888,\"#fdca26\"],[1.0,\"#f0f921\"]]}],\"surface\":[{\"type\":\"surface\",\"colorbar\":{\"outlinewidth\":0,\"ticks\":\"\"},\"colorscale\":[[0.0,\"#0d0887\"],[0.1111111111111111,\"#46039f\"],[0.2222222222222222,\"#7201a8\"],[0.3333333333333333,\"#9c179e\"],[0.4444444444444444,\"#bd3786\"],[0.5555555555555556,\"#d8576b\"],[0.6666666666666666,\"#ed7953\"],[0.7777777777777778,\"#fb9f3a\"],[0.8888888888888888,\"#fdca26\"],[1.0,\"#f0f921\"]]}],\"mesh3d\":[{\"type\":\"mesh3d\",\"colorbar\":{\"outlinewidth\":0,\"ticks\":\"\"}}],\"scatter\":[{\"fillpattern\":{\"fillmode\":\"overlay\",\"size\":10,\"solidity\":0.2},\"type\":\"scatter\"}],\"parcoords\":[{\"type\":\"parcoords\",\"line\":{\"colorbar\":{\"outlinewidth\":0,\"ticks\":\"\"}}}],\"scatterpolargl\":[{\"type\":\"scatterpolargl\",\"marker\":{\"colorbar\":{\"outlinewidth\":0,\"ticks\":\"\"}}}],\"bar\":[{\"error_x\":{\"color\":\"#2a3f5f\"},\"error_y\":{\"color\":\"#2a3f5f\"},\"marker\":{\"line\":{\"color\":\"#E5ECF6\",\"width\":0.5},\"pattern\":{\"fillmode\":\"overlay\",\"size\":10,\"solidity\":0.2}},\"type\":\"bar\"}],\"scattergeo\":[{\"type\":\"scattergeo\",\"marker\":{\"colorbar\":{\"outlinewidth\":0,\"ticks\":\"\"}}}],\"scatterpolar\":[{\"type\":\"scatterpolar\",\"marker\":{\"colorbar\":{\"outlinewidth\":0,\"ticks\":\"\"}}}],\"histogram\":[{\"marker\":{\"pattern\":{\"fillmode\":\"overlay\",\"size\":10,\"solidity\":0.2}},\"type\":\"histogram\"}],\"scattergl\":[{\"type\":\"scattergl\",\"marker\":{\"colorbar\":{\"outlinewidth\":0,\"ticks\":\"\"}}}],\"scatter3d\":[{\"type\":\"scatter3d\",\"line\":{\"colorbar\":{\"outlinewidth\":0,\"ticks\":\"\"}},\"marker\":{\"colorbar\":{\"outlinewidth\":0,\"ticks\":\"\"}}}],\"scattermapbox\":[{\"type\":\"scattermapbox\",\"marker\":{\"colorbar\":{\"outlinewidth\":0,\"ticks\":\"\"}}}],\"scatterternary\":[{\"type\":\"scatterternary\",\"marker\":{\"colorbar\":{\"outlinewidth\":0,\"ticks\":\"\"}}}],\"scattercarpet\":[{\"type\":\"scattercarpet\",\"marker\":{\"colorbar\":{\"outlinewidth\":0,\"ticks\":\"\"}}}],\"carpet\":[{\"aaxis\":{\"endlinecolor\":\"#2a3f5f\",\"gridcolor\":\"white\",\"linecolor\":\"white\",\"minorgridcolor\":\"white\",\"startlinecolor\":\"#2a3f5f\"},\"baxis\":{\"endlinecolor\":\"#2a3f5f\",\"gridcolor\":\"white\",\"linecolor\":\"white\",\"minorgridcolor\":\"white\",\"startlinecolor\":\"#2a3f5f\"},\"type\":\"carpet\"}],\"table\":[{\"cells\":{\"fill\":{\"color\":\"#EBF0F8\"},\"line\":{\"color\":\"white\"}},\"header\":{\"fill\":{\"color\":\"#C8D4E3\"},\"line\":{\"color\":\"white\"}},\"type\":\"table\"}],\"barpolar\":[{\"marker\":{\"line\":{\"color\":\"#E5ECF6\",\"width\":0.5},\"pattern\":{\"fillmode\":\"overlay\",\"size\":10,\"solidity\":0.2}},\"type\":\"barpolar\"}],\"pie\":[{\"automargin\":true,\"type\":\"pie\"}]},\"layout\":{\"autotypenumbers\":\"strict\",\"colorway\":[\"#636efa\",\"#EF553B\",\"#00cc96\",\"#ab63fa\",\"#FFA15A\",\"#19d3f3\",\"#FF6692\",\"#B6E880\",\"#FF97FF\",\"#FECB52\"],\"font\":{\"color\":\"#2a3f5f\"},\"hovermode\":\"closest\",\"hoverlabel\":{\"align\":\"left\"},\"paper_bgcolor\":\"white\",\"plot_bgcolor\":\"#E5ECF6\",\"polar\":{\"bgcolor\":\"#E5ECF6\",\"angularaxis\":{\"gridcolor\":\"white\",\"linecolor\":\"white\",\"ticks\":\"\"},\"radialaxis\":{\"gridcolor\":\"white\",\"linecolor\":\"white\",\"ticks\":\"\"}},\"ternary\":{\"bgcolor\":\"#E5ECF6\",\"aaxis\":{\"gridcolor\":\"white\",\"linecolor\":\"white\",\"ticks\":\"\"},\"baxis\":{\"gridcolor\":\"white\",\"linecolor\":\"white\",\"ticks\":\"\"},\"caxis\":{\"gridcolor\":\"white\",\"linecolor\":\"white\",\"ticks\":\"\"}},\"coloraxis\":{\"colorbar\":{\"outlinewidth\":0,\"ticks\":\"\"}},\"colorscale\":{\"sequential\":[[0.0,\"#0d0887\"],[0.1111111111111111,\"#46039f\"],[0.2222222222222222,\"#7201a8\"],[0.3333333333333333,\"#9c179e\"],[0.4444444444444444,\"#bd3786\"],[0.5555555555555556,\"#d8576b\"],[0.6666666666666666,\"#ed7953\"],[0.7777777777777778,\"#fb9f3a\"],[0.8888888888888888,\"#fdca26\"],[1.0,\"#f0f921\"]],\"sequentialminus\":[[0.0,\"#0d0887\"],[0.1111111111111111,\"#46039f\"],[0.2222222222222222,\"#7201a8\"],[0.3333333333333333,\"#9c179e\"],[0.4444444444444444,\"#bd3786\"],[0.5555555555555556,\"#d8576b\"],[0.6666666666666666,\"#ed7953\"],[0.7777777777777778,\"#fb9f3a\"],[0.8888888888888888,\"#fdca26\"],[1.0,\"#f0f921\"]],\"diverging\":[[0,\"#8e0152\"],[0.1,\"#c51b7d\"],[0.2,\"#de77ae\"],[0.3,\"#f1b6da\"],[0.4,\"#fde0ef\"],[0.5,\"#f7f7f7\"],[0.6,\"#e6f5d0\"],[0.7,\"#b8e186\"],[0.8,\"#7fbc41\"],[0.9,\"#4d9221\"],[1,\"#276419\"]]},\"xaxis\":{\"gridcolor\":\"white\",\"linecolor\":\"white\",\"ticks\":\"\",\"title\":{\"standoff\":15},\"zerolinecolor\":\"white\",\"automargin\":true,\"zerolinewidth\":2},\"yaxis\":{\"gridcolor\":\"white\",\"linecolor\":\"white\",\"ticks\":\"\",\"title\":{\"standoff\":15},\"zerolinecolor\":\"white\",\"automargin\":true,\"zerolinewidth\":2},\"scene\":{\"xaxis\":{\"backgroundcolor\":\"#E5ECF6\",\"gridcolor\":\"white\",\"linecolor\":\"white\",\"showbackground\":true,\"ticks\":\"\",\"zerolinecolor\":\"white\",\"gridwidth\":2},\"yaxis\":{\"backgroundcolor\":\"#E5ECF6\",\"gridcolor\":\"white\",\"linecolor\":\"white\",\"showbackground\":true,\"ticks\":\"\",\"zerolinecolor\":\"white\",\"gridwidth\":2},\"zaxis\":{\"backgroundcolor\":\"#E5ECF6\",\"gridcolor\":\"white\",\"linecolor\":\"white\",\"showbackground\":true,\"ticks\":\"\",\"zerolinecolor\":\"white\",\"gridwidth\":2}},\"shapedefaults\":{\"line\":{\"color\":\"#2a3f5f\"}},\"annotationdefaults\":{\"arrowcolor\":\"#2a3f5f\",\"arrowhead\":0,\"arrowwidth\":1},\"geo\":{\"bgcolor\":\"white\",\"landcolor\":\"#E5ECF6\",\"subunitcolor\":\"white\",\"showland\":true,\"showlakes\":true,\"lakecolor\":\"white\"},\"title\":{\"x\":0.05},\"mapbox\":{\"style\":\"light\"}}},\"xaxis\":{\"anchor\":\"y\",\"domain\":[0.0,1.0],\"title\":{\"text\":\"Duration of Movie in Minutes\"},\"showgrid\":false},\"yaxis\":{\"anchor\":\"x\",\"domain\":[0.0,1.0],\"title\":{\"text\":\"Votes of a movie\"},\"showgrid\":false},\"coloraxis\":{\"colorbar\":{\"title\":{\"text\":\"Votes\"}},\"colorscale\":[[0.0,\"rgb(210, 251, 212)\"],[0.16666666666666666,\"rgb(165, 219, 194)\"],[0.3333333333333333,\"rgb(123, 188, 176)\"],[0.5,\"rgb(85, 156, 158)\"],[0.6666666666666666,\"rgb(58, 124, 137)\"],[0.8333333333333334,\"rgb(35, 93, 114)\"],[1.0,\"rgb(18, 63, 90)\"]]},\"legend\":{\"tracegroupgap\":0},\"margin\":{\"t\":60},\"title\":{\"text\":\"Does length of movie have any impact on Votes?\",\"x\":0.5,\"pad\":{\"t\":20},\"font\":{\"size\":20}},\"plot_bgcolor\":\"white\"},                        {\"responsive\": true}                    ).then(function(){\n",
       "                            \n",
       "var gd = document.getElementById('c5aea87b-5a06-48d7-9f97-b4c037e79149');\n",
       "var x = new MutationObserver(function (mutations, observer) {{\n",
       "        var display = window.getComputedStyle(gd).display;\n",
       "        if (!display || display === 'none') {{\n",
       "            console.log([gd, 'removed!']);\n",
       "            Plotly.purge(gd);\n",
       "            observer.disconnect();\n",
       "        }}\n",
       "}});\n",
       "\n",
       "// Listen for the removal of the full notebook cells\n",
       "var notebookContainer = gd.closest('#notebook-container');\n",
       "if (notebookContainer) {{\n",
       "    x.observe(notebookContainer, {childList: true});\n",
       "}}\n",
       "\n",
       "// Listen for the clearing of the current output cell\n",
       "var outputEl = gd.closest('.output');\n",
       "if (outputEl) {{\n",
       "    x.observe(outputEl, {childList: true});\n",
       "}}\n",
       "\n",
       "                        })                };                });            </script>        </div>"
      ]
     },
     "metadata": {},
     "output_type": "display_data"
    }
   ],
   "source": [
    "fig_dur_votes = px.scatter(imdb, x = 'Duration', y = 'Votes', trendline='ols', color = \"Votes\", color_continuous_scale = \"darkmint\")\n",
    "fig_dur_votes.update_layout(title='Does length of movie have any impact on Votes?', title_x=0.5, title_pad=dict(t=20), title_font=dict(size=20), xaxis_title='Duration of Movie in Minutes', yaxis_title='Votes of a movie', xaxis=dict(showgrid=False), yaxis=dict(showgrid=False), plot_bgcolor = 'white')\n",
    "fig_dur_votes.show()\n"
   ]
  },
  {
   "cell_type": "code",
   "execution_count": 26,
   "id": "8a0026aa",
   "metadata": {
    "execution": {
     "iopub.execute_input": "2023-12-22T18:08:58.789384Z",
     "iopub.status.busy": "2023-12-22T18:08:58.789016Z",
     "iopub.status.idle": "2023-12-22T18:08:58.856498Z",
     "shell.execute_reply": "2023-12-22T18:08:58.855357Z"
    },
    "papermill": {
     "duration": 0.086856,
     "end_time": "2023-12-22T18:08:58.858686",
     "exception": false,
     "start_time": "2023-12-22T18:08:58.771830",
     "status": "completed"
    },
    "tags": []
   },
   "outputs": [
    {
     "data": {
      "text/html": [
       "<div>                            <div id=\"6e54f671-6788-4a90-b8c4-15dc55f3a266\" class=\"plotly-graph-div\" style=\"height:525px; width:100%;\"></div>            <script type=\"text/javascript\">                require([\"plotly\"], function(Plotly) {                    window.PLOTLYENV=window.PLOTLYENV || {};                                    if (document.getElementById(\"6e54f671-6788-4a90-b8c4-15dc55f3a266\")) {                    Plotly.newPlot(                        \"6e54f671-6788-4a90-b8c4-15dc55f3a266\",                        [{\"hovertemplate\":\"Rating=%{x}\\u003cbr\\u003eVotes=%{marker.color}\\u003cextra\\u003e\\u003c\\u002fextra\\u003e\",\"legendgroup\":\"\",\"marker\":{\"color\":[8,17,59,1002,15,16,20,106,94,361,194,35,358,93,80,6,75,171,31,7,10,9,412,10,17,80,142,24,249,339,16,264,150,18,69,19,66,62,266,13,93,21,52,7,281,15,15,30,122,17,26,922,37,102,49,15,160,44,230,13,1259,85,203,10,6,88,172,7,85,80,6,64,109,11,8,76,12,7,14,33,53,24,53,52,52,973,32,10,4780,11,7,8,349,37,137,11,384,7,1622,23,17,14,41,16,47,11,856,1636,636,48,71,46,1185,5,43,29,13,94,19,9,109,7,124,115,6,25,6,68,50,137,12,8,7,38,645,33,5,204,1807,7,5383,36,36,16,44,223,64,571,150,21,5,34,40,432,11,5,10,16,20,356,271,165,9,6,66,7,7,123,25,805,10,14,72,6,63,18,54,23,10,16,42,29,85,13,9,7,12370,24,17,8,50,1533,21,7,7,6,9,101,4685,288,15,10,1873,14,10,75,30,35,18,26,18,10,68,24,15,29,11,15,34,58,132,6,8,24,18,9,74,1257,9,367,1968,147,403,585,23,22,34,26,17,22,8,882,33,51,27,365,45,33782,38,201,112,20,257,12,115,5124,7,10,13,19,17,456,356,323,25,982,41,6,862,36,13,31,162,122,26,8,656,24,141,28,101,45,336,676,185,2108,13,35,54,16,9,43,10,5,39,11,39,70,60,44,159,7,15,299,82,22,140,86,954,142,117,11,35,30,15,62,189,5,941,4826,7,22,16,102,7,22,10,9,433,101,58,15,191,1957,4338,179,105,54,32,75,22,40,285,15,5,52,127,24,727,64,8,191,8,329,62,3207,1962,57,19,6,15,252,10,22,66,284,24,7256,48,50,11,126,15,31,15,16,13,57,16,2118,87,388,12695,158,242,7,19,78,88,170,20,103,213,21,22,10,58,575,421,1857,20,88,5,24,9,6,24,29,6,7,47,33,5785,46,44,37,62,18,128,6,15,84,850,7,13,2610,31,50,17,1556,652,200,27,10,10,16,46,13,30,6,124,554,14,5,78,257,14,78,104,186,17,10,43,30,15,8,18,15,52,394,502,21,12,472,8,37,77,62,3371,9,26,261,47,11,13,365,23,57,52,48,191,4890,72,97,47,9,454,77,106,181,89,8,56,6,17,7,11,106,30,15,689,398,64,85,36,56,45,113,42,75,360,65,13,640,2708,51,64,344,23,184,46,58,37,15644,38,27,47,672,49,1770,209,7,14,345,40,41,9,5,14,11,1208,25,52,18,8,28,10,43,1055,23,796,11,1251,25,8,3781,45,92,35,50,31,17,31,101,11,274,4744,9,1042,3167,33,4132,166,303,7,14,18,11,1747,15,10,1486,36,37,442,286,28,10,15,47,19,42,10,27,51,9,118,27,948,897,17,700,25,20,117,36,27,7,218,57,38,52,131,32,5,38,143,96,151,10,151,315,503,9,18,8,48,7,43,5,68,38,40,14,17,31,23,8,5,19,87,1242,454,15,33,11,9,8,3336,5,37,8,7,26,99,17,18,22,55,22,9,12,6,672,15,330,129,167,301,32,263,47,188,49,12,21,137,22,18,8,6,8,30,24,31,29,136,2136,203,7,9,13,85,17,259,76,317,76,5,985,48,7,24,104,131,18,65,95,6,39,13,17,55,212,12,8,39,1098,23,64,30,16,29,49,10,24,46,216,23,221,12,52,242,16,49,27,7,21,21,39,41,8,7,77,27,293,17,320,7,8,12,12,93,20,128,197,102,26,514,51,15,1523,20,6,28,31,23,302,126,41,15,18,820,70,46,6,7,171,10,4165,3748,56,7,20,16,55,129,37,14,16,117,9,8,278,77,7,32,9,18,116,37,47,16,36,29,588,1417,102,8,3677,26,126,47,10,40,13,60,1570,12,42,9678,23,75,31,3690,8,22,19,26,10,13,155,399,235,1383,9,1909,60,10,21,35,29,36,22,699,43,35,118,7,101,51,32,5,9,85,24,6120,406,80,5,46,16,3565,73,291,17,24900,27,105,24,6,2622,2042,10,25,6,8,69,13,58,17,14,7,384,12,14,18,22,299,47,41,442,17,11,8,36,7,16,14,7,12,11,536,30,45,191,31,6,7,283,10,3031,411,9,22,101,27,17,17,9,6,235,74,25,245,2334,13,13,153,32,119,45,28,37,61,1059,6,6,114,13,29,25,27,14156,25,43,27,110,6034,68,153,13,8,352,31,28,82,258,13,156,26,8,23,101014,13,9,20,14,17,5,27,13,8,3737,30,1564,94,344,16,27,21,11,9,25,346,13,25,30,38,12,13,374,20,182,12,15,12,42,35,6,7,14,200,99,1622,10,221,39,15,196,44,8,13,13,20,1582,438,193,39,15,176,23,16,25,40,29,67,27,450,138,230,346,185,12,10,7,11,26,8,17,43,9,125,206,67,13,52,4954,10,2921,53,160,494,342,15,8,7,151,29,49,9,18,7,783,17,24,44,1983,206,9,8,20,870,16,11,2633,232,33,6,16,1147,22,58,13,18,1446,8,9,21,47,37,18,11,67,6,27,63,27,69,77,27,10,250,15,11,5,59,30,64,51,29,8,54,18,5,7,27,7,1020,12,17,7,22,2740,12,12,28,20,249,14,22,7,37,6,10,15,20,162,5,12,18,92,61,1272,13,58,12,10,71,119,81,520,215,9,6,62,28,467,27,45,8,29,18,10,27,692,34,15,75,527,20,11,44,12,268,50,365,28,31,193,489,215,7,12,474,134,12,1781,23,760,264,75,9,215,8,42,7,25,66,10,27,15,9,9,39,26,6,14,31,219,7,594,67,229,62,80,60,65,9,189,33,20,39,12,68,4964,690,24,6,13,25,58,14,18,25,406,32,55,103,15,246,11,28,7,892,180,20,25,21,6,51,6,7099,26,24,27,251,446,15,53,34,13,5,20,56,41,1061,6922,1023,101,31,8,337,145,268,444,92,67,678,68,9,77,671,13,13,696,8,96,86,210,63,1589,22,28,83029,60,34,9,31,15,31,9,13,43,11,30,6,663,31,20,33,648,3011,26,85340,19,1255,103,93,21,24,8,50,19,302,37,20,20,31,43,47,73,31,6,9,238,53,10,27,525,27,43,311,9,13,8,7,22,10,48,11,9,5433,15063,10,425,81,126,540,19,478,18,12,14,265,41,13,97,532,179,41,16,2139,10,894,34,12,89,7,778,22,243,17,17337,123,640,14,16,15,793,2906,87,293,294,21,55,24,17,14,101,108,228,7,8,45,1553,1785,35,19,22,485,11,12,34,1361,1544,255,75,63,73,13,370,83,24,19,43,34,75,57,45,95,56,43,4944,86,128,20,17,694,9,78,736,420,13,101,395,18,706,32,7,9,257,12000,84,5,26,12,12,57,488,254,275,56,36,294,60,73,142,118,14,28,14461,13,82,9,1747,597,673,34,83,107,113,122,10,30,32,17,106,50,798,18,239,9,32,504,244,15,13,14,132,10,1126,9,11,76,15,10,17,500,14,102,15,3007,16,6,7,14,449,6,9,27,5,6,33,13,7,78,408],\"coloraxis\":\"coloraxis\",\"symbol\":\"circle\"},\"mode\":\"markers\",\"name\":\"\",\"showlegend\":false,\"x\":[7.0,6.2,5.9,7.1,5.6,4.5,4.0,5.5,6.1,6.1,6.9,6.9,6.9,5.6,5.6,6.3,5.7,4.2,6.2,5.0,6.2,5.3,8.1,6.3,7.3,6.0,3.1,7.9,8.0,2.7,6.8,2.4,7.4,5.1,7.6,6.4,6.7,7.6,4.2,4.1,5.3,4.8,5.0,3.1,5.5,3.1,3.3,4.4,6.9,2.8,5.4,3.0,6.4,5.6,6.1,6.6,4.2,6.1,6.1,6.7,7.1,5.5,7.3,6.1,5.5,4.5,6.4,5.1,6.6,7.6,4.0,7.0,5.8,4.7,5.0,5.5,6.6,4.7,3.1,7.8,3.6,4.6,5.9,6.6,5.8,6.9,6.6,5.5,7.0,5.6,6.9,6.8,5.5,5.9,6.5,6.3,7.9,4.3,3.7,6.6,6.1,6.5,4.2,4.4,4.9,6.2,7.3,5.9,5.0,5.6,3.9,5.5,8.0,7.0,4.9,7.1,6.3,7.4,6.3,6.6,5.5,7.1,4.4,6.6,5.7,6.8,7.3,7.5,6.5,6.9,3.7,4.8,9.3,4.3,7.3,7.3,8.8,4.3,5.6,5.9,6.4,3.8,4.2,4.2,4.8,6.4,6.5,7.2,5.9,8.7,3.6,5.1,6.2,7.6,7.1,8.8,6.1,7.3,7.0,6.2,6.1,6.4,8.2,3.3,6.0,6.9,6.7,4.7,2.5,7.1,6.6,5.9,7.7,5.5,4.7,5.7,7.1,8.8,6.0,6.3,6.8,9.3,7.7,4.2,2.3,6.1,7.3,8.1,7.5,5.6,3.6,7.2,6.1,7.9,3.7,6.0,4.9,2.8,6.0,7.0,4.8,5.6,5.6,5.9,5.8,4.9,6.3,5.2,3.6,2.5,4.6,8.7,4.4,3.8,5.8,4.6,6.2,5.5,5.1,6.8,6.8,4.3,3.4,4.9,6.4,6.2,5.9,7.0,4.0,7.1,7.2,7.8,6.7,7.4,7.0,6.4,4.4,6.9,6.0,4.5,3.9,7.6,5.9,6.2,7.1,4.1,6.9,8.2,8.6,6.5,6.5,7.9,6.0,4.8,6.1,6.7,2.9,6.4,7.5,6.9,7.6,7.3,2.6,6.8,7.8,6.0,4.8,4.5,4.2,5.6,7.0,7.9,7.8,3.5,7.7,4.5,8.6,4.7,6.8,4.2,3.8,4.9,8.6,6.5,5.9,7.0,6.8,6.7,4.7,4.8,4.6,6.7,6.3,6.6,6.9,4.1,8.3,6.9,8.1,8.0,4.5,5.9,6.8,6.5,6.4,5.8,3.8,7.5,6.3,6.2,5.5,3.7,6.6,5.3,7.2,6.8,4.6,6.8,6.5,5.8,7.4,4.7,7.1,3.1,6.1,5.3,4.9,6.7,7.3,5.9,5.6,6.5,6.2,6.5,7.7,6.8,5.3,6.9,6.5,3.9,7.1,7.7,7.4,6.3,3.8,7.0,6.7,3.7,7.5,7.0,5.2,5.1,6.5,5.6,7.2,6.3,5.4,7.4,6.7,7.2,8.1,7.3,7.8,7.5,6.4,6.1,5.9,6.1,5.9,4.9,5.5,4.0,6.4,4.2,7.8,5.2,5.5,6.5,4.4,6.3,7.3,6.5,7.0,6.7,7.2,5.7,4.5,7.2,3.6,7.0,6.1,5.3,5.0,5.0,5.0,6.7,7.2,2.5,6.9,8.4,5.3,6.1,5.4,3.8,6.3,3.3,6.4,7.1,6.5,4.0,7.7,6.0,7.9,3.3,4.2,8.2,7.0,3.8,1.9,5.3,5.2,7.1,4.6,5.0,5.2,6.6,6.9,6.5,4.6,5.7,4.0,7.1,4.3,7.8,7.7,5.7,6.7,6.7,6.3,8.5,7.1,2.9,6.6,3.8,3.9,7.1,6.4,7.2,2.5,3.4,6.9,6.1,6.9,6.8,5.7,6.9,6.9,4.4,6.9,5.7,6.0,5.8,6.2,7.1,4.9,4.3,5.4,5.1,7.3,6.9,6.8,4.4,4.8,6.0,6.0,6.3,6.4,7.5,4.7,6.8,7.1,6.5,3.1,6.2,8.3,4.8,7.2,3.5,7.3,7.1,7.1,5.8,4.6,5.2,6.4,5.7,6.7,5.3,4.5,7.3,8.1,7.3,7.0,8.8,5.6,5.9,6.0,6.7,7.1,5.5,6.0,5.9,6.6,4.6,5.5,4.9,6.8,3.2,2.1,5.6,9.3,7.0,7.1,6.9,7.4,6.1,5.7,4.7,6.7,5.4,7.5,5.6,4.9,4.2,4.1,6.8,6.6,5.8,5.7,6.2,4.3,4.9,8.4,6.1,2.5,6.4,6.7,7.8,7.8,5.7,7.6,7.4,4.5,4.4,6.4,7.9,7.5,4.4,4.7,7.9,5.6,4.1,6.7,6.2,6.5,7.1,7.9,3.4,5.6,5.6,5.3,5.1,6.3,5.4,5.3,5.9,6.6,3.5,4.2,5.1,5.8,5.5,5.8,6.4,6.4,5.7,7.1,6.2,6.5,6.0,5.8,4.6,5.9,1.7,6.9,5.3,6.8,5.2,6.8,6.5,8.6,7.3,6.0,3.5,6.5,9.2,7.4,5.9,7.0,7.3,7.4,4.6,6.8,6.8,5.8,5.0,2.6,4.0,3.1,5.7,4.8,6.7,6.8,4.3,5.3,6.9,5.6,5.9,4.7,6.6,4.6,4.8,6.5,5.6,8.1,6.6,6.1,7.8,7.2,5.3,5.0,6.2,6.7,5.7,7.0,2.7,5.9,2.8,5.8,6.0,5.6,4.6,5.0,4.2,5.4,4.8,6.7,5.9,5.9,4.8,3.8,6.2,7.3,7.2,7.1,4.7,6.6,4.4,4.9,6.4,3.4,8.6,6.1,6.8,9.0,6.6,6.2,3.7,9.4,5.1,6.2,3.1,7.9,8.0,5.9,6.5,3.9,8.0,8.9,5.0,2.7,6.4,7.3,4.8,5.4,6.6,7.8,6.6,6.8,8.1,5.8,6.9,7.5,5.4,6.6,6.7,6.2,6.2,8.0,6.7,7.2,5.2,7.1,7.2,5.1,8.2,5.8,6.3,4.0,4.2,4.8,4.4,6.6,7.0,5.6,5.6,5.1,5.7,5.9,5.6,6.3,7.7,7.2,5.8,5.1,8.1,4.1,2.7,5.6,4.1,5.5,2.8,4.7,7.5,8.1,5.8,5.8,4.1,4.6,7.8,5.6,6.3,7.4,4.6,7.1,7.4,5.8,5.5,3.5,7.4,7.3,8.6,3.8,5.8,7.8,5.7,6.6,6.7,4.3,8.5,3.8,4.3,7.5,3.7,5.1,8.5,5.7,4.3,8.9,1.9,4.9,5.8,6.4,3.6,5.9,6.5,5.4,4.7,5.7,6.2,6.5,6.3,7.4,7.3,6.0,6.6,6.6,5.2,6.2,6.3,8.2,4.4,5.5,6.6,7.1,6.6,8.6,5.8,7.8,5.7,7.4,5.1,5.2,6.0,4.2,6.6,7.6,7.4,5.8,5.1,7.1,7.1,5.1,4.7,6.6,6.2,7.5,5.1,7.0,5.7,3.7,8.6,4.5,2.3,4.6,3.2,5.1,5.0,6.5,7.6,7.7,8.0,6.3,9.0,7.2,5.8,7.3,4.2,4.7,6.8,7.8,5.1,5.4,2.8,7.7,8.1,7.0,7.7,6.9,5.2,7.3,4.2,7.2,4.9,5.1,5.4,8.2,8.2,7.2,4.8,3.3,2.4,7.7,2.8,4.3,4.2,3.5,6.9,5.8,2.7,6.7,5.7,7.9,6.7,7.2,5.5,6.6,6.1,3.4,7.2,6.6,7.2,6.1,5.6,4.8,4.7,4.1,8.8,4.9,3.9,5.2,5.5,7.4,6.6,5.0,3.5,6.1,7.8,5.6,7.1,5.0,6.2,6.6,6.2,3.9,4.1,7.3,6.1,7.5,6.3,4.5,3.2,4.3,3.8,6.8,6.9,8.0,4.5,7.1,7.1,6.8,4.2,5.8,9.0,4.7,7.9,5.3,5.8,6.6,7.2,3.9,6.1,7.0,6.9,4.8,1.6,4.8,5.9,7.7,6.6,6.4,3.2,5.8,4.8,5.7,5.5,6.7,5.5,6.2,4.6,6.4,3.1,6.9,8.0,6.5,5.4,4.1,5.8,4.4,5.8,4.8,6.7,7.1,7.4,7.5,7.3,7.4,8.2,8.6,6.8,7.0,6.5,3.8,6.2,5.4,5.6,6.6,6.6,7.1,5.8,4.4,5.4,7.8,6.8,6.1,7.4,5.4,3.2,2.7,7.7,9.1,5.5,5.9,9.1,5.4,4.9,5.8,5.7,5.1,6.2,6.6,5.1,8.2,5.4,6.3,4.2,7.1,6.7,5.6,7.0,6.2,6.6,8.5,4.8,6.5,5.2,5.4,3.8,7.6,6.7,7.1,7.1,2.4,7.2,6.7,6.3,6.5,6.5,6.5,5.9,8.6,7.3,3.7,4.6,5.5,6.0,6.7,7.6,6.4,8.1,7.2,6.6,7.2,4.1,4.6,4.0,4.3,3.8,4.6,8.0,7.0,5.6,4.4,5.5,6.0,7.2,6.2,6.1,5.4,2.7,6.5,4.4,7.6,5.4,6.2,8.0,7.9,8.4,8.7,5.9,6.2,5.4,3.4,4.1,5.2,5.4,6.9,4.9,6.8,5.5,5.5,6.5,6.7,7.7,3.5,7.7,5.8,5.7,6.2,6.4,6.6,6.5,5.2,5.9,6.1,3.6,5.9,5.3,6.9,6.3,6.1,4.4,5.0,4.0,5.2,3.1,7.4,6.3,7.1,4.8,7.3,7.9,3.6,3.8,5.6,6.8,7.0,5.8,5.4,6.1,4.3,6.0,6.3,3.3,3.1,3.1,2.9,4.7,7.6,6.5,6.7,6.6,3.7,8.0,5.8,6.0,5.4,6.8,6.9,3.6,7.3,7.1,2.3,7.2,3.5,9.0,3.9,9.3,5.5,5.9,3.2,7.7,4.5,4.9,7.0,8.4,5.1,8.5,6.7,7.6,7.0,6.7,6.4,8.7,6.1,7.8,6.9,3.9,3.5,6.8,7.2,7.7,5.7,6.8,7.2,4.9,5.8,8.2,5.6,5.7,7.1,5.1,6.7,4.4,6.9,6.8,2.9,5.8,7.2,6.1,6.4,4.7,4.1,6.4,3.6,5.6,7.3,6.2,7.5,5.4,6.7,6.9,7.3,6.7,6.8,7.2,7.2,6.8,6.4,6.6,6.2,7.5,7.0,5.3,6.7,5.9,8.2,3.8,3.8,4.7,6.0,6.2,5.5,7.0,2.5,5.3,6.5,7.5,6.8,6.9,5.3,5.2,5.1,6.9,3.5,4.9,7.4,7.4,7.1,4.3,4.8,6.7,6.8,6.5,5.8,6.8,4.9,7.2,7.4,7.2,3.9,6.5,4.2,4.0,5.1,7.0,4.9,8.1,4.2,5.2,6.8,5.0,7.2,6.6,5.7,6.5,7.2,4.5,6.4,7.2,6.6,7.5,7.3,2.9,6.2,4.0,3.4,5.8,5.5,6.9,5.3,6.9,6.0,2.8,9.1,5.6,5.8,6.1,5.9,6.3,6.5,5.4,7.2,6.1,6.9,6.6,4.5,8.6,6.5,6.8,5.9,8.0,5.9,7.3,8.2,6.9,6.7,6.7,8.7,4.4,4.7,5.6,6.1,6.7,6.8,5.1,8.7,6.0,7.3,5.5,6.9,7.6,8.1,3.8,3.8,7.4,6.8,6.4,7.5,5.9,6.3,5.4,4.9,4.0,5.1,2.4,5.9,6.1,7.0,6.7,5.0,6.2,4.7,6.8,4.2,7.3,5.7,5.9,7.7,6.4,5.9,2.4,3.6,6.0,5.1,6.2,5.4,9.2,6.1,6.2,3.5,7.2,6.8,6.8,7.2,6.4,6.0,6.6,6.1,7.9,5.9,7.0,6.4,5.3,5.7,6.8,8.6,9.4,2.9,6.9,4.9,6.7,7.3,5.9,7.1,7.3,4.6,5.2,4.4,5.9,6.4,6.6,5.9,4.8,6.4,7.3,7.9,4.1,5.4,6.3,7.9,3.4,5.7,5.4,7.6,6.5,7.0,5.1,7.3,7.3,8.0,6.4,6.0,3.9,6.1,8.1,5.0,6.9,4.8,6.8,5.8,6.6,3.5,6.9,6.5,6.6,8.2,5.8,7.3,7.8,7.2,6.7,6.9,5.2,5.6,4.8,7.0,4.7,8.2,7.4,5.1,6.5,3.2,5.8,5.0,6.0,5.2,5.2,6.5,7.1,7.2,7.3,6.2,5.6,8.9,4.3,5.3,6.7,5.4,6.7,6.6,7.7,4.8,4.9,7.9,7.3,5.4,6.5,4.9,5.5,6.8,4.5,4.8,4.6,7.1,6.4,3.3,8.1,2.7,5.7,5.4,5.6,7.0,6.0,6.6,5.1,6.7,5.4,6.1,6.4,4.6,7.6,6.6,3.3,5.2,4.4,6.1,3.4,8.6,4.8,5.9,7.0,7.9,5.0,3.3,6.3,6.4,6.4,5.3,3.9,7.1,6.0,3.7,4.4,6.0,5.7,5.7,6.1],\"xaxis\":\"x\",\"y\":[8,17,59,1002,15,16,20,106,94,361,194,35,358,93,80,6,75,171,31,7,10,9,412,10,17,80,142,24,249,339,16,264,150,18,69,19,66,62,266,13,93,21,52,7,281,15,15,30,122,17,26,922,37,102,49,15,160,44,230,13,1259,85,203,10,6,88,172,7,85,80,6,64,109,11,8,76,12,7,14,33,53,24,53,52,52,973,32,10,4780,11,7,8,349,37,137,11,384,7,1622,23,17,14,41,16,47,11,856,1636,636,48,71,46,1185,5,43,29,13,94,19,9,109,7,124,115,6,25,6,68,50,137,12,8,7,38,645,33,5,204,1807,7,5383,36,36,16,44,223,64,571,150,21,5,34,40,432,11,5,10,16,20,356,271,165,9,6,66,7,7,123,25,805,10,14,72,6,63,18,54,23,10,16,42,29,85,13,9,7,12370,24,17,8,50,1533,21,7,7,6,9,101,4685,288,15,10,1873,14,10,75,30,35,18,26,18,10,68,24,15,29,11,15,34,58,132,6,8,24,18,9,74,1257,9,367,1968,147,403,585,23,22,34,26,17,22,8,882,33,51,27,365,45,33782,38,201,112,20,257,12,115,5124,7,10,13,19,17,456,356,323,25,982,41,6,862,36,13,31,162,122,26,8,656,24,141,28,101,45,336,676,185,2108,13,35,54,16,9,43,10,5,39,11,39,70,60,44,159,7,15,299,82,22,140,86,954,142,117,11,35,30,15,62,189,5,941,4826,7,22,16,102,7,22,10,9,433,101,58,15,191,1957,4338,179,105,54,32,75,22,40,285,15,5,52,127,24,727,64,8,191,8,329,62,3207,1962,57,19,6,15,252,10,22,66,284,24,7256,48,50,11,126,15,31,15,16,13,57,16,2118,87,388,12695,158,242,7,19,78,88,170,20,103,213,21,22,10,58,575,421,1857,20,88,5,24,9,6,24,29,6,7,47,33,5785,46,44,37,62,18,128,6,15,84,850,7,13,2610,31,50,17,1556,652,200,27,10,10,16,46,13,30,6,124,554,14,5,78,257,14,78,104,186,17,10,43,30,15,8,18,15,52,394,502,21,12,472,8,37,77,62,3371,9,26,261,47,11,13,365,23,57,52,48,191,4890,72,97,47,9,454,77,106,181,89,8,56,6,17,7,11,106,30,15,689,398,64,85,36,56,45,113,42,75,360,65,13,640,2708,51,64,344,23,184,46,58,37,15644,38,27,47,672,49,1770,209,7,14,345,40,41,9,5,14,11,1208,25,52,18,8,28,10,43,1055,23,796,11,1251,25,8,3781,45,92,35,50,31,17,31,101,11,274,4744,9,1042,3167,33,4132,166,303,7,14,18,11,1747,15,10,1486,36,37,442,286,28,10,15,47,19,42,10,27,51,9,118,27,948,897,17,700,25,20,117,36,27,7,218,57,38,52,131,32,5,38,143,96,151,10,151,315,503,9,18,8,48,7,43,5,68,38,40,14,17,31,23,8,5,19,87,1242,454,15,33,11,9,8,3336,5,37,8,7,26,99,17,18,22,55,22,9,12,6,672,15,330,129,167,301,32,263,47,188,49,12,21,137,22,18,8,6,8,30,24,31,29,136,2136,203,7,9,13,85,17,259,76,317,76,5,985,48,7,24,104,131,18,65,95,6,39,13,17,55,212,12,8,39,1098,23,64,30,16,29,49,10,24,46,216,23,221,12,52,242,16,49,27,7,21,21,39,41,8,7,77,27,293,17,320,7,8,12,12,93,20,128,197,102,26,514,51,15,1523,20,6,28,31,23,302,126,41,15,18,820,70,46,6,7,171,10,4165,3748,56,7,20,16,55,129,37,14,16,117,9,8,278,77,7,32,9,18,116,37,47,16,36,29,588,1417,102,8,3677,26,126,47,10,40,13,60,1570,12,42,9678,23,75,31,3690,8,22,19,26,10,13,155,399,235,1383,9,1909,60,10,21,35,29,36,22,699,43,35,118,7,101,51,32,5,9,85,24,6120,406,80,5,46,16,3565,73,291,17,24900,27,105,24,6,2622,2042,10,25,6,8,69,13,58,17,14,7,384,12,14,18,22,299,47,41,442,17,11,8,36,7,16,14,7,12,11,536,30,45,191,31,6,7,283,10,3031,411,9,22,101,27,17,17,9,6,235,74,25,245,2334,13,13,153,32,119,45,28,37,61,1059,6,6,114,13,29,25,27,14156,25,43,27,110,6034,68,153,13,8,352,31,28,82,258,13,156,26,8,23,101014,13,9,20,14,17,5,27,13,8,3737,30,1564,94,344,16,27,21,11,9,25,346,13,25,30,38,12,13,374,20,182,12,15,12,42,35,6,7,14,200,99,1622,10,221,39,15,196,44,8,13,13,20,1582,438,193,39,15,176,23,16,25,40,29,67,27,450,138,230,346,185,12,10,7,11,26,8,17,43,9,125,206,67,13,52,4954,10,2921,53,160,494,342,15,8,7,151,29,49,9,18,7,783,17,24,44,1983,206,9,8,20,870,16,11,2633,232,33,6,16,1147,22,58,13,18,1446,8,9,21,47,37,18,11,67,6,27,63,27,69,77,27,10,250,15,11,5,59,30,64,51,29,8,54,18,5,7,27,7,1020,12,17,7,22,2740,12,12,28,20,249,14,22,7,37,6,10,15,20,162,5,12,18,92,61,1272,13,58,12,10,71,119,81,520,215,9,6,62,28,467,27,45,8,29,18,10,27,692,34,15,75,527,20,11,44,12,268,50,365,28,31,193,489,215,7,12,474,134,12,1781,23,760,264,75,9,215,8,42,7,25,66,10,27,15,9,9,39,26,6,14,31,219,7,594,67,229,62,80,60,65,9,189,33,20,39,12,68,4964,690,24,6,13,25,58,14,18,25,406,32,55,103,15,246,11,28,7,892,180,20,25,21,6,51,6,7099,26,24,27,251,446,15,53,34,13,5,20,56,41,1061,6922,1023,101,31,8,337,145,268,444,92,67,678,68,9,77,671,13,13,696,8,96,86,210,63,1589,22,28,83029,60,34,9,31,15,31,9,13,43,11,30,6,663,31,20,33,648,3011,26,85340,19,1255,103,93,21,24,8,50,19,302,37,20,20,31,43,47,73,31,6,9,238,53,10,27,525,27,43,311,9,13,8,7,22,10,48,11,9,5433,15063,10,425,81,126,540,19,478,18,12,14,265,41,13,97,532,179,41,16,2139,10,894,34,12,89,7,778,22,243,17,17337,123,640,14,16,15,793,2906,87,293,294,21,55,24,17,14,101,108,228,7,8,45,1553,1785,35,19,22,485,11,12,34,1361,1544,255,75,63,73,13,370,83,24,19,43,34,75,57,45,95,56,43,4944,86,128,20,17,694,9,78,736,420,13,101,395,18,706,32,7,9,257,12000,84,5,26,12,12,57,488,254,275,56,36,294,60,73,142,118,14,28,14461,13,82,9,1747,597,673,34,83,107,113,122,10,30,32,17,106,50,798,18,239,9,32,504,244,15,13,14,132,10,1126,9,11,76,15,10,17,500,14,102,15,3007,16,6,7,14,449,6,9,27,5,6,33,13,7,78,408],\"yaxis\":\"y\",\"type\":\"scattergl\"},{\"hovertemplate\":\"\\u003cb\\u003eOLS trendline\\u003c\\u002fb\\u003e\\u003cbr\\u003eVotes = 328.562 * Rating + -1411.09\\u003cbr\\u003eR\\u003csup\\u003e2\\u003c\\u002fsup\\u003e=0.011587\\u003cbr\\u003e\\u003cbr\\u003eRating=%{x}\\u003cbr\\u003eVotes=%{y} \\u003cb\\u003e(trend)\\u003c\\u002fb\\u003e\\u003cextra\\u003e\\u003c\\u002fextra\\u003e\",\"legendgroup\":\"\",\"marker\":{\"symbol\":\"circle\"},\"mode\":\"lines\",\"name\":\"\",\"showlegend\":false,\"x\":[1.6,1.7,1.9,1.9,2.1,2.3,2.3,2.3,2.4,2.4,2.4,2.4,2.4,2.5,2.5,2.5,2.5,2.5,2.5,2.6,2.6,2.7,2.7,2.7,2.7,2.7,2.7,2.7,2.7,2.8,2.8,2.8,2.8,2.8,2.8,2.8,2.9,2.9,2.9,2.9,2.9,2.9,3.0,3.1,3.1,3.1,3.1,3.1,3.1,3.1,3.1,3.1,3.1,3.1,3.1,3.2,3.2,3.2,3.2,3.2,3.2,3.2,3.3,3.3,3.3,3.3,3.3,3.3,3.3,3.3,3.3,3.4,3.4,3.4,3.4,3.4,3.4,3.4,3.4,3.4,3.5,3.5,3.5,3.5,3.5,3.5,3.5,3.5,3.5,3.5,3.5,3.5,3.5,3.6,3.6,3.6,3.6,3.6,3.6,3.6,3.6,3.6,3.6,3.6,3.7,3.7,3.7,3.7,3.7,3.7,3.7,3.7,3.7,3.7,3.7,3.8,3.8,3.8,3.8,3.8,3.8,3.8,3.8,3.8,3.8,3.8,3.8,3.8,3.8,3.8,3.8,3.8,3.8,3.8,3.8,3.9,3.9,3.9,3.9,3.9,3.9,3.9,3.9,3.9,3.9,3.9,3.9,3.9,4.0,4.0,4.0,4.0,4.0,4.0,4.0,4.0,4.0,4.0,4.0,4.0,4.0,4.1,4.1,4.1,4.1,4.1,4.1,4.1,4.1,4.1,4.1,4.1,4.1,4.1,4.1,4.1,4.2,4.2,4.2,4.2,4.2,4.2,4.2,4.2,4.2,4.2,4.2,4.2,4.2,4.2,4.2,4.2,4.2,4.2,4.2,4.2,4.2,4.2,4.2,4.2,4.3,4.3,4.3,4.3,4.3,4.3,4.3,4.3,4.3,4.3,4.3,4.3,4.3,4.3,4.3,4.3,4.3,4.4,4.4,4.4,4.4,4.4,4.4,4.4,4.4,4.4,4.4,4.4,4.4,4.4,4.4,4.4,4.4,4.4,4.4,4.4,4.4,4.4,4.4,4.4,4.5,4.5,4.5,4.5,4.5,4.5,4.5,4.5,4.5,4.5,4.5,4.5,4.5,4.5,4.5,4.5,4.6,4.6,4.6,4.6,4.6,4.6,4.6,4.6,4.6,4.6,4.6,4.6,4.6,4.6,4.6,4.6,4.6,4.6,4.6,4.6,4.6,4.6,4.6,4.7,4.7,4.7,4.7,4.7,4.7,4.7,4.7,4.7,4.7,4.7,4.7,4.7,4.7,4.7,4.7,4.7,4.7,4.7,4.7,4.7,4.7,4.7,4.7,4.8,4.8,4.8,4.8,4.8,4.8,4.8,4.8,4.8,4.8,4.8,4.8,4.8,4.8,4.8,4.8,4.8,4.8,4.8,4.8,4.8,4.8,4.8,4.8,4.8,4.8,4.8,4.8,4.8,4.8,4.9,4.9,4.9,4.9,4.9,4.9,4.9,4.9,4.9,4.9,4.9,4.9,4.9,4.9,4.9,4.9,4.9,4.9,4.9,4.9,4.9,4.9,4.9,4.9,4.9,4.9,4.9,5.0,5.0,5.0,5.0,5.0,5.0,5.0,5.0,5.0,5.0,5.0,5.0,5.0,5.0,5.0,5.0,5.0,5.0,5.0,5.0,5.0,5.1,5.1,5.1,5.1,5.1,5.1,5.1,5.1,5.1,5.1,5.1,5.1,5.1,5.1,5.1,5.1,5.1,5.1,5.1,5.1,5.1,5.1,5.1,5.1,5.1,5.1,5.1,5.1,5.1,5.1,5.1,5.1,5.2,5.2,5.2,5.2,5.2,5.2,5.2,5.2,5.2,5.2,5.2,5.2,5.2,5.2,5.2,5.2,5.2,5.2,5.2,5.2,5.2,5.2,5.2,5.3,5.3,5.3,5.3,5.3,5.3,5.3,5.3,5.3,5.3,5.3,5.3,5.3,5.3,5.3,5.3,5.3,5.3,5.3,5.3,5.3,5.3,5.3,5.4,5.4,5.4,5.4,5.4,5.4,5.4,5.4,5.4,5.4,5.4,5.4,5.4,5.4,5.4,5.4,5.4,5.4,5.4,5.4,5.4,5.4,5.4,5.4,5.4,5.4,5.4,5.4,5.4,5.4,5.4,5.4,5.4,5.4,5.4,5.5,5.5,5.5,5.5,5.5,5.5,5.5,5.5,5.5,5.5,5.5,5.5,5.5,5.5,5.5,5.5,5.5,5.5,5.5,5.5,5.5,5.5,5.5,5.5,5.5,5.5,5.5,5.5,5.5,5.5,5.5,5.5,5.5,5.5,5.6,5.6,5.6,5.6,5.6,5.6,5.6,5.6,5.6,5.6,5.6,5.6,5.6,5.6,5.6,5.6,5.6,5.6,5.6,5.6,5.6,5.6,5.6,5.6,5.6,5.6,5.6,5.6,5.6,5.6,5.6,5.6,5.6,5.6,5.6,5.6,5.6,5.6,5.6,5.6,5.7,5.7,5.7,5.7,5.7,5.7,5.7,5.7,5.7,5.7,5.7,5.7,5.7,5.7,5.7,5.7,5.7,5.7,5.7,5.7,5.7,5.7,5.7,5.7,5.7,5.7,5.7,5.7,5.7,5.7,5.7,5.7,5.7,5.7,5.8,5.8,5.8,5.8,5.8,5.8,5.8,5.8,5.8,5.8,5.8,5.8,5.8,5.8,5.8,5.8,5.8,5.8,5.8,5.8,5.8,5.8,5.8,5.8,5.8,5.8,5.8,5.8,5.8,5.8,5.8,5.8,5.8,5.8,5.8,5.8,5.8,5.8,5.8,5.8,5.8,5.8,5.8,5.8,5.9,5.9,5.9,5.9,5.9,5.9,5.9,5.9,5.9,5.9,5.9,5.9,5.9,5.9,5.9,5.9,5.9,5.9,5.9,5.9,5.9,5.9,5.9,5.9,5.9,5.9,5.9,5.9,5.9,5.9,5.9,5.9,5.9,5.9,5.9,5.9,5.9,5.9,5.9,5.9,5.9,5.9,5.9,5.9,5.9,5.9,5.9,6.0,6.0,6.0,6.0,6.0,6.0,6.0,6.0,6.0,6.0,6.0,6.0,6.0,6.0,6.0,6.0,6.0,6.0,6.0,6.0,6.0,6.0,6.0,6.0,6.0,6.0,6.0,6.0,6.0,6.0,6.0,6.0,6.0,6.1,6.1,6.1,6.1,6.1,6.1,6.1,6.1,6.1,6.1,6.1,6.1,6.1,6.1,6.1,6.1,6.1,6.1,6.1,6.1,6.1,6.1,6.1,6.1,6.1,6.1,6.1,6.1,6.1,6.1,6.1,6.1,6.1,6.1,6.1,6.1,6.1,6.1,6.1,6.1,6.1,6.1,6.1,6.1,6.2,6.2,6.2,6.2,6.2,6.2,6.2,6.2,6.2,6.2,6.2,6.2,6.2,6.2,6.2,6.2,6.2,6.2,6.2,6.2,6.2,6.2,6.2,6.2,6.2,6.2,6.2,6.2,6.2,6.2,6.2,6.2,6.2,6.2,6.2,6.2,6.2,6.2,6.2,6.2,6.2,6.2,6.2,6.3,6.3,6.3,6.3,6.3,6.3,6.3,6.3,6.3,6.3,6.3,6.3,6.3,6.3,6.3,6.3,6.3,6.3,6.3,6.3,6.3,6.3,6.3,6.3,6.3,6.3,6.3,6.3,6.3,6.3,6.3,6.3,6.4,6.4,6.4,6.4,6.4,6.4,6.4,6.4,6.4,6.4,6.4,6.4,6.4,6.4,6.4,6.4,6.4,6.4,6.4,6.4,6.4,6.4,6.4,6.4,6.4,6.4,6.4,6.4,6.4,6.4,6.4,6.4,6.4,6.4,6.4,6.4,6.4,6.4,6.4,6.4,6.4,6.4,6.4,6.5,6.5,6.5,6.5,6.5,6.5,6.5,6.5,6.5,6.5,6.5,6.5,6.5,6.5,6.5,6.5,6.5,6.5,6.5,6.5,6.5,6.5,6.5,6.5,6.5,6.5,6.5,6.5,6.5,6.5,6.5,6.5,6.5,6.5,6.5,6.5,6.5,6.5,6.5,6.5,6.5,6.5,6.5,6.5,6.5,6.5,6.5,6.5,6.6,6.6,6.6,6.6,6.6,6.6,6.6,6.6,6.6,6.6,6.6,6.6,6.6,6.6,6.6,6.6,6.6,6.6,6.6,6.6,6.6,6.6,6.6,6.6,6.6,6.6,6.6,6.6,6.6,6.6,6.6,6.6,6.6,6.6,6.6,6.6,6.6,6.6,6.6,6.6,6.6,6.6,6.6,6.6,6.6,6.6,6.6,6.6,6.6,6.6,6.6,6.6,6.6,6.6,6.6,6.7,6.7,6.7,6.7,6.7,6.7,6.7,6.7,6.7,6.7,6.7,6.7,6.7,6.7,6.7,6.7,6.7,6.7,6.7,6.7,6.7,6.7,6.7,6.7,6.7,6.7,6.7,6.7,6.7,6.7,6.7,6.7,6.7,6.7,6.7,6.7,6.7,6.7,6.7,6.7,6.7,6.7,6.7,6.7,6.7,6.7,6.7,6.7,6.7,6.7,6.7,6.8,6.8,6.8,6.8,6.8,6.8,6.8,6.8,6.8,6.8,6.8,6.8,6.8,6.8,6.8,6.8,6.8,6.8,6.8,6.8,6.8,6.8,6.8,6.8,6.8,6.8,6.8,6.8,6.8,6.8,6.8,6.8,6.8,6.8,6.8,6.8,6.8,6.8,6.8,6.8,6.8,6.8,6.8,6.8,6.8,6.8,6.8,6.8,6.8,6.8,6.8,6.9,6.9,6.9,6.9,6.9,6.9,6.9,6.9,6.9,6.9,6.9,6.9,6.9,6.9,6.9,6.9,6.9,6.9,6.9,6.9,6.9,6.9,6.9,6.9,6.9,6.9,6.9,6.9,6.9,6.9,6.9,6.9,6.9,6.9,6.9,6.9,6.9,6.9,6.9,6.9,6.9,6.9,6.9,6.9,6.9,6.9,6.9,6.9,7.0,7.0,7.0,7.0,7.0,7.0,7.0,7.0,7.0,7.0,7.0,7.0,7.0,7.0,7.0,7.0,7.0,7.0,7.0,7.0,7.0,7.0,7.0,7.0,7.0,7.0,7.0,7.0,7.0,7.0,7.0,7.0,7.0,7.0,7.0,7.0,7.0,7.0,7.1,7.1,7.1,7.1,7.1,7.1,7.1,7.1,7.1,7.1,7.1,7.1,7.1,7.1,7.1,7.1,7.1,7.1,7.1,7.1,7.1,7.1,7.1,7.1,7.1,7.1,7.1,7.1,7.1,7.1,7.1,7.1,7.1,7.1,7.1,7.1,7.1,7.1,7.1,7.1,7.1,7.1,7.1,7.1,7.1,7.1,7.2,7.2,7.2,7.2,7.2,7.2,7.2,7.2,7.2,7.2,7.2,7.2,7.2,7.2,7.2,7.2,7.2,7.2,7.2,7.2,7.2,7.2,7.2,7.2,7.2,7.2,7.2,7.2,7.2,7.2,7.2,7.2,7.2,7.2,7.2,7.2,7.2,7.2,7.2,7.2,7.2,7.2,7.2,7.3,7.3,7.3,7.3,7.3,7.3,7.3,7.3,7.3,7.3,7.3,7.3,7.3,7.3,7.3,7.3,7.3,7.3,7.3,7.3,7.3,7.3,7.3,7.3,7.3,7.3,7.3,7.3,7.3,7.3,7.3,7.3,7.3,7.3,7.3,7.3,7.3,7.3,7.3,7.3,7.3,7.3,7.3,7.4,7.4,7.4,7.4,7.4,7.4,7.4,7.4,7.4,7.4,7.4,7.4,7.4,7.4,7.4,7.4,7.4,7.4,7.4,7.4,7.4,7.4,7.4,7.4,7.4,7.4,7.5,7.5,7.5,7.5,7.5,7.5,7.5,7.5,7.5,7.5,7.5,7.5,7.5,7.5,7.5,7.5,7.5,7.5,7.5,7.5,7.6,7.6,7.6,7.6,7.6,7.6,7.6,7.6,7.6,7.6,7.6,7.6,7.6,7.6,7.6,7.6,7.6,7.7,7.7,7.7,7.7,7.7,7.7,7.7,7.7,7.7,7.7,7.7,7.7,7.7,7.7,7.7,7.7,7.7,7.7,7.7,7.7,7.8,7.8,7.8,7.8,7.8,7.8,7.8,7.8,7.8,7.8,7.8,7.8,7.8,7.8,7.8,7.8,7.8,7.8,7.8,7.9,7.9,7.9,7.9,7.9,7.9,7.9,7.9,7.9,7.9,7.9,7.9,7.9,7.9,7.9,7.9,7.9,7.9,7.9,8.0,8.0,8.0,8.0,8.0,8.0,8.0,8.0,8.0,8.0,8.0,8.0,8.0,8.0,8.1,8.1,8.1,8.1,8.1,8.1,8.1,8.1,8.1,8.1,8.1,8.1,8.1,8.1,8.1,8.2,8.2,8.2,8.2,8.2,8.2,8.2,8.2,8.2,8.2,8.2,8.2,8.2,8.2,8.3,8.3,8.4,8.4,8.4,8.4,8.5,8.5,8.5,8.5,8.5,8.6,8.6,8.6,8.6,8.6,8.6,8.6,8.6,8.6,8.6,8.6,8.6,8.6,8.7,8.7,8.7,8.7,8.7,8.7,8.8,8.8,8.8,8.8,8.8,8.9,8.9,8.9,9.0,9.0,9.0,9.0,9.1,9.1,9.1,9.2,9.2,9.3,9.3,9.3,9.3,9.4,9.4],\"xaxis\":\"x\",\"y\":[-885.3880247849472,-852.5318148540167,-786.8193949921557,-786.8193949921557,-721.1069751302947,-655.3945552684337,-655.3945552684337,-655.3945552684337,-622.5383453375032,-622.5383453375032,-622.5383453375032,-622.5383453375032,-622.5383453375032,-589.6821354065726,-589.6821354065726,-589.6821354065726,-589.6821354065726,-589.6821354065726,-589.6821354065726,-556.8259254756421,-556.8259254756421,-523.9697155447116,-523.9697155447116,-523.9697155447116,-523.9697155447116,-523.9697155447116,-523.9697155447116,-523.9697155447116,-523.9697155447116,-491.1135056137812,-491.1135056137812,-491.1135056137812,-491.1135056137812,-491.1135056137812,-491.1135056137812,-491.1135056137812,-458.25729568285055,-458.25729568285055,-458.25729568285055,-458.25729568285055,-458.25729568285055,-458.25729568285055,-425.40108575192005,-392.54487582098955,-392.54487582098955,-392.54487582098955,-392.54487582098955,-392.54487582098955,-392.54487582098955,-392.54487582098955,-392.54487582098955,-392.54487582098955,-392.54487582098955,-392.54487582098955,-392.54487582098955,-359.6886658900589,-359.6886658900589,-359.6886658900589,-359.6886658900589,-359.6886658900589,-359.6886658900589,-359.6886658900589,-326.83245595912854,-326.83245595912854,-326.83245595912854,-326.83245595912854,-326.83245595912854,-326.83245595912854,-326.83245595912854,-326.83245595912854,-326.83245595912854,-293.9762460281979,-293.9762460281979,-293.9762460281979,-293.9762460281979,-293.9762460281979,-293.9762460281979,-293.9762460281979,-293.9762460281979,-293.9762460281979,-261.12003609726753,-261.12003609726753,-261.12003609726753,-261.12003609726753,-261.12003609726753,-261.12003609726753,-261.12003609726753,-261.12003609726753,-261.12003609726753,-261.12003609726753,-261.12003609726753,-261.12003609726753,-261.12003609726753,-228.2638261663369,-228.2638261663369,-228.2638261663369,-228.2638261663369,-228.2638261663369,-228.2638261663369,-228.2638261663369,-228.2638261663369,-228.2638261663369,-228.2638261663369,-228.2638261663369,-195.4076162354063,-195.4076162354063,-195.4076162354063,-195.4076162354063,-195.4076162354063,-195.4076162354063,-195.4076162354063,-195.4076162354063,-195.4076162354063,-195.4076162354063,-195.4076162354063,-162.5514063044759,-162.5514063044759,-162.5514063044759,-162.5514063044759,-162.5514063044759,-162.5514063044759,-162.5514063044759,-162.5514063044759,-162.5514063044759,-162.5514063044759,-162.5514063044759,-162.5514063044759,-162.5514063044759,-162.5514063044759,-162.5514063044759,-162.5514063044759,-162.5514063044759,-162.5514063044759,-162.5514063044759,-162.5514063044759,-129.6951963735455,-129.6951963735455,-129.6951963735455,-129.6951963735455,-129.6951963735455,-129.6951963735455,-129.6951963735455,-129.6951963735455,-129.6951963735455,-129.6951963735455,-129.6951963735455,-129.6951963735455,-129.6951963735455,-96.8389864426149,-96.8389864426149,-96.8389864426149,-96.8389864426149,-96.8389864426149,-96.8389864426149,-96.8389864426149,-96.8389864426149,-96.8389864426149,-96.8389864426149,-96.8389864426149,-96.8389864426149,-96.8389864426149,-63.982776511684506,-63.982776511684506,-63.982776511684506,-63.982776511684506,-63.982776511684506,-63.982776511684506,-63.982776511684506,-63.982776511684506,-63.982776511684506,-63.982776511684506,-63.982776511684506,-63.982776511684506,-63.982776511684506,-63.982776511684506,-63.982776511684506,-31.126566580753888,-31.126566580753888,-31.126566580753888,-31.126566580753888,-31.126566580753888,-31.126566580753888,-31.126566580753888,-31.126566580753888,-31.126566580753888,-31.126566580753888,-31.126566580753888,-31.126566580753888,-31.126566580753888,-31.126566580753888,-31.126566580753888,-31.126566580753888,-31.126566580753888,-31.126566580753888,-31.126566580753888,-31.126566580753888,-31.126566580753888,-31.126566580753888,-31.126566580753888,-31.126566580753888,1.7296433501765023,1.7296433501765023,1.7296433501765023,1.7296433501765023,1.7296433501765023,1.7296433501765023,1.7296433501765023,1.7296433501765023,1.7296433501765023,1.7296433501765023,1.7296433501765023,1.7296433501765023,1.7296433501765023,1.7296433501765023,1.7296433501765023,1.7296433501765023,1.7296433501765023,34.58585328110735,34.58585328110735,34.58585328110735,34.58585328110735,34.58585328110735,34.58585328110735,34.58585328110735,34.58585328110735,34.58585328110735,34.58585328110735,34.58585328110735,34.58585328110735,34.58585328110735,34.58585328110735,34.58585328110735,34.58585328110735,34.58585328110735,34.58585328110735,34.58585328110735,34.58585328110735,34.58585328110735,34.58585328110735,34.58585328110735,67.44206321203774,67.44206321203774,67.44206321203774,67.44206321203774,67.44206321203774,67.44206321203774,67.44206321203774,67.44206321203774,67.44206321203774,67.44206321203774,67.44206321203774,67.44206321203774,67.44206321203774,67.44206321203774,67.44206321203774,67.44206321203774,100.29827314296813,100.29827314296813,100.29827314296813,100.29827314296813,100.29827314296813,100.29827314296813,100.29827314296813,100.29827314296813,100.29827314296813,100.29827314296813,100.29827314296813,100.29827314296813,100.29827314296813,100.29827314296813,100.29827314296813,100.29827314296813,100.29827314296813,100.29827314296813,100.29827314296813,100.29827314296813,100.29827314296813,100.29827314296813,100.29827314296813,133.15448307389875,133.15448307389875,133.15448307389875,133.15448307389875,133.15448307389875,133.15448307389875,133.15448307389875,133.15448307389875,133.15448307389875,133.15448307389875,133.15448307389875,133.15448307389875,133.15448307389875,133.15448307389875,133.15448307389875,133.15448307389875,133.15448307389875,133.15448307389875,133.15448307389875,133.15448307389875,133.15448307389875,133.15448307389875,133.15448307389875,133.15448307389875,166.01069300482914,166.01069300482914,166.01069300482914,166.01069300482914,166.01069300482914,166.01069300482914,166.01069300482914,166.01069300482914,166.01069300482914,166.01069300482914,166.01069300482914,166.01069300482914,166.01069300482914,166.01069300482914,166.01069300482914,166.01069300482914,166.01069300482914,166.01069300482914,166.01069300482914,166.01069300482914,166.01069300482914,166.01069300482914,166.01069300482914,166.01069300482914,166.01069300482914,166.01069300482914,166.01069300482914,166.01069300482914,166.01069300482914,166.01069300482914,198.86690293575975,198.86690293575975,198.86690293575975,198.86690293575975,198.86690293575975,198.86690293575975,198.86690293575975,198.86690293575975,198.86690293575975,198.86690293575975,198.86690293575975,198.86690293575975,198.86690293575975,198.86690293575975,198.86690293575975,198.86690293575975,198.86690293575975,198.86690293575975,198.86690293575975,198.86690293575975,198.86690293575975,198.86690293575975,198.86690293575975,198.86690293575975,198.86690293575975,198.86690293575975,198.86690293575975,231.72311286669037,231.72311286669037,231.72311286669037,231.72311286669037,231.72311286669037,231.72311286669037,231.72311286669037,231.72311286669037,231.72311286669037,231.72311286669037,231.72311286669037,231.72311286669037,231.72311286669037,231.72311286669037,231.72311286669037,231.72311286669037,231.72311286669037,231.72311286669037,231.72311286669037,231.72311286669037,231.72311286669037,264.57932279762076,264.57932279762076,264.57932279762076,264.57932279762076,264.57932279762076,264.57932279762076,264.57932279762076,264.57932279762076,264.57932279762076,264.57932279762076,264.57932279762076,264.57932279762076,264.57932279762076,264.57932279762076,264.57932279762076,264.57932279762076,264.57932279762076,264.57932279762076,264.57932279762076,264.57932279762076,264.57932279762076,264.57932279762076,264.57932279762076,264.57932279762076,264.57932279762076,264.57932279762076,264.57932279762076,264.57932279762076,264.57932279762076,264.57932279762076,264.57932279762076,264.57932279762076,297.4355327285514,297.4355327285514,297.4355327285514,297.4355327285514,297.4355327285514,297.4355327285514,297.4355327285514,297.4355327285514,297.4355327285514,297.4355327285514,297.4355327285514,297.4355327285514,297.4355327285514,297.4355327285514,297.4355327285514,297.4355327285514,297.4355327285514,297.4355327285514,297.4355327285514,297.4355327285514,297.4355327285514,297.4355327285514,297.4355327285514,330.29174265948177,330.29174265948177,330.29174265948177,330.29174265948177,330.29174265948177,330.29174265948177,330.29174265948177,330.29174265948177,330.29174265948177,330.29174265948177,330.29174265948177,330.29174265948177,330.29174265948177,330.29174265948177,330.29174265948177,330.29174265948177,330.29174265948177,330.29174265948177,330.29174265948177,330.29174265948177,330.29174265948177,330.29174265948177,330.29174265948177,363.1479525904124,363.1479525904124,363.1479525904124,363.1479525904124,363.1479525904124,363.1479525904124,363.1479525904124,363.1479525904124,363.1479525904124,363.1479525904124,363.1479525904124,363.1479525904124,363.1479525904124,363.1479525904124,363.1479525904124,363.1479525904124,363.1479525904124,363.1479525904124,363.1479525904124,363.1479525904124,363.1479525904124,363.1479525904124,363.1479525904124,363.1479525904124,363.1479525904124,363.1479525904124,363.1479525904124,363.1479525904124,363.1479525904124,363.1479525904124,363.1479525904124,363.1479525904124,363.1479525904124,363.1479525904124,363.1479525904124,396.0041625213428,396.0041625213428,396.0041625213428,396.0041625213428,396.0041625213428,396.0041625213428,396.0041625213428,396.0041625213428,396.0041625213428,396.0041625213428,396.0041625213428,396.0041625213428,396.0041625213428,396.0041625213428,396.0041625213428,396.0041625213428,396.0041625213428,396.0041625213428,396.0041625213428,396.0041625213428,396.0041625213428,396.0041625213428,396.0041625213428,396.0041625213428,396.0041625213428,396.0041625213428,396.0041625213428,396.0041625213428,396.0041625213428,396.0041625213428,396.0041625213428,396.0041625213428,396.0041625213428,396.0041625213428,428.86037245227317,428.86037245227317,428.86037245227317,428.86037245227317,428.86037245227317,428.86037245227317,428.86037245227317,428.86037245227317,428.86037245227317,428.86037245227317,428.86037245227317,428.86037245227317,428.86037245227317,428.86037245227317,428.86037245227317,428.86037245227317,428.86037245227317,428.86037245227317,428.86037245227317,428.86037245227317,428.86037245227317,428.86037245227317,428.86037245227317,428.86037245227317,428.86037245227317,428.86037245227317,428.86037245227317,428.86037245227317,428.86037245227317,428.86037245227317,428.86037245227317,428.86037245227317,428.86037245227317,428.86037245227317,428.86037245227317,428.86037245227317,428.86037245227317,428.86037245227317,428.86037245227317,428.86037245227317,461.716582383204,461.716582383204,461.716582383204,461.716582383204,461.716582383204,461.716582383204,461.716582383204,461.716582383204,461.716582383204,461.716582383204,461.716582383204,461.716582383204,461.716582383204,461.716582383204,461.716582383204,461.716582383204,461.716582383204,461.716582383204,461.716582383204,461.716582383204,461.716582383204,461.716582383204,461.716582383204,461.716582383204,461.716582383204,461.716582383204,461.716582383204,461.716582383204,461.716582383204,461.716582383204,461.716582383204,461.716582383204,461.716582383204,461.716582383204,494.5727923141344,494.5727923141344,494.5727923141344,494.5727923141344,494.5727923141344,494.5727923141344,494.5727923141344,494.5727923141344,494.5727923141344,494.5727923141344,494.5727923141344,494.5727923141344,494.5727923141344,494.5727923141344,494.5727923141344,494.5727923141344,494.5727923141344,494.5727923141344,494.5727923141344,494.5727923141344,494.5727923141344,494.5727923141344,494.5727923141344,494.5727923141344,494.5727923141344,494.5727923141344,494.5727923141344,494.5727923141344,494.5727923141344,494.5727923141344,494.5727923141344,494.5727923141344,494.5727923141344,494.5727923141344,494.5727923141344,494.5727923141344,494.5727923141344,494.5727923141344,494.5727923141344,494.5727923141344,494.5727923141344,494.5727923141344,494.5727923141344,494.5727923141344,527.429002245065,527.429002245065,527.429002245065,527.429002245065,527.429002245065,527.429002245065,527.429002245065,527.429002245065,527.429002245065,527.429002245065,527.429002245065,527.429002245065,527.429002245065,527.429002245065,527.429002245065,527.429002245065,527.429002245065,527.429002245065,527.429002245065,527.429002245065,527.429002245065,527.429002245065,527.429002245065,527.429002245065,527.429002245065,527.429002245065,527.429002245065,527.429002245065,527.429002245065,527.429002245065,527.429002245065,527.429002245065,527.429002245065,527.429002245065,527.429002245065,527.429002245065,527.429002245065,527.429002245065,527.429002245065,527.429002245065,527.429002245065,527.429002245065,527.429002245065,527.429002245065,527.429002245065,527.429002245065,527.429002245065,560.2852121759954,560.2852121759954,560.2852121759954,560.2852121759954,560.2852121759954,560.2852121759954,560.2852121759954,560.2852121759954,560.2852121759954,560.2852121759954,560.2852121759954,560.2852121759954,560.2852121759954,560.2852121759954,560.2852121759954,560.2852121759954,560.2852121759954,560.2852121759954,560.2852121759954,560.2852121759954,560.2852121759954,560.2852121759954,560.2852121759954,560.2852121759954,560.2852121759954,560.2852121759954,560.2852121759954,560.2852121759954,560.2852121759954,560.2852121759954,560.2852121759954,560.2852121759954,560.2852121759954,593.1414221069258,593.1414221069258,593.1414221069258,593.1414221069258,593.1414221069258,593.1414221069258,593.1414221069258,593.1414221069258,593.1414221069258,593.1414221069258,593.1414221069258,593.1414221069258,593.1414221069258,593.1414221069258,593.1414221069258,593.1414221069258,593.1414221069258,593.1414221069258,593.1414221069258,593.1414221069258,593.1414221069258,593.1414221069258,593.1414221069258,593.1414221069258,593.1414221069258,593.1414221069258,593.1414221069258,593.1414221069258,593.1414221069258,593.1414221069258,593.1414221069258,593.1414221069258,593.1414221069258,593.1414221069258,593.1414221069258,593.1414221069258,593.1414221069258,593.1414221069258,593.1414221069258,593.1414221069258,593.1414221069258,593.1414221069258,593.1414221069258,593.1414221069258,625.9976320378564,625.9976320378564,625.9976320378564,625.9976320378564,625.9976320378564,625.9976320378564,625.9976320378564,625.9976320378564,625.9976320378564,625.9976320378564,625.9976320378564,625.9976320378564,625.9976320378564,625.9976320378564,625.9976320378564,625.9976320378564,625.9976320378564,625.9976320378564,625.9976320378564,625.9976320378564,625.9976320378564,625.9976320378564,625.9976320378564,625.9976320378564,625.9976320378564,625.9976320378564,625.9976320378564,625.9976320378564,625.9976320378564,625.9976320378564,625.9976320378564,625.9976320378564,625.9976320378564,625.9976320378564,625.9976320378564,625.9976320378564,625.9976320378564,625.9976320378564,625.9976320378564,625.9976320378564,625.9976320378564,625.9976320378564,625.9976320378564,658.853841968787,658.853841968787,658.853841968787,658.853841968787,658.853841968787,658.853841968787,658.853841968787,658.853841968787,658.853841968787,658.853841968787,658.853841968787,658.853841968787,658.853841968787,658.853841968787,658.853841968787,658.853841968787,658.853841968787,658.853841968787,658.853841968787,658.853841968787,658.853841968787,658.853841968787,658.853841968787,658.853841968787,658.853841968787,658.853841968787,658.853841968787,658.853841968787,658.853841968787,658.853841968787,658.853841968787,658.853841968787,691.7100518997177,691.7100518997177,691.7100518997177,691.7100518997177,691.7100518997177,691.7100518997177,691.7100518997177,691.7100518997177,691.7100518997177,691.7100518997177,691.7100518997177,691.7100518997177,691.7100518997177,691.7100518997177,691.7100518997177,691.7100518997177,691.7100518997177,691.7100518997177,691.7100518997177,691.7100518997177,691.7100518997177,691.7100518997177,691.7100518997177,691.7100518997177,691.7100518997177,691.7100518997177,691.7100518997177,691.7100518997177,691.7100518997177,691.7100518997177,691.7100518997177,691.7100518997177,691.7100518997177,691.7100518997177,691.7100518997177,691.7100518997177,691.7100518997177,691.7100518997177,691.7100518997177,691.7100518997177,691.7100518997177,691.7100518997177,691.7100518997177,724.5662618306478,724.5662618306478,724.5662618306478,724.5662618306478,724.5662618306478,724.5662618306478,724.5662618306478,724.5662618306478,724.5662618306478,724.5662618306478,724.5662618306478,724.5662618306478,724.5662618306478,724.5662618306478,724.5662618306478,724.5662618306478,724.5662618306478,724.5662618306478,724.5662618306478,724.5662618306478,724.5662618306478,724.5662618306478,724.5662618306478,724.5662618306478,724.5662618306478,724.5662618306478,724.5662618306478,724.5662618306478,724.5662618306478,724.5662618306478,724.5662618306478,724.5662618306478,724.5662618306478,724.5662618306478,724.5662618306478,724.5662618306478,724.5662618306478,724.5662618306478,724.5662618306478,724.5662618306478,724.5662618306478,724.5662618306478,724.5662618306478,724.5662618306478,724.5662618306478,724.5662618306478,724.5662618306478,724.5662618306478,757.4224717615784,757.4224717615784,757.4224717615784,757.4224717615784,757.4224717615784,757.4224717615784,757.4224717615784,757.4224717615784,757.4224717615784,757.4224717615784,757.4224717615784,757.4224717615784,757.4224717615784,757.4224717615784,757.4224717615784,757.4224717615784,757.4224717615784,757.4224717615784,757.4224717615784,757.4224717615784,757.4224717615784,757.4224717615784,757.4224717615784,757.4224717615784,757.4224717615784,757.4224717615784,757.4224717615784,757.4224717615784,757.4224717615784,757.4224717615784,757.4224717615784,757.4224717615784,757.4224717615784,757.4224717615784,757.4224717615784,757.4224717615784,757.4224717615784,757.4224717615784,757.4224717615784,757.4224717615784,757.4224717615784,757.4224717615784,757.4224717615784,757.4224717615784,757.4224717615784,757.4224717615784,757.4224717615784,757.4224717615784,757.4224717615784,757.4224717615784,757.4224717615784,757.4224717615784,757.4224717615784,757.4224717615784,757.4224717615784,790.278681692509,790.278681692509,790.278681692509,790.278681692509,790.278681692509,790.278681692509,790.278681692509,790.278681692509,790.278681692509,790.278681692509,790.278681692509,790.278681692509,790.278681692509,790.278681692509,790.278681692509,790.278681692509,790.278681692509,790.278681692509,790.278681692509,790.278681692509,790.278681692509,790.278681692509,790.278681692509,790.278681692509,790.278681692509,790.278681692509,790.278681692509,790.278681692509,790.278681692509,790.278681692509,790.278681692509,790.278681692509,790.278681692509,790.278681692509,790.278681692509,790.278681692509,790.278681692509,790.278681692509,790.278681692509,790.278681692509,790.278681692509,790.278681692509,790.278681692509,790.278681692509,790.278681692509,790.278681692509,790.278681692509,790.278681692509,790.278681692509,790.278681692509,790.278681692509,823.1348916234397,823.1348916234397,823.1348916234397,823.1348916234397,823.1348916234397,823.1348916234397,823.1348916234397,823.1348916234397,823.1348916234397,823.1348916234397,823.1348916234397,823.1348916234397,823.1348916234397,823.1348916234397,823.1348916234397,823.1348916234397,823.1348916234397,823.1348916234397,823.1348916234397,823.1348916234397,823.1348916234397,823.1348916234397,823.1348916234397,823.1348916234397,823.1348916234397,823.1348916234397,823.1348916234397,823.1348916234397,823.1348916234397,823.1348916234397,823.1348916234397,823.1348916234397,823.1348916234397,823.1348916234397,823.1348916234397,823.1348916234397,823.1348916234397,823.1348916234397,823.1348916234397,823.1348916234397,823.1348916234397,823.1348916234397,823.1348916234397,823.1348916234397,823.1348916234397,823.1348916234397,823.1348916234397,823.1348916234397,823.1348916234397,823.1348916234397,823.1348916234397,855.9911015543703,855.9911015543703,855.9911015543703,855.9911015543703,855.9911015543703,855.9911015543703,855.9911015543703,855.9911015543703,855.9911015543703,855.9911015543703,855.9911015543703,855.9911015543703,855.9911015543703,855.9911015543703,855.9911015543703,855.9911015543703,855.9911015543703,855.9911015543703,855.9911015543703,855.9911015543703,855.9911015543703,855.9911015543703,855.9911015543703,855.9911015543703,855.9911015543703,855.9911015543703,855.9911015543703,855.9911015543703,855.9911015543703,855.9911015543703,855.9911015543703,855.9911015543703,855.9911015543703,855.9911015543703,855.9911015543703,855.9911015543703,855.9911015543703,855.9911015543703,855.9911015543703,855.9911015543703,855.9911015543703,855.9911015543703,855.9911015543703,855.9911015543703,855.9911015543703,855.9911015543703,855.9911015543703,855.9911015543703,888.8473114853005,888.8473114853005,888.8473114853005,888.8473114853005,888.8473114853005,888.8473114853005,888.8473114853005,888.8473114853005,888.8473114853005,888.8473114853005,888.8473114853005,888.8473114853005,888.8473114853005,888.8473114853005,888.8473114853005,888.8473114853005,888.8473114853005,888.8473114853005,888.8473114853005,888.8473114853005,888.8473114853005,888.8473114853005,888.8473114853005,888.8473114853005,888.8473114853005,888.8473114853005,888.8473114853005,888.8473114853005,888.8473114853005,888.8473114853005,888.8473114853005,888.8473114853005,888.8473114853005,888.8473114853005,888.8473114853005,888.8473114853005,888.8473114853005,888.8473114853005,921.7035214162311,921.7035214162311,921.7035214162311,921.7035214162311,921.7035214162311,921.7035214162311,921.7035214162311,921.7035214162311,921.7035214162311,921.7035214162311,921.7035214162311,921.7035214162311,921.7035214162311,921.7035214162311,921.7035214162311,921.7035214162311,921.7035214162311,921.7035214162311,921.7035214162311,921.7035214162311,921.7035214162311,921.7035214162311,921.7035214162311,921.7035214162311,921.7035214162311,921.7035214162311,921.7035214162311,921.7035214162311,921.7035214162311,921.7035214162311,921.7035214162311,921.7035214162311,921.7035214162311,921.7035214162311,921.7035214162311,921.7035214162311,921.7035214162311,921.7035214162311,921.7035214162311,921.7035214162311,921.7035214162311,921.7035214162311,921.7035214162311,921.7035214162311,921.7035214162311,921.7035214162311,954.5597313471617,954.5597313471617,954.5597313471617,954.5597313471617,954.5597313471617,954.5597313471617,954.5597313471617,954.5597313471617,954.5597313471617,954.5597313471617,954.5597313471617,954.5597313471617,954.5597313471617,954.5597313471617,954.5597313471617,954.5597313471617,954.5597313471617,954.5597313471617,954.5597313471617,954.5597313471617,954.5597313471617,954.5597313471617,954.5597313471617,954.5597313471617,954.5597313471617,954.5597313471617,954.5597313471617,954.5597313471617,954.5597313471617,954.5597313471617,954.5597313471617,954.5597313471617,954.5597313471617,954.5597313471617,954.5597313471617,954.5597313471617,954.5597313471617,954.5597313471617,954.5597313471617,954.5597313471617,954.5597313471617,954.5597313471617,954.5597313471617,987.4159412780919,987.4159412780919,987.4159412780919,987.4159412780919,987.4159412780919,987.4159412780919,987.4159412780919,987.4159412780919,987.4159412780919,987.4159412780919,987.4159412780919,987.4159412780919,987.4159412780919,987.4159412780919,987.4159412780919,987.4159412780919,987.4159412780919,987.4159412780919,987.4159412780919,987.4159412780919,987.4159412780919,987.4159412780919,987.4159412780919,987.4159412780919,987.4159412780919,987.4159412780919,987.4159412780919,987.4159412780919,987.4159412780919,987.4159412780919,987.4159412780919,987.4159412780919,987.4159412780919,987.4159412780919,987.4159412780919,987.4159412780919,987.4159412780919,987.4159412780919,987.4159412780919,987.4159412780919,987.4159412780919,987.4159412780919,987.4159412780919,1020.2721512090229,1020.2721512090229,1020.2721512090229,1020.2721512090229,1020.2721512090229,1020.2721512090229,1020.2721512090229,1020.2721512090229,1020.2721512090229,1020.2721512090229,1020.2721512090229,1020.2721512090229,1020.2721512090229,1020.2721512090229,1020.2721512090229,1020.2721512090229,1020.2721512090229,1020.2721512090229,1020.2721512090229,1020.2721512090229,1020.2721512090229,1020.2721512090229,1020.2721512090229,1020.2721512090229,1020.2721512090229,1020.2721512090229,1053.128361139953,1053.128361139953,1053.128361139953,1053.128361139953,1053.128361139953,1053.128361139953,1053.128361139953,1053.128361139953,1053.128361139953,1053.128361139953,1053.128361139953,1053.128361139953,1053.128361139953,1053.128361139953,1053.128361139953,1053.128361139953,1053.128361139953,1053.128361139953,1053.128361139953,1053.128361139953,1085.9845710708837,1085.9845710708837,1085.9845710708837,1085.9845710708837,1085.9845710708837,1085.9845710708837,1085.9845710708837,1085.9845710708837,1085.9845710708837,1085.9845710708837,1085.9845710708837,1085.9845710708837,1085.9845710708837,1085.9845710708837,1085.9845710708837,1085.9845710708837,1085.9845710708837,1118.8407810018143,1118.8407810018143,1118.8407810018143,1118.8407810018143,1118.8407810018143,1118.8407810018143,1118.8407810018143,1118.8407810018143,1118.8407810018143,1118.8407810018143,1118.8407810018143,1118.8407810018143,1118.8407810018143,1118.8407810018143,1118.8407810018143,1118.8407810018143,1118.8407810018143,1118.8407810018143,1118.8407810018143,1118.8407810018143,1151.6969909327445,1151.6969909327445,1151.6969909327445,1151.6969909327445,1151.6969909327445,1151.6969909327445,1151.6969909327445,1151.6969909327445,1151.6969909327445,1151.6969909327445,1151.6969909327445,1151.6969909327445,1151.6969909327445,1151.6969909327445,1151.6969909327445,1151.6969909327445,1151.6969909327445,1151.6969909327445,1151.6969909327445,1184.553200863675,1184.553200863675,1184.553200863675,1184.553200863675,1184.553200863675,1184.553200863675,1184.553200863675,1184.553200863675,1184.553200863675,1184.553200863675,1184.553200863675,1184.553200863675,1184.553200863675,1184.553200863675,1184.553200863675,1184.553200863675,1184.553200863675,1184.553200863675,1184.553200863675,1217.4094107946057,1217.4094107946057,1217.4094107946057,1217.4094107946057,1217.4094107946057,1217.4094107946057,1217.4094107946057,1217.4094107946057,1217.4094107946057,1217.4094107946057,1217.4094107946057,1217.4094107946057,1217.4094107946057,1217.4094107946057,1250.2656207255363,1250.2656207255363,1250.2656207255363,1250.2656207255363,1250.2656207255363,1250.2656207255363,1250.2656207255363,1250.2656207255363,1250.2656207255363,1250.2656207255363,1250.2656207255363,1250.2656207255363,1250.2656207255363,1250.2656207255363,1250.2656207255363,1283.1218306564665,1283.1218306564665,1283.1218306564665,1283.1218306564665,1283.1218306564665,1283.1218306564665,1283.1218306564665,1283.1218306564665,1283.1218306564665,1283.1218306564665,1283.1218306564665,1283.1218306564665,1283.1218306564665,1283.1218306564665,1315.9780405873976,1315.9780405873976,1348.8342505183277,1348.8342505183277,1348.8342505183277,1348.8342505183277,1381.6904604492584,1381.6904604492584,1381.6904604492584,1381.6904604492584,1381.6904604492584,1414.5466703801885,1414.5466703801885,1414.5466703801885,1414.5466703801885,1414.5466703801885,1414.5466703801885,1414.5466703801885,1414.5466703801885,1414.5466703801885,1414.5466703801885,1414.5466703801885,1414.5466703801885,1414.5466703801885,1447.4028803111191,1447.4028803111191,1447.4028803111191,1447.4028803111191,1447.4028803111191,1447.4028803111191,1480.2590902420502,1480.2590902420502,1480.2590902420502,1480.2590902420502,1480.2590902420502,1513.1153001729804,1513.1153001729804,1513.1153001729804,1545.971510103911,1545.971510103911,1545.971510103911,1545.971510103911,1578.8277200348411,1578.8277200348411,1578.8277200348411,1611.6839299657718,1611.6839299657718,1644.5401398967028,1644.5401398967028,1644.5401398967028,1644.5401398967028,1677.396349827633,1677.396349827633],\"yaxis\":\"y\",\"type\":\"scattergl\"}],                        {\"template\":{\"data\":{\"histogram2dcontour\":[{\"type\":\"histogram2dcontour\",\"colorbar\":{\"outlinewidth\":0,\"ticks\":\"\"},\"colorscale\":[[0.0,\"#0d0887\"],[0.1111111111111111,\"#46039f\"],[0.2222222222222222,\"#7201a8\"],[0.3333333333333333,\"#9c179e\"],[0.4444444444444444,\"#bd3786\"],[0.5555555555555556,\"#d8576b\"],[0.6666666666666666,\"#ed7953\"],[0.7777777777777778,\"#fb9f3a\"],[0.8888888888888888,\"#fdca26\"],[1.0,\"#f0f921\"]]}],\"choropleth\":[{\"type\":\"choropleth\",\"colorbar\":{\"outlinewidth\":0,\"ticks\":\"\"}}],\"histogram2d\":[{\"type\":\"histogram2d\",\"colorbar\":{\"outlinewidth\":0,\"ticks\":\"\"},\"colorscale\":[[0.0,\"#0d0887\"],[0.1111111111111111,\"#46039f\"],[0.2222222222222222,\"#7201a8\"],[0.3333333333333333,\"#9c179e\"],[0.4444444444444444,\"#bd3786\"],[0.5555555555555556,\"#d8576b\"],[0.6666666666666666,\"#ed7953\"],[0.7777777777777778,\"#fb9f3a\"],[0.8888888888888888,\"#fdca26\"],[1.0,\"#f0f921\"]]}],\"heatmap\":[{\"type\":\"heatmap\",\"colorbar\":{\"outlinewidth\":0,\"ticks\":\"\"},\"colorscale\":[[0.0,\"#0d0887\"],[0.1111111111111111,\"#46039f\"],[0.2222222222222222,\"#7201a8\"],[0.3333333333333333,\"#9c179e\"],[0.4444444444444444,\"#bd3786\"],[0.5555555555555556,\"#d8576b\"],[0.6666666666666666,\"#ed7953\"],[0.7777777777777778,\"#fb9f3a\"],[0.8888888888888888,\"#fdca26\"],[1.0,\"#f0f921\"]]}],\"heatmapgl\":[{\"type\":\"heatmapgl\",\"colorbar\":{\"outlinewidth\":0,\"ticks\":\"\"},\"colorscale\":[[0.0,\"#0d0887\"],[0.1111111111111111,\"#46039f\"],[0.2222222222222222,\"#7201a8\"],[0.3333333333333333,\"#9c179e\"],[0.4444444444444444,\"#bd3786\"],[0.5555555555555556,\"#d8576b\"],[0.6666666666666666,\"#ed7953\"],[0.7777777777777778,\"#fb9f3a\"],[0.8888888888888888,\"#fdca26\"],[1.0,\"#f0f921\"]]}],\"contourcarpet\":[{\"type\":\"contourcarpet\",\"colorbar\":{\"outlinewidth\":0,\"ticks\":\"\"}}],\"contour\":[{\"type\":\"contour\",\"colorbar\":{\"outlinewidth\":0,\"ticks\":\"\"},\"colorscale\":[[0.0,\"#0d0887\"],[0.1111111111111111,\"#46039f\"],[0.2222222222222222,\"#7201a8\"],[0.3333333333333333,\"#9c179e\"],[0.4444444444444444,\"#bd3786\"],[0.5555555555555556,\"#d8576b\"],[0.6666666666666666,\"#ed7953\"],[0.7777777777777778,\"#fb9f3a\"],[0.8888888888888888,\"#fdca26\"],[1.0,\"#f0f921\"]]}],\"surface\":[{\"type\":\"surface\",\"colorbar\":{\"outlinewidth\":0,\"ticks\":\"\"},\"colorscale\":[[0.0,\"#0d0887\"],[0.1111111111111111,\"#46039f\"],[0.2222222222222222,\"#7201a8\"],[0.3333333333333333,\"#9c179e\"],[0.4444444444444444,\"#bd3786\"],[0.5555555555555556,\"#d8576b\"],[0.6666666666666666,\"#ed7953\"],[0.7777777777777778,\"#fb9f3a\"],[0.8888888888888888,\"#fdca26\"],[1.0,\"#f0f921\"]]}],\"mesh3d\":[{\"type\":\"mesh3d\",\"colorbar\":{\"outlinewidth\":0,\"ticks\":\"\"}}],\"scatter\":[{\"fillpattern\":{\"fillmode\":\"overlay\",\"size\":10,\"solidity\":0.2},\"type\":\"scatter\"}],\"parcoords\":[{\"type\":\"parcoords\",\"line\":{\"colorbar\":{\"outlinewidth\":0,\"ticks\":\"\"}}}],\"scatterpolargl\":[{\"type\":\"scatterpolargl\",\"marker\":{\"colorbar\":{\"outlinewidth\":0,\"ticks\":\"\"}}}],\"bar\":[{\"error_x\":{\"color\":\"#2a3f5f\"},\"error_y\":{\"color\":\"#2a3f5f\"},\"marker\":{\"line\":{\"color\":\"#E5ECF6\",\"width\":0.5},\"pattern\":{\"fillmode\":\"overlay\",\"size\":10,\"solidity\":0.2}},\"type\":\"bar\"}],\"scattergeo\":[{\"type\":\"scattergeo\",\"marker\":{\"colorbar\":{\"outlinewidth\":0,\"ticks\":\"\"}}}],\"scatterpolar\":[{\"type\":\"scatterpolar\",\"marker\":{\"colorbar\":{\"outlinewidth\":0,\"ticks\":\"\"}}}],\"histogram\":[{\"marker\":{\"pattern\":{\"fillmode\":\"overlay\",\"size\":10,\"solidity\":0.2}},\"type\":\"histogram\"}],\"scattergl\":[{\"type\":\"scattergl\",\"marker\":{\"colorbar\":{\"outlinewidth\":0,\"ticks\":\"\"}}}],\"scatter3d\":[{\"type\":\"scatter3d\",\"line\":{\"colorbar\":{\"outlinewidth\":0,\"ticks\":\"\"}},\"marker\":{\"colorbar\":{\"outlinewidth\":0,\"ticks\":\"\"}}}],\"scattermapbox\":[{\"type\":\"scattermapbox\",\"marker\":{\"colorbar\":{\"outlinewidth\":0,\"ticks\":\"\"}}}],\"scatterternary\":[{\"type\":\"scatterternary\",\"marker\":{\"colorbar\":{\"outlinewidth\":0,\"ticks\":\"\"}}}],\"scattercarpet\":[{\"type\":\"scattercarpet\",\"marker\":{\"colorbar\":{\"outlinewidth\":0,\"ticks\":\"\"}}}],\"carpet\":[{\"aaxis\":{\"endlinecolor\":\"#2a3f5f\",\"gridcolor\":\"white\",\"linecolor\":\"white\",\"minorgridcolor\":\"white\",\"startlinecolor\":\"#2a3f5f\"},\"baxis\":{\"endlinecolor\":\"#2a3f5f\",\"gridcolor\":\"white\",\"linecolor\":\"white\",\"minorgridcolor\":\"white\",\"startlinecolor\":\"#2a3f5f\"},\"type\":\"carpet\"}],\"table\":[{\"cells\":{\"fill\":{\"color\":\"#EBF0F8\"},\"line\":{\"color\":\"white\"}},\"header\":{\"fill\":{\"color\":\"#C8D4E3\"},\"line\":{\"color\":\"white\"}},\"type\":\"table\"}],\"barpolar\":[{\"marker\":{\"line\":{\"color\":\"#E5ECF6\",\"width\":0.5},\"pattern\":{\"fillmode\":\"overlay\",\"size\":10,\"solidity\":0.2}},\"type\":\"barpolar\"}],\"pie\":[{\"automargin\":true,\"type\":\"pie\"}]},\"layout\":{\"autotypenumbers\":\"strict\",\"colorway\":[\"#636efa\",\"#EF553B\",\"#00cc96\",\"#ab63fa\",\"#FFA15A\",\"#19d3f3\",\"#FF6692\",\"#B6E880\",\"#FF97FF\",\"#FECB52\"],\"font\":{\"color\":\"#2a3f5f\"},\"hovermode\":\"closest\",\"hoverlabel\":{\"align\":\"left\"},\"paper_bgcolor\":\"white\",\"plot_bgcolor\":\"#E5ECF6\",\"polar\":{\"bgcolor\":\"#E5ECF6\",\"angularaxis\":{\"gridcolor\":\"white\",\"linecolor\":\"white\",\"ticks\":\"\"},\"radialaxis\":{\"gridcolor\":\"white\",\"linecolor\":\"white\",\"ticks\":\"\"}},\"ternary\":{\"bgcolor\":\"#E5ECF6\",\"aaxis\":{\"gridcolor\":\"white\",\"linecolor\":\"white\",\"ticks\":\"\"},\"baxis\":{\"gridcolor\":\"white\",\"linecolor\":\"white\",\"ticks\":\"\"},\"caxis\":{\"gridcolor\":\"white\",\"linecolor\":\"white\",\"ticks\":\"\"}},\"coloraxis\":{\"colorbar\":{\"outlinewidth\":0,\"ticks\":\"\"}},\"colorscale\":{\"sequential\":[[0.0,\"#0d0887\"],[0.1111111111111111,\"#46039f\"],[0.2222222222222222,\"#7201a8\"],[0.3333333333333333,\"#9c179e\"],[0.4444444444444444,\"#bd3786\"],[0.5555555555555556,\"#d8576b\"],[0.6666666666666666,\"#ed7953\"],[0.7777777777777778,\"#fb9f3a\"],[0.8888888888888888,\"#fdca26\"],[1.0,\"#f0f921\"]],\"sequentialminus\":[[0.0,\"#0d0887\"],[0.1111111111111111,\"#46039f\"],[0.2222222222222222,\"#7201a8\"],[0.3333333333333333,\"#9c179e\"],[0.4444444444444444,\"#bd3786\"],[0.5555555555555556,\"#d8576b\"],[0.6666666666666666,\"#ed7953\"],[0.7777777777777778,\"#fb9f3a\"],[0.8888888888888888,\"#fdca26\"],[1.0,\"#f0f921\"]],\"diverging\":[[0,\"#8e0152\"],[0.1,\"#c51b7d\"],[0.2,\"#de77ae\"],[0.3,\"#f1b6da\"],[0.4,\"#fde0ef\"],[0.5,\"#f7f7f7\"],[0.6,\"#e6f5d0\"],[0.7,\"#b8e186\"],[0.8,\"#7fbc41\"],[0.9,\"#4d9221\"],[1,\"#276419\"]]},\"xaxis\":{\"gridcolor\":\"white\",\"linecolor\":\"white\",\"ticks\":\"\",\"title\":{\"standoff\":15},\"zerolinecolor\":\"white\",\"automargin\":true,\"zerolinewidth\":2},\"yaxis\":{\"gridcolor\":\"white\",\"linecolor\":\"white\",\"ticks\":\"\",\"title\":{\"standoff\":15},\"zerolinecolor\":\"white\",\"automargin\":true,\"zerolinewidth\":2},\"scene\":{\"xaxis\":{\"backgroundcolor\":\"#E5ECF6\",\"gridcolor\":\"white\",\"linecolor\":\"white\",\"showbackground\":true,\"ticks\":\"\",\"zerolinecolor\":\"white\",\"gridwidth\":2},\"yaxis\":{\"backgroundcolor\":\"#E5ECF6\",\"gridcolor\":\"white\",\"linecolor\":\"white\",\"showbackground\":true,\"ticks\":\"\",\"zerolinecolor\":\"white\",\"gridwidth\":2},\"zaxis\":{\"backgroundcolor\":\"#E5ECF6\",\"gridcolor\":\"white\",\"linecolor\":\"white\",\"showbackground\":true,\"ticks\":\"\",\"zerolinecolor\":\"white\",\"gridwidth\":2}},\"shapedefaults\":{\"line\":{\"color\":\"#2a3f5f\"}},\"annotationdefaults\":{\"arrowcolor\":\"#2a3f5f\",\"arrowhead\":0,\"arrowwidth\":1},\"geo\":{\"bgcolor\":\"white\",\"landcolor\":\"#E5ECF6\",\"subunitcolor\":\"white\",\"showland\":true,\"showlakes\":true,\"lakecolor\":\"white\"},\"title\":{\"x\":0.05},\"mapbox\":{\"style\":\"light\"}}},\"xaxis\":{\"anchor\":\"y\",\"domain\":[0.0,1.0],\"title\":{\"text\":\"Ratings of Movies\"},\"showgrid\":false},\"yaxis\":{\"anchor\":\"x\",\"domain\":[0.0,1.0],\"title\":{\"text\":\"Votes of movies\"},\"showgrid\":false},\"coloraxis\":{\"colorbar\":{\"title\":{\"text\":\"Votes\"}},\"colorscale\":[[0.0,\"rgb(210, 251, 212)\"],[0.16666666666666666,\"rgb(165, 219, 194)\"],[0.3333333333333333,\"rgb(123, 188, 176)\"],[0.5,\"rgb(85, 156, 158)\"],[0.6666666666666666,\"rgb(58, 124, 137)\"],[0.8333333333333334,\"rgb(35, 93, 114)\"],[1.0,\"rgb(18, 63, 90)\"]]},\"legend\":{\"tracegroupgap\":0},\"margin\":{\"t\":60},\"title\":{\"text\":\"Does Ratings of movie have any impact on Votes?\",\"x\":0.5,\"pad\":{\"t\":20},\"font\":{\"size\":20}},\"plot_bgcolor\":\"white\"},                        {\"responsive\": true}                    ).then(function(){\n",
       "                            \n",
       "var gd = document.getElementById('6e54f671-6788-4a90-b8c4-15dc55f3a266');\n",
       "var x = new MutationObserver(function (mutations, observer) {{\n",
       "        var display = window.getComputedStyle(gd).display;\n",
       "        if (!display || display === 'none') {{\n",
       "            console.log([gd, 'removed!']);\n",
       "            Plotly.purge(gd);\n",
       "            observer.disconnect();\n",
       "        }}\n",
       "}});\n",
       "\n",
       "// Listen for the removal of the full notebook cells\n",
       "var notebookContainer = gd.closest('#notebook-container');\n",
       "if (notebookContainer) {{\n",
       "    x.observe(notebookContainer, {childList: true});\n",
       "}}\n",
       "\n",
       "// Listen for the clearing of the current output cell\n",
       "var outputEl = gd.closest('.output');\n",
       "if (outputEl) {{\n",
       "    x.observe(outputEl, {childList: true});\n",
       "}}\n",
       "\n",
       "                        })                };                });            </script>        </div>"
      ]
     },
     "metadata": {},
     "output_type": "display_data"
    }
   ],
   "source": [
    "fig_rat_votes = px.scatter(imdb, x = 'Rating', y = 'Votes', trendline='ols', color = \"Votes\", color_continuous_scale = \"darkmint\")\n",
    "fig_rat_votes.update_layout(title='Does Ratings of movie have any impact on Votes?', title_x=0.5, title_pad=dict(t=20), title_font=dict(size=20), xaxis_title='Ratings of Movies', yaxis_title='Votes of movies', xaxis=dict(showgrid=False), yaxis=dict(showgrid=False), plot_bgcolor = 'white')\n",
    "fig_rat_votes.show()"
   ]
  },
  {
   "cell_type": "markdown",
   "id": "66edf37a",
   "metadata": {
    "papermill": {
     "duration": 0.016577,
     "end_time": "2023-12-22T18:08:58.892008",
     "exception": false,
     "start_time": "2023-12-22T18:08:58.875431",
     "status": "completed"
    },
    "tags": []
   },
   "source": [
    "<div style=\"border-radius:10px; border:#000000 solid; padding: 15px; background-color: ##F0E68C ; font-size:100%; text-align:left\">\n",
    "\n",
    "<h3 align=\"left\"><font color=black>📊 Insights:</font></h3>\n",
    "\n",
    "* The **Year with highets rating on average is 1944**.\n",
    "* We can also see that from **1984, there is a downward trend for ratings until 1993**, and the **Fare **\n",
    "* Then after **2013, there is a conntinous upward trend for movies rating**\n",
    "* Furthermore, the insights reveal that in **Year 2010, some movies were released that have the highest votes on average**\n",
    "* Moreover, in terms of **Genre, the Drama has the highest rating since it's start** \n",
    "* It can be observed that **Comedy Genre was started in 1953 and the year 1964 was the start of Action Genre**\n",
    "* The **Short duration movies seems to get high ratings and votes**, signifying that people may get bored with long duration movies"
   ]
  },
  {
   "cell_type": "markdown",
   "id": "367ea1e2",
   "metadata": {
    "papermill": {
     "duration": 0.015918,
     "end_time": "2023-12-22T18:08:58.924373",
     "exception": false,
     "start_time": "2023-12-22T18:08:58.908455",
     "status": "completed"
    },
    "tags": []
   },
   "source": [
    "<h3 \n",
    "    align=\"center\" \n",
    "    style=\"font-size: 35px; padding:20px; font-family:Georgia; text-align:center; display:block; border-radius:30px;background-color:#FFDE00\">\n",
    "    <span style=\"color: black;\">⚙️ Data Preprocessing ⚙️</span>\n",
    "</h3>"
   ]
  },
  {
   "cell_type": "code",
   "execution_count": 27,
   "id": "a6d7751f",
   "metadata": {
    "execution": {
     "iopub.execute_input": "2023-12-22T18:08:58.959026Z",
     "iopub.status.busy": "2023-12-22T18:08:58.958719Z",
     "iopub.status.idle": "2023-12-22T18:08:58.964396Z",
     "shell.execute_reply": "2023-12-22T18:08:58.963071Z"
    },
    "papermill": {
     "duration": 0.026098,
     "end_time": "2023-12-22T18:08:58.966874",
     "exception": false,
     "start_time": "2023-12-22T18:08:58.940776",
     "status": "completed"
    },
    "tags": []
   },
   "outputs": [],
   "source": [
    "# Dropping non essential columns\n",
    "imdb.drop('Name', axis = 1, inplace = True)"
   ]
  },
  {
   "cell_type": "markdown",
   "id": "31c9988e",
   "metadata": {
    "papermill": {
     "duration": 0.017253,
     "end_time": "2023-12-22T18:08:59.001135",
     "exception": false,
     "start_time": "2023-12-22T18:08:58.983882",
     "status": "completed"
    },
    "tags": []
   },
   "source": [
    "---\n",
    "### 1. Feature Engineering\n",
    "---"
   ]
  },
  {
   "cell_type": "code",
   "execution_count": 28,
   "id": "acb6d9c9",
   "metadata": {
    "execution": {
     "iopub.execute_input": "2023-12-22T18:08:59.036752Z",
     "iopub.status.busy": "2023-12-22T18:08:59.036097Z",
     "iopub.status.idle": "2023-12-22T18:08:59.051343Z",
     "shell.execute_reply": "2023-12-22T18:08:59.050175Z"
    },
    "papermill": {
     "duration": 0.035378,
     "end_time": "2023-12-22T18:08:59.053704",
     "exception": false,
     "start_time": "2023-12-22T18:08:59.018326",
     "status": "completed"
    },
    "tags": []
   },
   "outputs": [],
   "source": [
    "# Grouping the columns with their average rating and then creating a new feature\n",
    "\n",
    "genre_mean_rating = imdb.groupby('Genre')['Rating'].transform('mean')\n",
    "imdb['Genre_mean_rating'] = genre_mean_rating\n",
    "\n",
    "director_mean_rating = imdb.groupby('Director')['Rating'].transform('mean')\n",
    "imdb['Director_encoded'] = director_mean_rating\n",
    "\n",
    "actor1_mean_rating = imdb.groupby('Actor 1')['Rating'].transform('mean')\n",
    "imdb['Actor1_encoded'] = actor1_mean_rating\n",
    "\n",
    "actor2_mean_rating = imdb.groupby('Actor 2')['Rating'].transform('mean')\n",
    "imdb['Actor2_encoded'] = actor2_mean_rating\n",
    "\n",
    "actor3_mean_rating = imdb.groupby('Actor 3')['Rating'].transform('mean')\n",
    "imdb['Actor3_encoded'] = actor3_mean_rating"
   ]
  },
  {
   "cell_type": "markdown",
   "id": "49f9ae8c",
   "metadata": {
    "papermill": {
     "duration": 0.016243,
     "end_time": "2023-12-22T18:08:59.086950",
     "exception": false,
     "start_time": "2023-12-22T18:08:59.070707",
     "status": "completed"
    },
    "tags": []
   },
   "source": [
    "---\n",
    "### 2. Splitting into training and testing\n",
    "---"
   ]
  },
  {
   "cell_type": "code",
   "execution_count": 29,
   "id": "0d1d3ae9",
   "metadata": {
    "execution": {
     "iopub.execute_input": "2023-12-22T18:08:59.121137Z",
     "iopub.status.busy": "2023-12-22T18:08:59.120754Z",
     "iopub.status.idle": "2023-12-22T18:08:59.127460Z",
     "shell.execute_reply": "2023-12-22T18:08:59.125934Z"
    },
    "papermill": {
     "duration": 0.027164,
     "end_time": "2023-12-22T18:08:59.130316",
     "exception": false,
     "start_time": "2023-12-22T18:08:59.103152",
     "status": "completed"
    },
    "tags": []
   },
   "outputs": [],
   "source": [
    "# Keeping the predictor and target variable\n",
    "\n",
    "X = imdb[[ 'Year', 'Votes', 'Duration', 'Genre_mean_rating','Director_encoded','Actor1_encoded', 'Actor2_encoded', 'Actor3_encoded']]\n",
    "y = imdb['Rating']"
   ]
  },
  {
   "cell_type": "code",
   "execution_count": 30,
   "id": "19dc7137",
   "metadata": {
    "execution": {
     "iopub.execute_input": "2023-12-22T18:08:59.164998Z",
     "iopub.status.busy": "2023-12-22T18:08:59.164360Z",
     "iopub.status.idle": "2023-12-22T18:08:59.170371Z",
     "shell.execute_reply": "2023-12-22T18:08:59.169617Z"
    },
    "papermill": {
     "duration": 0.025327,
     "end_time": "2023-12-22T18:08:59.172222",
     "exception": false,
     "start_time": "2023-12-22T18:08:59.146895",
     "status": "completed"
    },
    "tags": []
   },
   "outputs": [],
   "source": [
    "# Splitting the dataset into training and testing parts\n",
    "\n",
    "X_train,X_test,y_train,y_test = train_test_split(X,y,test_size=0.2,random_state=42)"
   ]
  },
  {
   "cell_type": "markdown",
   "id": "e7ff1e29",
   "metadata": {
    "papermill": {
     "duration": 0.016303,
     "end_time": "2023-12-22T18:08:59.204793",
     "exception": false,
     "start_time": "2023-12-22T18:08:59.188490",
     "status": "completed"
    },
    "tags": []
   },
   "source": [
    "<h3 \n",
    "    align=\"center\" \n",
    "    style=\"font-size: 35px; padding:20px; font-family:Georgia; text-align:center; display:block; border-radius:30px;background-color:#FFDE00\">\n",
    "    <span style=\"color: black;\">🎯 Model Building 🎯 </span>\n",
    "</h3>"
   ]
  },
  {
   "cell_type": "code",
   "execution_count": 31,
   "id": "0b0194f2",
   "metadata": {
    "execution": {
     "iopub.execute_input": "2023-12-22T18:08:59.241518Z",
     "iopub.status.busy": "2023-12-22T18:08:59.240912Z",
     "iopub.status.idle": "2023-12-22T18:08:59.753752Z",
     "shell.execute_reply": "2023-12-22T18:08:59.752466Z"
    },
    "papermill": {
     "duration": 0.534109,
     "end_time": "2023-12-22T18:08:59.756235",
     "exception": false,
     "start_time": "2023-12-22T18:08:59.222126",
     "status": "completed"
    },
    "tags": []
   },
   "outputs": [],
   "source": [
    "# Building 2 machine learning models and training them\n",
    "\n",
    "lr = LinearRegression()\n",
    "lr.fit(X_train,y_train)\n",
    "lr_pred = lr.predict(X_test)\n",
    "\n",
    "\n",
    "rf = RandomForestRegressor()\n",
    "rf.fit(X_train,y_train)\n",
    "rf_pred = rf.predict(X_test)"
   ]
  },
  {
   "cell_type": "markdown",
   "id": "9536a14e",
   "metadata": {
    "papermill": {
     "duration": 0.015961,
     "end_time": "2023-12-22T18:08:59.788162",
     "exception": false,
     "start_time": "2023-12-22T18:08:59.772201",
     "status": "completed"
    },
    "tags": []
   },
   "source": [
    "<h3 \n",
    "    align=\"center\" \n",
    "    style=\"font-size: 35px; padding:20px; font-family:Georgia; text-align:center; display:block; border-radius:30px;background-color:#FFDE00\">\n",
    "    <span style=\"color: black;\">⚡ Model Evaluation ⚡ </span>\n",
    "</h3>"
   ]
  },
  {
   "cell_type": "code",
   "execution_count": 32,
   "id": "87640b7d",
   "metadata": {
    "execution": {
     "iopub.execute_input": "2023-12-22T18:08:59.822287Z",
     "iopub.status.busy": "2023-12-22T18:08:59.821778Z",
     "iopub.status.idle": "2023-12-22T18:08:59.831086Z",
     "shell.execute_reply": "2023-12-22T18:08:59.829623Z"
    },
    "papermill": {
     "duration": 0.029049,
     "end_time": "2023-12-22T18:08:59.833371",
     "exception": false,
     "start_time": "2023-12-22T18:08:59.804322",
     "status": "completed"
    },
    "tags": []
   },
   "outputs": [
    {
     "name": "stdout",
     "output_type": "stream",
     "text": [
      "The performance evaluation of Logistic Regression is below:  \n",
      "\n",
      "Mean squared error:  0.13007622782536266\n",
      "Mean absolute error:  0.25079940977248283\n",
      "R2 score:  0.935188545523222\n",
      "\n",
      " ==================================================================================================== \n",
      "\n",
      "The performance evaluation of Random Forest Regressor is below:  \n",
      "\n",
      "Mean squared error:  0.11547362091503253\n",
      "Mean absolute error:  0.1892679738562093\n",
      "R2 score:  0.9424644037552256\n"
     ]
    }
   ],
   "source": [
    "# Evaluating the performance of trained algos\n",
    "\n",
    "print('The performance evaluation of Logistic Regression is below: ', '\\n')\n",
    "print('Mean squared error: ',mean_squared_error(y_test, lr_pred))\n",
    "print('Mean absolute error: ',mean_absolute_error(y_test, lr_pred))\n",
    "print('R2 score: ',r2_score(y_test, lr_pred))\n",
    "print('\\n', '='*100, '\\n')\n",
    "\n",
    "print('The performance evaluation of Random Forest Regressor is below: ', '\\n')\n",
    "print('Mean squared error: ',mean_squared_error(y_test, rf_pred))\n",
    "print('Mean absolute error: ',mean_absolute_error(y_test, rf_pred))\n",
    "print('R2 score: ',r2_score(y_test, rf_pred))"
   ]
  },
  {
   "cell_type": "markdown",
   "id": "e3f17cc9",
   "metadata": {
    "papermill": {
     "duration": 0.017072,
     "end_time": "2023-12-22T18:08:59.867595",
     "exception": false,
     "start_time": "2023-12-22T18:08:59.850523",
     "status": "completed"
    },
    "tags": []
   },
   "source": [
    "<div style=\"border-radius:10px; border:#000000 solid; padding: 15px; background-color: ##F0E68C ; font-size:100%; text-align:left\">\n",
    "\n",
    "<h3 align=\"left\"><font color=black>📊 Insights:</font></h3>\n",
    "\n",
    "* The performance evaluation revealed that **Random Forest performed well** than the Logistic Regression in terms of, **r2_score which is 0.94**"
   ]
  },
  {
   "cell_type": "markdown",
   "id": "5d3b82c2",
   "metadata": {
    "_cell_guid": "b1076dfc-b9ad-4769-8c92-a6c4dae69d19",
    "_uuid": "8f2839f25d086af736a60e9eeb907d3b93b6e0e5",
    "papermill": {
     "duration": 0.018706,
     "end_time": "2023-12-22T18:08:59.903040",
     "exception": false,
     "start_time": "2023-12-22T18:08:59.884334",
     "status": "completed"
    },
    "tags": []
   },
   "source": [
    "<h3 \n",
    "    align=\"center\" \n",
    "    style=\"font-size: 35px; padding:20px; font-family:Georgia; text-align:center; display:block; border-radius:35px;background-color:#FFDE00\">\n",
    "    <span style=\"color: black;\">  🔎 Model Testing 🔎 </span>\n",
    "</h3>"
   ]
  },
  {
   "cell_type": "code",
   "execution_count": 33,
   "id": "baac0a83",
   "metadata": {
    "execution": {
     "iopub.execute_input": "2023-12-22T18:08:59.938684Z",
     "iopub.status.busy": "2023-12-22T18:08:59.937994Z",
     "iopub.status.idle": "2023-12-22T18:08:59.950029Z",
     "shell.execute_reply": "2023-12-22T18:08:59.949006Z"
    },
    "papermill": {
     "duration": 0.032417,
     "end_time": "2023-12-22T18:08:59.951980",
     "exception": false,
     "start_time": "2023-12-22T18:08:59.919563",
     "status": "completed"
    },
    "tags": []
   },
   "outputs": [
    {
     "data": {
      "text/html": [
       "<div>\n",
       "<style scoped>\n",
       "    .dataframe tbody tr th:only-of-type {\n",
       "        vertical-align: middle;\n",
       "    }\n",
       "\n",
       "    .dataframe tbody tr th {\n",
       "        vertical-align: top;\n",
       "    }\n",
       "\n",
       "    .dataframe thead th {\n",
       "        text-align: right;\n",
       "    }\n",
       "</style>\n",
       "<table border=\"1\" class=\"dataframe\">\n",
       "  <thead>\n",
       "    <tr style=\"text-align: right;\">\n",
       "      <th></th>\n",
       "      <th>Year</th>\n",
       "      <th>Votes</th>\n",
       "      <th>Duration</th>\n",
       "      <th>Genre_mean_rating</th>\n",
       "      <th>Director_encoded</th>\n",
       "      <th>Actor1_encoded</th>\n",
       "      <th>Actor2_encoded</th>\n",
       "      <th>Actor3_encoded</th>\n",
       "    </tr>\n",
       "  </thead>\n",
       "  <tbody>\n",
       "    <tr>\n",
       "      <th>1</th>\n",
       "      <td>2019</td>\n",
       "      <td>8</td>\n",
       "      <td>109</td>\n",
       "      <td>6.420152</td>\n",
       "      <td>7.000</td>\n",
       "      <td>6.850000</td>\n",
       "      <td>7.000000</td>\n",
       "      <td>7.000</td>\n",
       "    </tr>\n",
       "    <tr>\n",
       "      <th>10</th>\n",
       "      <td>2004</td>\n",
       "      <td>17</td>\n",
       "      <td>96</td>\n",
       "      <td>6.420152</td>\n",
       "      <td>6.200</td>\n",
       "      <td>5.766667</td>\n",
       "      <td>5.100000</td>\n",
       "      <td>6.200</td>\n",
       "    </tr>\n",
       "    <tr>\n",
       "      <th>11</th>\n",
       "      <td>2016</td>\n",
       "      <td>59</td>\n",
       "      <td>120</td>\n",
       "      <td>4.698529</td>\n",
       "      <td>5.900</td>\n",
       "      <td>5.900000</td>\n",
       "      <td>5.900000</td>\n",
       "      <td>5.900</td>\n",
       "    </tr>\n",
       "    <tr>\n",
       "      <th>30</th>\n",
       "      <td>2005</td>\n",
       "      <td>1002</td>\n",
       "      <td>116</td>\n",
       "      <td>6.420152</td>\n",
       "      <td>6.525</td>\n",
       "      <td>6.900000</td>\n",
       "      <td>6.866667</td>\n",
       "      <td>5.700</td>\n",
       "    </tr>\n",
       "    <tr>\n",
       "      <th>32</th>\n",
       "      <td>1993</td>\n",
       "      <td>15</td>\n",
       "      <td>168</td>\n",
       "      <td>6.420152</td>\n",
       "      <td>5.400</td>\n",
       "      <td>5.600000</td>\n",
       "      <td>6.400000</td>\n",
       "      <td>5.825</td>\n",
       "    </tr>\n",
       "  </tbody>\n",
       "</table>\n",
       "</div>"
      ],
      "text/plain": [
       "    Year  Votes  Duration  Genre_mean_rating  Director_encoded  \\\n",
       "1   2019      8       109           6.420152             7.000   \n",
       "10  2004     17        96           6.420152             6.200   \n",
       "11  2016     59       120           4.698529             5.900   \n",
       "30  2005   1002       116           6.420152             6.525   \n",
       "32  1993     15       168           6.420152             5.400   \n",
       "\n",
       "    Actor1_encoded  Actor2_encoded  Actor3_encoded  \n",
       "1         6.850000        7.000000           7.000  \n",
       "10        5.766667        5.100000           6.200  \n",
       "11        5.900000        5.900000           5.900  \n",
       "30        6.900000        6.866667           5.700  \n",
       "32        5.600000        6.400000           5.825  "
      ]
     },
     "execution_count": 33,
     "metadata": {},
     "output_type": "execute_result"
    }
   ],
   "source": [
    "# Checking a sample of predictor values on whom the model is trained\n",
    "X.head()"
   ]
  },
  {
   "cell_type": "code",
   "execution_count": 34,
   "id": "c768f2e9",
   "metadata": {
    "execution": {
     "iopub.execute_input": "2023-12-22T18:08:59.987680Z",
     "iopub.status.busy": "2023-12-22T18:08:59.987320Z",
     "iopub.status.idle": "2023-12-22T18:08:59.993939Z",
     "shell.execute_reply": "2023-12-22T18:08:59.992844Z"
    },
    "papermill": {
     "duration": 0.026766,
     "end_time": "2023-12-22T18:08:59.995636",
     "exception": false,
     "start_time": "2023-12-22T18:08:59.968870",
     "status": "completed"
    },
    "tags": []
   },
   "outputs": [
    {
     "data": {
      "text/plain": [
       "1     7.0\n",
       "10    6.2\n",
       "11    5.9\n",
       "30    7.1\n",
       "32    5.6\n",
       "Name: Rating, dtype: float64"
      ]
     },
     "execution_count": 34,
     "metadata": {},
     "output_type": "execute_result"
    }
   ],
   "source": [
    "# Checking the rating according to above predictor variables\n",
    "y.head()"
   ]
  },
  {
   "cell_type": "code",
   "execution_count": 35,
   "id": "619c9f4d",
   "metadata": {
    "execution": {
     "iopub.execute_input": "2023-12-22T18:09:00.031438Z",
     "iopub.status.busy": "2023-12-22T18:09:00.030781Z",
     "iopub.status.idle": "2023-12-22T18:09:00.036902Z",
     "shell.execute_reply": "2023-12-22T18:09:00.035168Z"
    },
    "papermill": {
     "duration": 0.02696,
     "end_time": "2023-12-22T18:09:00.039511",
     "exception": false,
     "start_time": "2023-12-22T18:09:00.012551",
     "status": "completed"
    },
    "tags": []
   },
   "outputs": [],
   "source": [
    "# Creating a new dataframe with values close to the 3rd row according to the sample above \n",
    "\n",
    "data = {'Year': [2016], 'Votes': [58], 'Duration': [121], 'Genre_mean_rating': [4.5], 'Director_encoded': [5.8], 'Actor1_encoded': [5.9], 'Actor2_encoded': [5.9], 'Actor3_encoded': [5.900]}\n",
    "df = pd.DataFrame(data)"
   ]
  },
  {
   "cell_type": "code",
   "execution_count": 36,
   "id": "a7959e1f",
   "metadata": {
    "execution": {
     "iopub.execute_input": "2023-12-22T18:09:00.077994Z",
     "iopub.status.busy": "2023-12-22T18:09:00.077078Z",
     "iopub.status.idle": "2023-12-22T18:09:00.092106Z",
     "shell.execute_reply": "2023-12-22T18:09:00.090166Z"
    },
    "papermill": {
     "duration": 0.036956,
     "end_time": "2023-12-22T18:09:00.094277",
     "exception": false,
     "start_time": "2023-12-22T18:09:00.057321",
     "status": "completed"
    },
    "tags": []
   },
   "outputs": [
    {
     "name": "stdout",
     "output_type": "stream",
     "text": [
      "Predicted Rating: 5.862999999999995\n"
     ]
    }
   ],
   "source": [
    "# Predict the movie rating\n",
    "predicted_rating = rf.predict(df)\n",
    "\n",
    "# Display the predicted rating\n",
    "print(\"Predicted Rating:\", predicted_rating[0])"
   ]
  },
  {
   "cell_type": "markdown",
   "id": "18d6108f",
   "metadata": {
    "papermill": {
     "duration": 0.017533,
     "end_time": "2023-12-22T18:09:00.130446",
     "exception": false,
     "start_time": "2023-12-22T18:09:00.112913",
     "status": "completed"
    },
    "tags": []
   },
   "source": [
    "<div style=\"border-radius:10px; border:#000000 solid; padding: 15px; background-color: ##F0E68C ; font-size:100%; text-align:left\">\n",
    "\n",
    "<h3 align=\"left\"><font color=black>📊 Insights:</font></h3>\n",
    "\n",
    "* We took the original data from **X.head()** and created a new dataframe almost similar to **row 3**. The **original rating was 5.9**. Out trained random forest regressor predicted **5.85 on unseen data**. Therefore, showing the robustness of model. "
   ]
  },
  {
   "cell_type": "markdown",
   "id": "23d8ef5a",
   "metadata": {
    "execution": {
     "iopub.execute_input": "2023-09-19T09:28:10.898684Z",
     "iopub.status.busy": "2023-09-19T09:28:10.898289Z",
     "iopub.status.idle": "2023-09-19T09:28:10.906397Z",
     "shell.execute_reply": "2023-09-19T09:28:10.904961Z",
     "shell.execute_reply.started": "2023-09-19T09:28:10.898656Z"
    },
    "papermill": {
     "duration": 0.017406,
     "end_time": "2023-12-22T18:09:00.165434",
     "exception": false,
     "start_time": "2023-12-22T18:09:00.148028",
     "status": "completed"
    },
    "tags": []
   },
   "source": [
    "<h3 \n",
    "    align=\"center\" \n",
    "    style=\"font-size: 35px; padding:20px; font-family:Georgia; text-align:center; display:block; border-radius:30px;background-color:#FFDE00\">\n",
    "    <span style=\"color: black;\">🎈 Conclusion 🎈 </span>\n",
    "</h3>"
   ]
  },
  {
   "cell_type": "markdown",
   "id": "c9bf76ec",
   "metadata": {
    "papermill": {
     "duration": 0.016885,
     "end_time": "2023-12-22T18:09:00.199721",
     "exception": false,
     "start_time": "2023-12-22T18:09:00.182836",
     "status": "completed"
    },
    "tags": []
   },
   "source": [
    "<div style=\"border-radius:10px; border:#808080 solid; padding: 15px; background-color: ##F0E68C ; font-size:100%; text-align:left\">\n",
    "\n",
    "<h3 align=\"left\"><font color=black>Conclusion:</font></h3>\n",
    "    \n",
    "---    \n",
    "In this Jupyter notebook project, we embarked on a journey to analyze and predict movie ratings. We encountered a variety of data challenges, such as missing values, typos in column names, and duplicated records. Through a series of data cleaning and preprocessing steps, we were able to prepare the dataset for analysis. Our analysis uncovered several interesting insights about the movie dataset. We observed trends in movie durations, genre popularity, the most prolific actors and directors, and the distribution of movie ratings and votes over the years. Notably, we found that short-duration movies tend to receive higher ratings and votes, and the Drama genre has consistently performed well in terms of ratings. Furthermore, our evaluation of machine learning models revealed that Random Forest outperformed Linear Regression, with an impressive R-squared score of 0.94 on unseen data, highlighting the model's robustness.\n",
    "\n",
    " ---   \n",
    "**Insights:**\n",
    "\n",
    "Following are the main insights:    \n",
    "    \n",
    "- Data cleaning was essential, involving the correction of typos and handling missing/duplicated values.\n",
    "- We explored the temporal dimension of the data, noting the first entry in 1931 and a movie with just 45 minutes of duration.\n",
    "- Mithun is the most frequently appearing lead actor\n",
    "- We identified both the best and worst-performing movies in terms of votes and ratings.\n",
    "- Insights on directors with the most and least movies were gained.\n",
    "- The distribution of movies over the years is skewed, with a concentration in the 2015-2019 period.\n",
    "- In 2010, some movies had the highest average votes.\n",
    "\n",
    "- Short-duration movies tend to receive higher ratings and votes, indicating a potential preference for shorter films.\n",
    "- Drama is a consistently popular genre, while Comedy and Action genres had their origins in 1953 and 1964, respectively.\n",
    "- The distribution of ratings and votes follows Gaussian-like patterns, with specific peaks and trends over time.\n",
    "- Random Forest regression outperformed Linear Regression with an R-squared score of 0.94, indicating its robustness.\n",
    "\n",
    "\n",
    "Through our analysis, we gained a deep understanding of the dataset and its trends. This knowledge can be leveraged to make informed decisions regarding movie production, genres, and more. Future work could involve building more advanced machine learning models or diving deeper into specific genres or time periods to uncover additional insights.\n",
    "\n",
    "---    \n",
    "    \n",
    "**What's next?** \n",
    "    \n",
    "To further enhance this project, one can consider the following:\n",
    "\n",
    "- Explore additional machine learning models and fine-tune their parameters to improve rating prediction accuracy.\n",
    "\n",
    "- Investigate the relationships between various features, such as the impact of specific actors, directors, or genres on movie ratings.\n",
    "\n",
    "- Conduct sentiment analysis on movie reviews or incorporate external data sources to gain more insights into factors influencing movie ratings.\n",
    "\n",
    "- Create visualizations and dashboards to make the insights more accessible and engaging for stakeholders.\n",
    "\n",
    "- Continue updating the dataset with new movie releases and ratings for ongoing analysis and predictions.\n",
    "    \n",
    "---"
   ]
  },
  {
   "attachments": {
    "thanks.jpg": {
     "image/jpeg": "[encoded data removed]"
    }
   },
   "cell_type": "markdown",
   "id": "08e2a453",
   "metadata": {
    "papermill": {
     "duration": 0.018108,
     "end_time": "2023-12-22T18:09:00.235338",
     "exception": false,
     "start_time": "2023-12-22T18:09:00.217230",
     "status": "completed"
    },
    "tags": []
   },
   "source": [
    "![thanks.jpg](attachment:thanks.jpg)"
   ]
  }
 ],
 "metadata": {
  "kaggle": {
   "accelerator": "none",
   "dataSources": [
    {
     "datasetId": 1416444,
     "sourceId": 2346296,
     "sourceType": "datasetVersion"
    }
   ],
   "dockerImageVersionId": 30558,
   "isGpuEnabled": false,
   "isInternetEnabled": true,
   "language": "python",
   "sourceType": "notebook"
  },
  "kernelspec": {
   "display_name": "Python 3 (ipykernel)",
   "language": "python",
   "name": "python3"
  },
  "language_info": {
   "codemirror_mode": {
    "name": "ipython",
    "version": 3
   },
   "file_extension": ".py",
   "mimetype": "text/x-python",
   "name": "python",
   "nbconvert_exporter": "python",
   "pygments_lexer": "ipython3",
   "version": "3.10.12"
  },
  "papermill": {
   "default_parameters": {},
   "duration": 16.019087,
   "end_time": "2023-12-22T18:09:01.075414",
   "environment_variables": {},
   "exception": null,
   "input_path": "__notebook__.ipynb",
   "output_path": "__notebook__.ipynb",
   "parameters": {},
   "start_time": "2023-12-22T18:08:45.056327",
   "version": "2.4.0"
  }
 },
 "nbformat": 4,
 "nbformat_minor": 5
}
